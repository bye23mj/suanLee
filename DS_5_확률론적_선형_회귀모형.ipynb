{
  "nbformat": 4,
  "nbformat_minor": 0,
  "metadata": {
    "colab": {
      "name": "DS_5 확률론적 선형 회귀모형.ipynb",
      "provenance": [],
      "authorship_tag": "ABX9TyPEdXzUkD1rILaW1+qV9spT",
      "include_colab_link": true
    },
    "kernelspec": {
      "name": "python3",
      "display_name": "Python 3"
    },
    "language_info": {
      "name": "python"
    }
  },
  "cells": [
    {
      "cell_type": "markdown",
      "metadata": {
        "id": "view-in-github",
        "colab_type": "text"
      },
      "source": [
        "<a href=\"https://colab.research.google.com/github/bye23mj/suanLee/blob/main/DS_5_%ED%99%95%EB%A5%A0%EB%A1%A0%EC%A0%81_%EC%84%A0%ED%98%95_%ED%9A%8C%EA%B7%80%EB%AA%A8%ED%98%95.ipynb\" target=\"_parent\"><img src=\"https://colab.research.google.com/assets/colab-badge.svg\" alt=\"Open In Colab\"/></a>"
      ]
    },
    {
      "cell_type": "markdown",
      "source": [
        "# 5.1 확률론적 선형 회귀모형\n",
        "* OLS(Ordinary Least Square) 방법을 사용하면 데이터에 대한 확률론적인 가정이 없어도 최적의 가중치를 계산할 수 있었다. 그러나 계산한 가중치가 어느 정도의 신뢰도를 가지는지 확인할 수 있는 방법이 없다.\n",
        "\n",
        "* 예를 들어 보스턴 집값의 선형 회귀모형에서 OLS로 계산한 범죄율에 대한 가중치는 약 −0.1080이었다. 만약 이 값이 정확한 값이라면 집값은 범죄율에 반비례한다는 결론을 내릴 수 있다. 하지만 −0.1080은 표본에서 계산된 추정치일 뿐이며 추정 오차가 있을 수 있다. 만약 추정 오차의 크기가 0.0001 수준이라면 실제 가중치는 −0.1080±0.0001 즉, −0.1081∼−0.1079 정도이고 집값이 범죄율에 반비례한다는 결론은 바뀌지 않을 것이다. 하지만 만약 추정 오차의 크기가 0.2 수준이라면 실제 가중치는 −0.3081∼0.0920 정도의 범위가 된다. 다시 말해 진짜 가중치는 0이 될 수도 있고 양수가 될 수 있다. 만약 가중치가 0이라면 범죄율과 집값은 아무런 상관 관계가 없다는 결론이 나온다. 만약 가중치가 양수이면 집값은 범죄율에 정비례한다는 결론이 나올 수도 있다. \n",
        "\n",
        "* 즉 가중치의 오차 범위 혹은 신뢰 구간을 계산할 수 없다면 OLS 결과로부터 실질적인 결론을 이끌어내기 어렵다."
      ],
      "metadata": {
        "id": "uFdTb9_DqI6T"
      }
    },
    {
      "cell_type": "markdown",
      "source": [
        "## 부트스트래핑\n",
        "* 부트스트래핑(bootstrapping)은 회귀분석에 사용한 표본 데이터가 달라질 때 회귀분석의 결과는 어느 정도 영향을 받는지를 알기 위한 방법이다.\n"
      ],
      "metadata": {
        "id": "wE2OuVJIqUGQ"
      }
    },
    {
      "cell_type": "code",
      "source": [
        "import warnings\n",
        "warnings.filterwarnings('ignore')\n",
        "\n",
        "import numpy as np\n",
        "import pandas as pd\n",
        "import scipy as sp\n",
        "import matplotlib.pyplot as plt\n",
        "import seaborn as sns\n",
        "import statsmodels.api as sm\n",
        "from sklearn.datasets import make_regression"
      ],
      "metadata": {
        "id": "GQOaSOARqqXk"
      },
      "execution_count": 24,
      "outputs": []
    },
    {
      "cell_type": "code",
      "source": [
        "X0, y, coef = make_regression(n_samples=100, n_features=1, noise=20,\n",
        "                              coef=True, random_state=0)\n",
        "coef"
      ],
      "metadata": {
        "colab": {
          "base_uri": "https://localhost:8080/"
        },
        "id": "EmVsr0gHqabm",
        "outputId": "f7e11c9f-3227-406f-bedd-8dae374ed5e1"
      },
      "execution_count": 9,
      "outputs": [
        {
          "output_type": "execute_result",
          "data": {
            "text/plain": [
              "array(42.38550486)"
            ]
          },
          "metadata": {},
          "execution_count": 9
        }
      ]
    },
    {
      "cell_type": "code",
      "source": [
        "dfX0 = pd.DataFrame(X0, columns=[\"X1\"])\n",
        "dfX = sm.add_constant(dfX0)\n",
        "dfy = pd.DataFrame(y, columns=[\"y\"])\n",
        "\n",
        "model = sm.OLS(dfy, dfX)\n",
        "result = model.fit()"
      ],
      "metadata": {
        "id": "MhyJX9AmqdUl"
      },
      "execution_count": 10,
      "outputs": []
    },
    {
      "cell_type": "code",
      "source": [
        "result.params"
      ],
      "metadata": {
        "colab": {
          "base_uri": "https://localhost:8080/"
        },
        "id": "MIuvJc7srBRH",
        "outputId": "5377db43-7bd0-41cc-ebc6-cafab8dd29e8"
      },
      "execution_count": 11,
      "outputs": [
        {
          "output_type": "execute_result",
          "data": {
            "text/plain": [
              "const    -1.628364\n",
              "X1       42.853356\n",
              "dtype: float64"
            ]
          },
          "metadata": {},
          "execution_count": 11
        }
      ]
    },
    {
      "cell_type": "code",
      "source": [
        "%%time\n",
        "N = 1000\n",
        "params_w0 = np.zeros(N)\n",
        "params_w1 = np.zeros(N)\n",
        "for i in range(N):\n",
        "    idx = np.random.choice(len(dfy), len(dfy), replace=True)\n",
        "    dfX2 = dfX.iloc[idx, :]\n",
        "    dfy2 = dfy.iloc[idx]\n",
        "    r = sm.OLS(dfy2, dfX2).fit()\n",
        "    params_w0[i] = r.params.const\n",
        "    params_w1[i] = r.params.X1"
      ],
      "metadata": {
        "colab": {
          "base_uri": "https://localhost:8080/"
        },
        "id": "jKOmED44ra6d",
        "outputId": "f047fd70-883c-48f0-c8fe-380a6c5d2d9d"
      },
      "execution_count": 14,
      "outputs": [
        {
          "output_type": "stream",
          "name": "stdout",
          "text": [
            "CPU times: user 1.26 s, sys: 0 ns, total: 1.26 s\n",
            "Wall time: 1.26 s\n"
          ]
        }
      ]
    },
    {
      "cell_type": "code",
      "source": [
        "plt.figure(figsize=(8, 3))\n",
        "\n",
        "ax1 = plt.subplot(121)\n",
        "sns.distplot(params_w1, ax=ax1)\n",
        "plt.axvline(params_w1.mean(), c='r')\n",
        "plt.title(\"추정치 분포\")\n",
        "\n",
        "ax2 = plt.subplot(122)\n",
        "sns.distplot(params_w0, ax=ax2)\n",
        "plt.axvline(params_w0.mean(), c='r')\n",
        "plt.title(\"추정치 분포\")\n",
        "plt.show()"
      ],
      "metadata": {
        "colab": {
          "base_uri": "https://localhost:8080/",
          "height": 227
        },
        "id": "jttNzUjormPR",
        "outputId": "ad8ac215-3930-4762-e245-079a5974a29f"
      },
      "execution_count": 19,
      "outputs": [
        {
          "output_type": "display_data",
          "data": {
            "text/plain": [
              "<Figure size 576x216 with 2 Axes>"
            ],
            "image/png": "[encoded data removed]"
          },
          "metadata": {
            "needs_background": "light"
          }
        }
      ]
    },
    {
      "cell_type": "code",
      "source": [
        "params_w1.mean(), params_w1.std()"
      ],
      "metadata": {
        "colab": {
          "base_uri": "https://localhost:8080/"
        },
        "id": "7eUR0rZ5sC9b",
        "outputId": "a937c31b-8b05-4ee4-c1bb-9a6e9b206523"
      },
      "execution_count": 20,
      "outputs": [
        {
          "output_type": "execute_result",
          "data": {
            "text/plain": [
              "(42.84434285514176, 1.9434315375339744)"
            ]
          },
          "metadata": {},
          "execution_count": 20
        }
      ]
    },
    {
      "cell_type": "code",
      "source": [
        "params_w0.mean(), params_w0.std()"
      ],
      "metadata": {
        "colab": {
          "base_uri": "https://localhost:8080/"
        },
        "id": "9Wa-GYUFsDvL",
        "outputId": "a880336e-5be0-4d7f-8ef2-1e2ccc225738"
      },
      "execution_count": 21,
      "outputs": [
        {
          "output_type": "execute_result",
          "data": {
            "text/plain": [
              "(-1.5998477716889103, 2.152618501374801)"
            ]
          },
          "metadata": {},
          "execution_count": 21
        }
      ]
    },
    {
      "cell_type": "code",
      "source": [
        "print(result.summary())"
      ],
      "metadata": {
        "colab": {
          "base_uri": "https://localhost:8080/"
        },
        "id": "MldC6OWPsI2r",
        "outputId": "3ac9f462-5f83-493e-932a-6867448b00ad"
      },
      "execution_count": 22,
      "outputs": [
        {
          "output_type": "stream",
          "name": "stdout",
          "text": [
            "                            OLS Regression Results                            \n",
            "==============================================================================\n",
            "Dep. Variable:                      y   R-squared:                       0.803\n",
            "Model:                            OLS   Adj. R-squared:                  0.801\n",
            "Method:                 Least Squares   F-statistic:                     400.3\n",
            "Date:                Tue, 31 May 2022   Prob (F-statistic):           2.21e-36\n",
            "Time:                        05:57:27   Log-Likelihood:                -448.09\n",
            "No. Observations:                 100   AIC:                             900.2\n",
            "Df Residuals:                      98   BIC:                             905.4\n",
            "Df Model:                           1                                         \n",
            "Covariance Type:            nonrobust                                         \n",
            "==============================================================================\n",
            "                 coef    std err          t      P>|t|      [0.025      0.975]\n",
            "------------------------------------------------------------------------------\n",
            "const         -1.6284      2.163     -0.753      0.453      -5.920       2.663\n",
            "X1            42.8534      2.142     20.008      0.000      38.603      47.104\n",
            "==============================================================================\n",
            "Omnibus:                        3.523   Durbin-Watson:                   1.984\n",
            "Prob(Omnibus):                  0.172   Jarque-Bera (JB):                2.059\n",
            "Skew:                          -0.073   Prob(JB):                        0.357\n",
            "Kurtosis:                       2.312   Cond. No.                         1.06\n",
            "==============================================================================\n",
            "\n",
            "Warnings:\n",
            "[1] Standard Errors assume that the covariance matrix of the errors is correctly specified.\n"
          ]
        }
      ]
    },
    {
      "cell_type": "markdown",
      "source": [
        "## 확률론적 선형 회귀모형\n",
        "확률론적 선형 회귀모형에서는 데이터가 확률 변수로부터 생성된 표본이라고 가정한다. 구체적인 가정은 다음과 같다.\n",
        "\n",
        "### (1) 선형 정규 분포 가정\n",
        "* 선형 회귀분석의 기본 가정은 종속 변수 y가 독립 변수 x의 선형 조합으로 결정되는 기댓값과 고정된 분산을 가지는 가우시안 정규 분포\n",
        "\n",
        "### (2) 외생성(Exogeneity) 가정\n",
        "* 잡음 ϵ의 기댓값은 독립 변수 x의 크기에 상관없이 항상 0이라고 가정한다.\n",
        "\n",
        "### (3) 조건부 독립 가정\n",
        "* i번째 표본의 잡음 ϵi와 j번째 표본의 잡음 ϵj의 공분산 값이 x와 상관없이 항상 0이라고 가정한다.\n",
        "\n",
        "### 4) 등분산성 가정\n",
        "* i 번째 표본의 잡음 ϵi와 j번째 표본의 잡음 ϵj의 분산 값이 표본과 상관없이 항상 같다고 가정한다.\n",
        "\n"
      ],
      "metadata": {
        "id": "fU6yfrnywp8t"
      }
    },
    {
      "cell_type": "code",
      "source": [
        "#잔차분포\n",
        "sp.stats.probplot(result.resid, plot=plt)\n",
        "plt.show()"
      ],
      "metadata": {
        "colab": {
          "base_uri": "https://localhost:8080/",
          "height": 295
        },
        "id": "1g7CRmnBxYic",
        "outputId": "32287552-972f-40c7-b71b-2d4f994af8e5"
      },
      "execution_count": 25,
      "outputs": [
        {
          "output_type": "display_data",
          "data": {
            "text/plain": [
              "<Figure size 432x288 with 1 Axes>"
            ],
            "image/png": "[encoded data removed]"
          },
          "metadata": {
            "needs_background": "light"
          }
        }
      ]
    },
    {
      "cell_type": "code",
      "source": [
        "#정규성 검정\n",
        "test = sm.stats.omni_normtest(result.resid)\n",
        "for xi in zip(['Chi^2', 'P-value'], test):\n",
        "    print(\"%-12s: %6.3f\" % xi)"
      ],
      "metadata": {
        "colab": {
          "base_uri": "https://localhost:8080/"
        },
        "id": "XmQssg_OyKBI",
        "outputId": "1c04c449-4c52-4c6b-cb16-96acf06a06f2"
      },
      "execution_count": 26,
      "outputs": [
        {
          "output_type": "stream",
          "name": "stdout",
          "text": [
            "Chi^2       :  3.523\n",
            "P-value     :  0.172\n"
          ]
        }
      ]
    },
    {
      "cell_type": "code",
      "source": [
        "test = sm.stats.jarque_bera(result.resid)\n",
        "for xi in zip(['Jarque-Bera', 'P-value', 'Skew', 'Kurtosis'], test):\n",
        "    print(\"%-12s: %6.3f\" % xi)"
      ],
      "metadata": {
        "colab": {
          "base_uri": "https://localhost:8080/"
        },
        "id": "V7MpB5Duy7Tq",
        "outputId": "9955d2f7-fab6-4770-97c3-427ca9288719"
      },
      "execution_count": 27,
      "outputs": [
        {
          "output_type": "stream",
          "name": "stdout",
          "text": [
            "Jarque-Bera :  2.059\n",
            "P-value     :  0.357\n",
            "Skew        : -0.073\n",
            "Kurtosis    :  2.312\n"
          ]
        }
      ]
    },
    {
      "cell_type": "code",
      "source": [
        "plt.plot(X0, result.resid, 'o')\n",
        "plt.axhline(y=0, c='k')\n",
        "plt.xlabel(\"X1\")\n",
        "plt.ylabel(\"Residual\")\n",
        "plt.show()"
      ],
      "metadata": {
        "colab": {
          "base_uri": "https://localhost:8080/",
          "height": 279
        },
        "id": "Wem3fqh0y_Ud",
        "outputId": "f355708c-fa08-4478-a7d6-4f1cf03024bb"
      },
      "execution_count": 28,
      "outputs": [
        {
          "output_type": "display_data",
          "data": {
            "text/plain": [
              "<Figure size 432x288 with 1 Axes>"
            ],
            "image/png": "[encoded data removed]"
          },
          "metadata": {
            "needs_background": "light"
          }
        }
      ]
    },
    {
      "cell_type": "code",
      "source": [
        "sns.kdeplot(result.resid[((1 < X0) & (X0 < 2)).flatten()], label=\"1 < x < 2\")\n",
        "sns.kdeplot(result.resid[((0 < X0) & (X0 < 1)).flatten()], label=\"0 < x < 1\")\n",
        "plt.legend()\n",
        "plt.show()"
      ],
      "metadata": {
        "colab": {
          "base_uri": "https://localhost:8080/",
          "height": 265
        },
        "id": "1Puj9BqyzG_F",
        "outputId": "c7d7656c-a7bf-45bc-abfa-9804b8bb23b6"
      },
      "execution_count": 29,
      "outputs": [
        {
          "output_type": "display_data",
          "data": {
            "text/plain": [
              "<Figure size 432x288 with 1 Axes>"
            ],
            "image/png": "[encoded data removed]"
          },
          "metadata": {
            "needs_background": "light"
          }
        }
      ]
    },
    {
      "cell_type": "markdown",
      "source": [
        "## 회귀 계수의 표준 오차¶\n",
        "* 가중치의 예측치 w^ 도 정규 분포 확률 변수인 ϵ의 선형 변환이므로 정규 분포를 따른다.\n",
        "\n",
        "## 단일 계수 t-검정 (Single Coefficient t-test)¶\n",
        "정규화된 모수 오차 w^isei를 검정 통계량으로 사용하면 wi가 0 인지 아닌지에 대한 검정을 실시할 수 있다."
      ],
      "metadata": {
        "id": "AFvKugL9zTWk"
      }
    },
    {
      "cell_type": "code",
      "source": [
        "print(result.summary())"
      ],
      "metadata": {
        "colab": {
          "base_uri": "https://localhost:8080/"
        },
        "id": "DInKuI-Izjim",
        "outputId": "99ab6a66-43fd-4e17-a919-c6458aef7856"
      },
      "execution_count": 30,
      "outputs": [
        {
          "output_type": "stream",
          "name": "stdout",
          "text": [
            "                            OLS Regression Results                            \n",
            "==============================================================================\n",
            "Dep. Variable:                      y   R-squared:                       0.803\n",
            "Model:                            OLS   Adj. R-squared:                  0.801\n",
            "Method:                 Least Squares   F-statistic:                     400.3\n",
            "Date:                Tue, 31 May 2022   Prob (F-statistic):           2.21e-36\n",
            "Time:                        06:29:51   Log-Likelihood:                -448.09\n",
            "No. Observations:                 100   AIC:                             900.2\n",
            "Df Residuals:                      98   BIC:                             905.4\n",
            "Df Model:                           1                                         \n",
            "Covariance Type:            nonrobust                                         \n",
            "==============================================================================\n",
            "                 coef    std err          t      P>|t|      [0.025      0.975]\n",
            "------------------------------------------------------------------------------\n",
            "const         -1.6284      2.163     -0.753      0.453      -5.920       2.663\n",
            "X1            42.8534      2.142     20.008      0.000      38.603      47.104\n",
            "==============================================================================\n",
            "Omnibus:                        3.523   Durbin-Watson:                   1.984\n",
            "Prob(Omnibus):                  0.172   Jarque-Bera (JB):                2.059\n",
            "Skew:                          -0.073   Prob(JB):                        0.357\n",
            "Kurtosis:                       2.312   Cond. No.                         1.06\n",
            "==============================================================================\n",
            "\n",
            "Warnings:\n",
            "[1] Standard Errors assume that the covariance matrix of the errors is correctly specified.\n"
          ]
        }
      ]
    },
    {
      "cell_type": "code",
      "source": [
        "#x1에 대한 계수값 w1을 40으로 해도 되는지 테스트할 수도 있다.\n",
        "print(result.t_test(\"X1 = 40\"))"
      ],
      "metadata": {
        "colab": {
          "base_uri": "https://localhost:8080/"
        },
        "id": "7c-nV9IDzt6p",
        "outputId": "44ac8ece-51aa-4586-ec8f-1224ca0603da"
      },
      "execution_count": 31,
      "outputs": [
        {
          "output_type": "stream",
          "name": "stdout",
          "text": [
            "                             Test for Constraints                             \n",
            "==============================================================================\n",
            "                 coef    std err          t      P>|t|      [0.025      0.975]\n",
            "------------------------------------------------------------------------------\n",
            "c0            42.8534      2.142      1.332      0.186      38.603      47.104\n",
            "==============================================================================\n"
          ]
        }
      ]
    },
    {
      "cell_type": "code",
      "source": [
        "#월평균 기온을 나타내는 nottem 데이터에서 1월과 2월의 기온이 실질적으로 같은지를 알아볼 때도 사용\n",
        "\n",
        "import datetime\n",
        "from calendar import isleap\n",
        "\n",
        "df_nottem = sm.datasets.get_rdataset(\"nottem\").data \n",
        "\n",
        "def convert_partial_year(number):\n",
        "    year = int(number)\n",
        "    d = datetime.timedelta(days=(number - year) * (365 + isleap(year)))\n",
        "    day_one = datetime.datetime(year, 1, 1)\n",
        "    date = d + day_one\n",
        "    return date\n",
        "\n",
        "df_nottem[\"date0\"] = df_nottem[[\"time\"]].applymap(convert_partial_year)\n",
        "df_nottem[\"date\"] = pd.DatetimeIndex(df_nottem[\"date0\"]).round('60min') + datetime.timedelta(seconds=3600*24)\n",
        "df_nottem[\"month\"] = df_nottem[\"date\"].dt.strftime(\"%m\").astype('category')\n",
        "del df_nottem[\"date0\"], df_nottem[\"date\"]\n",
        "\n",
        "model_nottem = sm.OLS.from_formula(\"value ~ C(month) + 0\", df_nottem)\n",
        "result_nottem = model_nottem.fit()\n",
        "print(result_nottem.summary())"
      ],
      "metadata": {
        "colab": {
          "base_uri": "https://localhost:8080/"
        },
        "id": "p_ucsauIz6zD",
        "outputId": "05fda8d3-271c-434d-9be6-22c6f47a720c"
      },
      "execution_count": 32,
      "outputs": [
        {
          "output_type": "stream",
          "name": "stdout",
          "text": [
            "                            OLS Regression Results                            \n",
            "==============================================================================\n",
            "Dep. Variable:                  value   R-squared:                       0.930\n",
            "Model:                            OLS   Adj. R-squared:                  0.927\n",
            "Method:                 Least Squares   F-statistic:                     277.3\n",
            "Date:                Tue, 31 May 2022   Prob (F-statistic):          2.96e-125\n",
            "Time:                        06:31:48   Log-Likelihood:                -535.82\n",
            "No. Observations:                 240   AIC:                             1096.\n",
            "Df Residuals:                     228   BIC:                             1137.\n",
            "Df Model:                          11                                         \n",
            "Covariance Type:            nonrobust                                         \n",
            "================================================================================\n",
            "                   coef    std err          t      P>|t|      [0.025      0.975]\n",
            "--------------------------------------------------------------------------------\n",
            "C(month)[01]    39.6950      0.518     76.691      0.000      38.675      40.715\n",
            "C(month)[02]    39.1900      0.518     75.716      0.000      38.170      40.210\n",
            "C(month)[03]    42.1950      0.518     81.521      0.000      41.175      43.215\n",
            "C(month)[04]    46.2900      0.518     89.433      0.000      45.270      47.310\n",
            "C(month)[05]    52.5600      0.518    101.547      0.000      51.540      53.580\n",
            "C(month)[06]    58.0400      0.518    112.134      0.000      57.020      59.060\n",
            "C(month)[07]    61.9000      0.518    119.592      0.000      60.880      62.920\n",
            "C(month)[08]    60.5200      0.518    116.926      0.000      59.500      61.540\n",
            "C(month)[09]    56.4800      0.518    109.120      0.000      55.460      57.500\n",
            "C(month)[10]    49.4950      0.518     95.625      0.000      48.475      50.515\n",
            "C(month)[11]    42.5800      0.518     82.265      0.000      41.560      43.600\n",
            "C(month)[12]    39.5300      0.518     76.373      0.000      38.510      40.550\n",
            "==============================================================================\n",
            "Omnibus:                        5.430   Durbin-Watson:                   1.529\n",
            "Prob(Omnibus):                  0.066   Jarque-Bera (JB):                5.299\n",
            "Skew:                          -0.281   Prob(JB):                       0.0707\n",
            "Kurtosis:                       3.463   Cond. No.                         1.00\n",
            "==============================================================================\n",
            "\n",
            "Warnings:\n",
            "[1] Standard Errors assume that the covariance matrix of the errors is correctly specified.\n"
          ]
        }
      ]
    },
    {
      "cell_type": "code",
      "source": [
        "#0.25이상으로 유의하지 않다\n",
        "print(result_nottem.t_test(\"C(month)[01] = C(month)[02]\"))"
      ],
      "metadata": {
        "colab": {
          "base_uri": "https://localhost:8080/"
        },
        "id": "ZTptNYNd0L7_",
        "outputId": "78b86fc9-44a6-4ba2-b331-d792d9d59721"
      },
      "execution_count": 33,
      "outputs": [
        {
          "output_type": "stream",
          "name": "stdout",
          "text": [
            "                             Test for Constraints                             \n",
            "==============================================================================\n",
            "                 coef    std err          t      P>|t|      [0.025      0.975]\n",
            "------------------------------------------------------------------------------\n",
            "c0             0.5050      0.732      0.690      0.491      -0.937       1.947\n",
            "==============================================================================\n"
          ]
        }
      ]
    },
    {
      "cell_type": "code",
      "source": [
        "#0.25이하로 유의하다\n",
        "print(result_nottem.t_test(\"C(month)[03] = C(month)[02]\"))"
      ],
      "metadata": {
        "colab": {
          "base_uri": "https://localhost:8080/"
        },
        "id": "JcO66B6p0YD3",
        "outputId": "49bf5ea6-bf34-40f0-cdda-20140c32608a"
      },
      "execution_count": 34,
      "outputs": [
        {
          "output_type": "stream",
          "name": "stdout",
          "text": [
            "                             Test for Constraints                             \n",
            "==============================================================================\n",
            "                 coef    std err          t      P>|t|      [0.025      0.975]\n",
            "------------------------------------------------------------------------------\n",
            "c0             3.0050      0.732      4.105      0.000       1.563       4.447\n",
            "==============================================================================\n"
          ]
        }
      ]
    },
    {
      "cell_type": "markdown",
      "source": [
        "# 5.2 회귀분석의 기하학"
      ],
      "metadata": {
        "id": "aj2kdbNz1zBI"
      }
    },
    {
      "cell_type": "markdown",
      "source": [
        "# 5.3 레버리지와 아웃라이어\n",
        "## 레버리지\n",
        "* 개별적인 데이터 표본 하나하나가 회귀분석 결과에 미치는 영향력은 레버리지 분석이나 아웃라이어 분석을 통해 알 수 있다."
      ],
      "metadata": {
        "id": "U5WFJVF-13Fk"
      }
    },
    {
      "cell_type": "code",
      "source": [
        "from sklearn.datasets import make_regression\n",
        "\n",
        "# 100개의 데이터 생성\n",
        "X0, y, coef = make_regression(n_samples=100, n_features=1, noise=20,\n",
        "                              coef=True, random_state=1)\n",
        "\n",
        "# 레버리지가 높은 가상의 데이터를 추가\n",
        "data_100 = (4, 300)\n",
        "data_101 = (3, 150)\n",
        "X0 = np.vstack([X0, np.array([data_100[:1], data_101[:1]])])\n",
        "X = sm.add_constant(X0)\n",
        "y = np.hstack([y, [data_100[1], data_101[1]]])\n",
        "\n",
        "plt.scatter(X0, y)\n",
        "plt.xlabel(\"x\")\n",
        "plt.ylabel(\"y\")\n",
        "plt.title(\"가상의 회귀분석용 데이터\")\n",
        "plt.show()"
      ],
      "metadata": {
        "colab": {
          "base_uri": "https://localhost:8080/",
          "height": 295
        },
        "id": "ILVtfVaz1uKU",
        "outputId": "dbdfc446-c5d7-470a-b890-4cd7e7a8f266"
      },
      "execution_count": 35,
      "outputs": [
        {
          "output_type": "display_data",
          "data": {
            "text/plain": [
              "<Figure size 432x288 with 1 Axes>"
            ],
            "image/png": "[encoded data removed]"
          },
          "metadata": {
            "needs_background": "light"
          }
        }
      ]
    },
    {
      "cell_type": "code",
      "source": [
        "model = sm.OLS(pd.DataFrame(y), pd.DataFrame(X))\n",
        "result = model.fit()\n",
        "print(result.summary())"
      ],
      "metadata": {
        "colab": {
          "base_uri": "https://localhost:8080/"
        },
        "id": "zRt52Aad2M3r",
        "outputId": "cfc8d17c-a725-489d-b4b6-662453c97df7"
      },
      "execution_count": 36,
      "outputs": [
        {
          "output_type": "stream",
          "name": "stdout",
          "text": [
            "                            OLS Regression Results                            \n",
            "==============================================================================\n",
            "Dep. Variable:                      0   R-squared:                       0.936\n",
            "Model:                            OLS   Adj. R-squared:                  0.935\n",
            "Method:                 Least Squares   F-statistic:                     1464.\n",
            "Date:                Tue, 31 May 2022   Prob (F-statistic):           1.61e-61\n",
            "Time:                        06:42:09   Log-Likelihood:                -452.71\n",
            "No. Observations:                 102   AIC:                             909.4\n",
            "Df Residuals:                     100   BIC:                             914.7\n",
            "Df Model:                           1                                         \n",
            "Covariance Type:            nonrobust                                         \n",
            "==============================================================================\n",
            "                 coef    std err          t      P>|t|      [0.025      0.975]\n",
            "------------------------------------------------------------------------------\n",
            "0              3.2565      2.065      1.577      0.118      -0.840       7.353\n",
            "1             78.3379      2.048     38.260      0.000      74.276      82.400\n",
            "==============================================================================\n",
            "Omnibus:                       16.191   Durbin-Watson:                   1.885\n",
            "Prob(Omnibus):                  0.000   Jarque-Bera (JB):               36.807\n",
            "Skew:                          -0.534   Prob(JB):                     1.02e-08\n",
            "Kurtosis:                       5.742   Cond. No.                         1.14\n",
            "==============================================================================\n",
            "\n",
            "Warnings:\n",
            "[1] Standard Errors assume that the covariance matrix of the errors is correctly specified.\n"
          ]
        }
      ]
    },
    {
      "cell_type": "code",
      "source": [
        "#get_influence 메서드를 호출하여 영향도 정보 확인\n",
        "influence = result.get_influence()\n",
        "hat = influence.hat_matrix_diag\n",
        "\n",
        "plt.figure(figsize=(10, 2))\n",
        "plt.stem(hat)\n",
        "plt.axhline(0.02, c=\"g\", ls=\"--\")\n",
        "plt.title(\"각 데이터의 레버리지 값\")\n",
        "plt.show()"
      ],
      "metadata": {
        "colab": {
          "base_uri": "https://localhost:8080/",
          "height": 173
        },
        "id": "uGTS_aUE2fhr",
        "outputId": "277eaab7-f289-4357-8c71-41c20fbc348b"
      },
      "execution_count": 40,
      "outputs": [
        {
          "output_type": "display_data",
          "data": {
            "text/plain": [
              "<Figure size 720x144 with 1 Axes>"
            ],
            "image/png": "[encoded data removed]"
          },
          "metadata": {
            "needs_background": "light"
          }
        }
      ]
    },
    {
      "cell_type": "code",
      "source": [
        "hat.sum()"
      ],
      "metadata": {
        "colab": {
          "base_uri": "https://localhost:8080/"
        },
        "id": "OgZT9DG82pDV",
        "outputId": "6801b921-1ce0-48ec-df3f-516b6612c678"
      },
      "execution_count": 38,
      "outputs": [
        {
          "output_type": "execute_result",
          "data": {
            "text/plain": [
              "2.0000000000000004"
            ]
          },
          "metadata": {},
          "execution_count": 38
        }
      ]
    },
    {
      "cell_type": "code",
      "source": [
        "#레버리지가 큰 데이터만 표시\n",
        "ax = plt.subplot()\n",
        "plt.scatter(X0, y)\n",
        "sm.graphics.abline_plot(model_results=result, ax=ax)\n",
        "\n",
        "idx = hat > 0.05\n",
        "plt.scatter(X0[idx], y[idx], s=300, c=\"r\", alpha=0.5)\n",
        "plt.title(\"회귀분석 결과와 레버리지 포인트\")\n",
        "plt.show()"
      ],
      "metadata": {
        "colab": {
          "base_uri": "https://localhost:8080/",
          "height": 281
        },
        "id": "equna6no2qL9",
        "outputId": "d5bbc3ec-5d83-4f1a-ada6-799efa14c6a4"
      },
      "execution_count": 41,
      "outputs": [
        {
          "output_type": "display_data",
          "data": {
            "text/plain": [
              "<Figure size 432x288 with 1 Axes>"
            ],
            "image/png": "[encoded data removed]"
          },
          "metadata": {
            "needs_background": "light"
          }
        }
      ]
    },
    {
      "cell_type": "markdown",
      "source": [
        "### 레버리지의 영향"
      ],
      "metadata": {
        "id": "D-b9j8If3I-_"
      }
    },
    {
      "cell_type": "code",
      "source": [
        "#레버리지가 큰 데이터는 포함되거나 포함되지 않는가에 따라 모형에 주는 영향이 큼\n",
        "model2 = sm.OLS(y[:-1], X[:-1])\n",
        "result2 = model2.fit()\n",
        "\n",
        "ax = plt.subplot()\n",
        "plt.scatter(X0, y)\n",
        "sm.graphics.abline_plot(model_results=result, c=\"r\", linestyle=\"--\", ax=ax)\n",
        "sm.graphics.abline_plot(model_results=result2, c=\"g\", alpha=0.7, ax=ax)\n",
        "\n",
        "plt.plot(X0[-1], y[-1], marker='x', c=\"m\", ms=20, mew=5)\n",
        "plt.legend([u\"레버리지가 큰 데이터를 포함한 경우\", u\"레버리지가 큰 데이터를 포함하지 않은 경우\"], loc=\"upper left\")\n",
        "plt.title(\"레버리지가 높은 데이터가 회귀분석에 미치는 영향\")\n",
        "plt.show()"
      ],
      "metadata": {
        "colab": {
          "base_uri": "https://localhost:8080/",
          "height": 281
        },
        "id": "fabW51C83Ib8",
        "outputId": "2e6cd715-bfcd-479b-f438-0da811aaa838"
      },
      "execution_count": 51,
      "outputs": [
        {
          "output_type": "display_data",
          "data": {
            "text/plain": [
              "<Figure size 432x288 with 1 Axes>"
            ],
            "image/png": "[encoded data removed]"
          },
          "metadata": {
            "needs_background": "light"
          }
        }
      ]
    },
    {
      "cell_type": "code",
      "source": [
        "model3 = sm.OLS(y[1:], X[1:])\n",
        "result3 = model3.fit()\n",
        "\n",
        "ax = plt.subplot()\n",
        "plt.scatter(X0, y)\n",
        "sm.graphics.abline_plot(model_results=result, c=\"r\", linestyle=\"--\", ax=ax)\n",
        "sm.graphics.abline_plot(model_results=result3, c=\"g\", alpha=0.7, ax=ax)\n",
        "\n",
        "plt.plot(X0[0], y[0], marker='x', c=\"m\", ms=20, mew=5)\n",
        "plt.legend([u\"레버리지가 작은 데이터를 포함한 경우\", u\"레버리지가 작은 데이터를 포함하지 않은 경우\"],\n",
        "           loc=\"upper left\")\n",
        "plt.title(\"레버리지가 작은 데이터가 회귀분석에 미치는 영향\")\n",
        "plt.show()"
      ],
      "metadata": {
        "colab": {
          "base_uri": "https://localhost:8080/",
          "height": 281
        },
        "id": "_FMoLtQ34_oA",
        "outputId": "d1bfd273-9a4b-40e6-8ae3-cc22f92bff08"
      },
      "execution_count": 48,
      "outputs": [
        {
          "output_type": "display_data",
          "data": {
            "text/plain": [
              "<Figure size 432x288 with 1 Axes>"
            ],
            "image/png": "[encoded data removed]"
          },
          "metadata": {
            "needs_background": "light"
          }
        }
      ]
    },
    {
      "cell_type": "code",
      "source": [
        "#레버리지가 크더라도 오차가 작은 데이터는 포함되거나 포함되지 않거나 모형이 별로 달라지지 않음\n",
        "idx = np.array(list(range(100)) + [101])\n",
        "model4 = sm.OLS(y[idx], X[idx, :])\n",
        "result4 = model4.fit()\n",
        "\n",
        "ax = plt.subplot()\n",
        "plt.scatter(X0, y)\n",
        "sm.graphics.abline_plot(model_results=result,\n",
        "                        c=\"r\", linestyle=\"--\", ax=ax)\n",
        "sm.graphics.abline_plot(model_results=result4,\n",
        "                        c=\"g\", alpha=0.7, ax=ax)\n",
        "\n",
        "plt.plot(X0[-2], y[-2], marker='x', c=\"m\", ms=20, mew=5)\n",
        "plt.legend([u\"오차가 작은 데이터를 포함한 경우\", u\"오차가 작은 데이터를 포함하지 않은 경우\"],\n",
        "           loc=\"upper left\")\n",
        "plt.title(\"레버리지는 높지만 오차가 작은 데이터가 회귀분석에 미치는 영향\")\n",
        "plt.show()"
      ],
      "metadata": {
        "colab": {
          "base_uri": "https://localhost:8080/",
          "height": 281
        },
        "id": "Lvg_mJvE5MTq",
        "outputId": "da26c925-33d1-4cef-bbda-1b1fa42289af"
      },
      "execution_count": 49,
      "outputs": [
        {
          "output_type": "display_data",
          "data": {
            "text/plain": [
              "<Figure size 432x288 with 1 Axes>"
            ],
            "image/png": "[encoded data removed]"
          },
          "metadata": {
            "needs_background": "light"
          }
        }
      ]
    },
    {
      "cell_type": "markdown",
      "source": [
        "## 아웃라이어\n",
        "* 모형에서 설명하고 있는 데이터와 동떨어진 값을 가지는 데이터, 즉 잔차가 큰 데이터를 **아웃라이어(outlier)**라고 한다. 그런데 잔차의 크기는 독립 변수의 영향을 받으므로 아웃라이어를 찾으러면 이 영향을 제거한 표준화된 잔차를 계산해야 한다.\n",
        "\n",
        "### statsmodels를 이용한 표준화 잔차 계산"
      ],
      "metadata": {
        "id": "3MNxE4ts5iMI"
      }
    },
    {
      "cell_type": "code",
      "source": [
        "plt.figure(figsize=(10, 2))\n",
        "plt.stem(result.resid)\n",
        "plt.title(\"각 데이터의 잔차\")\n",
        "plt.show()"
      ],
      "metadata": {
        "colab": {
          "base_uri": "https://localhost:8080/",
          "height": 173
        },
        "id": "zW4kNP1Q5cbC",
        "outputId": "05532e02-0a68-4c8b-c3cc-7601984d629f"
      },
      "execution_count": 52,
      "outputs": [
        {
          "output_type": "display_data",
          "data": {
            "text/plain": [
              "<Figure size 720x144 with 1 Axes>"
            ],
            "image/png": "[encoded data removed]"
          },
          "metadata": {
            "needs_background": "light"
          }
        }
      ]
    },
    {
      "cell_type": "code",
      "source": [
        "plt.figure(figsize=(10, 2))\n",
        "plt.stem(result.resid_pearson)\n",
        "plt.axhline(3, c=\"g\", ls=\"--\")\n",
        "plt.axhline(-3, c=\"g\", ls=\"--\")\n",
        "plt.title(\"각 데이터의 표준화 잔차\")\n",
        "plt.show()"
      ],
      "metadata": {
        "colab": {
          "base_uri": "https://localhost:8080/",
          "height": 173
        },
        "id": "Fm7B8mld5uuK",
        "outputId": "f93d3147-6c54-4ec2-ce54-58eb2050c017"
      },
      "execution_count": 53,
      "outputs": [
        {
          "output_type": "display_data",
          "data": {
            "text/plain": [
              "<Figure size 720x144 with 1 Axes>"
            ],
            "image/png": "[encoded data removed]"
          },
          "metadata": {
            "needs_background": "light"
          }
        }
      ]
    },
    {
      "cell_type": "markdown",
      "source": [
        "### Cook’s Distance\n",
        "* 회귀 분석에는 잔차의 크기가 큰 데이터가 아웃라이어가 되는데 이 중에서도 주로 관심을 가지는 것은 레버리지와 잔차의 크기가 모두 큰 데이터들이다. 잔차와 레버리지를 동시에 보기위한 기준으로는 Cook’s Distance가 있다. 다음과 같이 정의되는 값으로 레버리지가 커지거나 잔차의 크기가 커지면 Cook’s Distance 값이 커진다."
      ],
      "metadata": {
        "id": "QKWkpHjs54Xw"
      }
    },
    {
      "cell_type": "code",
      "source": [
        "#모든 데이터의 레버리지와 잔차를 동시에 보려면 plot_leverage_resid2 명령을 사용\n",
        "sm.graphics.plot_leverage_resid2(result)\n",
        "plt.show()"
      ],
      "metadata": {
        "colab": {
          "base_uri": "https://localhost:8080/",
          "height": 295
        },
        "id": "UNmYf6XT50qY",
        "outputId": "f9794925-89c9-48e4-9d59-da0c62448ef3"
      },
      "execution_count": 54,
      "outputs": [
        {
          "output_type": "display_data",
          "data": {
            "text/plain": [
              "<Figure size 432x288 with 1 Axes>"
            ],
            "image/png": "[encoded data removed]"
          },
          "metadata": {
            "needs_background": "light"
          }
        }
      ]
    },
    {
      "cell_type": "code",
      "source": [
        "# influence_plot 명령을 사용하면 Cook’s distance를 버블 크기로 표시\n",
        "sm.graphics.influence_plot(result, plot_alpha=0.3)\n",
        "plt.show()"
      ],
      "metadata": {
        "colab": {
          "base_uri": "https://localhost:8080/",
          "height": 302
        },
        "id": "DXYiCCU46Fuw",
        "outputId": "61b59508-bb3e-4af6-958f-e2f3fef2ce02"
      },
      "execution_count": 55,
      "outputs": [
        {
          "output_type": "display_data",
          "data": {
            "text/plain": [
              "<Figure size 432x288 with 1 Axes>"
            ],
            "image/png": "[encoded data removed]"
          },
          "metadata": {
            "needs_background": "light"
          }
        }
      ]
    },
    {
      "cell_type": "code",
      "source": [
        "#Fox recommentation 기준으로 아웃라이어를 선택\n",
        "\n",
        "from statsmodels.graphics import utils\n",
        "cooks_d2, pvals = influence.cooks_distance\n",
        "K = influence.k_vars\n",
        "fox_cr = 4 / (len(y) - K - 1)\n",
        "idx = np.where(cooks_d2 > fox_cr)[0]\n",
        "\n",
        "ax = plt.subplot()\n",
        "plt.scatter(X0, y)\n",
        "plt.scatter(X0[idx], y[idx], s=300, c=\"r\", alpha=0.5)\n",
        "utils.annotate_axes(range(len(idx)), idx, list(zip(X0[idx], y[idx])), [(-20, 15)] * len(idx), size=\"small\", ax=ax)\n",
        "plt.title(\"Fox Recommendaion으로 선택한 아웃라이어\")\n",
        "plt.show()"
      ],
      "metadata": {
        "colab": {
          "base_uri": "https://localhost:8080/",
          "height": 281
        },
        "id": "W1XyzKRy6MFQ",
        "outputId": "a10a9fca-2576-4f31-c26e-74170f66f354"
      },
      "execution_count": 56,
      "outputs": [
        {
          "output_type": "display_data",
          "data": {
            "text/plain": [
              "<Figure size 432x288 with 1 Axes>"
            ],
            "image/png": "[encoded data removed]"
          },
          "metadata": {
            "needs_background": "light"
          }
        }
      ]
    },
    {
      "cell_type": "markdown",
      "source": [
        "# 보스턴 집값 예측 문제"
      ],
      "metadata": {
        "id": "xQK-vaXb6adQ"
      }
    },
    {
      "cell_type": "code",
      "source": [
        "from sklearn.datasets import load_boston\n",
        "boston = load_boston()\n",
        "\n",
        "dfX0 = pd.DataFrame(boston.data, columns=boston.feature_names)\n",
        "dfX = sm.add_constant(dfX0)\n",
        "dfy = pd.DataFrame(boston.target, columns=[\"MEDV\"])\n",
        "\n",
        "model_boston = sm.OLS(dfy, dfX)\n",
        "result_boston = model_boston.fit()\n",
        "pred = result_boston.predict(dfX)\n",
        "\n",
        "influence_boston = result_boston.get_influence()\n",
        "cooks_d2, pvals = influence_boston.cooks_distance\n",
        "K = influence.k_vars\n",
        "fox_cr = 4 / (len(y) - K - 1)\n",
        "idx = np.where(cooks_d2 > fox_cr)[0]\n",
        "\n",
        "# MEDV = 50 제거\n",
        "idx = np.hstack([idx, np.where(boston.target == 50)[0]])\n",
        "\n",
        "ax = plt.subplot()\n",
        "plt.scatter(dfy, pred)\n",
        "plt.scatter(dfy.MEDV[idx], pred[idx], s=300, c=\"r\", alpha=0.5)\n",
        "utils.annotate_axes(range(len(idx)), idx,\n",
        "                    list(zip(dfy.MEDV[idx], pred[idx])), [(-20, 15)] * len(idx), size=\"small\", ax=ax)\n",
        "plt.title(\"보스턴 집값 데이터에서 아웃라이어\")\n",
        "plt.show()"
      ],
      "metadata": {
        "colab": {
          "base_uri": "https://localhost:8080/",
          "height": 281
        },
        "id": "IGQXg2fv6c78",
        "outputId": "9eb5c1e2-b114-446b-ccc6-8a7671ebae0e"
      },
      "execution_count": 57,
      "outputs": [
        {
          "output_type": "display_data",
          "data": {
            "text/plain": [
              "<Figure size 432x288 with 1 Axes>"
            ],
            "image/png": "[encoded data removed]"
          },
          "metadata": {
            "needs_background": "light"
          }
        }
      ]
    },
    {
      "cell_type": "code",
      "source": [
        "idx2 = list(set(range(len(dfX))).difference(idx))\n",
        "dfX = dfX.iloc[idx2, :].reset_index(drop=True)\n",
        "dfy = dfy.iloc[idx2, :].reset_index(drop=True)\n",
        "model_boston2 = sm.OLS(dfy, dfX)\n",
        "result_boston2 = model_boston2.fit()\n",
        "print(result_boston2.summary())"
      ],
      "metadata": {
        "colab": {
          "base_uri": "https://localhost:8080/"
        },
        "id": "v_xpHrn06lWz",
        "outputId": "c35269a2-5d7f-4993-fad5-0a34f3d61232"
      },
      "execution_count": 58,
      "outputs": [
        {
          "output_type": "stream",
          "name": "stdout",
          "text": [
            "                            OLS Regression Results                            \n",
            "==============================================================================\n",
            "Dep. Variable:                   MEDV   R-squared:                       0.812\n",
            "Model:                            OLS   Adj. R-squared:                  0.806\n",
            "Method:                 Least Squares   F-statistic:                     156.1\n",
            "Date:                Tue, 31 May 2022   Prob (F-statistic):          2.41e-161\n",
            "Time:                        07:00:46   Log-Likelihood:                -1285.2\n",
            "No. Observations:                 485   AIC:                             2598.\n",
            "Df Residuals:                     471   BIC:                             2657.\n",
            "Df Model:                          13                                         \n",
            "Covariance Type:            nonrobust                                         \n",
            "==============================================================================\n",
            "                 coef    std err          t      P>|t|      [0.025      0.975]\n",
            "------------------------------------------------------------------------------\n",
            "const         18.8999      4.107      4.602      0.000      10.830      26.969\n",
            "CRIM          -0.0973      0.024     -4.025      0.000      -0.145      -0.050\n",
            "ZN             0.0278      0.010      2.651      0.008       0.007       0.048\n",
            "INDUS         -0.0274      0.046     -0.595      0.552      -0.118       0.063\n",
            "CHAS           0.9228      0.697      1.324      0.186      -0.447       2.292\n",
            "NOX           -9.4922      2.856     -3.323      0.001     -15.105      -3.879\n",
            "RM             5.0921      0.371     13.735      0.000       4.364       5.821\n",
            "AGE           -0.0305      0.010     -2.986      0.003      -0.051      -0.010\n",
            "DIS           -1.0562      0.150     -7.057      0.000      -1.350      -0.762\n",
            "RAD            0.1990      0.049      4.022      0.000       0.102       0.296\n",
            "TAX           -0.0125      0.003     -4.511      0.000      -0.018      -0.007\n",
            "PTRATIO       -0.7777      0.098     -7.955      0.000      -0.970      -0.586\n",
            "B              0.0107      0.002      5.348      0.000       0.007       0.015\n",
            "LSTAT         -0.2846      0.043     -6.639      0.000      -0.369      -0.200\n",
            "==============================================================================\n",
            "Omnibus:                       45.944   Durbin-Watson:                   1.184\n",
            "Prob(Omnibus):                  0.000   Jarque-Bera (JB):               65.791\n",
            "Skew:                           0.679   Prob(JB):                     5.17e-15\n",
            "Kurtosis:                       4.188   Cond. No.                     1.59e+04\n",
            "==============================================================================\n",
            "\n",
            "Warnings:\n",
            "[1] Standard Errors assume that the covariance matrix of the errors is correctly specified.\n",
            "[2] The condition number is large, 1.59e+04. This might indicate that there are\n",
            "strong multicollinearity or other numerical problems.\n"
          ]
        }
      ]
    },
    {
      "cell_type": "markdown",
      "source": [
        "# 5.4 분산 분석과 모형 성능\n",
        "\n",
        "## 분산 분석\n",
        "* 선형회귀분석의 결과가 얼마나 좋은지는 단순히 잔차제곱합(RSS: Residula Sum of Square)으로 평가할 수 없다. 변수의 단위 즉, 스케일이 달라지면 회귀분석과 상관없이 잔차제곱합도 달라지기 때문이다.\n",
        "\n",
        "* 분산 분석(ANOVA: Analysis of Variance)은 종속변수의 분산과 독립변수의 분산간의 관계를 사용하여 선형회귀분석의 성능을 평가하고자 하는 방법이다. 분산 분석은 서로 다른 두 개의 선형회귀분석의 성능 비교에 응용할 수 있으며 독립변수가 카테고리 변수인 경우 각 카테고리 값에 따른 영향을 정량적으로 분석하는데도 사용된다.\n",
        "\n",
        "* TSS(total sum of square) : 종속변수값의 움직임의 범위\n",
        "* ESS(explained sum of squares) : 모형에서 나온 예측값의 움직임의 범위\n",
        "* RSS(residual sum of squares) : 잔차의 움직임의 범위, 즉 오차의 크기\n",
        "\n",
        "* TSS=ESS+RSS\n",
        "\n",
        "* 모형 예측치의 움직임의 크기(분산)은 종속변수의 움직임의 크기(분산)보다 클 수 없다.\n",
        "* 모형의 성능이 좋을수록 모형 예측치의 움직임의 크기는 종속변수의 움직임의 크기와 비슷해진다."
      ],
      "metadata": {
        "id": "Z2nozugD85TY"
      }
    },
    {
      "cell_type": "code",
      "source": [
        "from sklearn.datasets import make_regression\n",
        "\n",
        "X0, y, coef = make_regression(n_samples=100, n_features=1, noise=30, coef=True, random_state=0)\n",
        "dfX0 = pd.DataFrame(X0, columns=[\"X\"])\n",
        "dfX = sm.add_constant(dfX0)\n",
        "dfy = pd.DataFrame(y, columns=[\"Y\"])\n",
        "df = pd.concat([dfX, dfy], axis=1)\n",
        "\n",
        "model = sm.OLS.from_formula(\"Y ~ X\", data=df)\n",
        "result = model.fit()"
      ],
      "metadata": {
        "id": "tza1L3P8AWr5"
      },
      "execution_count": 59,
      "outputs": []
    },
    {
      "cell_type": "code",
      "source": [
        "print(\"TSS = \", result.uncentered_tss)\n",
        "print(\"ESS = \", result.mse_model)\n",
        "print(\"RSS = \", result.ssr)\n",
        "print(\"ESS + RSS = \", result.mse_model + result.ssr)\n",
        "print(\"R squared = \", result.rsquared)"
      ],
      "metadata": {
        "colab": {
          "base_uri": "https://localhost:8080/"
        },
        "id": "g7Rok7VWAYNA",
        "outputId": "b28aeca8-333a-4031-f242-be29c9424576"
      },
      "execution_count": 60,
      "outputs": [
        {
          "output_type": "stream",
          "name": "stdout",
          "text": [
            "TSS =  291345.7578983061\n",
            "ESS =  188589.61349210917\n",
            "RSS =  102754.33755137534\n",
            "ESS + RSS =  291343.9510434845\n",
            "R squared =  0.6473091780922585\n"
          ]
        }
      ]
    },
    {
      "cell_type": "code",
      "source": [
        "sns.distplot(y,\n",
        "             kde=False, fit=sp.stats.norm, hist_kws={\"color\": \"r\", \"alpha\": 0.2}, fit_kws={\"color\": \"r\"},\n",
        "             label=\"TSS\")\n",
        "sns.distplot(result.fittedvalues,\n",
        "             kde=False, hist_kws={\"color\": \"g\", \"alpha\": 0.2}, fit=sp.stats.norm, fit_kws={\"color\": \"g\"},\n",
        "             label=\"ESS\")\n",
        "sns.distplot(result.resid,\n",
        "             kde=False, hist_kws={\"color\": \"b\", \"alpha\": 0.2}, fit=sp.stats.norm, fit_kws={\"color\": \"b\"},\n",
        "             label=\"RSS\")\n",
        "plt.legend()\n",
        "plt.show()"
      ],
      "metadata": {
        "colab": {
          "base_uri": "https://localhost:8080/",
          "height": 265
        },
        "id": "Rf8DBHhvAiSx",
        "outputId": "0fd272ae-c420-414c-a0d2-ea70cb924d8a"
      },
      "execution_count": 61,
      "outputs": [
        {
          "output_type": "display_data",
          "data": {
            "text/plain": [
              "<Figure size 432x288 with 1 Axes>"
            ],
            "image/png": "[encoded data removed]"
          },
          "metadata": {
            "needs_background": "light"
          }
        }
      ]
    },
    {
      "cell_type": "markdown",
      "source": [
        "## 결정계수(Coefficient of Determination)\n",
        "\n",
        "* 분산 관계식에서 모형의 성능을 나타내는 결정계수(Coefficient of Determination) \n",
        "* R squared를 정의\n",
        "  * R2≡1−RSS/TSS = ESS/TSS \n",
        "  * 0≤R2≤1\n"
      ],
      "metadata": {
        "id": "HQeRd3EzAvIZ"
      }
    },
    {
      "cell_type": "markdown",
      "source": [
        "## 회귀 분석 F-검정과 분산 분석의 관계"
      ],
      "metadata": {
        "id": "3WSZ3s5sCQhC"
      }
    },
    {
      "cell_type": "code",
      "source": [
        "sm.stats.anova_lm(result)"
      ],
      "metadata": {
        "colab": {
          "base_uri": "https://localhost:8080/",
          "height": 112
        },
        "id": "LWMg3CBPBphQ",
        "outputId": "fbbdecc0-7014-48b5-913b-6c39a8c6ee13"
      },
      "execution_count": 62,
      "outputs": [
        {
          "output_type": "execute_result",
          "data": {
            "text/plain": [
              "            df         sum_sq        mean_sq           F        PR(>F)\n",
              "X          1.0  188589.613492  188589.613492  179.863766  6.601482e-24\n",
              "Residual  98.0  102754.337551    1048.513648         NaN           NaN"
            ],
            "text/html": [
              "\n",
              "  <div id=\"df-8a49c00e-d856-4bcd-9d3d-2c07a42866ee\">\n",
              "    <div class=\"colab-df-container\">\n",
              "      <div>\n",
              "<style scoped>\n",
              "    .dataframe tbody tr th:only-of-type {\n",
              "        vertical-align: middle;\n",
              "    }\n",
              "\n",
              "    .dataframe tbody tr th {\n",
              "        vertical-align: top;\n",
              "    }\n",
              "\n",
              "    .dataframe thead th {\n",
              "        text-align: right;\n",
              "    }\n",
              "</style>\n",
              "<table border=\"1\" class=\"dataframe\">\n",
              "  <thead>\n",
              "    <tr style=\"text-align: right;\">\n",
              "      <th></th>\n",
              "      <th>df</th>\n",
              "      <th>sum_sq</th>\n",
              "      <th>mean_sq</th>\n",
              "      <th>F</th>\n",
              "      <th>PR(&gt;F)</th>\n",
              "    </tr>\n",
              "  </thead>\n",
              "  <tbody>\n",
              "    <tr>\n",
              "      <th>X</th>\n",
              "      <td>1.0</td>\n",
              "      <td>188589.613492</td>\n",
              "      <td>188589.613492</td>\n",
              "      <td>179.863766</td>\n",
              "      <td>6.601482e-24</td>\n",
              "    </tr>\n",
              "    <tr>\n",
              "      <th>Residual</th>\n",
              "      <td>98.0</td>\n",
              "      <td>102754.337551</td>\n",
              "      <td>1048.513648</td>\n",
              "      <td>NaN</td>\n",
              "      <td>NaN</td>\n",
              "    </tr>\n",
              "  </tbody>\n",
              "</table>\n",
              "</div>\n",
              "      <button class=\"colab-df-convert\" onclick=\"convertToInteractive('df-8a49c00e-d856-4bcd-9d3d-2c07a42866ee')\"\n",
              "              title=\"Convert this dataframe to an interactive table.\"\n",
              "              style=\"display:none;\">\n",
              "        \n",
              "  <svg xmlns=\"http://www.w3.org/2000/svg\" height=\"24px\"viewBox=\"0 0 24 24\"\n",
              "       width=\"24px\">\n",
              "    <path d=\"M0 0h24v24H0V0z\" fill=\"none\"/>\n",
              "    <path d=\"M18.56 5.44l.94 2.06.94-2.06 2.06-.94-2.06-.94-.94-2.06-.94 2.06-2.06.94zm-11 1L8.5 8.5l.94-2.06 2.06-.94-2.06-.94L8.5 2.5l-.94 2.06-2.06.94zm10 10l.94 2.06.94-2.06 2.06-.94-2.06-.94-.94-2.06-.94 2.06-2.06.94z\"/><path d=\"M17.41 7.96l-1.37-1.37c-.4-.4-.92-.59-1.43-.59-.52 0-1.04.2-1.43.59L10.3 9.45l-7.72 7.72c-.78.78-.78 2.05 0 2.83L4 21.41c.39.39.9.59 1.41.59.51 0 1.02-.2 1.41-.59l7.78-7.78 2.81-2.81c.8-.78.8-2.07 0-2.86zM5.41 20L4 18.59l7.72-7.72 1.47 1.35L5.41 20z\"/>\n",
              "  </svg>\n",
              "      </button>\n",
              "      \n",
              "  <style>\n",
              "    .colab-df-container {\n",
              "      display:flex;\n",
              "      flex-wrap:wrap;\n",
              "      gap: 12px;\n",
              "    }\n",
              "\n",
              "    .colab-df-convert {\n",
              "      background-color: #E8F0FE;\n",
              "      border: none;\n",
              "      border-radius: 50%;\n",
              "      cursor: pointer;\n",
              "      display: none;\n",
              "      fill: #1967D2;\n",
              "      height: 32px;\n",
              "      padding: 0 0 0 0;\n",
              "      width: 32px;\n",
              "    }\n",
              "\n",
              "    .colab-df-convert:hover {\n",
              "      background-color: #E2EBFA;\n",
              "      box-shadow: 0px 1px 2px rgba(60, 64, 67, 0.3), 0px 1px 3px 1px rgba(60, 64, 67, 0.15);\n",
              "      fill: #174EA6;\n",
              "    }\n",
              "\n",
              "    [theme=dark] .colab-df-convert {\n",
              "      background-color: #3B4455;\n",
              "      fill: #D2E3FC;\n",
              "    }\n",
              "\n",
              "    [theme=dark] .colab-df-convert:hover {\n",
              "      background-color: #434B5C;\n",
              "      box-shadow: 0px 1px 3px 1px rgba(0, 0, 0, 0.15);\n",
              "      filter: drop-shadow(0px 1px 2px rgba(0, 0, 0, 0.3));\n",
              "      fill: #FFFFFF;\n",
              "    }\n",
              "  </style>\n",
              "\n",
              "      <script>\n",
              "        const buttonEl =\n",
              "          document.querySelector('#df-8a49c00e-d856-4bcd-9d3d-2c07a42866ee button.colab-df-convert');\n",
              "        buttonEl.style.display =\n",
              "          google.colab.kernel.accessAllowed ? 'block' : 'none';\n",
              "\n",
              "        async function convertToInteractive(key) {\n",
              "          const element = document.querySelector('#df-8a49c00e-d856-4bcd-9d3d-2c07a42866ee');\n",
              "          const dataTable =\n",
              "            await google.colab.kernel.invokeFunction('convertToInteractive',\n",
              "                                                     [key], {});\n",
              "          if (!dataTable) return;\n",
              "\n",
              "          const docLinkHtml = 'Like what you see? Visit the ' +\n",
              "            '<a target=\"_blank\" href=https://colab.research.google.com/notebooks/data_table.ipynb>data table notebook</a>'\n",
              "            + ' to learn more about interactive tables.';\n",
              "          element.innerHTML = '';\n",
              "          dataTable['output_type'] = 'display_data';\n",
              "          await google.colab.output.renderOutput(dataTable, element);\n",
              "          const docLink = document.createElement('div');\n",
              "          docLink.innerHTML = docLinkHtml;\n",
              "          element.appendChild(docLink);\n",
              "        }\n",
              "      </script>\n",
              "    </div>\n",
              "  </div>\n",
              "  "
            ]
          },
          "metadata": {},
          "execution_count": 62
        }
      ]
    },
    {
      "cell_type": "code",
      "source": [
        "print(result.summary())"
      ],
      "metadata": {
        "colab": {
          "base_uri": "https://localhost:8080/"
        },
        "id": "MRGJrnY3Bqp3",
        "outputId": "678a0a1f-a355-4aaa-8498-f135e2fe4277"
      },
      "execution_count": 63,
      "outputs": [
        {
          "output_type": "stream",
          "name": "stdout",
          "text": [
            "                            OLS Regression Results                            \n",
            "==============================================================================\n",
            "Dep. Variable:                      Y   R-squared:                       0.647\n",
            "Model:                            OLS   Adj. R-squared:                  0.644\n",
            "Method:                 Least Squares   F-statistic:                     179.9\n",
            "Date:                Tue, 31 May 2022   Prob (F-statistic):           6.60e-24\n",
            "Time:                        07:31:37   Log-Likelihood:                -488.64\n",
            "No. Observations:                 100   AIC:                             981.3\n",
            "Df Residuals:                      98   BIC:                             986.5\n",
            "Df Model:                           1                                         \n",
            "Covariance Type:            nonrobust                                         \n",
            "==============================================================================\n",
            "                 coef    std err          t      P>|t|      [0.025      0.975]\n",
            "------------------------------------------------------------------------------\n",
            "Intercept     -2.4425      3.244     -0.753      0.453      -8.880       3.995\n",
            "X             43.0873      3.213     13.411      0.000      36.712      49.463\n",
            "==============================================================================\n",
            "Omnibus:                        3.523   Durbin-Watson:                   1.984\n",
            "Prob(Omnibus):                  0.172   Jarque-Bera (JB):                2.059\n",
            "Skew:                          -0.073   Prob(JB):                        0.357\n",
            "Kurtosis:                       2.312   Cond. No.                         1.06\n",
            "==============================================================================\n",
            "\n",
            "Warnings:\n",
            "[1] Standard Errors assume that the covariance matrix of the errors is correctly specified.\n"
          ]
        }
      ]
    },
    {
      "cell_type": "markdown",
      "source": [
        "## 결정 계수와 상관 계수"
      ],
      "metadata": {
        "id": "xEx55xEaCddX"
      }
    },
    {
      "cell_type": "code",
      "source": [
        "sns.jointplot(result.fittedvalues, y)\n",
        "plt.show()"
      ],
      "metadata": {
        "colab": {
          "base_uri": "https://localhost:8080/",
          "height": 441
        },
        "id": "RdfJP3GLCgYz",
        "outputId": "ab6dd67f-c49d-4b8e-f47c-62ba993baf0d"
      },
      "execution_count": 64,
      "outputs": [
        {
          "output_type": "display_data",
          "data": {
            "text/plain": [
              "<Figure size 432x432 with 3 Axes>"
            ],
            "image/png": "[encoded data removed]"
          },
          "metadata": {
            "needs_background": "light"
          }
        }
      ]
    },
    {
      "cell_type": "markdown",
      "source": [
        "## 상수항이 없는 모형의 경우\n",
        "* 모형의 결정계수를 비교할 때 상수항이 없는 모형과 상수항이 있는 모형은 직접 비교하면 안된다."
      ],
      "metadata": {
        "id": "8YTFuh7qCrDt"
      }
    },
    {
      "cell_type": "code",
      "source": [
        "X0, y, coef = make_regression(\n",
        "    n_samples=100, n_features=1, noise=30, bias=100, coef=True, random_state=0)\n",
        "dfX = pd.DataFrame(X0, columns=[\"X\"])\n",
        "dfy = pd.DataFrame(y, columns=[\"Y\"])\n",
        "df = pd.concat([dfX, dfy], axis=1)\n",
        "\n",
        "model2 = sm.OLS.from_formula(\"Y ~ X + 0\", data=df)\n",
        "result2 = model2.fit()\n",
        "\n",
        "result2.rsquared"
      ],
      "metadata": {
        "colab": {
          "base_uri": "https://localhost:8080/"
        },
        "id": "Al3zXXxXCqYZ",
        "outputId": "f17e35f2-69f2-482a-bb84-da5b5635ecb7"
      },
      "execution_count": 65,
      "outputs": [
        {
          "output_type": "execute_result",
          "data": {
            "text/plain": [
              "0.1876872470594393"
            ]
          },
          "metadata": {},
          "execution_count": 65
        }
      ]
    },
    {
      "cell_type": "markdown",
      "source": [
        "## F 검정을 이용한 모형 비교\n",
        "* F 검정을 이용하면 다음과 같이 포함관계(nesting)에 있는 두 모형의 성능을 비교할 수 있다.\n",
        "  * 전체 모형(Full Model): $y=w0+w1x1+w2x2+w3x3$\n",
        "  * 축소 모형(Reduced Model): $y=w0+w1x1$"
      ],
      "metadata": {
        "id": "tSnuNNCMC5Yh"
      }
    },
    {
      "cell_type": "code",
      "source": [
        "from sklearn.datasets import load_boston\n",
        "\n",
        "boston = load_boston()\n",
        "dfX0_boston = pd.DataFrame(boston.data, columns=boston.feature_names)\n",
        "dfy_boston = pd.DataFrame(boston.target, columns=[\"MEDV\"])\n",
        "dfX_boston = sm.add_constant(dfX0_boston)\n",
        "df_boston = pd.concat([dfX_boston, dfy_boston], axis=1)"
      ],
      "metadata": {
        "id": "6UHqQ66CEThd"
      },
      "execution_count": 69,
      "outputs": []
    },
    {
      "cell_type": "code",
      "source": [
        "model_full = sm.OLS.from_formula(\n",
        "    \"MEDV ~ CRIM + ZN + INDUS + NOX + RM + AGE + DIS + RAD + TAX + PTRATIO + B + LSTAT + CHAS\", data=df_boston)\n",
        "model_reduced = sm.OLS.from_formula(\n",
        "    \"MEDV ~ CRIM + ZN + NOX + RM + DIS + RAD + TAX + PTRATIO + B + LSTAT + CHAS\", data=df_boston)\n",
        "\n",
        "sm.stats.anova_lm(model_reduced.fit(), model_full.fit())"
      ],
      "metadata": {
        "colab": {
          "base_uri": "https://localhost:8080/",
          "height": 112
        },
        "id": "JQmvCvfqEVLh",
        "outputId": "4cad8084-0ec5-4ced-99bf-069f35e80074"
      },
      "execution_count": 70,
      "outputs": [
        {
          "output_type": "execute_result",
          "data": {
            "text/plain": [
              "   df_resid           ssr  df_diff   ss_diff         F    Pr(>F)\n",
              "0     494.0  11081.363952      0.0       NaN       NaN       NaN\n",
              "1     492.0  11078.784578      2.0  2.579374  0.057274  0.944342"
            ],
            "text/html": [
              "\n",
              "  <div id=\"df-8a725bc4-568e-4e4f-b8f8-66e11ccfa3ba\">\n",
              "    <div class=\"colab-df-container\">\n",
              "      <div>\n",
              "<style scoped>\n",
              "    .dataframe tbody tr th:only-of-type {\n",
              "        vertical-align: middle;\n",
              "    }\n",
              "\n",
              "    .dataframe tbody tr th {\n",
              "        vertical-align: top;\n",
              "    }\n",
              "\n",
              "    .dataframe thead th {\n",
              "        text-align: right;\n",
              "    }\n",
              "</style>\n",
              "<table border=\"1\" class=\"dataframe\">\n",
              "  <thead>\n",
              "    <tr style=\"text-align: right;\">\n",
              "      <th></th>\n",
              "      <th>df_resid</th>\n",
              "      <th>ssr</th>\n",
              "      <th>df_diff</th>\n",
              "      <th>ss_diff</th>\n",
              "      <th>F</th>\n",
              "      <th>Pr(&gt;F)</th>\n",
              "    </tr>\n",
              "  </thead>\n",
              "  <tbody>\n",
              "    <tr>\n",
              "      <th>0</th>\n",
              "      <td>494.0</td>\n",
              "      <td>11081.363952</td>\n",
              "      <td>0.0</td>\n",
              "      <td>NaN</td>\n",
              "      <td>NaN</td>\n",
              "      <td>NaN</td>\n",
              "    </tr>\n",
              "    <tr>\n",
              "      <th>1</th>\n",
              "      <td>492.0</td>\n",
              "      <td>11078.784578</td>\n",
              "      <td>2.0</td>\n",
              "      <td>2.579374</td>\n",
              "      <td>0.057274</td>\n",
              "      <td>0.944342</td>\n",
              "    </tr>\n",
              "  </tbody>\n",
              "</table>\n",
              "</div>\n",
              "      <button class=\"colab-df-convert\" onclick=\"convertToInteractive('df-8a725bc4-568e-4e4f-b8f8-66e11ccfa3ba')\"\n",
              "              title=\"Convert this dataframe to an interactive table.\"\n",
              "              style=\"display:none;\">\n",
              "        \n",
              "  <svg xmlns=\"http://www.w3.org/2000/svg\" height=\"24px\"viewBox=\"0 0 24 24\"\n",
              "       width=\"24px\">\n",
              "    <path d=\"M0 0h24v24H0V0z\" fill=\"none\"/>\n",
              "    <path d=\"M18.56 5.44l.94 2.06.94-2.06 2.06-.94-2.06-.94-.94-2.06-.94 2.06-2.06.94zm-11 1L8.5 8.5l.94-2.06 2.06-.94-2.06-.94L8.5 2.5l-.94 2.06-2.06.94zm10 10l.94 2.06.94-2.06 2.06-.94-2.06-.94-.94-2.06-.94 2.06-2.06.94z\"/><path d=\"M17.41 7.96l-1.37-1.37c-.4-.4-.92-.59-1.43-.59-.52 0-1.04.2-1.43.59L10.3 9.45l-7.72 7.72c-.78.78-.78 2.05 0 2.83L4 21.41c.39.39.9.59 1.41.59.51 0 1.02-.2 1.41-.59l7.78-7.78 2.81-2.81c.8-.78.8-2.07 0-2.86zM5.41 20L4 18.59l7.72-7.72 1.47 1.35L5.41 20z\"/>\n",
              "  </svg>\n",
              "      </button>\n",
              "      \n",
              "  <style>\n",
              "    .colab-df-container {\n",
              "      display:flex;\n",
              "      flex-wrap:wrap;\n",
              "      gap: 12px;\n",
              "    }\n",
              "\n",
              "    .colab-df-convert {\n",
              "      background-color: #E8F0FE;\n",
              "      border: none;\n",
              "      border-radius: 50%;\n",
              "      cursor: pointer;\n",
              "      display: none;\n",
              "      fill: #1967D2;\n",
              "      height: 32px;\n",
              "      padding: 0 0 0 0;\n",
              "      width: 32px;\n",
              "    }\n",
              "\n",
              "    .colab-df-convert:hover {\n",
              "      background-color: #E2EBFA;\n",
              "      box-shadow: 0px 1px 2px rgba(60, 64, 67, 0.3), 0px 1px 3px 1px rgba(60, 64, 67, 0.15);\n",
              "      fill: #174EA6;\n",
              "    }\n",
              "\n",
              "    [theme=dark] .colab-df-convert {\n",
              "      background-color: #3B4455;\n",
              "      fill: #D2E3FC;\n",
              "    }\n",
              "\n",
              "    [theme=dark] .colab-df-convert:hover {\n",
              "      background-color: #434B5C;\n",
              "      box-shadow: 0px 1px 3px 1px rgba(0, 0, 0, 0.15);\n",
              "      filter: drop-shadow(0px 1px 2px rgba(0, 0, 0, 0.3));\n",
              "      fill: #FFFFFF;\n",
              "    }\n",
              "  </style>\n",
              "\n",
              "      <script>\n",
              "        const buttonEl =\n",
              "          document.querySelector('#df-8a725bc4-568e-4e4f-b8f8-66e11ccfa3ba button.colab-df-convert');\n",
              "        buttonEl.style.display =\n",
              "          google.colab.kernel.accessAllowed ? 'block' : 'none';\n",
              "\n",
              "        async function convertToInteractive(key) {\n",
              "          const element = document.querySelector('#df-8a725bc4-568e-4e4f-b8f8-66e11ccfa3ba');\n",
              "          const dataTable =\n",
              "            await google.colab.kernel.invokeFunction('convertToInteractive',\n",
              "                                                     [key], {});\n",
              "          if (!dataTable) return;\n",
              "\n",
              "          const docLinkHtml = 'Like what you see? Visit the ' +\n",
              "            '<a target=\"_blank\" href=https://colab.research.google.com/notebooks/data_table.ipynb>data table notebook</a>'\n",
              "            + ' to learn more about interactive tables.';\n",
              "          element.innerHTML = '';\n",
              "          dataTable['output_type'] = 'display_data';\n",
              "          await google.colab.output.renderOutput(dataTable, element);\n",
              "          const docLink = document.createElement('div');\n",
              "          docLink.innerHTML = docLinkHtml;\n",
              "          element.appendChild(docLink);\n",
              "        }\n",
              "      </script>\n",
              "    </div>\n",
              "  </div>\n",
              "  "
            ]
          },
          "metadata": {},
          "execution_count": 70
        }
      ]
    },
    {
      "cell_type": "markdown",
      "source": [
        "## F 검정을 사용한 변수 중요도 비교\n",
        "* F 검정은 각 독립변수의 중요도를 비교하기 위해 사용할 수 있다. 방법은 전체 모형과 각 변수 하나만을 뺀 모형들의 성능을 비교"
      ],
      "metadata": {
        "id": "akKfoLrpEmxM"
      }
    },
    {
      "cell_type": "code",
      "source": [
        "model_full = sm.OLS.from_formula(\n",
        "    \"MEDV ~ CRIM + ZN + INDUS + NOX + RM + AGE + DIS + RAD + TAX + PTRATIO + B + LSTAT + CHAS\", data=df_boston)\n",
        "model_reduced = sm.OLS.from_formula(\n",
        "    \"MEDV ~ ZN + INDUS + NOX + RM + AGE + DIS + RAD + TAX + PTRATIO + B + LSTAT + CHAS\", data=df_boston)\n",
        "\n",
        "sm.stats.anova_lm(model_reduced.fit(), model_full.fit())"
      ],
      "metadata": {
        "colab": {
          "base_uri": "https://localhost:8080/",
          "height": 112
        },
        "id": "VtCGhxwxC3xF",
        "outputId": "5e88b0c2-70dd-4166-c5f9-b5ce3e9e72d5"
      },
      "execution_count": 71,
      "outputs": [
        {
          "output_type": "execute_result",
          "data": {
            "text/plain": [
              "   df_resid           ssr  df_diff     ss_diff          F    Pr(>F)\n",
              "0     493.0  11322.004277      0.0         NaN        NaN       NaN\n",
              "1     492.0  11078.784578      1.0  243.219699  10.801193  0.001087"
            ],
            "text/html": [
              "\n",
              "  <div id=\"df-4d574de2-9532-4b3f-9835-72f46d6b483e\">\n",
              "    <div class=\"colab-df-container\">\n",
              "      <div>\n",
              "<style scoped>\n",
              "    .dataframe tbody tr th:only-of-type {\n",
              "        vertical-align: middle;\n",
              "    }\n",
              "\n",
              "    .dataframe tbody tr th {\n",
              "        vertical-align: top;\n",
              "    }\n",
              "\n",
              "    .dataframe thead th {\n",
              "        text-align: right;\n",
              "    }\n",
              "</style>\n",
              "<table border=\"1\" class=\"dataframe\">\n",
              "  <thead>\n",
              "    <tr style=\"text-align: right;\">\n",
              "      <th></th>\n",
              "      <th>df_resid</th>\n",
              "      <th>ssr</th>\n",
              "      <th>df_diff</th>\n",
              "      <th>ss_diff</th>\n",
              "      <th>F</th>\n",
              "      <th>Pr(&gt;F)</th>\n",
              "    </tr>\n",
              "  </thead>\n",
              "  <tbody>\n",
              "    <tr>\n",
              "      <th>0</th>\n",
              "      <td>493.0</td>\n",
              "      <td>11322.004277</td>\n",
              "      <td>0.0</td>\n",
              "      <td>NaN</td>\n",
              "      <td>NaN</td>\n",
              "      <td>NaN</td>\n",
              "    </tr>\n",
              "    <tr>\n",
              "      <th>1</th>\n",
              "      <td>492.0</td>\n",
              "      <td>11078.784578</td>\n",
              "      <td>1.0</td>\n",
              "      <td>243.219699</td>\n",
              "      <td>10.801193</td>\n",
              "      <td>0.001087</td>\n",
              "    </tr>\n",
              "  </tbody>\n",
              "</table>\n",
              "</div>\n",
              "      <button class=\"colab-df-convert\" onclick=\"convertToInteractive('df-4d574de2-9532-4b3f-9835-72f46d6b483e')\"\n",
              "              title=\"Convert this dataframe to an interactive table.\"\n",
              "              style=\"display:none;\">\n",
              "        \n",
              "  <svg xmlns=\"http://www.w3.org/2000/svg\" height=\"24px\"viewBox=\"0 0 24 24\"\n",
              "       width=\"24px\">\n",
              "    <path d=\"M0 0h24v24H0V0z\" fill=\"none\"/>\n",
              "    <path d=\"M18.56 5.44l.94 2.06.94-2.06 2.06-.94-2.06-.94-.94-2.06-.94 2.06-2.06.94zm-11 1L8.5 8.5l.94-2.06 2.06-.94-2.06-.94L8.5 2.5l-.94 2.06-2.06.94zm10 10l.94 2.06.94-2.06 2.06-.94-2.06-.94-.94-2.06-.94 2.06-2.06.94z\"/><path d=\"M17.41 7.96l-1.37-1.37c-.4-.4-.92-.59-1.43-.59-.52 0-1.04.2-1.43.59L10.3 9.45l-7.72 7.72c-.78.78-.78 2.05 0 2.83L4 21.41c.39.39.9.59 1.41.59.51 0 1.02-.2 1.41-.59l7.78-7.78 2.81-2.81c.8-.78.8-2.07 0-2.86zM5.41 20L4 18.59l7.72-7.72 1.47 1.35L5.41 20z\"/>\n",
              "  </svg>\n",
              "      </button>\n",
              "      \n",
              "  <style>\n",
              "    .colab-df-container {\n",
              "      display:flex;\n",
              "      flex-wrap:wrap;\n",
              "      gap: 12px;\n",
              "    }\n",
              "\n",
              "    .colab-df-convert {\n",
              "      background-color: #E8F0FE;\n",
              "      border: none;\n",
              "      border-radius: 50%;\n",
              "      cursor: pointer;\n",
              "      display: none;\n",
              "      fill: #1967D2;\n",
              "      height: 32px;\n",
              "      padding: 0 0 0 0;\n",
              "      width: 32px;\n",
              "    }\n",
              "\n",
              "    .colab-df-convert:hover {\n",
              "      background-color: #E2EBFA;\n",
              "      box-shadow: 0px 1px 2px rgba(60, 64, 67, 0.3), 0px 1px 3px 1px rgba(60, 64, 67, 0.15);\n",
              "      fill: #174EA6;\n",
              "    }\n",
              "\n",
              "    [theme=dark] .colab-df-convert {\n",
              "      background-color: #3B4455;\n",
              "      fill: #D2E3FC;\n",
              "    }\n",
              "\n",
              "    [theme=dark] .colab-df-convert:hover {\n",
              "      background-color: #434B5C;\n",
              "      box-shadow: 0px 1px 3px 1px rgba(0, 0, 0, 0.15);\n",
              "      filter: drop-shadow(0px 1px 2px rgba(0, 0, 0, 0.3));\n",
              "      fill: #FFFFFF;\n",
              "    }\n",
              "  </style>\n",
              "\n",
              "      <script>\n",
              "        const buttonEl =\n",
              "          document.querySelector('#df-4d574de2-9532-4b3f-9835-72f46d6b483e button.colab-df-convert');\n",
              "        buttonEl.style.display =\n",
              "          google.colab.kernel.accessAllowed ? 'block' : 'none';\n",
              "\n",
              "        async function convertToInteractive(key) {\n",
              "          const element = document.querySelector('#df-4d574de2-9532-4b3f-9835-72f46d6b483e');\n",
              "          const dataTable =\n",
              "            await google.colab.kernel.invokeFunction('convertToInteractive',\n",
              "                                                     [key], {});\n",
              "          if (!dataTable) return;\n",
              "\n",
              "          const docLinkHtml = 'Like what you see? Visit the ' +\n",
              "            '<a target=\"_blank\" href=https://colab.research.google.com/notebooks/data_table.ipynb>data table notebook</a>'\n",
              "            + ' to learn more about interactive tables.';\n",
              "          element.innerHTML = '';\n",
              "          dataTable['output_type'] = 'display_data';\n",
              "          await google.colab.output.renderOutput(dataTable, element);\n",
              "          const docLink = document.createElement('div');\n",
              "          docLink.innerHTML = docLinkHtml;\n",
              "          element.appendChild(docLink);\n",
              "        }\n",
              "      </script>\n",
              "    </div>\n",
              "  </div>\n",
              "  "
            ]
          },
          "metadata": {},
          "execution_count": 71
        }
      ]
    },
    {
      "cell_type": "code",
      "source": [
        "# anova_lm 명령에서는 typ 인수를 2로 지정하면 하나 하나의 변수를 뺀 축소 모형에서의 F 검정값을 한꺼번에 계산\n",
        "model_boston = sm.OLS.from_formula(\n",
        "    \"MEDV ~ CRIM + ZN + INDUS + NOX + RM + AGE + DIS + RAD + TAX + PTRATIO + B + LSTAT + CHAS\", data=df_boston)\n",
        "result_boston = model_boston.fit()\n",
        "sm.stats.anova_lm(result_boston, typ=2)"
      ],
      "metadata": {
        "colab": {
          "base_uri": "https://localhost:8080/",
          "height": 488
        },
        "id": "QBP5B-mHE1NQ",
        "outputId": "2baf83dc-9721-46b8-d748-52b0012c22e7"
      },
      "execution_count": 72,
      "outputs": [
        {
          "output_type": "execute_result",
          "data": {
            "text/plain": [
              "                sum_sq     df           F        PR(>F)\n",
              "CRIM        243.219699    1.0   10.801193  1.086810e-03\n",
              "ZN          257.492979    1.0   11.435058  7.781097e-04\n",
              "INDUS         2.516668    1.0    0.111763  7.382881e-01\n",
              "NOX         487.155674    1.0   21.634196  4.245644e-06\n",
              "RM         1871.324082    1.0   83.104012  1.979441e-18\n",
              "AGE           0.061834    1.0    0.002746  9.582293e-01\n",
              "DIS        1232.412493    1.0   54.730457  6.013491e-13\n",
              "RAD         479.153926    1.0   21.278844  5.070529e-06\n",
              "TAX         242.257440    1.0   10.758460  1.111637e-03\n",
              "PTRATIO    1194.233533    1.0   53.034960  1.308835e-12\n",
              "B           270.634230    1.0   12.018651  5.728592e-04\n",
              "LSTAT      2410.838689    1.0  107.063426  7.776912e-23\n",
              "CHAS        218.970357    1.0    9.724299  1.925030e-03\n",
              "Residual  11078.784578  492.0         NaN           NaN"
            ],
            "text/html": [
              "\n",
              "  <div id=\"df-0b14912a-ff58-4140-b981-0a5bc5263d54\">\n",
              "    <div class=\"colab-df-container\">\n",
              "      <div>\n",
              "<style scoped>\n",
              "    .dataframe tbody tr th:only-of-type {\n",
              "        vertical-align: middle;\n",
              "    }\n",
              "\n",
              "    .dataframe tbody tr th {\n",
              "        vertical-align: top;\n",
              "    }\n",
              "\n",
              "    .dataframe thead th {\n",
              "        text-align: right;\n",
              "    }\n",
              "</style>\n",
              "<table border=\"1\" class=\"dataframe\">\n",
              "  <thead>\n",
              "    <tr style=\"text-align: right;\">\n",
              "      <th></th>\n",
              "      <th>sum_sq</th>\n",
              "      <th>df</th>\n",
              "      <th>F</th>\n",
              "      <th>PR(&gt;F)</th>\n",
              "    </tr>\n",
              "  </thead>\n",
              "  <tbody>\n",
              "    <tr>\n",
              "      <th>CRIM</th>\n",
              "      <td>243.219699</td>\n",
              "      <td>1.0</td>\n",
              "      <td>10.801193</td>\n",
              "      <td>1.086810e-03</td>\n",
              "    </tr>\n",
              "    <tr>\n",
              "      <th>ZN</th>\n",
              "      <td>257.492979</td>\n",
              "      <td>1.0</td>\n",
              "      <td>11.435058</td>\n",
              "      <td>7.781097e-04</td>\n",
              "    </tr>\n",
              "    <tr>\n",
              "      <th>INDUS</th>\n",
              "      <td>2.516668</td>\n",
              "      <td>1.0</td>\n",
              "      <td>0.111763</td>\n",
              "      <td>7.382881e-01</td>\n",
              "    </tr>\n",
              "    <tr>\n",
              "      <th>NOX</th>\n",
              "      <td>487.155674</td>\n",
              "      <td>1.0</td>\n",
              "      <td>21.634196</td>\n",
              "      <td>4.245644e-06</td>\n",
              "    </tr>\n",
              "    <tr>\n",
              "      <th>RM</th>\n",
              "      <td>1871.324082</td>\n",
              "      <td>1.0</td>\n",
              "      <td>83.104012</td>\n",
              "      <td>1.979441e-18</td>\n",
              "    </tr>\n",
              "    <tr>\n",
              "      <th>AGE</th>\n",
              "      <td>0.061834</td>\n",
              "      <td>1.0</td>\n",
              "      <td>0.002746</td>\n",
              "      <td>9.582293e-01</td>\n",
              "    </tr>\n",
              "    <tr>\n",
              "      <th>DIS</th>\n",
              "      <td>1232.412493</td>\n",
              "      <td>1.0</td>\n",
              "      <td>54.730457</td>\n",
              "      <td>6.013491e-13</td>\n",
              "    </tr>\n",
              "    <tr>\n",
              "      <th>RAD</th>\n",
              "      <td>479.153926</td>\n",
              "      <td>1.0</td>\n",
              "      <td>21.278844</td>\n",
              "      <td>5.070529e-06</td>\n",
              "    </tr>\n",
              "    <tr>\n",
              "      <th>TAX</th>\n",
              "      <td>242.257440</td>\n",
              "      <td>1.0</td>\n",
              "      <td>10.758460</td>\n",
              "      <td>1.111637e-03</td>\n",
              "    </tr>\n",
              "    <tr>\n",
              "      <th>PTRATIO</th>\n",
              "      <td>1194.233533</td>\n",
              "      <td>1.0</td>\n",
              "      <td>53.034960</td>\n",
              "      <td>1.308835e-12</td>\n",
              "    </tr>\n",
              "    <tr>\n",
              "      <th>B</th>\n",
              "      <td>270.634230</td>\n",
              "      <td>1.0</td>\n",
              "      <td>12.018651</td>\n",
              "      <td>5.728592e-04</td>\n",
              "    </tr>\n",
              "    <tr>\n",
              "      <th>LSTAT</th>\n",
              "      <td>2410.838689</td>\n",
              "      <td>1.0</td>\n",
              "      <td>107.063426</td>\n",
              "      <td>7.776912e-23</td>\n",
              "    </tr>\n",
              "    <tr>\n",
              "      <th>CHAS</th>\n",
              "      <td>218.970357</td>\n",
              "      <td>1.0</td>\n",
              "      <td>9.724299</td>\n",
              "      <td>1.925030e-03</td>\n",
              "    </tr>\n",
              "    <tr>\n",
              "      <th>Residual</th>\n",
              "      <td>11078.784578</td>\n",
              "      <td>492.0</td>\n",
              "      <td>NaN</td>\n",
              "      <td>NaN</td>\n",
              "    </tr>\n",
              "  </tbody>\n",
              "</table>\n",
              "</div>\n",
              "      <button class=\"colab-df-convert\" onclick=\"convertToInteractive('df-0b14912a-ff58-4140-b981-0a5bc5263d54')\"\n",
              "              title=\"Convert this dataframe to an interactive table.\"\n",
              "              style=\"display:none;\">\n",
              "        \n",
              "  <svg xmlns=\"http://www.w3.org/2000/svg\" height=\"24px\"viewBox=\"0 0 24 24\"\n",
              "       width=\"24px\">\n",
              "    <path d=\"M0 0h24v24H0V0z\" fill=\"none\"/>\n",
              "    <path d=\"M18.56 5.44l.94 2.06.94-2.06 2.06-.94-2.06-.94-.94-2.06-.94 2.06-2.06.94zm-11 1L8.5 8.5l.94-2.06 2.06-.94-2.06-.94L8.5 2.5l-.94 2.06-2.06.94zm10 10l.94 2.06.94-2.06 2.06-.94-2.06-.94-.94-2.06-.94 2.06-2.06.94z\"/><path d=\"M17.41 7.96l-1.37-1.37c-.4-.4-.92-.59-1.43-.59-.52 0-1.04.2-1.43.59L10.3 9.45l-7.72 7.72c-.78.78-.78 2.05 0 2.83L4 21.41c.39.39.9.59 1.41.59.51 0 1.02-.2 1.41-.59l7.78-7.78 2.81-2.81c.8-.78.8-2.07 0-2.86zM5.41 20L4 18.59l7.72-7.72 1.47 1.35L5.41 20z\"/>\n",
              "  </svg>\n",
              "      </button>\n",
              "      \n",
              "  <style>\n",
              "    .colab-df-container {\n",
              "      display:flex;\n",
              "      flex-wrap:wrap;\n",
              "      gap: 12px;\n",
              "    }\n",
              "\n",
              "    .colab-df-convert {\n",
              "      background-color: #E8F0FE;\n",
              "      border: none;\n",
              "      border-radius: 50%;\n",
              "      cursor: pointer;\n",
              "      display: none;\n",
              "      fill: #1967D2;\n",
              "      height: 32px;\n",
              "      padding: 0 0 0 0;\n",
              "      width: 32px;\n",
              "    }\n",
              "\n",
              "    .colab-df-convert:hover {\n",
              "      background-color: #E2EBFA;\n",
              "      box-shadow: 0px 1px 2px rgba(60, 64, 67, 0.3), 0px 1px 3px 1px rgba(60, 64, 67, 0.15);\n",
              "      fill: #174EA6;\n",
              "    }\n",
              "\n",
              "    [theme=dark] .colab-df-convert {\n",
              "      background-color: #3B4455;\n",
              "      fill: #D2E3FC;\n",
              "    }\n",
              "\n",
              "    [theme=dark] .colab-df-convert:hover {\n",
              "      background-color: #434B5C;\n",
              "      box-shadow: 0px 1px 3px 1px rgba(0, 0, 0, 0.15);\n",
              "      filter: drop-shadow(0px 1px 2px rgba(0, 0, 0, 0.3));\n",
              "      fill: #FFFFFF;\n",
              "    }\n",
              "  </style>\n",
              "\n",
              "      <script>\n",
              "        const buttonEl =\n",
              "          document.querySelector('#df-0b14912a-ff58-4140-b981-0a5bc5263d54 button.colab-df-convert');\n",
              "        buttonEl.style.display =\n",
              "          google.colab.kernel.accessAllowed ? 'block' : 'none';\n",
              "\n",
              "        async function convertToInteractive(key) {\n",
              "          const element = document.querySelector('#df-0b14912a-ff58-4140-b981-0a5bc5263d54');\n",
              "          const dataTable =\n",
              "            await google.colab.kernel.invokeFunction('convertToInteractive',\n",
              "                                                     [key], {});\n",
              "          if (!dataTable) return;\n",
              "\n",
              "          const docLinkHtml = 'Like what you see? Visit the ' +\n",
              "            '<a target=\"_blank\" href=https://colab.research.google.com/notebooks/data_table.ipynb>data table notebook</a>'\n",
              "            + ' to learn more about interactive tables.';\n",
              "          element.innerHTML = '';\n",
              "          dataTable['output_type'] = 'display_data';\n",
              "          await google.colab.output.renderOutput(dataTable, element);\n",
              "          const docLink = document.createElement('div');\n",
              "          docLink.innerHTML = docLinkHtml;\n",
              "          element.appendChild(docLink);\n",
              "        }\n",
              "      </script>\n",
              "    </div>\n",
              "  </div>\n",
              "  "
            ]
          },
          "metadata": {},
          "execution_count": 72
        }
      ]
    }
  ]
}