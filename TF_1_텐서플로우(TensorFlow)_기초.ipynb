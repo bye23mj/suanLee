{
  "nbformat": 4,
  "nbformat_minor": 0,
  "metadata": {
    "colab": {
      "name": "TF_1 텐서플로우(TensorFlow) 기초.ipynb",
      "provenance": [],
      "collapsed_sections": [],
      "toc_visible": true,
      "include_colab_link": true
    },
    "kernelspec": {
      "name": "python3",
      "display_name": "Python 3"
    },
    "accelerator": "GPU"
  },
  "cells": [
    {
      "cell_type": "markdown",
      "metadata": {
        "id": "view-in-github",
        "colab_type": "text"
      },
      "source": [
        "<a href=\"https://colab.research.google.com/github/bye23mj/suanLee/blob/main/TF_1_%ED%85%90%EC%84%9C%ED%94%8C%EB%A1%9C%EC%9A%B0(TensorFlow)_%EA%B8%B0%EC%B4%88.ipynb\" target=\"_parent\"><img src=\"https://colab.research.google.com/assets/colab-badge.svg\" alt=\"Open In Colab\"/></a>"
      ]
    },
    {
      "cell_type": "markdown",
      "metadata": {
        "id": "mpf4TRENWJMZ"
      },
      "source": [
        "# 텐서플로우 (Tensorflow)\n",
        "\n",
        "<img src=\"https://upload.wikimedia.org/wikipedia/commons/thumb/1/11/TensorFlowLogo.svg/1200px-TensorFlowLogo.svg.png\" width=\"300\">\n",
        "\n",
        "- 가장 널리 쓰이는 딥러닝 프레임워크 중 하나\n",
        "\n",
        "- 구글이 주도적으로 개발하는 플랫폼\n",
        "\n",
        "- 파이썬, C++ API를 기본적으로 제공하고,  \n",
        "  자바스크립트(JavaScript), 자바(Java), 고(Go), 스위프트(Swift) 등 다양한 프로그래밍 언어를 지원\n",
        "\n",
        "- tf.keras를 중심으로 고수준 API 통합 (2.x 버전)\n",
        "\n",
        "- TPU(Tensor Processing Unit) 지원\n",
        "  - TPU는 GPU보다 전력을 적게 소모, 경제적\n",
        "  \n",
        "  - 일반적으로 32비트(float32)로 수행되는 곱셈 연산을 16비트(float16)로 낮춤"
      ]
    },
    {
      "cell_type": "markdown",
      "metadata": {
        "id": "a9-NEf2BWd4M"
      },
      "source": [
        "## 텐서플로우 아키텍쳐\n",
        "\n",
        "<img src=\"https://developers.google.com/machine-learning/crash-course/images/TFHierarchy.svg\">\n",
        "\n",
        "<sub>출처: https://developers.google.com/machine-learning/crash-course/first-steps-with-tensorflow/toolkit</sub>"
      ]
    },
    {
      "cell_type": "markdown",
      "metadata": {
        "id": "c_ktVhFhYUiE"
      },
      "source": [
        "## 텐서플로우 시작하기"
      ]
    },
    {
      "cell_type": "code",
      "metadata": {
        "id": "SP9HL3ZvV0zR"
      },
      "source": [
        "import numpy as np\n",
        "import tensorflow as tf"
      ],
      "execution_count": 1,
      "outputs": []
    },
    {
      "cell_type": "code",
      "metadata": {
        "id": "KvPQ0N4_YhDt",
        "colab": {
          "base_uri": "https://localhost:8080/"
        },
        "outputId": "9ececa8f-3abe-441a-a459-70adfaa3bcbf"
      },
      "source": [
        "print(tf.__version__)"
      ],
      "execution_count": 2,
      "outputs": [
        {
          "output_type": "stream",
          "name": "stdout",
          "text": [
            "2.8.2\n"
          ]
        }
      ]
    },
    {
      "cell_type": "markdown",
      "metadata": {
        "id": "d-9usyAXY7Gw"
      },
      "source": [
        "### 텐서(Tensor)의 객체\n",
        "- 타입(Type): `string`, `float32`, `float16`, `int32`, `int8` 등\n",
        "\n",
        "- 형상(Shape): 0, 1, 2차원 등의 데이터 차원 \n",
        "\n",
        "- 축(Rank): 차원의 개수"
      ]
    },
    {
      "cell_type": "markdown",
      "metadata": {
        "id": "dZeigiNEZODl"
      },
      "source": [
        "### 텐서의 차원과 연산"
      ]
    },
    {
      "cell_type": "code",
      "metadata": {
        "id": "GMVq68gUYksh",
        "colab": {
          "base_uri": "https://localhost:8080/"
        },
        "outputId": "c0a1411b-3724-40e4-b5b4-8dd6b1008c74"
      },
      "source": [
        "#tf.rank:차원수\n",
        "a = tf.constant(2)\n",
        "print(tf.rank(a))\n",
        "print(a)"
      ],
      "execution_count": 3,
      "outputs": [
        {
          "output_type": "stream",
          "name": "stdout",
          "text": [
            "tf.Tensor(0, shape=(), dtype=int32)\n",
            "tf.Tensor(2, shape=(), dtype=int32)\n"
          ]
        }
      ]
    },
    {
      "cell_type": "code",
      "metadata": {
        "id": "MgOKILDqZZKP",
        "colab": {
          "base_uri": "https://localhost:8080/"
        },
        "outputId": "164d5bbe-8c2c-4757-941e-813428cfd7b8"
      },
      "source": [
        "b = tf.constant([2,3])\n",
        "print(tf.rank(b))\n",
        "print(b)"
      ],
      "execution_count": 4,
      "outputs": [
        {
          "output_type": "stream",
          "name": "stdout",
          "text": [
            "tf.Tensor(1, shape=(), dtype=int32)\n",
            "tf.Tensor([2 3], shape=(2,), dtype=int32)\n"
          ]
        }
      ]
    },
    {
      "cell_type": "code",
      "metadata": {
        "id": "k74H8ImTZbWi",
        "colab": {
          "base_uri": "https://localhost:8080/"
        },
        "outputId": "7d7178b7-f3d1-4e2e-9d51-7c7098316143"
      },
      "source": [
        "c = tf.constant([[2,3],[6,7]])\n",
        "print(tf.rank(c))\n",
        "print(c)"
      ],
      "execution_count": 5,
      "outputs": [
        {
          "output_type": "stream",
          "name": "stdout",
          "text": [
            "tf.Tensor(2, shape=(), dtype=int32)\n",
            "tf.Tensor(\n",
            "[[2 3]\n",
            " [6 7]], shape=(2, 2), dtype=int32)\n"
          ]
        }
      ]
    },
    {
      "cell_type": "code",
      "metadata": {
        "id": "WmCCc587wkTy",
        "colab": {
          "base_uri": "https://localhost:8080/"
        },
        "outputId": "473b783f-cf8a-4327-8417-be5fa6745cb3"
      },
      "source": [
        "d = tf.constant(['Hello'])\n",
        "print(tf.rank(d))\n",
        "print(d)"
      ],
      "execution_count": 6,
      "outputs": [
        {
          "output_type": "stream",
          "name": "stdout",
          "text": [
            "tf.Tensor(1, shape=(), dtype=int32)\n",
            "tf.Tensor([b'Hello'], shape=(1,), dtype=string)\n"
          ]
        }
      ]
    },
    {
      "cell_type": "markdown",
      "metadata": {
        "id": "z3mgwo7FZ_0S"
      },
      "source": [
        "### 난수 생성"
      ]
    },
    {
      "cell_type": "code",
      "metadata": {
        "id": "eaT2dUJlZ2Cd",
        "colab": {
          "base_uri": "https://localhost:8080/"
        },
        "outputId": "345a9ad4-1d56-4e48-9876-d20d2b0c09f3"
      },
      "source": [
        "rand = tf.random.uniform([1], 0, 1)\n",
        "print(rand.shape)\n",
        "print(rand)"
      ],
      "execution_count": 7,
      "outputs": [
        {
          "output_type": "stream",
          "name": "stdout",
          "text": [
            "(1,)\n",
            "tf.Tensor([0.6732396], shape=(1,), dtype=float32)\n"
          ]
        }
      ]
    },
    {
      "cell_type": "code",
      "metadata": {
        "id": "KfgimJg9aFgB",
        "colab": {
          "base_uri": "https://localhost:8080/"
        },
        "outputId": "93f8a6d0-c484-48a5-f96a-db97a1315f40"
      },
      "source": [
        "rand2 = tf.random.normal([1,2], 0, 2)\n",
        "print(rand2.shape)\n",
        "print(rand2)"
      ],
      "execution_count": 8,
      "outputs": [
        {
          "output_type": "stream",
          "name": "stdout",
          "text": [
            "(1, 2)\n",
            "tf.Tensor([[-0.7033373 -2.572624 ]], shape=(1, 2), dtype=float32)\n"
          ]
        }
      ]
    },
    {
      "cell_type": "code",
      "metadata": {
        "id": "R_xdzhG5aPxB",
        "colab": {
          "base_uri": "https://localhost:8080/"
        },
        "outputId": "b69fd1db-ea78-46aa-8112-1438c70a8315"
      },
      "source": [
        "rand3 = tf.random.normal(shape=(3,2), mean=0, stddev=1)\n",
        "print(rand3.shape)\n",
        "print(rand3)"
      ],
      "execution_count": 9,
      "outputs": [
        {
          "output_type": "stream",
          "name": "stdout",
          "text": [
            "(3, 2)\n",
            "tf.Tensor(\n",
            "[[-1.2894223   0.18024123]\n",
            " [-0.705952    0.16878687]\n",
            " [-0.2719387  -2.3405015 ]], shape=(3, 2), dtype=float32)\n"
          ]
        }
      ]
    },
    {
      "cell_type": "markdown",
      "metadata": {
        "id": "Za7HlqVba5wD"
      },
      "source": [
        "### 즉시 실행 모드 (Eager Mode) 지원\n",
        "- 즉시 실행모드를 통해 텐서플로우를 파이썬처럼 사용할 수 있음\n",
        "\n",
        "- 1.x 버전에서는 '그래프'를 생성하고, 초기화 한 뒤에 세션을 통해 **값을 흐르게 하는 작업**을 진행해야함\n"
      ]
    },
    {
      "cell_type": "code",
      "metadata": {
        "id": "fVBqOSFrbQ1e"
      },
      "source": [
        "a = tf.constant(3)\n",
        "b = tf.constant(2)"
      ],
      "execution_count": 10,
      "outputs": []
    },
    {
      "cell_type": "code",
      "metadata": {
        "id": "1btItwSEbdEO",
        "colab": {
          "base_uri": "https://localhost:8080/"
        },
        "outputId": "a847f7b0-3479-4b56-f016-e2f227ace335"
      },
      "source": [
        "print(tf.add(a,b))\n",
        "print(a + b)"
      ],
      "execution_count": 11,
      "outputs": [
        {
          "output_type": "stream",
          "name": "stdout",
          "text": [
            "tf.Tensor(5, shape=(), dtype=int32)\n",
            "tf.Tensor(5, shape=(), dtype=int32)\n"
          ]
        }
      ]
    },
    {
      "cell_type": "code",
      "metadata": {
        "id": "SaOXtxLpbfDC",
        "colab": {
          "base_uri": "https://localhost:8080/"
        },
        "outputId": "5706f66a-2044-4928-88c8-3903a976a574"
      },
      "source": [
        "print(tf.subtract(a, b))\n",
        "print(a-b)"
      ],
      "execution_count": 12,
      "outputs": [
        {
          "output_type": "stream",
          "name": "stdout",
          "text": [
            "tf.Tensor(1, shape=(), dtype=int32)\n",
            "tf.Tensor(1, shape=(), dtype=int32)\n"
          ]
        }
      ]
    },
    {
      "cell_type": "code",
      "metadata": {
        "id": "UCApXIDNbtLF",
        "colab": {
          "base_uri": "https://localhost:8080/"
        },
        "outputId": "6446c650-4a22-4683-d12c-aa00f9409f9e"
      },
      "source": [
        "print(tf.multiply(a,b))\n",
        "print(a * b)"
      ],
      "execution_count": 13,
      "outputs": [
        {
          "output_type": "stream",
          "name": "stdout",
          "text": [
            "tf.Tensor(6, shape=(), dtype=int32)\n",
            "tf.Tensor(6, shape=(), dtype=int32)\n"
          ]
        }
      ]
    },
    {
      "cell_type": "markdown",
      "metadata": {
        "id": "XyLkPW4Db67W"
      },
      "source": [
        "### 텐서 플로우 ↔ 넘파이\n",
        "- `numpy()`\n",
        "- `tf.convet_to_tensor()`"
      ]
    },
    {
      "cell_type": "code",
      "metadata": {
        "id": "c9AWzdJRb4Ez",
        "colab": {
          "base_uri": "https://localhost:8080/"
        },
        "outputId": "7efb2622-00ed-4bb8-8895-d3dc3dc806bb"
      },
      "source": [
        "c = tf.add(a,b).numpy()\n",
        "print(type(c))"
      ],
      "execution_count": 14,
      "outputs": [
        {
          "output_type": "stream",
          "name": "stdout",
          "text": [
            "<class 'numpy.int32'>\n"
          ]
        }
      ]
    },
    {
      "cell_type": "code",
      "metadata": {
        "id": "ql4O755kcfnk",
        "colab": {
          "base_uri": "https://localhost:8080/"
        },
        "outputId": "54477c2a-fc00-4e27-da32-f5d2f3afae28"
      },
      "source": [
        "c_squer = np.square(c, dtype=np.float32)\n",
        "c_tensor = tf.convert_to_tensor(c_squer)\n",
        "\n",
        "print(c_squer)\n",
        "print(c_tensor)\n",
        "print(type(c_tensor))"
      ],
      "execution_count": 15,
      "outputs": [
        {
          "output_type": "stream",
          "name": "stdout",
          "text": [
            "25.0\n",
            "tf.Tensor(25.0, shape=(), dtype=float32)\n",
            "<class 'tensorflow.python.framework.ops.EagerTensor'>\n"
          ]
        }
      ]
    },
    {
      "cell_type": "markdown",
      "metadata": {
        "id": "LmWKhcWVk00O"
      },
      "source": [
        "### 넘파이처럼 사용하기\n"
      ]
    },
    {
      "cell_type": "code",
      "metadata": {
        "id": "0on9RGRllNnX",
        "colab": {
          "base_uri": "https://localhost:8080/"
        },
        "outputId": "de55bc82-829d-4fe3-df92-b92e1024df89"
      },
      "source": [
        "t = tf.constant([[1.,2.,3.], [4., 5., 6.]])\n",
        "\n",
        "print(t.shape)\n",
        "print(t.dtype)"
      ],
      "execution_count": 16,
      "outputs": [
        {
          "output_type": "stream",
          "name": "stdout",
          "text": [
            "(2, 3)\n",
            "<dtype: 'float32'>\n"
          ]
        }
      ]
    },
    {
      "cell_type": "code",
      "metadata": {
        "id": "lhlyV7oklUIh",
        "colab": {
          "base_uri": "https://localhost:8080/"
        },
        "outputId": "366bda59-d0ef-4a65-bb90-0c1e937c0a9f"
      },
      "source": [
        "print(t[:, 1:])"
      ],
      "execution_count": 17,
      "outputs": [
        {
          "output_type": "stream",
          "name": "stdout",
          "text": [
            "tf.Tensor(\n",
            "[[2. 3.]\n",
            " [5. 6.]], shape=(2, 2), dtype=float32)\n"
          ]
        }
      ]
    },
    {
      "cell_type": "code",
      "metadata": {
        "id": "glWL8MITlo7H",
        "colab": {
          "base_uri": "https://localhost:8080/"
        },
        "outputId": "820733ac-f86e-44c6-cb97-c0297f0085fe"
      },
      "source": [
        "t[..., 1, tf.newaxis]"
      ],
      "execution_count": 18,
      "outputs": [
        {
          "output_type": "execute_result",
          "data": {
            "text/plain": [
              "<tf.Tensor: shape=(2, 1), dtype=float32, numpy=\n",
              "array([[2.],\n",
              "       [5.]], dtype=float32)>"
            ]
          },
          "metadata": {},
          "execution_count": 18
        }
      ]
    },
    {
      "cell_type": "code",
      "metadata": {
        "id": "RtzQuhwnmRdu",
        "colab": {
          "base_uri": "https://localhost:8080/"
        },
        "outputId": "8b815ac7-0277-4298-a99a-c7cd706344d2"
      },
      "source": [
        "t + 10"
      ],
      "execution_count": 19,
      "outputs": [
        {
          "output_type": "execute_result",
          "data": {
            "text/plain": [
              "<tf.Tensor: shape=(2, 3), dtype=float32, numpy=\n",
              "array([[11., 12., 13.],\n",
              "       [14., 15., 16.]], dtype=float32)>"
            ]
          },
          "metadata": {},
          "execution_count": 19
        }
      ]
    },
    {
      "cell_type": "code",
      "metadata": {
        "id": "Z5wQhZ0xmRi6",
        "colab": {
          "base_uri": "https://localhost:8080/"
        },
        "outputId": "b6db5362-966d-4af0-f718-e209d9985ef3"
      },
      "source": [
        "tf.square(t)"
      ],
      "execution_count": 20,
      "outputs": [
        {
          "output_type": "execute_result",
          "data": {
            "text/plain": [
              "<tf.Tensor: shape=(2, 3), dtype=float32, numpy=\n",
              "array([[ 1.,  4.,  9.],\n",
              "       [16., 25., 36.]], dtype=float32)>"
            ]
          },
          "metadata": {},
          "execution_count": 20
        }
      ]
    },
    {
      "cell_type": "code",
      "metadata": {
        "id": "Fj9RmYc6mRVh",
        "colab": {
          "base_uri": "https://localhost:8080/"
        },
        "outputId": "330afea7-90a2-4f21-982c-b41c37fccd4d"
      },
      "source": [
        "t @ tf.transpose(t)"
      ],
      "execution_count": 21,
      "outputs": [
        {
          "output_type": "execute_result",
          "data": {
            "text/plain": [
              "<tf.Tensor: shape=(2, 2), dtype=float32, numpy=\n",
              "array([[14., 32.],\n",
              "       [32., 77.]], dtype=float32)>"
            ]
          },
          "metadata": {},
          "execution_count": 21
        }
      ]
    },
    {
      "cell_type": "markdown",
      "metadata": {
        "id": "8y5wUIfpuhzL"
      },
      "source": [
        "### 타입 변환\n",
        "- 텐서의 기본 dtype\n",
        "  - float형 텐서: `float32`\n",
        "  - int형 텐서: `int32`\n",
        "\n",
        "- 연산시 텐서의 타입을 맞춰줘야 함\n",
        "  - `float32` ~ `float32`\n",
        "  - `int32` ~ `int32`\n",
        "  - `flot32` ~ `int32` (x)\n",
        "\n",
        "- 타입변환에는 `tf.cast()` 사용"
      ]
    },
    {
      "cell_type": "code",
      "metadata": {
        "id": "RMwFpHCAvEFG",
        "colab": {
          "base_uri": "https://localhost:8080/"
        },
        "outputId": "a0d3640c-f65b-4a6a-f58c-77490191b272"
      },
      "source": [
        "a = tf.constant(2)\n",
        "print(a)\n",
        "\n",
        "b = tf.constant(2.)\n",
        "print(b)"
      ],
      "execution_count": 22,
      "outputs": [
        {
          "output_type": "stream",
          "name": "stdout",
          "text": [
            "tf.Tensor(2, shape=(), dtype=int32)\n",
            "tf.Tensor(2.0, shape=(), dtype=float32)\n"
          ]
        }
      ]
    },
    {
      "cell_type": "code",
      "metadata": {
        "id": "rVb9KZSKui_c"
      },
      "source": [
        "#tf.constant(2.) + tf.constanst(40)\n",
        "#error"
      ],
      "execution_count": 23,
      "outputs": []
    },
    {
      "cell_type": "code",
      "metadata": {
        "id": "-Lz79b8Fumsy"
      },
      "source": [
        "#tf.constant(2.) + tf.constant(30., dtype=tf.floadt64)\n",
        "#error"
      ],
      "execution_count": 24,
      "outputs": []
    },
    {
      "cell_type": "code",
      "metadata": {
        "id": "qH2HEmwIvbUx",
        "colab": {
          "base_uri": "https://localhost:8080/"
        },
        "outputId": "93813ac4-e7ec-4080-f902-f3f21c222b49"
      },
      "source": [
        "t = tf.constant(30., dtype=tf.float64)\n",
        "t2 = tf.constant(4.)\n",
        "print(t2 + tf.cast(t, tf.float32))"
      ],
      "execution_count": 25,
      "outputs": [
        {
          "output_type": "stream",
          "name": "stdout",
          "text": [
            "tf.Tensor(34.0, shape=(), dtype=float32)\n"
          ]
        }
      ]
    },
    {
      "cell_type": "markdown",
      "metadata": {
        "id": "E3IX5JwVZePH"
      },
      "source": [
        "### AutoGraph (오토그래프)\n",
        "\n",
        "- Tensorflow가 작업을 좀 더 빠르게 동작하게 하기 위한 방법으로 Graph로 만들어 연산을 진행\n",
        "\n",
        "- `tf.Graph`\n",
        "\n",
        "- 유연성이 있음\n",
        "\n",
        "  - 모바일 애플리케이션, 임베디드 기기, 백엔드 서버와 같이 Python 인터프리터가 없는 환경에서 Tensorflow 사용 가능 "
      ]
    },
    {
      "cell_type": "code",
      "metadata": {
        "id": "78VD-XWRaea5"
      },
      "source": [
        "import timeit"
      ],
      "execution_count": 26,
      "outputs": []
    },
    {
      "cell_type": "markdown",
      "metadata": {
        "id": "YxNt6nejc8Ei"
      },
      "source": [
        "### @tf.function\n",
        "- 자동으로 그래프를 생성(Auto Graph)\n",
        "\n",
        "- 그래프로 변환하여 사용 -> GPU 연산 가능\n",
        "\n",
        "- 파이썬으로 구성된 함수를 텐서플로우의 그래프 형태로 다루고 싶을 때 사용가능\n",
        "\n",
        "\n",
        "- 원본 함수가 필요하다면 `(tf.function).python_function()`"
      ]
    },
    {
      "cell_type": "code",
      "metadata": {
        "id": "gq5NFuLjcukw",
        "colab": {
          "base_uri": "https://localhost:8080/"
        },
        "outputId": "7c7b1b0c-c426-4a81-df40-9db01d953095"
      },
      "source": [
        "@tf.function\n",
        "def my_function(x):\n",
        "  return x**2 - 10*x + 3\n",
        "\n",
        "print(my_function(2))\n",
        "print(my_function(tf.constant(2)))"
      ],
      "execution_count": 27,
      "outputs": [
        {
          "output_type": "stream",
          "name": "stdout",
          "text": [
            "tf.Tensor(-13, shape=(), dtype=int32)\n",
            "tf.Tensor(-13, shape=(), dtype=int32)\n"
          ]
        }
      ]
    },
    {
      "cell_type": "code",
      "metadata": {
        "id": "hR3RAAIQd8J7",
        "colab": {
          "base_uri": "https://localhost:8080/"
        },
        "outputId": "278690f0-d538-43ef-cce0-23cf1bff197a"
      },
      "source": [
        "def my_function_(x):\n",
        "  return x**2 - 10*x + 3\n",
        "\n",
        "print(my_function(2))\n",
        "print(my_function(tf.constant(2)))"
      ],
      "execution_count": 28,
      "outputs": [
        {
          "output_type": "stream",
          "name": "stdout",
          "text": [
            "tf.Tensor(-13, shape=(), dtype=int32)\n",
            "tf.Tensor(-13, shape=(), dtype=int32)\n"
          ]
        }
      ]
    },
    {
      "cell_type": "code",
      "metadata": {
        "id": "bsy3eabmy8X8",
        "colab": {
          "base_uri": "https://localhost:8080/"
        },
        "outputId": "23f4cd88-d407-41f5-fc22-555d0f16ec12"
      },
      "source": [
        "tf_my_func = tf.function(my_function_)\n",
        "\n",
        "print(tf_my_func)\n",
        "print(tf_my_func(2))"
      ],
      "execution_count": 29,
      "outputs": [
        {
          "output_type": "stream",
          "name": "stdout",
          "text": [
            "<tensorflow.python.eager.def_function.Function object at 0x7f915c6f2e50>\n",
            "tf.Tensor(-13, shape=(), dtype=int32)\n"
          ]
        }
      ]
    },
    {
      "cell_type": "code",
      "metadata": {
        "id": "TgwwgQvjzKqn",
        "colab": {
          "base_uri": "https://localhost:8080/"
        },
        "outputId": "8366680b-61d2-45e9-97cd-35798c0ded7a"
      },
      "source": [
        "tf_my_func.python_function(2)"
      ],
      "execution_count": 30,
      "outputs": [
        {
          "output_type": "execute_result",
          "data": {
            "text/plain": [
              "-13"
            ]
          },
          "metadata": {},
          "execution_count": 30
        }
      ]
    },
    {
      "cell_type": "code",
      "metadata": {
        "id": "1pkBOpWhaehO",
        "colab": {
          "base_uri": "https://localhost:8080/"
        },
        "outputId": "cca1eda1-a65b-4757-8872-3690f5c74ab7"
      },
      "source": [
        "def function_to_get_faster(x,y,b):\n",
        "  x = tf.matmul(x, y)\n",
        "  x = x + b \n",
        "  return x\n",
        "\n",
        "a_function_that_uses_a_graph = tf.function(function_to_get_faster)\n",
        "\n",
        "x1 = tf.constant([[1.0, 2.0]])\n",
        "y1 = tf.constant([[2.0], [3.0]])\n",
        "b1 = tf.constant(4.0)\n",
        "\n",
        "print(function_to_get_faster(x1, y1, b1))\n",
        "print(a_function_that_uses_a_graph(x1, y1, b1).numpy())"
      ],
      "execution_count": 31,
      "outputs": [
        {
          "output_type": "stream",
          "name": "stdout",
          "text": [
            "tf.Tensor([[12.]], shape=(1, 1), dtype=float32)\n",
            "[[12.]]\n"
          ]
        }
      ]
    },
    {
      "cell_type": "code",
      "metadata": {
        "id": "rcLAgLKfaepn",
        "colab": {
          "base_uri": "https://localhost:8080/"
        },
        "outputId": "305afae7-0264-48b2-9f61-18cf65f381b0"
      },
      "source": [
        "def inner_function(x,y,b):\n",
        "  x = tf.matmul(x, y)\n",
        "  x = x + b \n",
        "  return x\n",
        "\n",
        "@tf.function\n",
        "def outer_function(x):\n",
        "  y = tf.constant([[2.0],[3.0]])\n",
        "  b = tf.constant(4.0)\n",
        "  return inner_function(x, y, b)\n",
        "\n",
        "outer_function(tf.constant([[1.0,2.0]])).numpy()\n"
      ],
      "execution_count": 32,
      "outputs": [
        {
          "output_type": "execute_result",
          "data": {
            "text/plain": [
              "array([[12.]], dtype=float32)"
            ]
          },
          "metadata": {},
          "execution_count": 32
        }
      ]
    },
    {
      "cell_type": "markdown",
      "metadata": {
        "id": "mXLYEP4fbSYe"
      },
      "source": [
        "텐서플로우가 `tf.function`으로 변환한 코드"
      ]
    },
    {
      "cell_type": "code",
      "metadata": {
        "id": "i6cqueZuWN1g",
        "colab": {
          "base_uri": "https://localhost:8080/"
        },
        "outputId": "3eede289-0d46-49e1-a8ba-99ad8b14ae37"
      },
      "source": [
        "print(tf.autograph.to_code(my_function.python_function))\n",
        "print(tf.autograph.to_code(tf_my_func.python_function))\n",
        "print(tf.autograph.to_code(outer_function.python_function))"
      ],
      "execution_count": 33,
      "outputs": [
        {
          "output_type": "stream",
          "name": "stdout",
          "text": [
            "def tf__my_function(x):\n",
            "    with ag__.FunctionScope('my_function', 'fscope', ag__.ConversionOptions(recursive=True, user_requested=True, optional_features=(), internal_convert_user_code=True)) as fscope:\n",
            "        do_return = False\n",
            "        retval_ = ag__.UndefinedReturnValue()\n",
            "        try:\n",
            "            do_return = True\n",
            "            retval_ = (((ag__.ld(x) ** 2) - (10 * ag__.ld(x))) + 3)\n",
            "        except:\n",
            "            do_return = False\n",
            "            raise\n",
            "        return fscope.ret(retval_, do_return)\n",
            "\n",
            "def tf__my_function_(x):\n",
            "    with ag__.FunctionScope('my_function_', 'fscope', ag__.ConversionOptions(recursive=True, user_requested=True, optional_features=(), internal_convert_user_code=True)) as fscope:\n",
            "        do_return = False\n",
            "        retval_ = ag__.UndefinedReturnValue()\n",
            "        try:\n",
            "            do_return = True\n",
            "            retval_ = (((ag__.ld(x) ** 2) - (10 * ag__.ld(x))) + 3)\n",
            "        except:\n",
            "            do_return = False\n",
            "            raise\n",
            "        return fscope.ret(retval_, do_return)\n",
            "\n",
            "def tf__outer_function(x):\n",
            "    with ag__.FunctionScope('outer_function', 'fscope', ag__.ConversionOptions(recursive=True, user_requested=True, optional_features=(), internal_convert_user_code=True)) as fscope:\n",
            "        do_return = False\n",
            "        retval_ = ag__.UndefinedReturnValue()\n",
            "        y = ag__.converted_call(ag__.ld(tf).constant, ([[2.0], [3.0]],), None, fscope)\n",
            "        b = ag__.converted_call(ag__.ld(tf).constant, (4.0,), None, fscope)\n",
            "        try:\n",
            "            do_return = True\n",
            "            retval_ = ag__.converted_call(ag__.ld(inner_function), (ag__.ld(x), ag__.ld(y), ag__.ld(b)), None, fscope)\n",
            "        except:\n",
            "            do_return = False\n",
            "            raise\n",
            "        return fscope.ret(retval_, do_return)\n",
            "\n"
          ]
        }
      ]
    },
    {
      "cell_type": "markdown",
      "metadata": {
        "id": "hf2KCJu1bdg_"
      },
      "source": [
        "\n",
        " 속도 향상\n"
      ]
    },
    {
      "cell_type": "code",
      "metadata": {
        "id": "6GC4f2HvbfNT",
        "colab": {
          "base_uri": "https://localhost:8080/"
        },
        "outputId": "7a9c9064-3107-40fa-a572-174a026be8fc"
      },
      "source": [
        "class SequentialModel(tf.keras.Model):\n",
        "    def __init__(self, **kwargs):\n",
        "        super(SequentialModel, self).__init__(**kwargs)\n",
        "        self.flatten = tf.keras.layers.Flatten(input_shape=(28,28))\n",
        "        self.dense_1 = tf.keras.layers.Dense(128, activation='relu')\n",
        "        self.dropout = tf.keras.layers.Dropout(0.2)\n",
        "        self.dense_2 = tf.keras.layers.Dense(10)\n",
        "\n",
        "    def call(self, x):\n",
        "        x = self.flatten(x)\n",
        "        x = self.dense_1(x)\n",
        "        x = self.dropout(x)\n",
        "        x = self.dense_2(x)\n",
        "        return x\n",
        "\n",
        "input_data = tf.random.uniform([60, 28, 28])\n",
        "\n",
        "eager_model = SequentialModel()\n",
        "graph_model = tf.function(eager_model)\n",
        "\n",
        "print(\"Eager time:\", timeit.timeit(lambda: eager_model(input_data), number=10000))\n",
        "print(\"Graph time:\", timeit.timeit(lambda: graph_model(input_data), number=10000))"
      ],
      "execution_count": 34,
      "outputs": [
        {
          "output_type": "stream",
          "name": "stdout",
          "text": [
            "Eager time: 11.916610114999997\n",
            "Graph time: 5.648874956\n"
          ]
        }
      ]
    },
    {
      "cell_type": "markdown",
      "metadata": {
        "id": "EizHAodregRR"
      },
      "source": [
        "### 변수 생성\n",
        "\n",
        "- `tf.Variable`\n",
        "- 딥러닝 모델 학습 시, 그래프 연산이 필요할 때 사용"
      ]
    },
    {
      "cell_type": "code",
      "metadata": {
        "id": "PybmfPcAeH-S",
        "colab": {
          "base_uri": "https://localhost:8080/"
        },
        "outputId": "d9df6580-74da-44b5-ad48-0bbcbb3fb5e0"
      },
      "source": [
        "X = tf.Variable(20.0).numpy()\n",
        "print(X)"
      ],
      "execution_count": 35,
      "outputs": [
        {
          "output_type": "stream",
          "name": "stdout",
          "text": [
            "20.0\n"
          ]
        }
      ]
    },
    {
      "cell_type": "markdown",
      "metadata": {
        "id": "qY_oUvVneiHH"
      },
      "source": [
        "### Autograd (자동 미분)\n",
        "\n",
        "- `tf.GradientTape` API를 사용\n",
        "- `tf.Variable` 같은 일부 입력에 대한 기울기 계산\n",
        "  - 기본적으로 한번만 사용됨\n",
        "- 변수가 포함된 연산만 기록"
      ]
    },
    {
      "cell_type": "code",
      "metadata": {
        "id": "4_lrTYZfeiHO"
      },
      "source": [
        "x = tf.Variable(3.0)\n",
        "\n",
        "with tf.GradientTape() as tape:\n",
        "  y = x**2"
      ],
      "execution_count": 36,
      "outputs": []
    },
    {
      "cell_type": "code",
      "metadata": {
        "id": "1Tq7MMJTeiHQ",
        "colab": {
          "base_uri": "https://localhost:8080/"
        },
        "outputId": "d3a9cbe2-c4ec-4007-8422-ac50e196cffa"
      },
      "source": [
        "dy_dx = tape.gradient(y, x)\n",
        "dy_dx.numpy()"
      ],
      "execution_count": 37,
      "outputs": [
        {
          "output_type": "execute_result",
          "data": {
            "text/plain": [
              "6.0"
            ]
          },
          "metadata": {},
          "execution_count": 37
        }
      ]
    },
    {
      "cell_type": "code",
      "metadata": {
        "id": "y0wty7V3eiHT"
      },
      "source": [
        "#x2 = tf.Variable(4.0)\n",
        "#dy_dx = tape.gradient(y, x2)\n",
        "#dy_dx.numpy()"
      ],
      "execution_count": 38,
      "outputs": []
    },
    {
      "cell_type": "code",
      "metadata": {
        "id": "itJftqGlfWmy",
        "colab": {
          "base_uri": "https://localhost:8080/"
        },
        "outputId": "86cb5628-bfa1-46f2-e34f-e87fd77b3008"
      },
      "source": [
        "x = tf.Variable(2.0)\n",
        "x = tf.Variable(3.0)\n",
        "\n",
        "with tf.GradientTape() as tape:\n",
        "  y_sq = y**2\n",
        "  z = x**2 + tf.stop_gradient(y_sq)\n",
        "\n",
        "grad = tape.gradient(z, {'x':x, 'y':y})\n",
        "\n",
        "print('dz/dx', grad['x'])\n",
        "print('dz/dy', grad['y'])"
      ],
      "execution_count": 39,
      "outputs": [
        {
          "output_type": "stream",
          "name": "stdout",
          "text": [
            "dz/dx tf.Tensor(6.0, shape=(), dtype=float32)\n",
            "dz/dy None\n"
          ]
        }
      ]
    },
    {
      "cell_type": "code",
      "metadata": {
        "id": "Np-JoGSneiHW"
      },
      "source": [
        "weights = tf.Variable(tf.random.normal((3,2)), name='weights')\n",
        "biases = tf.Variable(tf.zeros(2, dtype=tf.float32), name='biases')\n",
        "x = [[1., 2., 3.]]\n",
        "\n",
        "with tf.GradientTape(persistent=True) as tape:\n",
        "  y = x @ weights + biases\n",
        "  loss = tf.reduce_mean(y**2)  "
      ],
      "execution_count": 40,
      "outputs": []
    },
    {
      "cell_type": "code",
      "metadata": {
        "id": "OMhB1rONeiHY"
      },
      "source": [
        "[dl_dw, dl_db] = tape.gradient(loss, [weights, biases])"
      ],
      "execution_count": 41,
      "outputs": []
    },
    {
      "cell_type": "code",
      "metadata": {
        "id": "7mS4UrqgeiHa",
        "colab": {
          "base_uri": "https://localhost:8080/"
        },
        "outputId": "49269763-6eea-43ff-a203-20f5e7a7f5c6"
      },
      "source": [
        "print(weights.shape)\n",
        "print(loss)\n",
        "print(dl_dw.shape)"
      ],
      "execution_count": 42,
      "outputs": [
        {
          "output_type": "stream",
          "name": "stdout",
          "text": [
            "(3, 2)\n",
            "tf.Tensor(22.759209, shape=(), dtype=float32)\n",
            "(3, 2)\n"
          ]
        }
      ]
    },
    {
      "cell_type": "code",
      "metadata": {
        "id": "UIFUed4yeiHc",
        "colab": {
          "base_uri": "https://localhost:8080/"
        },
        "outputId": "e15903e3-50d5-408d-de7f-a59cb2b9e015"
      },
      "source": [
        "weights2 = tf.Variable(tf.random.normal((3,2)), name = 'weights')\n",
        "biases2 = tf.Variable(tf.zeros(2, dtype=tf.float32), name='biases')\n",
        "x2 = [[4., 5., 6.]]\n",
        "\n",
        "with tf.GradientTape(persistent=True) as tape:\n",
        "  y = x2 @ weights2 + biases2\n",
        "  loss = tf.reduce_mean(y**2)  \n",
        "\n",
        "[dl_dw2, dl_db2] = tape.gradient(loss, [weights2, biases2])\n",
        "\n",
        "print(weights2.shape)\n",
        "print(dl_dw2.shape)"
      ],
      "execution_count": 43,
      "outputs": [
        {
          "output_type": "stream",
          "name": "stdout",
          "text": [
            "(3, 2)\n",
            "(3, 2)\n"
          ]
        }
      ]
    },
    {
      "cell_type": "code",
      "metadata": {
        "id": "b1X3900EeiHd"
      },
      "source": [
        "del tape"
      ],
      "execution_count": 44,
      "outputs": []
    },
    {
      "cell_type": "markdown",
      "metadata": {
        "id": "FcG5ddWTgjMq"
      },
      "source": [
        "## 간단한 신경망 구조 "
      ]
    },
    {
      "cell_type": "markdown",
      "metadata": {
        "id": "fXE8tlU7gkrV"
      },
      "source": [
        "### 뉴런\n",
        "- 입력 → 연산 → 활성화함수 → 출력"
      ]
    },
    {
      "cell_type": "code",
      "metadata": {
        "id": "B-DUt6cZe7iD"
      },
      "source": [
        "def sigmoid(x):\n",
        "  return(1 / (1 + np.exp(-x)))\n",
        "\n",
        "def Neuron(x, W, bias=0):\n",
        "  z = x * W + bias\n",
        "  return sigmoid(z)"
      ],
      "execution_count": 45,
      "outputs": []
    },
    {
      "cell_type": "code",
      "metadata": {
        "id": "r8baxM6mg_XQ",
        "colab": {
          "base_uri": "https://localhost:8080/"
        },
        "outputId": "48a18e9e-40f3-4356-a663-98ede36fa4dc"
      },
      "source": [
        "x = tf.random.normal((1,2), 0, 1)\n",
        "W = tf.random.normal((1,2), 0, 1)\n",
        "\n",
        "print('x.shape', x.shape)\n",
        "print('W.shape', W.shape)\n",
        "\n",
        "print(x)\n",
        "print(W)\n",
        "\n",
        "print(Neuron(x, W))"
      ],
      "execution_count": 46,
      "outputs": [
        {
          "output_type": "stream",
          "name": "stdout",
          "text": [
            "x.shape (1, 2)\n",
            "W.shape (1, 2)\n",
            "tf.Tensor([[-1.5940467  -0.28680915]], shape=(1, 2), dtype=float32)\n",
            "tf.Tensor([[ 0.31750134 -0.85908735]], shape=(1, 2), dtype=float32)\n",
            "[[0.37610543 0.5612888 ]]\n"
          ]
        }
      ]
    },
    {
      "cell_type": "code",
      "metadata": {
        "id": "I7D57W93htFt",
        "colab": {
          "base_uri": "https://localhost:8080/"
        },
        "outputId": "eed5d4c7-ae38-4b1f-c332-d2d9586b3d7b"
      },
      "source": [
        "x = tf.random.normal((2,1), 0, 1)\n",
        "W = tf.random.normal((2,1), 0, 1)\n",
        "\n",
        "print('x.shape', x.shape)\n",
        "print('W.shape', W.shape)\n",
        "\n",
        "print(x)\n",
        "print(W)\n",
        "\n",
        "print(Neuron(x, W))"
      ],
      "execution_count": 47,
      "outputs": [
        {
          "output_type": "stream",
          "name": "stdout",
          "text": [
            "x.shape (2, 1)\n",
            "W.shape (2, 1)\n",
            "tf.Tensor(\n",
            "[[1.852723  ]\n",
            " [0.32481694]], shape=(2, 1), dtype=float32)\n",
            "tf.Tensor(\n",
            "[[-0.5776644 ]\n",
            " [ 0.48517564]], shape=(2, 1), dtype=float32)\n",
            "[[0.25535515]\n",
            " [0.539317  ]]\n"
          ]
        }
      ]
    },
    {
      "cell_type": "code",
      "metadata": {
        "id": "IKeoXsJBhzPk",
        "colab": {
          "base_uri": "https://localhost:8080/"
        },
        "outputId": "3ad09323-5009-4127-8496-407225bf285f"
      },
      "source": [
        "x = tf.random.normal((1,), 0, 1)\n",
        "W = tf.random.normal((2,1), 0, 1)\n",
        "\n",
        "print('x.shape', x.shape)\n",
        "print('W.shape', W.shape)\n",
        "\n",
        "print(x)\n",
        "print(W)\n",
        "\n",
        "print(Neuron(x, W))"
      ],
      "execution_count": 48,
      "outputs": [
        {
          "output_type": "stream",
          "name": "stdout",
          "text": [
            "x.shape (1,)\n",
            "W.shape (2, 1)\n",
            "tf.Tensor([0.35211366], shape=(1,), dtype=float32)\n",
            "tf.Tensor(\n",
            "[[-0.4597306]\n",
            " [-1.4830847]], shape=(2, 1), dtype=float32)\n",
            "[[0.45961878]\n",
            " [0.3723346 ]]\n"
          ]
        }
      ]
    },
    {
      "cell_type": "markdown",
      "metadata": {
        "id": "ATmvx1utmmMl"
      },
      "source": [
        "### 퍼셉트론 학습 알고리즘 (가중치 업데이트)\n",
        "\n",
        "## $\\qquad w^{(next step)} = w + \\eta \\ (y - \\tilde{y}) \\ x$\n",
        "\n",
        "- $w \\ $: 가중치\n",
        "\n",
        "- $\\eta \\ $ : 학습률\n",
        "\n",
        "- $y \\ $ : 정답 레이블\n",
        "\n",
        "- $\\tilde{y} \\ $: 예측 레이블\n"
      ]
    },
    {
      "cell_type": "code",
      "metadata": {
        "id": "7f-3qRCHXO9m",
        "colab": {
          "base_uri": "https://localhost:8080/"
        },
        "outputId": "0bd83867-0875-45df-9062-21916daf7257"
      },
      "source": [
        "x = 1\n",
        "y = 0\n",
        "W = tf.random.normal([1], 0, 1)\n",
        "print(Neuron(x,W))\n",
        "print('y:', y)"
      ],
      "execution_count": 49,
      "outputs": [
        {
          "output_type": "stream",
          "name": "stdout",
          "text": [
            "[0.3403672]\n",
            "y: 0\n"
          ]
        }
      ]
    },
    {
      "cell_type": "code",
      "metadata": {
        "id": "S8JG-rbdml_v",
        "colab": {
          "base_uri": "https://localhost:8080/"
        },
        "outputId": "e8d15e01-584e-4e5b-d3ef-7510c7d32a59"
      },
      "source": [
        "for i in range(1000):\n",
        "  output = Neuron(x,W)\n",
        "  error = y - output\n",
        "  W = W + x * 0.1 * error\n",
        "\n",
        "  if i %100 == 99:\n",
        "    print(\"{}\\t{}\\t{}\".format(i+1, error, output))\n"
      ],
      "execution_count": 51,
      "outputs": [
        {
          "output_type": "stream",
          "name": "stdout",
          "text": [
            "100\t[-0.04849459]\t[0.04849459]\n",
            "200\t[-0.03306765]\t[0.03306765]\n",
            "300\t[-0.02502013]\t[0.02502013]\n",
            "400\t[-0.02009858]\t[0.02009858]\n",
            "500\t[-0.01678411]\t[0.01678411]\n",
            "600\t[-0.01440252]\t[0.01440252]\n",
            "700\t[-0.01260968]\t[0.01260968]\n",
            "800\t[-0.01121189]\t[0.01121189]\n",
            "900\t[-0.01009185]\t[0.01009185]\n",
            "1000\t[-0.00917444]\t[0.00917444]\n"
          ]
        }
      ]
    },
    {
      "cell_type": "code",
      "metadata": {
        "id": "vrJKCpf0VyOR"
      },
      "source": [
        "def Neuron2(x, W, bias=0):\n",
        "  z = tf.matmul(x, W, transpose_b=True) + bias\n",
        "  return sigmoid(z)"
      ],
      "execution_count": 76,
      "outputs": []
    },
    {
      "cell_type": "code",
      "metadata": {
        "id": "dkLHtKQ8htRg",
        "colab": {
          "base_uri": "https://localhost:8080/"
        },
        "outputId": "78a8a5fe-22a3-4044-ba07-6ca1e6344edb"
      },
      "source": [
        "x = tf.random.normal((1,3), 0, 1)\n",
        "y = tf.ones(1)\n",
        "W = tf.random.normal((1,3), 0, 1)\n",
        "\n",
        "print(Neuron2(x, W))\n",
        "print(\"y:\", y.numpy())"
      ],
      "execution_count": 77,
      "outputs": [
        {
          "output_type": "stream",
          "name": "stdout",
          "text": [
            "[[0.9161826]]\n",
            "y: [1.]\n"
          ]
        }
      ]
    },
    {
      "cell_type": "code",
      "metadata": {
        "id": "udZu2_rQo1SH",
        "colab": {
          "base_uri": "https://localhost:8080/"
        },
        "outputId": "81edc612-c757-4e8b-de33-7df83f7d27ca"
      },
      "source": [
        "for i in range(1000):\n",
        "  output = Neuron2(x,W)\n",
        "  error = y - output\n",
        "  W = W + x * 0.1 * error\n",
        "\n",
        "  if i %100 == 99:\n",
        "    print(\"{}\\t{}\\t{}\".format(i+1, error, output))\n"
      ],
      "execution_count": 78,
      "outputs": [
        {
          "output_type": "stream",
          "name": "stdout",
          "text": [
            "100\t[[0.02377361]]\t[[0.9762264]]\n",
            "200\t[[0.01366878]]\t[[0.9863312]]\n",
            "300\t[[0.00957602]]\t[[0.990424]]\n",
            "400\t[[0.00736505]]\t[[0.99263495]]\n",
            "500\t[[0.0059818]]\t[[0.9940182]]\n",
            "600\t[[0.00503528]]\t[[0.9949647]]\n",
            "700\t[[0.00434697]]\t[[0.99565303]]\n",
            "800\t[[0.003824]]\t[[0.996176]]\n",
            "900\t[[0.0034132]]\t[[0.9965868]]\n",
            "1000\t[[0.00308192]]\t[[0.9969181]]\n"
          ]
        }
      ]
    },
    {
      "cell_type": "code",
      "metadata": {
        "id": "X7rw7DAxbCcu",
        "colab": {
          "base_uri": "https://localhost:8080/"
        },
        "outputId": "445e8d00-46ee-4322-cbcf-ce977f85472e"
      },
      "source": [
        "x = tf.random.normal((1,3), 0, 1)\n",
        "weights = tf.random.normal((1,3), 0, 1)\n",
        "bias = tf.zeros((1, 1))\n",
        "\n",
        "y = tf.ones((1,))\n",
        "\n",
        "print(\"x\\t: {}\\nweights\\t: {}\\nbias\\t: {}\".format(x, weights, bias))\n"
      ],
      "execution_count": 79,
      "outputs": [
        {
          "output_type": "stream",
          "name": "stdout",
          "text": [
            "x\t: [[ 1.0015544  -1.3486041  -0.36354247]]\n",
            "weights\t: [[1.4694885 1.008043  0.6048172]]\n",
            "bias\t: [[0.]]\n"
          ]
        }
      ]
    },
    {
      "cell_type": "code",
      "metadata": {
        "id": "Of-hjiq1pKF2",
        "colab": {
          "base_uri": "https://localhost:8080/"
        },
        "outputId": "d872d440-6f58-495c-8329-d69bafa55a69"
      },
      "source": [
        "for i in range(1000):\n",
        "  output = Neuron2(x, weights, bias=bias)\n",
        "  error = y - output\n",
        "  weights = weights + x * 0.1 * error\n",
        "  bias = bias + 1 * 0.1 * error\n",
        "\n",
        "  if i %100 == 99:\n",
        "    print(\"{}\\t{}\\t{}\".format(i+1, error, output))"
      ],
      "execution_count": 80,
      "outputs": [
        {
          "output_type": "stream",
          "name": "stdout",
          "text": [
            "100\t[[0.02636695]]\t[[0.97363305]]\n",
            "200\t[[0.01300627]]\t[[0.98699373]]\n",
            "300\t[[0.00861394]]\t[[0.99138606]]\n",
            "400\t[[0.00643522]]\t[[0.9935648]]\n",
            "500\t[[0.00513464]]\t[[0.99486536]]\n",
            "600\t[[0.00427085]]\t[[0.99572915]]\n",
            "700\t[[0.00365549]]\t[[0.9963445]]\n",
            "800\t[[0.00319493]]\t[[0.9968051]]\n",
            "900\t[[0.00283748]]\t[[0.9971625]]\n",
            "1000\t[[0.00255167]]\t[[0.9974483]]\n"
          ]
        }
      ]
    },
    {
      "cell_type": "code",
      "metadata": {
        "id": "KHVs1hALZ_bA"
      },
      "source": [
        ""
      ],
      "execution_count": 48,
      "outputs": []
    },
    {
      "cell_type": "markdown",
      "metadata": {
        "id": "LQ-syOVwfjB9"
      },
      "source": [
        "### AND Gate"
      ]
    },
    {
      "cell_type": "code",
      "metadata": {
        "id": "HyRma3NorTRs",
        "colab": {
          "base_uri": "https://localhost:8080/"
        },
        "outputId": "d78b6d4f-e92d-44e0-9ee1-f7e37c533367"
      },
      "source": [
        "X = np.array([[1, 1], [1, 0], [0, 1], [0, 0]])\n",
        "Y = np.array([[1], [0], [0], [0]])\n",
        "\n",
        "W = tf.random.normal([2], 0, 1)\n",
        "b = tf.random.normal([1], 0, 1)\n",
        "b_x = 1\n",
        "\n",
        "for i in range(2000):\n",
        "  error_sum = 0\n",
        "\n",
        "  for j in range(4):\n",
        "    output = sigmoid(np.sum(X[j] * W) + b_x + b)\n",
        "    error = Y[j][0] - output\n",
        "    W = W + X[j] * 0.1 * error\n",
        "    b = b + b_x * 0.1 * error\n",
        "    error_sum += error\n",
        "\n",
        "  if i % 200 == 0:\n",
        "    print(\"epoch {:4d}\\tError Sum {}\".format(i, error_sum))\n",
        "\n",
        "print(\"\\n가중치\\t: {}\".format(W))\n",
        "print(\"편향\\t: {}\".format(b))"
      ],
      "execution_count": 82,
      "outputs": [
        {
          "output_type": "stream",
          "name": "stdout",
          "text": [
            "epoch    0\tError Sum [-2.0269105]\n",
            "epoch  200\tError Sum [-0.11481139]\n",
            "epoch  400\tError Sum [-0.06726152]\n",
            "epoch  600\tError Sum [-0.04746673]\n",
            "epoch  800\tError Sum [-0.03656593]\n",
            "epoch 1000\tError Sum [-0.02968044]\n",
            "epoch 1200\tError Sum [-0.02494802]\n",
            "epoch 1400\tError Sum [-0.02149949]\n",
            "epoch 1600\tError Sum [-0.01887984]\n",
            "epoch 1800\tError Sum [-0.01682112]\n",
            "\n",
            "가중치\t: [6.960852  6.9640107]\n",
            "편향\t: [-11.6204195]\n"
          ]
        }
      ]
    },
    {
      "cell_type": "code",
      "metadata": {
        "id": "OylWtem2stH0",
        "colab": {
          "base_uri": "https://localhost:8080/"
        },
        "outputId": "9ee39b62-d531-46d5-9209-d43976c6dcbe"
      },
      "source": [
        "for i in range(4):\n",
        "  print(\"X :{} Y:{} output:{}\".format(X[i], Y[i], sigmoid(np.sum(X[i] * W) + b)))"
      ],
      "execution_count": 83,
      "outputs": [
        {
          "output_type": "stream",
          "name": "stdout",
          "text": [
            "X :[1 1] Y:[1] output:[0.9092444]\n",
            "X :[1 0] Y:[0] output:[0.00938171]\n",
            "X :[0 1] Y:[0] output:[0.00941111]\n",
            "X :[0 0] Y:[0] output:[8.980737e-06]\n"
          ]
        }
      ]
    },
    {
      "cell_type": "markdown",
      "metadata": {
        "id": "pADtZrsagJ64"
      },
      "source": [
        "### OR Gate"
      ]
    },
    {
      "cell_type": "code",
      "metadata": {
        "id": "X1drqmeNuxIU",
        "colab": {
          "base_uri": "https://localhost:8080/"
        },
        "outputId": "963db2b7-def4-49e8-eecb-7cdf95589161"
      },
      "source": [
        "X = np.array([[1, 1], [1, 0], [0, 1], [0, 0]])\n",
        "Y = np.array([[1], [1], [1], [0]])\n",
        "\n",
        "W = tf.random.normal([2], 0, 1)\n",
        "b = tf.random.normal([1], 0, 1)\n",
        "b_x = 1\n",
        "\n",
        "for i in range(2000):\n",
        "  error_sum = 0\n",
        "\n",
        "  for j in range(4):\n",
        "    output = sigmoid(np.sum(X[j] * W) + b_x + b)\n",
        "    error = Y[j][0] - output\n",
        "    W = W + X[j] * 0.1 * error\n",
        "    b = b + b_x * 0.1 * error\n",
        "    error_sum += error\n",
        "\n",
        "  if i % 200 == 0:\n",
        "    print(\"epoch {:4d}\\tError Sum {}\".format(i, error_sum))\n",
        "\n",
        "print(\"\\n가중치\\t: {}\".format(W))\n",
        "print(\"편향\\t: {}\".format(b))"
      ],
      "execution_count": 84,
      "outputs": [
        {
          "output_type": "stream",
          "name": "stdout",
          "text": [
            "epoch    0\tError Sum [-0.05903059]\n",
            "epoch  200\tError Sum [-0.05564803]\n",
            "epoch  400\tError Sum [-0.0275078]\n",
            "epoch  600\tError Sum [-0.0181364]\n",
            "epoch  800\tError Sum [-0.0134751]\n",
            "epoch 1000\tError Sum [-0.01069846]\n",
            "epoch 1200\tError Sum [-0.00886074]\n",
            "epoch 1400\tError Sum [-0.0075566]\n",
            "epoch 1600\tError Sum [-0.0065839]\n",
            "epoch 1800\tError Sum [-0.00583202]\n",
            "\n",
            "가중치\t: [8.182695 8.181134]\n",
            "편향\t: [-4.6253033]\n"
          ]
        }
      ]
    },
    {
      "cell_type": "code",
      "metadata": {
        "id": "FGG4_ZXGgLNd",
        "colab": {
          "base_uri": "https://localhost:8080/"
        },
        "outputId": "790a2571-7d78-40ae-fa84-b584295aafe0"
      },
      "source": [
        "for i in range(4):\n",
        "  print(\"X :{} Y:{} output:{}\".format(X[i], Y[i], sigmoid(np.sum(X[i] * W) + b)))"
      ],
      "execution_count": 85,
      "outputs": [
        {
          "output_type": "stream",
          "name": "stdout",
          "text": [
            "X :[1 1] Y:[1] output:[0.999992]\n",
            "X :[1 0] Y:[1] output:[0.9722774]\n",
            "X :[0 1] Y:[1] output:[0.97223526]\n",
            "X :[0 0] Y:[0] output:[0.00970556]\n"
          ]
        }
      ]
    },
    {
      "cell_type": "markdown",
      "metadata": {
        "id": "IQyeNLdagPw1"
      },
      "source": [
        "### XOR Gate"
      ]
    },
    {
      "cell_type": "code",
      "metadata": {
        "id": "W-BYPnNBgNd9",
        "colab": {
          "base_uri": "https://localhost:8080/"
        },
        "outputId": "82f292f1-84d4-4e82-e02e-15b345e9f620"
      },
      "source": [
        "X = np.array([[1, 1], [1, 0], [0, 1], [0, 0]])\n",
        "Y = np.array([[0], [1], [1], [0]])\n",
        "\n",
        "W = tf.random.normal([2], 0, 1)\n",
        "b = tf.random.normal([1], 0, 1)\n",
        "b_x = 1\n",
        "\n",
        "for i in range(2000):\n",
        "  error_sum = 0\n",
        "\n",
        "  for j in range(4):\n",
        "    output = sigmoid(np.sum(X[j] * W) + b_x + b)\n",
        "    error = Y[j][0] - output\n",
        "    W = W + X[j] * 0.1 * error\n",
        "    b = b + b_x * 0.1 * error\n",
        "    error_sum += error\n",
        "\n",
        "  if i % 200 == 0:\n",
        "    print(\"epoch {:4d}\\tError Sum {}\".format(i, error_sum))\n",
        "\n",
        "print(\"\\n가중치\\t: {}\".format(W))\n",
        "print(\"편향\\t: {}\".format(b))"
      ],
      "execution_count": 86,
      "outputs": [
        {
          "output_type": "stream",
          "name": "stdout",
          "text": [
            "epoch    0\tError Sum [0.34576565]\n",
            "epoch  200\tError Sum [-0.00530791]\n",
            "epoch  400\tError Sum [-0.00021595]\n",
            "epoch  600\tError Sum [-8.940697e-06]\n",
            "epoch  800\tError Sum [-8.940697e-07]\n",
            "epoch 1000\tError Sum [-1.013279e-06]\n",
            "epoch 1200\tError Sum [-1.013279e-06]\n",
            "epoch 1400\tError Sum [-1.013279e-06]\n",
            "epoch 1600\tError Sum [-1.013279e-06]\n",
            "epoch 1800\tError Sum [-1.013279e-06]\n",
            "\n",
            "가중치\t: [ 5.1279660e-02 -2.0749867e-06]\n",
            "편향\t: [-0.9999969]\n"
          ]
        }
      ]
    },
    {
      "cell_type": "code",
      "metadata": {
        "id": "z1EWz3N5gRfH",
        "colab": {
          "base_uri": "https://localhost:8080/"
        },
        "outputId": "62e1f30e-7455-4f0e-8ca0-e4e919ea665e"
      },
      "source": [
        "for i in range(4):\n",
        "  print(\"X :{} Y:{} output:{}\".format(X[i], Y[i], sigmoid(np.sum(X[i] * W) + b)))"
      ],
      "execution_count": 87,
      "outputs": [
        {
          "output_type": "stream",
          "name": "stdout",
          "text": [
            "X :[1 1] Y:[0] output:[0.27914244]\n",
            "X :[1 0] Y:[1] output:[0.2791429]\n",
            "X :[0 1] Y:[1] output:[0.2689416]\n",
            "X :[0 0] Y:[0] output:[0.26894203]\n"
          ]
        }
      ]
    },
    {
      "cell_type": "code",
      "metadata": {
        "id": "duXh8GGkgUET",
        "colab": {
          "base_uri": "https://localhost:8080/"
        },
        "outputId": "ed16482b-d047-4c1b-f018-b05b2f74b54d"
      },
      "source": [
        "from tensorflow.keras import Sequential\n",
        "from tensorflow.keras.layers import Dense\n",
        "\n",
        "np.random.seed(111)\n",
        "\n",
        "X4 = np.array([[1, 1], [1, 0], [0, 1], [0, 0]])\n",
        "Y4 = np.array([[0], [1], [1], [0]])\n",
        "\n",
        "model = Sequential([Dense(units=2, activation='sigmoid', input_shape=(2, )),\n",
        "                    Dense(units=1, activation='sigmoid')])\n",
        "\n",
        "model.compile(optimizer=tf.keras.optimizers.SGD(lr=0.1), loss='mse')\n",
        "\n",
        "model.summary()\n"
      ],
      "execution_count": 93,
      "outputs": [
        {
          "output_type": "stream",
          "name": "stdout",
          "text": [
            "Model: \"sequential_1\"\n",
            "_________________________________________________________________\n",
            " Layer (type)                Output Shape              Param #   \n",
            "=================================================================\n",
            " dense_4 (Dense)             (None, 2)                 6         \n",
            "                                                                 \n",
            " dense_5 (Dense)             (None, 1)                 3         \n",
            "                                                                 \n",
            "=================================================================\n",
            "Total params: 9\n",
            "Trainable params: 9\n",
            "Non-trainable params: 0\n",
            "_________________________________________________________________\n"
          ]
        },
        {
          "output_type": "stream",
          "name": "stderr",
          "text": [
            "/usr/local/lib/python3.7/dist-packages/keras/optimizer_v2/gradient_descent.py:102: UserWarning: The `lr` argument is deprecated, use `learning_rate` instead.\n",
            "  super(SGD, self).__init__(name, **kwargs)\n"
          ]
        }
      ]
    },
    {
      "cell_type": "code",
      "metadata": {
        "id": "HYf3E6w6gV3z"
      },
      "source": [
        "history = model.fit(X4, Y4, epochs=2000, batch_size=1, verbose=1)"
      ],
      "execution_count": null,
      "outputs": []
    },
    {
      "cell_type": "code",
      "metadata": {
        "id": "0ZuQIfAZgXzD",
        "colab": {
          "base_uri": "https://localhost:8080/"
        },
        "outputId": "f94727b0-206c-47db-933e-317cc3d4693b"
      },
      "source": [
        "model.predict(X4)"
      ],
      "execution_count": 92,
      "outputs": [
        {
          "output_type": "execute_result",
          "data": {
            "text/plain": [
              "array([[0.23792972],\n",
              "       [0.8103445 ],\n",
              "       [0.6194027 ],\n",
              "       [0.28790998]], dtype=float32)"
            ]
          },
          "metadata": {},
          "execution_count": 92
        }
      ]
    },
    {
      "cell_type": "markdown",
      "metadata": {
        "id": "NgHTUlX68Fyk"
      },
      "source": [
        "## 시각화 사용"
      ]
    },
    {
      "cell_type": "code",
      "metadata": {
        "id": "a8azIYHQ8H16",
        "colab": {
          "base_uri": "https://localhost:8080/",
          "height": 262
        },
        "outputId": "5209d2aa-f8e7-4b50-80d1-833c07433921"
      },
      "source": [
        "import matplotlib.pyplot as plt\n",
        "plt.style.use('seaborn-white')\n",
        "\n",
        "x= range(50)\n",
        "y = tf.random.normal([50], 0, 1)\n",
        "plt.plot(x,y)\n",
        "plt.show()"
      ],
      "execution_count": 95,
      "outputs": [
        {
          "output_type": "display_data",
          "data": {
            "text/plain": [
              "<Figure size 432x288 with 1 Axes>"
            ],
            "image/png": "[encoded data removed]"
          },
          "metadata": {}
        }
      ]
    },
    {
      "cell_type": "code",
      "metadata": {
        "id": "hX-S0ZvF8Hq6",
        "colab": {
          "base_uri": "https://localhost:8080/",
          "height": 262
        },
        "outputId": "26473161-e856-43a8-afef-56eabf979a27"
      },
      "source": [
        "x = range(50)\n",
        "y = tf.random.normal([50], 0, 1)\n",
        "plt.plot(x,y, 'ro')\n",
        "plt.show()"
      ],
      "execution_count": 97,
      "outputs": [
        {
          "output_type": "display_data",
          "data": {
            "text/plain": [
              "<Figure size 432x288 with 1 Axes>"
            ],
            "image/png": "[encoded data removed]"
          },
          "metadata": {}
        }
      ]
    },
    {
      "cell_type": "code",
      "metadata": {
        "id": "2teBa4878XEI",
        "colab": {
          "base_uri": "https://localhost:8080/",
          "height": 266
        },
        "outputId": "ee3bd2a7-9eb0-4573-d2ae-e87544a3c6f6"
      },
      "source": [
        "random_normal = tf.random.normal([10000], 0, 1)\n",
        "plt.hist(random_normal, bins=100)\n",
        "plt.show()"
      ],
      "execution_count": 98,
      "outputs": [
        {
          "output_type": "display_data",
          "data": {
            "text/plain": [
              "<Figure size 432x288 with 1 Axes>"
            ],
            "image/png": "[encoded data removed]"
          },
          "metadata": {}
        }
      ]
    },
    {
      "cell_type": "code",
      "metadata": {
        "id": "43W0ygJj8XA1"
      },
      "source": [
        ""
      ],
      "execution_count": 48,
      "outputs": []
    },
    {
      "cell_type": "code",
      "metadata": {
        "id": "HkF8DN5a8fWR"
      },
      "source": [
        ""
      ],
      "execution_count": 48,
      "outputs": []
    },
    {
      "cell_type": "markdown",
      "metadata": {
        "id": "aL-QTl5Q8mdB"
      },
      "source": [
        "### XOR Gate의 'LOSS' 시각화\n"
      ]
    },
    {
      "cell_type": "code",
      "metadata": {
        "id": "vs8dlY1o8iby",
        "colab": {
          "base_uri": "https://localhost:8080/",
          "height": 280
        },
        "outputId": "748469ec-c53b-4b0c-e0eb-75cd7039e256"
      },
      "source": [
        "plt.plot(history.history['loss'])"
      ],
      "execution_count": 99,
      "outputs": [
        {
          "output_type": "execute_result",
          "data": {
            "text/plain": [
              "[<matplotlib.lines.Line2D at 0x7f908c25c690>]"
            ]
          },
          "metadata": {},
          "execution_count": 99
        },
        {
          "output_type": "display_data",
          "data": {
            "text/plain": [
              "<Figure size 432x288 with 1 Axes>"
            ],
            "image/png": "[encoded data removed]"
          },
          "metadata": {}
        }
      ]
    }
  ]
}