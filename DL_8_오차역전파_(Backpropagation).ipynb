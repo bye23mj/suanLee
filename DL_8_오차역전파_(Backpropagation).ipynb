{
  "nbformat": 4,
  "nbformat_minor": 0,
  "metadata": {
    "colab": {
      "name": "DL_8 오차역전파 (Backpropagation)",
      "provenance": [],
      "collapsed_sections": [],
      "toc_visible": true,
      "include_colab_link": true
    },
    "kernelspec": {
      "name": "python3",
      "display_name": "Python 3"
    }
  },
  "cells": [
    {
      "cell_type": "markdown",
      "metadata": {
        "id": "view-in-github",
        "colab_type": "text"
      },
      "source": [
        "<a href=\"https://colab.research.google.com/github/bye23mj/suanLee/blob/main/DL_8_%EC%98%A4%EC%B0%A8%EC%97%AD%EC%A0%84%ED%8C%8C_(Backpropagation).ipynb\" target=\"_parent\"><img src=\"https://colab.research.google.com/assets/colab-badge.svg\" alt=\"Open In Colab\"/></a>"
      ]
    },
    {
      "cell_type": "markdown",
      "metadata": {
        "id": "S9Db_VsP_m1S"
      },
      "source": [
        "## 오차역전파 (Backpropagation)\n"
      ]
    },
    {
      "cell_type": "markdown",
      "metadata": {
        "id": "8Vdi2PAG_3lW"
      },
      "source": [
        "### 오차역전파 알고리즘\n",
        "- 학습 데이터로 정방향(forward) 연산을 통해 손실함수 값(loss)을 구함\n",
        "\n",
        "- 각 layer별로 역전파학습을 위해 중간값을 저장\n",
        "\n",
        "- 손실함수를 학습 파라미터(가중치, 편향)로 미분하여  \n",
        "  마지막 layer로부터 앞으로 하나씩 연쇄법칙을 이용하여 미분\n",
        "  각 layer를 통과할 때마다 저장된 값을 이용\n",
        "\n",
        "- 오류(error)를 전달하면서 학습 파라미터를 조금씩 갱신\n"
      ]
    },
    {
      "cell_type": "markdown",
      "metadata": {
        "id": "-o545ezeUuSB"
      },
      "source": [
        "### 오차역전파 학습의 특징\n",
        "- 손실함수를 통한 평가를 한 번만 하고, 연쇄법칙을 이용한 미분을 활용하기 때문에  \n",
        "  학습 소요시간이 매우 단축!\n",
        "\n",
        "- 미분을 위한 중간값을 모두 저장하기 때문에 메모리를 많이 사용\n"
      ]
    },
    {
      "cell_type": "markdown",
      "metadata": {
        "id": "CFoTt-ds_w8C"
      },
      "source": [
        "### 신경망 학습에 있어서 미분가능의 중요성\n",
        "- 경사하강법(Gradient Descent)에서 손실 함수(cost function)의 최소값,  \n",
        "  즉, 최적값을 찾기 위한 방법으로 미분을 활용\n",
        "\n",
        "- 미분을 통해 손실 함수의 학습 매개변수(trainable parameter)를 갱신하여  \n",
        "  모델의 가중치의 최적값을 찾는 과정\n",
        "\n",
        "![](https://i.pinimg.com/originals/5d/13/20/5d1320c7b672710834e63b95a7c1037b.png)\n",
        "\n",
        "<sub>출처: https://www.pinterest.co.kr/pin/424816177350692379/</sub>"
      ]
    },
    {
      "cell_type": "markdown",
      "metadata": {
        "id": "ilYRMqLeQf6Z"
      },
      "source": [
        "### 합성함수의 미분 (연쇄법칙, chain rule)\n",
        "\n",
        "## $\\qquad \\frac{d}{dx} [f(g(x))] = f^\\prime(g(x))g^\\prime(x)$  \n",
        " \n",
        "\n",
        "- 여러 개 연속으로 사용가능  \n",
        "  ## $ \\quad \\frac{\\partial f}{\\partial x} = \\frac{\\partial f}{\\partial u} \\times \\frac{\\partial u}{\\partial m} \\times \\frac{\\partial m}{\\partial n} \\times \\ ... \\ \\frac{\\partial l}{\\partial k} \\times \\frac{\\partial k}{\\partial g} \\times \\frac{\\partial g}{\\partial x} \n",
        "  $\n",
        "- 각각에 대해 편미분 적용가능\n",
        "\n",
        "![](https://cdn-media-1.freecodecamp.org/images/1*_KMMFvRP5X9kC59brI0ykw.png)\n",
        "<sub>출처: https://www.freecodecamp.org/news/demystifying-gradient-descent-and-backpropagation-via-logistic-regression-based-image-classification-9b5526c2ed46/</sub>\n",
        "\n",
        "- **오차역전파의 직관적 이해**\n",
        "  - 학습을 진행하면서, 즉 손실함수의 최소값(minimum)을 찾아가는 과정에서 가중치 또는 편향의 변화에 따라 얼마나 영향을 받는지 알 수 있음\n",
        "\n"
      ]
    },
    {
      "cell_type": "markdown",
      "metadata": {
        "id": "6NLF8CXiQkuL"
      },
      "source": [
        "#### 합성함수 미분(chain rule) 예제\n",
        "\n",
        "![](https://miro.medium.com/max/1000/1*azqHvbrNsZ8AIZ7H75tbIQ.jpeg)\n",
        "\n",
        "<sub>출처: https://medium.com/spidernitt/breaking-down-neural-networks-an-intuitive-approach-to-backpropagation-3b2ff958794c</sub>\n",
        "\n",
        "  #### $\\quad a=-1, \\ b=3, \\ c=4$,\n",
        "  #### $\\quad x = a + b, \\ y = b + c, \\ f = x * y \\ 일 때$    \n",
        "\n",
        "\n",
        "\n",
        "  ### $\\quad \\begin{matrix}\\frac{\\partial f}{\\partial x} &=& y\\ + \\ x \\ \\frac{\\partial y}{\\partial x} \\\\\n",
        "  &=& (b \\ + \\ c) \\ + \\ (a \\ +\\ b)\\ \\times \\ 0 \\\\\n",
        "  &=& 7 \\end{matrix}$\n",
        "\n",
        "  ### $\\quad \\begin{matrix}\\frac{\\partial f}{\\partial y} &=& x\\ + \\ \\frac{\\partial x}{\\partial y} \\ y \\\\\n",
        "  &=& (a \\ + \\ b) \\ + \\ 0 \\times (b \\ +\\ c) \\\\\n",
        "  &=& 2 \\end{matrix}$\n",
        "\n",
        "   <br>\n",
        "\n",
        "  ### $ \\quad \\begin{matrix} \\frac{\\partial x}{\\partial a} &=& 1 \\ + \\ a \\ \\frac{\\partial b}{\\partial a} \\\\\n",
        "  &=& 1 \\end{matrix} $\n",
        "  ### $ \\quad \\begin{matrix} \\frac{\\partial y}{\\partial c} &=& \\frac{\\partial b}{\\partial c}\\ + 1 \\\\\n",
        "   &=& 1 \\end{matrix} $\n",
        "  \n",
        "  <br>\n",
        "\n",
        "  ### $ \\quad \\begin{matrix} \\frac{\\partial f}{\\partial a} &=& \\frac{\\partial f}{\\partial x} \\times \\frac{\\partial x}{\\partial a} \\\\\n",
        "  &=& y \\times 1 \\\\ \n",
        "  &=& 7 \\times 1 = 7 \\\\\n",
        "  &=& 7  \\end{matrix} $\n",
        "    \n",
        "  ### $ \\quad \\begin{matrix} \\frac{\\partial f}{\\partial b}\\ \n",
        "  &=& \\frac{\\partial x}{\\partial b} \\ y \\ + \\ x \\ \\frac{\\partial y}{\\partial b}  \\\\\n",
        "  &=& 1 \\times 7 + 2 \\times 1  \\\\\n",
        "  &=& 9 \\end{matrix} $\n",
        "  \n",
        "\n",
        "  \n",
        "  "
      ]
    },
    {
      "cell_type": "markdown",
      "metadata": {
        "id": "2PgmdJN0Qtdw"
      },
      "source": [
        "### 덧셈, 곱셈 계층의 역전파\n",
        "- 위 예제를 통해 아래 사항을 알 수 있음\n",
        "\n",
        "  #### 1. $\\quad z = x + y$ 일 때,\n",
        "  ## $\\frac{\\partial z}{\\partial x} = 1, \\frac{\\partial z}{\\partial y} = 1 $\n",
        "\n",
        "  #### 2. $\\quad t = xy$ 일 때,\n",
        "  ## $\\frac{\\partial t}{\\partial x} = y, \\frac{\\partial t}{\\partial y} = x$\n"
      ]
    },
    {
      "cell_type": "code",
      "metadata": {
        "id": "hShSxvW5WMqi"
      },
      "source": [
        "class Mul():\n",
        "\n",
        "  def __init__(self):\n",
        "    self.x = None\n",
        "    self.y = None\n",
        "\n",
        "  def forward(self, x, y):\n",
        "    self.x = x\n",
        "    self.y = y\n",
        "    result = x * y\n",
        "    return result\n",
        "\n",
        "  def backward(self, dresult):\n",
        "    dx = dresult * self.y\n",
        "    dy = dresult * self.x\n",
        "    return dx, dy\n"
      ],
      "execution_count": 93,
      "outputs": []
    },
    {
      "cell_type": "code",
      "metadata": {
        "id": "1bovOx6UQvLP"
      },
      "source": [
        "class Add():\n",
        "\n",
        "  def __init__(self):\n",
        "    self.x = None\n",
        "    self.y = None\n",
        "\n",
        "  def forward(self, x, y):\n",
        "    self.x = x\n",
        "    self.y = y\n",
        "    result = x + y\n",
        "    return result\n",
        "\n",
        "  def backward(self, dresult):\n",
        "    dx = dresult * 1\n",
        "    dy = dresult * 1\n",
        "    return dx, dy   "
      ],
      "execution_count": 94,
      "outputs": []
    },
    {
      "cell_type": "code",
      "metadata": {
        "id": "e3RawqlUQwp0"
      },
      "source": [
        "a, b, c = -1, 3, 4\n",
        "x = Add()\n",
        "y = Add()\n",
        "f = Mul()"
      ],
      "execution_count": 95,
      "outputs": []
    },
    {
      "cell_type": "code",
      "metadata": {
        "id": "soyk-HWiSnwh",
        "colab": {
          "base_uri": "https://localhost:8080/"
        },
        "outputId": "ac26cb59-6bd8-404c-fc4a-9520781eb5c8"
      },
      "source": [
        "x_result = x.forward(a,b)\n",
        "y_result = y.forward(b,c)\n",
        "\n",
        "print(x_result)\n",
        "print(y_result)\n",
        "print(f.forward(x_result, y_result))"
      ],
      "execution_count": 96,
      "outputs": [
        {
          "output_type": "stream",
          "name": "stdout",
          "text": [
            "2\n",
            "7\n",
            "14\n"
          ]
        }
      ]
    },
    {
      "cell_type": "code",
      "metadata": {
        "id": "FhPPrFIqSpq1",
        "colab": {
          "base_uri": "https://localhost:8080/"
        },
        "outputId": "a9ac744d-348b-458b-8fce-d554bd9c6cdb"
      },
      "source": [
        "dresult = 1\n",
        "\n",
        "dx_mul, dy_mul = f.backward(dresult)\n",
        "\n",
        "da_add, db_add_1 = x.backward(dx_mul)\n",
        "db_add_2, dc_add = y.backward(dy_mul)\n",
        "\n",
        "print(dx_mul, dy_mul)\n",
        "print(da_add)\n",
        "print(db_add_1 + db_add_2)\n",
        "print(dc_add)"
      ],
      "execution_count": 97,
      "outputs": [
        {
          "output_type": "stream",
          "name": "stdout",
          "text": [
            "7 2\n",
            "7\n",
            "9\n",
            "2\n"
          ]
        }
      ]
    },
    {
      "cell_type": "markdown",
      "metadata": {
        "id": "dMfl0J1uWgiY"
      },
      "source": [
        "![](https://miro.medium.com/max/2000/1*U3mVDYuvnaLhJzIFw_d5qQ.png)\n",
        "<sub>출처: https://medium.com/spidernitt/breaking-down-neural-networks-an-intuitive-approach-to-backpropagation-3b2ff958794c</sub>"
      ]
    },
    {
      "cell_type": "markdown",
      "metadata": {
        "id": "byODNRUF5fbv"
      },
      "source": [
        "### 활성화 함수(Activation)에서의 역전파"
      ]
    },
    {
      "cell_type": "markdown",
      "metadata": {
        "id": "OkRurUgm5hqn"
      },
      "source": [
        "#### 시그모이드(Sigmoid) 함수\n",
        "\n",
        "![](https://media.geeksforgeeks.org/wp-content/uploads/20190911181329/Screenshot-2019-09-11-18.05.46.png)\n",
        "\n",
        "<sub>출처: https://www.geeksforgeeks.org/implement-sigmoid-function-using-numpy/</sub>\n",
        "\n",
        "- 수식 \n",
        "  # $\\quad y = \\frac{1}{1 + e^{-x}} $일 때,\n",
        "\n",
        "  ## $\\quad \\begin{matrix}y' &=& (\\frac{1}{1 + e^{-x}})' \\\\\n",
        "  &=& \\frac{-1}{(1 + e^{-x})^2}\\ \\times \\ (-e^{-x}) \\\\\n",
        "  &=& \\frac{1}{1 + e^{-x}} \\ \\times \\ \\frac{e^{-x}}{1 + e^{-x}} \\\\\n",
        "  &=& \\frac{1}{1 + e^{-x}} \\ \\times \\ (1 - \\frac{1}{1 + e^{-x}}) \\\\\n",
        "  &=& y\\ (1\\ - \\ y)\n",
        "  \\end{matrix}$"
      ]
    },
    {
      "cell_type": "code",
      "metadata": {
        "id": "DNWIw7ElVhLK"
      },
      "source": [
        "class Sigmoid:\n",
        "\n",
        "  def __init__(self):\n",
        "    self.out = None\n",
        "\n",
        "  def forward(self, x):\n",
        "    out = 1 / (1+np.exp(-x))\n",
        "    return out\n",
        "\n",
        "  def backward(self, dout):\n",
        "    dx = dout * (1.0 - self.out) * self.dout\n",
        "    return dx  "
      ],
      "execution_count": 98,
      "outputs": []
    },
    {
      "cell_type": "markdown",
      "metadata": {
        "id": "QWZ247xo5mtv"
      },
      "source": [
        "#### ReLU 함수\n",
        "\n",
        "![](https://3qeqpr26caki16dnhd19sv6by6v-wpengine.netdna-ssl.com/wp-content/uploads/2018/10/Line-Plot-of-Rectified-Linear-Activation-for-Negative-and-Positive-Inputs.png)\n",
        "\n",
        "<sub>출처: https://machinelearningmastery.com/rectified-linear-activation-function-for-deep-learning-neural-networks/</sub>\n",
        "\n",
        "\n",
        "- 수식  \n",
        "\n",
        "  ### $\\qquad y=\n",
        "  \\begin{cases}\n",
        "  x & (x \\ge 0)  \\\\\n",
        "  0 & (x < 0)\n",
        "  \\end{cases}$ 일 때,\n",
        "\n",
        "  <br>\n",
        "\n",
        "  ### $\\qquad \\frac{\\partial y}{\\partial x}=\n",
        "  \\begin{cases}\n",
        "  1 & (x \\ge 0)  \\\\\n",
        "  0 & (x < 0)\n",
        "  \\end{cases}$"
      ]
    },
    {
      "cell_type": "code",
      "source": [
        "class ReLU():\n",
        "\n",
        "  def __init__(self):\n",
        "    self.out = None\n",
        "\n",
        "  def forward(self, x):\n",
        "    self.mask = (x < 0)\n",
        "    out = x.copy()\n",
        "    out[x < 0] = 0\n",
        "    return out\n",
        "\n",
        "  def backward(self, dout):\n",
        "    dout[self.mask] = 0\n",
        "    dx = dout\n",
        "    return dx"
      ],
      "metadata": {
        "id": "Qzr_dLfqAhqs"
      },
      "execution_count": 99,
      "outputs": []
    },
    {
      "cell_type": "markdown",
      "metadata": {
        "id": "MH_kQzedJFfw"
      },
      "source": [
        "### 행렬 연산에 대한 역전파\n",
        "\n",
        "# $\\qquad Y = X \\bullet W + B$"
      ]
    },
    {
      "cell_type": "markdown",
      "metadata": {
        "id": "W-SedVrpJILw"
      },
      "source": [
        "#### 순전파(forward)\n",
        "  \n",
        "  - 형상(shape)을 맞춰줘야함\n",
        "  - 앞서 봤던 곱셈, 덧셈 계층을 합친 형태"
      ]
    },
    {
      "cell_type": "code",
      "metadata": {
        "id": "QKIO7EzSJGD1",
        "colab": {
          "base_uri": "https://localhost:8080/"
        },
        "outputId": "eba3e892-9923-4ccd-c0bf-df98e14b2f48"
      },
      "source": [
        "import numpy as np\n",
        "\n",
        "X = np.random.rand(3)\n",
        "W = np.random.rand(3, 2)\n",
        "B = np.random.rand(2)\n",
        "\n",
        "print(X.shape)\n",
        "print(W.shape)\n",
        "print(B.shape)"
      ],
      "execution_count": 100,
      "outputs": [
        {
          "output_type": "stream",
          "name": "stdout",
          "text": [
            "(3,)\n",
            "(3, 2)\n",
            "(2,)\n"
          ]
        }
      ]
    },
    {
      "cell_type": "code",
      "metadata": {
        "id": "Tqvl76fFJNfU",
        "colab": {
          "base_uri": "https://localhost:8080/"
        },
        "outputId": "50e54952-b223-4c26-9c21-28f2c442c40e"
      },
      "source": [
        "Y = np.dot(X, W) + B\n",
        "print(Y.shape)"
      ],
      "execution_count": 101,
      "outputs": [
        {
          "output_type": "stream",
          "name": "stdout",
          "text": [
            "(2,)\n"
          ]
        }
      ]
    },
    {
      "cell_type": "code",
      "metadata": {
        "id": "vTjJIvg9JPMV"
      },
      "source": [
        ""
      ],
      "execution_count": 101,
      "outputs": []
    },
    {
      "cell_type": "code",
      "metadata": {
        "id": "QnB0hE6YJQuD"
      },
      "source": [
        ""
      ],
      "execution_count": 101,
      "outputs": []
    },
    {
      "cell_type": "markdown",
      "metadata": {
        "id": "04GHZHAiJUGl"
      },
      "source": [
        "#### 역전파(1)\n",
        "\n",
        "##  $\\  Y = X \\bullet W$\n",
        "- $X :\\ \\ (2,\\ )$\n",
        "\n",
        "- $W :\\ \\ (2,\\ 3)$\n",
        "\n",
        "- $X \\bullet W :\\ \\ (3,\\ )$\n",
        "\n",
        "- $\\frac{\\partial L}{\\partial Y} :\\ \\ (3,\\ )$\n",
        "\n",
        "- $\\frac{\\partial L}{\\partial X} = \\frac{\\partial L}{\\partial Y}\\bullet W^T ,\\ (2,\\ )$\n",
        "\n",
        "- $\\frac{\\partial L}{\\partial W} = X^T \\bullet \\frac{\\partial L}{\\partial Y} ,\\ (2,\\ 3)$\n",
        "\n"
      ]
    },
    {
      "cell_type": "code",
      "metadata": {
        "id": "DCruMHCGJSHK",
        "colab": {
          "base_uri": "https://localhost:8080/"
        },
        "outputId": "9e9273e9-d04f-4601-ad6e-f822f882c86e"
      },
      "source": [
        "X = np.random.rand(2)\n",
        "W = np.random.rand(2, 3)\n",
        "Y = np.dot(X, W)\n",
        "\n",
        "print(\"X\\n{}\".format(X))\n",
        "print(\"W\\n{}\".format(W))\n",
        "print(\"Y\\n{}\".format(Y))"
      ],
      "execution_count": 102,
      "outputs": [
        {
          "output_type": "stream",
          "name": "stdout",
          "text": [
            "X\n",
            "[0.71189763 0.38786452]\n",
            "W\n",
            "[[0.90921144 0.22150579 0.93915124]\n",
            " [0.74819035 0.43396279 0.75663571]]\n",
            "Y\n",
            "[0.93746196 0.32600822 0.96205169]\n"
          ]
        }
      ]
    },
    {
      "cell_type": "code",
      "metadata": {
        "id": "TEvyFXedJWC7",
        "colab": {
          "base_uri": "https://localhost:8080/"
        },
        "outputId": "71a79ca2-7e47-46bf-d6dd-0087ca46dd9a"
      },
      "source": [
        "dL_dY = np.random.randn(3)\n",
        "dL_dX = np.dot(dL_dY, W.T)\n",
        "dL_dW = np.dot(X.reshape(-1,1), dL_dY.reshape(1,-1))\n",
        "\n",
        "print(\"dL_dY\\n{}\".format(dL_dY))\n",
        "print(\"dL_dX\\n{}\".format(dL_dX))\n",
        "print(\"dL_dW\\n{}\".format(dL_dW))"
      ],
      "execution_count": 103,
      "outputs": [
        {
          "output_type": "stream",
          "name": "stdout",
          "text": [
            "dL_dY\n",
            "[ 0.13008061 -0.9726333   0.04003508]\n",
            "dL_dX\n",
            "[-0.05957413 -0.29446963]\n",
            "dL_dW\n",
            "[[ 0.09260408 -0.69241534  0.02850088]\n",
            " [ 0.05045365 -0.37724995  0.01552819]]\n"
          ]
        }
      ]
    },
    {
      "cell_type": "markdown",
      "metadata": {
        "id": "uuOVqySWJauS"
      },
      "source": [
        "#### 역전파(2)\n",
        "\n",
        "## $\\ (2)\\  Y = X \\bullet W + B$\n",
        "- $X, W$는 위와 동일\n",
        "\n",
        "- $B: \\ (3, )$\n",
        "\n",
        "- $\\frac{\\partial L}{\\partial B} = \\frac{\\partial L}{\\partial Y}, \\ (3,\\ )$"
      ]
    },
    {
      "cell_type": "code",
      "metadata": {
        "id": "D_Jb9sY8JYGB",
        "colab": {
          "base_uri": "https://localhost:8080/"
        },
        "outputId": "5ac8cb4c-396e-4106-8f77-1f6cfcb4ea67"
      },
      "source": [
        "X = np.random.randn(2)\n",
        "W = np.random.randn(2, 3)\n",
        "B = np.random.randn(3)\n",
        "Y = np.dot(X, W) + B\n",
        "\n",
        "print(Y)"
      ],
      "execution_count": 104,
      "outputs": [
        {
          "output_type": "stream",
          "name": "stdout",
          "text": [
            "[ 2.34044432 -0.46980422  1.39126876]\n"
          ]
        }
      ]
    },
    {
      "cell_type": "code",
      "metadata": {
        "id": "frdvKz8oJcoZ",
        "colab": {
          "base_uri": "https://localhost:8080/"
        },
        "outputId": "c688f0ea-7b46-47f9-e978-e49fa60c0207"
      },
      "source": [
        "dL_dY = np.random.randn(3)\n",
        "dL_dX = np.dot(dL_dY, W.T)\n",
        "dL_dW = np.dot(X.reshape(-1,1), dL_dY.reshape(1,-1))\n",
        "dL_dB = dL_dY\n",
        "\n",
        "print(\"dL_dY\\n{}\".format(dL_dY))\n",
        "print(\"dL_dX\\n{}\".format(dL_dX))\n",
        "print(\"dL_dW\\n{}\".format(dL_dW))\n",
        "print(\"dL_dB\\n{}\".format(dL_dB))"
      ],
      "execution_count": 105,
      "outputs": [
        {
          "output_type": "stream",
          "name": "stdout",
          "text": [
            "dL_dY\n",
            "[-0.4246633  -0.32995783 -1.14123216]\n",
            "dL_dX\n",
            "[1.13620089 0.90566437]\n",
            "dL_dW\n",
            "[[0.77613183 0.60304429 2.08576208]\n",
            " [0.55358864 0.43013114 1.4877037 ]]\n",
            "dL_dB\n",
            "[-0.4246633  -0.32995783 -1.14123216]\n"
          ]
        }
      ]
    },
    {
      "cell_type": "markdown",
      "metadata": {
        "id": "0FrBSUsRJgFl"
      },
      "source": [
        "#### 배치용 행렬 내적 계층\n",
        "- N개의 데이터에 대해,  \n",
        "# $\\qquad Y = X \\bullet W + B$\n",
        "\n",
        "  - $X : \\quad  (N,\\ 3)$\n",
        "\n",
        "  - $W : \\quad  (3,\\ 2)$\n",
        "\n",
        "  - $B : \\quad  (2,\\ )$\n",
        "  "
      ]
    },
    {
      "cell_type": "code",
      "metadata": {
        "id": "AoWx5fDnJd-2",
        "colab": {
          "base_uri": "https://localhost:8080/"
        },
        "outputId": "18dffcb4-338d-4848-bdde-bb8e4f092dc2"
      },
      "source": [
        "X = np.random.rand(4, 3)\n",
        "W = np.random.rand(3, 2)\n",
        "B = np.random.rand(2)\n",
        "\n",
        "print(X.shape)\n",
        "print(W.shape)\n",
        "print(B.shape)"
      ],
      "execution_count": 106,
      "outputs": [
        {
          "output_type": "stream",
          "name": "stdout",
          "text": [
            "(4, 3)\n",
            "(3, 2)\n",
            "(2,)\n"
          ]
        }
      ]
    },
    {
      "cell_type": "code",
      "metadata": {
        "id": "EqhSX54BJmPQ",
        "colab": {
          "base_uri": "https://localhost:8080/"
        },
        "outputId": "46655429-6294-44f7-8517-c0f6fbac14c2"
      },
      "source": [
        "print(\"X\\n{}\".format(X))\n",
        "print(\"W\\n{}\".format(W))\n",
        "print(\"B\\n{}\".format(B))"
      ],
      "execution_count": 107,
      "outputs": [
        {
          "output_type": "stream",
          "name": "stdout",
          "text": [
            "X\n",
            "[[0.52371787 0.88325984 0.69052714]\n",
            " [0.35798982 0.38513009 0.46739844]\n",
            " [0.61569604 0.16898399 0.5499617 ]\n",
            " [0.52242157 0.00428811 0.31152073]]\n",
            "W\n",
            "[[0.17970064 0.80093866]\n",
            " [0.61686177 0.75449568]\n",
            " [0.38754359 0.03342723]]\n",
            "B\n",
            "[0.74065773 0.08997679]\n"
          ]
        }
      ]
    },
    {
      "cell_type": "code",
      "metadata": {
        "id": "_1IOOfhuJqF-",
        "colab": {
          "base_uri": "https://localhost:8080/"
        },
        "outputId": "c5978013-dc7b-4ed0-a464-4d051781ad78"
      },
      "source": [
        "Y = np.dot(X,W) + B\n",
        "print(\"Y\\n{}\".format(Y))\n",
        "print(\"Y.shape:\", Y.shape)\n"
      ],
      "execution_count": 108,
      "outputs": [
        {
          "output_type": "stream",
          "name": "stdout",
          "text": [
            "Y\n",
            "[[1.64722877 1.19894083]\n",
            " [1.22369803 0.68290751]\n",
            " [1.1686726  0.72899295]\n",
            " [0.95791025 0.52205306]]\n",
            "Y.shape: (4, 2)\n"
          ]
        }
      ]
    },
    {
      "cell_type": "code",
      "metadata": {
        "id": "TOKsN2NHJrqT",
        "colab": {
          "base_uri": "https://localhost:8080/"
        },
        "outputId": "e7cf47c8-519e-4df6-caa4-fd6126452c58"
      },
      "source": [
        "dL_dY = np.random.randn(4, 2)\n",
        "dL_dX = np.dot(dL_dY, W.T)\n",
        "dL_dW = np.dot(X.T, dL_dY)\n",
        "dL_dB = np.sum(dL_dY, axis=0)\n",
        "\n",
        "print(\"dL_dY\\n{}\".format(dL_dY))\n",
        "print(\"dL_dX\\n{}\".format(dL_dX))\n",
        "print(\"dL_dW\\n{}\".format(dL_dW))\n",
        "print(\"dL_dB\\n{}\".format(dL_dB))"
      ],
      "execution_count": 109,
      "outputs": [
        {
          "output_type": "stream",
          "name": "stdout",
          "text": [
            "dL_dY\n",
            "[[-0.1065564   0.1521406 ]\n",
            " [-0.43281712 -0.52430942]\n",
            " [-1.50574561 -0.48805656]\n",
            " [-0.03373437 -1.35710427]]\n",
            "dL_dX\n",
            "[[ 0.10270704  0.04905886 -0.03620961]\n",
            " [-0.4977172  -0.66257753 -0.18526171]\n",
            " [-0.66148682 -1.29707348 -0.59985643]\n",
            " [-1.09301937 -1.04473876 -0.05843777]]\n",
            "dL_dW\n",
            "[[-1.15545479 -1.11749372]\n",
            " [-0.51539945 -0.15584081]\n",
            " [-1.1144895  -0.83118272]]\n",
            "dL_dB\n",
            "[-2.0788535  -2.21732966]\n"
          ]
        }
      ]
    },
    {
      "cell_type": "code",
      "metadata": {
        "id": "YjIYrXGaJtEz"
      },
      "source": [
        "class Layer():\n",
        "  def __init__(self):\n",
        "    self.W = np.random.randn(3,2)\n",
        "    self.b = np.random.randn(2)\n",
        "    self.x = None\n",
        "    self.dW = None\n",
        "    self.db = None\n",
        "\n",
        "  def forward(self, x):\n",
        "    self.x = x\n",
        "    out = np.dot(x, self.W) + self.b\n",
        "    return out\n",
        "\n",
        "  def backward(self, dout):\n",
        "    dx = np.dot(dout, self.W.T)\n",
        "    self.dW = np.dot(self.x.T, dout)\n",
        "    self.db = np.sum(dout, axis = 0)\n",
        "    return dx\n"
      ],
      "execution_count": 110,
      "outputs": []
    },
    {
      "cell_type": "code",
      "metadata": {
        "id": "twG43EylJvC-"
      },
      "source": [
        "np.random.seed(111)\n",
        "\n",
        "layer = Layer()"
      ],
      "execution_count": 111,
      "outputs": []
    },
    {
      "cell_type": "code",
      "metadata": {
        "id": "CrCDxHw5Jw3S",
        "colab": {
          "base_uri": "https://localhost:8080/"
        },
        "outputId": "fa89f2ca-fa8e-4da3-d1db-f22fc34fe283"
      },
      "source": [
        "X = np.random.rand(2,3)\n",
        "Y = layer.forward(X)\n",
        "\n",
        "print(X)"
      ],
      "execution_count": 112,
      "outputs": [
        {
          "output_type": "stream",
          "name": "stdout",
          "text": [
            "[[0.23868214 0.33765619 0.99071246]\n",
            " [0.23772645 0.08119266 0.66960024]]\n"
          ]
        }
      ]
    },
    {
      "cell_type": "code",
      "metadata": {
        "id": "boKm8OIgJyJy",
        "colab": {
          "base_uri": "https://localhost:8080/"
        },
        "outputId": "dc485b27-d3f6-4f0f-8ba8-27c0f36fe6cd"
      },
      "source": [
        "dout = np.random.rand(2,2)\n",
        "dout_dx = layer.backward(dout)\n",
        "\n",
        "print(dout_dx)"
      ],
      "execution_count": 113,
      "outputs": [
        {
          "output_type": "stream",
          "name": "stdout",
          "text": [
            "[[-0.59898814  0.83225859 -0.61525238]\n",
            " [-0.48312871  0.65565961 -0.42154775]]\n"
          ]
        }
      ]
    },
    {
      "cell_type": "markdown",
      "metadata": {
        "id": "Bz-0zFPpJ3Jz"
      },
      "source": [
        "### MNIST 분류 with 역전파\n"
      ]
    },
    {
      "cell_type": "markdown",
      "metadata": {
        "id": "eW3InPxBJ6qo"
      },
      "source": [
        "#### Modules Import"
      ]
    },
    {
      "cell_type": "code",
      "metadata": {
        "id": "ZKtAhkm4J2Z3"
      },
      "source": [
        "import tensorflow as tf\n",
        "import numpy as np\n",
        "import matplotlib.pyplot as plt\n",
        "plt.style.use(['seaborn-whitegrid'])\n",
        "\n",
        "from collections import OrderedDict"
      ],
      "execution_count": 114,
      "outputs": []
    },
    {
      "cell_type": "markdown",
      "source": [
        "### collections\n",
        "* namedtuple() : 이름 붙은 필드를 갖는 튜플 서브 클래스를 만들기 위한 팩토리 함수\n",
        "```\n",
        "Point = namedtuple('Point', ['x', 'y'])\n",
        "p = Point(11, y=22)     \n",
        "p[0] + p[1]             \n",
        ">>> 33\n",
        "x, y = p                \n",
        "x, y\n",
        ">>> (11, 22)\n",
        "p.x + p.y               \n",
        ">>> 33\n",
        "p                       \n",
        ">>> Point(x=11, y=22)\n",
        "```\n",
        "\n",
        "* deque : 양쪽 끝에서 빠르게 추가와 삭제를 할 수 있는 리스트류 컨테이너\n",
        "```\n",
        "   d = deque('ghi')                 \n",
        "   for elem in d:                   \n",
        "    print(elem.upper())\n",
        "    >>> G\n",
        "    >>> H\n",
        "    >>> I\n",
        "```\n",
        "\n",
        "* ChainMap : 여러 매핑의 단일 뷰를 만드는 딕셔너리류 클래스\n",
        "```\n",
        "  baseline = {'music': 'bach', 'art': 'rembrandt'}\n",
        "  adjustments = {'art': 'van gogh', 'opera': 'carmen'}\n",
        "    list(ChainMap(adjustments, baseline))\n",
        "  >>> ['music', 'art', 'opera']\n",
        "```\n",
        "\n",
        "* Counter : 해시 가능한 객체를 세는 데 사용하는 딕셔너리 서브 클래스\n",
        "```\n",
        "  cnt = Counter()\n",
        "  for word in ['red', 'blue', 'red', 'green', 'blue', 'blue']:\n",
        "    cnt[word] += 1\n",
        "  cnt\n",
        "  >>> Counter({'blue': 3, 'red': 2, 'green': 1})\n",
        "```\n",
        "\n",
        "* OrderedDict : 항목이 추가된 순서를 기억하는 딕셔너리 서브 클래스\n",
        "```\n",
        "d = OrderedDict.fromkeys('abcde')\n",
        "d.move_to_end('b')\n",
        "''.join(d)\n",
        ">>> 'acdeb'\n",
        "d.move_to_end('b', last=False)\n",
        "''.join(d)\n",
        ">>> 'bacde'\n",
        "```\n",
        "\n",
        "* defaultdict : 누락된 값을 제공하기 위해 팩토리 함수를 호출하는 딕셔너리 서브 클래스\n",
        "```\n",
        "  s = [('yellow', 1), ('blue', 2), ('yellow', 3), ('blue', 4), ('red', 1)]\n",
        "  d = defaultdict(list)\n",
        "  for k, v in s:\n",
        "    d[k].append(v)\n",
        "  sorted(d.items())\n",
        ">>>[('blue', [2, 4]), ('red', [1]), ('yellow', [1, 3])]\n",
        "```\n",
        "\n",
        "* UserDict :더 쉬운 딕셔너리 서브 클래싱을 위해 딕셔너리 객체를 감싸는 래퍼\n",
        "* UserList : 더 쉬운 리스트 서브 클래싱을 위해 리스트 객체를 감싸는 래퍼\n",
        "* UserString : 더 쉬운 문자열 서브 클래싱을 위해 문자열 객체를 감싸는 래퍼"
      ],
      "metadata": {
        "id": "jVTlIEten43g"
      }
    },
    {
      "cell_type": "markdown",
      "metadata": {
        "id": "F1_2_jGMKGiT"
      },
      "source": [
        "#### 데이터 로드"
      ]
    },
    {
      "cell_type": "code",
      "metadata": {
        "id": "S3SQq80sJ8mR"
      },
      "source": [
        "np.random.seed(42)\n",
        "mnist = tf.keras.datasets.mnist\n",
        "\n",
        "(X_train, y_train), (X_test, y_test) = mnist.load_data()\n",
        "\n",
        "num_classes = 10"
      ],
      "execution_count": 115,
      "outputs": []
    },
    {
      "cell_type": "markdown",
      "metadata": {
        "id": "mv_pjKdxKKIy"
      },
      "source": [
        "#### 데이터 전처리"
      ]
    },
    {
      "cell_type": "code",
      "metadata": {
        "id": "B95lI86tKIyY"
      },
      "source": [
        "X_train, X_test = X_train.reshape(-1, 28 * 28).astype(np.float32), X_test.reshape(-1, 28 * 28).astype(np.float32)\n",
        "\n",
        "X_train /= .255\n",
        "X_test /= .255\n",
        "\n",
        "#eye 1 대각행렬\n",
        "y_train = np.eye(num_classes)[y_train]\n",
        "#y_train =  tf.one_hot(y_train, depth =10).numpy()\n",
        "#print(y_train)"
      ],
      "execution_count": 116,
      "outputs": []
    },
    {
      "cell_type": "code",
      "metadata": {
        "id": "ar7DZIlMKLjJ",
        "colab": {
          "base_uri": "https://localhost:8080/"
        },
        "outputId": "5f4349dd-f689-4388-8312-5a6a76c4ab57"
      },
      "source": [
        "print(X_train.shape)\n",
        "print(y_train.shape)\n",
        "print(X_test.shape)\n",
        "print(y_test.shape)"
      ],
      "execution_count": 117,
      "outputs": [
        {
          "output_type": "stream",
          "name": "stdout",
          "text": [
            "(60000, 784)\n",
            "(60000, 10)\n",
            "(10000, 784)\n",
            "(10000,)\n"
          ]
        }
      ]
    },
    {
      "cell_type": "markdown",
      "metadata": {
        "id": "Oye4pC82KPbg"
      },
      "source": [
        "#### Hyper Parameters"
      ]
    },
    {
      "cell_type": "code",
      "metadata": {
        "id": "rFeXORJjKM7s"
      },
      "source": [
        "epochs = 1000\n",
        "lr = 1e-3\n",
        "batch_size = 100\n",
        "train_size = X_train.shape[0]"
      ],
      "execution_count": 118,
      "outputs": []
    },
    {
      "cell_type": "markdown",
      "metadata": {
        "id": "cIdzuyRDKSm0"
      },
      "source": [
        "#### Util Functions"
      ]
    },
    {
      "cell_type": "code",
      "metadata": {
        "id": "8E2_fN1dKRzv"
      },
      "source": [
        "def softmax(x):\n",
        "  if x.ndim == 2:\n",
        "    x = x.T\n",
        "    x = x - np.max(x, axis=0)\n",
        "    y = np.exp(x) / np.sum(np.exp(x), axis=0)\n",
        "    return y.T\n",
        "\n",
        "  x = x - np.max(x)\n",
        "  return np.exp(x) / np.sum(np.exp(x))\n",
        "\n",
        "def mean_squared_error(pred_y, true_y):\n",
        "  return 0.5 * (np.sum((true_y - pred_y)**2))\n",
        "\n",
        "def cross_entropy_error(pred_y, true_y):\n",
        "  if true_y.ndim == 1:\n",
        "    true_y = true_y.reshape(1, true_y.size)\n",
        "    pred_y = pred_y.reshape(1, pred_y.size)\n",
        "\n",
        "  if true_y.size == pred_y.size:\n",
        "    true_y = true_y.argmax(axis=1)\n",
        "\n",
        "  batch_size = pred_y.shape[0]\n",
        "\n",
        "  delta = 1e-7\n",
        "  return -np.sum(np.log(pred_y[np.arange(batch_size), true_y] + delta)) / batch_size\n",
        "\n",
        "def softmax_loss(X, true_y):\n",
        "  pred_y = softmax(x)\n",
        "  return cross_entropy_error(pred_y, true_y)"
      ],
      "execution_count": 131,
      "outputs": []
    },
    {
      "cell_type": "markdown",
      "metadata": {
        "id": "SBvWUNh-KY2R"
      },
      "source": [
        "#### Util Classes"
      ]
    },
    {
      "cell_type": "markdown",
      "metadata": {
        "id": "rc0sLXWJs8Dq"
      },
      "source": [
        "##### ReLU"
      ]
    },
    {
      "cell_type": "code",
      "metadata": {
        "id": "ej2m6Robs-uJ"
      },
      "source": [
        "class ReLU():\n",
        "\n",
        "  def __init__(self):\n",
        "    self.out = None\n",
        "\n",
        "  def forward(self, x):\n",
        "    self.mask = (x < 0)\n",
        "    out = x.copy()\n",
        "    out[x < 0] = 0\n",
        "    return out\n",
        "\n",
        "  def backward(self, dout):\n",
        "    dout[self.mask] = 0\n",
        "    dx = dout\n",
        "    return dx"
      ],
      "execution_count": 120,
      "outputs": []
    },
    {
      "cell_type": "markdown",
      "metadata": {
        "id": "RucLfG0EtYcf"
      },
      "source": [
        "##### Sigmoid"
      ]
    },
    {
      "cell_type": "code",
      "metadata": {
        "id": "TWoPmtpNtZ__"
      },
      "source": [
        "class Sigmoid:\n",
        "\n",
        "  def __init__(self):\n",
        "    self.out = None\n",
        "\n",
        "  def forward(self, x):\n",
        "    out = 1 / (1+np.exp(-x))\n",
        "    return out\n",
        "\n",
        "  def backward(self, dout):\n",
        "    dx = dout * (1.0 - self.out) * self.dout\n",
        "    return dx  "
      ],
      "execution_count": 121,
      "outputs": []
    },
    {
      "cell_type": "markdown",
      "metadata": {
        "id": "IZZeNtd-tuM5"
      },
      "source": [
        "##### Layer"
      ]
    },
    {
      "cell_type": "code",
      "metadata": {
        "id": "NEcCZ4bFtzgq"
      },
      "source": [
        "class Layer():\n",
        "  def __init__(self, W, b):\n",
        "    self.W = W\n",
        "    self.b = b\n",
        "\n",
        "    self.x = None\n",
        "    self.origin_x_shape = None\n",
        "\n",
        "    self.dL_dW = None\n",
        "    self.dL_db = None\n",
        "\n",
        "  def forward(self, x):\n",
        "    self.origin_x_shape = x.shape\n",
        "\n",
        "    x = x.reshape(x.shape[0], -1)\n",
        "    self.x = x\n",
        "\n",
        "    out = np.dot(self.x, self.W) + self.b\n",
        "    return out\n",
        "\n",
        "  def backward(self, dout):\n",
        "    dx = np.dot(dout, self.W.T)\n",
        "    self.dL_dW = np.dot(self.x.T, dout)\n",
        "    self.dL_db = np.sum(dout, axis = 0)\n",
        "    dx = dx.reshape(*self.origin_x_shape)\n",
        "    return dx\n"
      ],
      "execution_count": 122,
      "outputs": []
    },
    {
      "cell_type": "markdown",
      "metadata": {
        "id": "s1Yqp7kVvOoD"
      },
      "source": [
        "#### Softmax"
      ]
    },
    {
      "cell_type": "code",
      "metadata": {
        "id": "0RXBVEMdvP9r"
      },
      "source": [
        "class Softmax():\n",
        "\n",
        "  def __init__(self):\n",
        "    self.loss = None\n",
        "    self.y = None\n",
        "    self.t = None\n",
        "\n",
        "  def forward(self, x, t):\n",
        "    self.t = t\n",
        "    self.y = softmax(x)\n",
        "    self.loss = cross_entropy_error(self.y, self.t)\n",
        "\n",
        "    return self.loss\n",
        "\n",
        "  def backward(self, dout=1):\n",
        "    batch_size = self.t.shape[0]\n",
        "\n",
        "    if self.t.size == self.y.size:\n",
        "      dx = (self.y - self.t) / batch_size\n",
        "    else:\n",
        "      dx = self.y.copy()\n",
        "      dx[np.arange(batch_size), self.t] -= 1\n",
        "      dx = dx / batch_size\n",
        "\n",
        "    return dx"
      ],
      "execution_count": 123,
      "outputs": []
    },
    {
      "cell_type": "code",
      "metadata": {
        "id": "sX4I-bKfuRaq"
      },
      "source": [
        "class MyModel():\n",
        "\n",
        "  def __init__(self, input_size, hidden_size_list, output_size, activation='relu'):\n",
        "    self.input_size = input_size\n",
        "    self.output_size = output_size\n",
        "    self.hidden_size_list = hidden_size_list\n",
        "    self.hidden_layer_num = len(hidden_size_list)\n",
        "    self.params = {}\n",
        "\n",
        "    self.__init_weights(activation)\n",
        "\n",
        "    activation_layer = {'sigmoid': Sigmoid, 'relu': ReLU}\n",
        "    \n",
        "    self.layers = OrderedDict()\n",
        "    for idx in range(1, self.hidden_layer_num + 1):\n",
        "      self.layers['Layer' + str(idx)] = Layer(self.params['W'+ str(idx)], self.params['b'+ str(idx)])\n",
        "      self.layers['Activation_function' + str(idx)] = activation_layer[activation]()\n",
        "      #print(self.layers.popitem(idx))\n",
        "\n",
        "    idx = self.hidden_layer_num + 1\n",
        "\n",
        "    self.layers['Layer' + str(idx)] = Layer(self.params['W' + str(idx)], self.params['b' + str(idx)])\n",
        "    #print(self.layers.popitem(idx))\n",
        "\n",
        "    self.last_layer = Softmax()\n",
        "\n",
        "  def __init_weights(self, activation):\n",
        "    weight_std = None\n",
        "    all_size_list = [self.input_size] + self.hidden_size_list + [self.output_size]\n",
        "    for idx in range(1, len(all_size_list)):\n",
        "      if activation.lower() == \"relu\":\n",
        "        weight_std = np.sqrt(2.0 / self.input_size)\n",
        "      elif activation.lower() == \"sigmoid\":\n",
        "        weight_std = np.sqrt(1.0 / self.input_size)\n",
        "\n",
        "      self.params['W' + str(idx)] = weight_std * np.random.randn(all_size_list[idx-1], all_size_list[idx])\n",
        "      self.params['b' + str(idx)] = np.random.randn(all_size_list[idx])\n",
        "    \n",
        "  def predict(self, x):\n",
        "    for layer in self.layers.values():\n",
        "      x = layer.forward(x)\n",
        "\n",
        "    return x\n",
        "\n",
        "  def loss(self, x, true_y):\n",
        "    pred_y = self.predict(x)\n",
        "\n",
        "    return self.last_layer.forward(pred_y, true_y)\n",
        "\n",
        "  def accuracy(self, x, true_y):\n",
        "    pred_y = self.predict(x)\n",
        "    pred_y = np.argmax(pred_y, axis =1)\n",
        "\n",
        "    if true_y.ndim != 1:\n",
        "      true_y = np.argmax(true_y, axis =1)\n",
        "\n",
        "    accuracy = np.sum(pred_y == true_y) / float(x.shape[0])\n",
        "    return accuracy\n",
        "\n",
        "  def gradient(self, x, t):\n",
        "    self.loss(x, t)\n",
        "\n",
        "    dout = 1\n",
        "    dout = self.last_layer.backward(dout)\n",
        "\n",
        "    layers = list(self.layers.values())\n",
        "    layers.reverse()\n",
        "    for layer in layers:\n",
        "      dout = layer.backward(dout)\n",
        "\n",
        "    grads = {}\n",
        "    for idx in range(1, self.hidden_layer_num + 2):\n",
        "      grads['W' + str(idx)] = self.layers['Layer' + str(idx)].dL_dW\n",
        "      grads['b' + str(idx)] = self.layers['Layer' + str(idx)].dL_db\n",
        "\n",
        "    return grads\n"
      ],
      "execution_count": 142,
      "outputs": []
    },
    {
      "cell_type": "markdown",
      "metadata": {
        "id": "LwyNo3TsyDZR"
      },
      "source": [
        "#### 모델 생성 및 학습"
      ]
    },
    {
      "cell_type": "code",
      "metadata": {
        "id": "Du5naLufxMvv",
        "colab": {
          "base_uri": "https://localhost:8080/"
        },
        "outputId": "26de952a-3b45-461e-c8d2-87639f32c02d"
      },
      "source": [
        "model = MyModel(28 * 28, [100,64,32], 10, activation='relu')"
      ],
      "execution_count": 143,
      "outputs": [
        {
          "output_type": "stream",
          "name": "stdout",
          "text": [
            "('Activation_function1', <__main__.ReLU object at 0x7ff24592b950>)\n",
            "('Activation_function2', <__main__.ReLU object at 0x7ff24592bf10>)\n",
            "('Activation_function3', <__main__.ReLU object at 0x7ff24592b210>)\n",
            "('Layer4', <__main__.Layer object at 0x7ff24592b210>)\n"
          ]
        }
      ]
    },
    {
      "cell_type": "code",
      "metadata": {
        "id": "Rb0HhW9x0mrN"
      },
      "source": [
        "train_loss_list = []\n",
        "train_acc_list = []\n",
        "test_acc_list = []"
      ],
      "execution_count": 126,
      "outputs": []
    },
    {
      "cell_type": "code",
      "metadata": {
        "id": "VV5PciwAxM6s",
        "colab": {
          "base_uri": "https://localhost:8080/"
        },
        "outputId": "a6775522-2bf7-48a0-af06-299b6b5c28b4"
      },
      "source": [
        "for epoch in range(epochs):\n",
        "  batch_mask = np.random.choice(train_size, batch_size)\n",
        "  x_batch = X_train[batch_mask]\n",
        "  y_batch = y_train[batch_mask]\n",
        "\n",
        "  grad = model.gradient(x_batch, y_batch)\n",
        "\n",
        "  for key in model.params.keys():\n",
        "    model.params[key] -= lr * grad[key]\n",
        "\n",
        "  loss = model.loss(x_batch, y_batch)\n",
        "  train_loss_list.append(loss)\n",
        "\n",
        "  if epoch % 50 == 0 :\n",
        "    train_acc = model.accuracy(X_train, y_train)\n",
        "    test_acc = model.accuracy(X_test, y_test)\n",
        "    train_acc_list.append(train_acc)\n",
        "    test_acc_list.append(test_acc)\n",
        "    print(\"Epch:{}, Train Acc{}, Test Acc{}\".format(epoch+1, train_acc, test_acc))"
      ],
      "execution_count": 132,
      "outputs": [
        {
          "output_type": "stream",
          "name": "stdout",
          "text": [
            "Epch:1, Train Acc0.12225, Test Acc0.137\n",
            "Epch:51, Train Acc0.6212333333333333, Test Acc0.6303\n",
            "Epch:101, Train Acc0.7068166666666666, Test Acc0.7192\n",
            "Epch:151, Train Acc0.7531833333333333, Test Acc0.7678\n",
            "Epch:201, Train Acc0.7761666666666667, Test Acc0.7859\n",
            "Epch:251, Train Acc0.7995, Test Acc0.8067\n",
            "Epch:301, Train Acc0.8070666666666667, Test Acc0.8136\n",
            "Epch:351, Train Acc0.8303833333333334, Test Acc0.8366\n",
            "Epch:401, Train Acc0.8390333333333333, Test Acc0.8436\n",
            "Epch:451, Train Acc0.8440333333333333, Test Acc0.846\n",
            "Epch:501, Train Acc0.84995, Test Acc0.8522\n",
            "Epch:551, Train Acc0.8600333333333333, Test Acc0.8581\n",
            "Epch:601, Train Acc0.8633166666666666, Test Acc0.8658\n",
            "Epch:651, Train Acc0.86775, Test Acc0.8659\n",
            "Epch:701, Train Acc0.8722666666666666, Test Acc0.8736\n",
            "Epch:751, Train Acc0.8804166666666666, Test Acc0.8779\n",
            "Epch:801, Train Acc0.8803833333333333, Test Acc0.88\n",
            "Epch:851, Train Acc0.8847833333333334, Test Acc0.8856\n",
            "Epch:901, Train Acc0.8841166666666667, Test Acc0.8869\n",
            "Epch:951, Train Acc0.8898, Test Acc0.8884\n"
          ]
        }
      ]
    },
    {
      "cell_type": "code",
      "metadata": {
        "id": "dqqlZOF6KjDl",
        "colab": {
          "base_uri": "https://localhost:8080/",
          "height": 262
        },
        "outputId": "96662c21-ebb8-4dd6-f484-24b8e9cd7270"
      },
      "source": [
        "plt.plot(np.arange(1000//50), train_acc_list, 'r--', label='train_acc')\n",
        "plt.plot(np.arange(1000//50), test_acc_list, 'b', label='test_acc')\n",
        "\n",
        "plt.show()"
      ],
      "execution_count": 133,
      "outputs": [
        {
          "output_type": "display_data",
          "data": {
            "text/plain": [
              "<Figure size 432x288 with 1 Axes>"
            ],
            "image/png": "[encoded data removed]"
          },
          "metadata": {}
        }
      ]
    },
    {
      "cell_type": "code",
      "metadata": {
        "id": "_BwHrt9nP8y8",
        "colab": {
          "base_uri": "https://localhost:8080/",
          "height": 262
        },
        "outputId": "e5e523a3-3c51-43f9-d1ef-b2a7c638e942"
      },
      "source": [
        "plt.plot(np.arange(1000), train_loss_list, 'green', label = 'train_loss')\n",
        "plt.show()"
      ],
      "execution_count": 134,
      "outputs": [
        {
          "output_type": "display_data",
          "data": {
            "text/plain": [
              "<Figure size 432x288 with 1 Axes>"
            ],
            "image/png": "[encoded data removed]"
          },
          "metadata": {}
        }
      ]
    }
  ]
}