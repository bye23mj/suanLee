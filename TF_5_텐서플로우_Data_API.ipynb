{
  "nbformat": 4,
  "nbformat_minor": 0,
  "metadata": {
    "colab": {
      "name": "TF_5 텐서플로우 Data API.ipynb",
      "provenance": [],
      "collapsed_sections": [],
      "include_colab_link": true
    },
    "kernelspec": {
      "name": "python3",
      "display_name": "Python 3"
    }
  },
  "cells": [
    {
      "cell_type": "markdown",
      "metadata": {
        "id": "view-in-github",
        "colab_type": "text"
      },
      "source": [
        "<a href=\"https://colab.research.google.com/github/bye23mj/suanLee/blob/main/TF_5_%ED%85%90%EC%84%9C%ED%94%8C%EB%A1%9C%EC%9A%B0_Data_API.ipynb\" target=\"_parent\"><img src=\"https://colab.research.google.com/assets/colab-badge.svg\" alt=\"Open In Colab\"/></a>"
      ]
    },
    {
      "cell_type": "markdown",
      "metadata": {
        "id": "pvT4Kena44U-"
      },
      "source": [
        "# Data API\n",
        "\n",
        "- `tf.data`: https://www.tensorflow.org/api_docs/python/tf/data\n",
        "- `tf.data.datasets`\n",
        "\n"
      ]
    },
    {
      "cell_type": "markdown",
      "metadata": {
        "id": "qMJ7xx8N882t"
      },
      "source": [
        "## tf.data.datasets"
      ]
    },
    {
      "cell_type": "code",
      "metadata": {
        "id": "uA_5y-rv5K0x"
      },
      "source": [
        "import tensorflow as tf\n",
        "import tensorflow_datasets as tfds"
      ],
      "execution_count": null,
      "outputs": []
    },
    {
      "cell_type": "code",
      "metadata": {
        "id": "_77BigY5g3hd",
        "colab": {
          "base_uri": "https://localhost:8080/"
        },
        "outputId": "8aca8acd-ac3d-4dc6-c0d2-080705fff11f"
      },
      "source": [
        "builders = tfds.list_builders()\n",
        "print(builders)"
      ],
      "execution_count": null,
      "outputs": [
        {
          "output_type": "stream",
          "name": "stdout",
          "text": [
            "['abstract_reasoning', 'accentdb', 'aeslc', 'aflw2k3d', 'ag_news_subset', 'ai2_arc', 'ai2_arc_with_ir', 'amazon_us_reviews', 'anli', 'arc', 'bair_robot_pushing_small', 'bccd', 'beans', 'big_patent', 'bigearthnet', 'billsum', 'binarized_mnist', 'binary_alpha_digits', 'blimp', 'bool_q', 'c4', 'caltech101', 'caltech_birds2010', 'caltech_birds2011', 'cars196', 'cassava', 'cats_vs_dogs', 'celeb_a', 'celeb_a_hq', 'cfq', 'chexpert', 'cifar10', 'cifar100', 'cifar10_1', 'cifar10_corrupted', 'citrus_leaves', 'cityscapes', 'civil_comments', 'clevr', 'clic', 'clinc_oos', 'cmaterdb', 'cnn_dailymail', 'coco', 'coco_captions', 'coil100', 'colorectal_histology', 'colorectal_histology_large', 'common_voice', 'coqa', 'cos_e', 'cosmos_qa', 'covid19sum', 'crema_d', 'curated_breast_imaging_ddsm', 'cycle_gan', 'deep_weeds', 'definite_pronoun_resolution', 'dementiabank', 'diabetic_retinopathy_detection', 'div2k', 'dmlab', 'downsampled_imagenet', 'dsprites', 'dtd', 'duke_ultrasound', 'emnist', 'eraser_multi_rc', 'esnli', 'eurosat', 'fashion_mnist', 'flic', 'flores', 'food101', 'forest_fires', 'fuss', 'gap', 'geirhos_conflict_stimuli', 'genomics_ood', 'german_credit_numeric', 'gigaword', 'glue', 'goemotions', 'gpt3', 'groove', 'gtzan', 'gtzan_music_speech', 'hellaswag', 'higgs', 'horses_or_humans', 'i_naturalist2017', 'imagenet2012', 'imagenet2012_corrupted', 'imagenet2012_real', 'imagenet2012_subset', 'imagenet_a', 'imagenet_r', 'imagenet_resized', 'imagenet_v2', 'imagenette', 'imagewang', 'imdb_reviews', 'irc_disentanglement', 'iris', 'kitti', 'kmnist', 'lfw', 'librispeech', 'librispeech_lm', 'libritts', 'ljspeech', 'lm1b', 'lost_and_found', 'lsun', 'malaria', 'math_dataset', 'mctaco', 'mnist', 'mnist_corrupted', 'movie_lens', 'movie_rationales', 'movielens', 'moving_mnist', 'multi_news', 'multi_nli', 'multi_nli_mismatch', 'natural_questions', 'natural_questions_open', 'newsroom', 'nsynth', 'nyu_depth_v2', 'omniglot', 'open_images_challenge2019_detection', 'open_images_v4', 'openbookqa', 'opinion_abstracts', 'opinosis', 'opus', 'oxford_flowers102', 'oxford_iiit_pet', 'para_crawl', 'patch_camelyon', 'paws_wiki', 'paws_x_wiki', 'pet_finder', 'pg19', 'places365_small', 'plant_leaves', 'plant_village', 'plantae_k', 'qa4mre', 'qasc', 'quickdraw_bitmap', 'radon', 'reddit', 'reddit_disentanglement', 'reddit_tifu', 'resisc45', 'robonet', 'rock_paper_scissors', 'rock_you', 'salient_span_wikipedia', 'samsum', 'savee', 'scan', 'scene_parse150', 'scicite', 'scientific_papers', 'sentiment140', 'shapes3d', 'smallnorb', 'snli', 'so2sat', 'speech_commands', 'spoken_digit', 'squad', 'stanford_dogs', 'stanford_online_products', 'starcraft_video', 'stl10', 'sun397', 'super_glue', 'svhn_cropped', 'ted_hrlr_translate', 'ted_multi_translate', 'tedlium', 'tf_flowers', 'the300w_lp', 'tiny_shakespeare', 'titanic', 'trec', 'trivia_qa', 'tydi_qa', 'uc_merced', 'ucf101', 'vctk', 'vgg_face2', 'visual_domain_decathlon', 'voc', 'voxceleb', 'voxforge', 'waymo_open_dataset', 'web_questions', 'wider_face', 'wiki40b', 'wikihow', 'wikipedia', 'wikipedia_toxicity_subtypes', 'wine_quality', 'winogrande', 'wmt14_translate', 'wmt15_translate', 'wmt16_translate', 'wmt17_translate', 'wmt18_translate', 'wmt19_translate', 'wmt_t2t_translate', 'wmt_translate', 'wordnet', 'xnli', 'xquad', 'xsum', 'yelp_polarity_reviews', 'yes_no']\n"
          ]
        }
      ]
    },
    {
      "cell_type": "code",
      "metadata": {
        "id": "wmRzwmofg3ef"
      },
      "source": [
        "data, info = tfds.load('mnist', with_info=True)\n",
        "train_data, test_data = data['train'], data['test']"
      ],
      "execution_count": null,
      "outputs": []
    },
    {
      "cell_type": "code",
      "metadata": {
        "id": "PgvmOxeYg3bi",
        "colab": {
          "base_uri": "https://localhost:8080/"
        },
        "outputId": "ba677af7-0c75-488a-970d-6ae54e9a5595"
      },
      "source": [
        "print(info)"
      ],
      "execution_count": null,
      "outputs": [
        {
          "output_type": "stream",
          "name": "stdout",
          "text": [
            "tfds.core.DatasetInfo(\n",
            "    name='mnist',\n",
            "    version=3.0.1,\n",
            "    description='The MNIST database of handwritten digits.',\n",
            "    homepage='http://yann.lecun.com/exdb/mnist/',\n",
            "    features=FeaturesDict({\n",
            "        'image': Image(shape=(28, 28, 1), dtype=tf.uint8),\n",
            "        'label': ClassLabel(shape=(), dtype=tf.int64, num_classes=10),\n",
            "    }),\n",
            "    total_num_examples=70000,\n",
            "    splits={\n",
            "        'test': 10000,\n",
            "        'train': 60000,\n",
            "    },\n",
            "    supervised_keys=('image', 'label'),\n",
            "    citation=\"\"\"@article{lecun2010mnist,\n",
            "      title={MNIST handwritten digit database},\n",
            "      author={LeCun, Yann and Cortes, Corinna and Burges, CJ},\n",
            "      journal={ATT Labs [Online]. Available: http://yann.lecun.com/exdb/mnist},\n",
            "      volume={2},\n",
            "      year={2010}\n",
            "    }\"\"\",\n",
            "    redistribution_info=,\n",
            ")\n",
            "\n"
          ]
        }
      ]
    },
    {
      "cell_type": "markdown",
      "metadata": {
        "id": "adN6woERhQrO"
      },
      "source": [
        "## tf.data\n",
        "\n",
        "- 생성\n",
        "  - `from_tensor_slices()`: 개별 또는 다중 넘파이를 받고, 배치를 지원\n",
        "\n",
        "  - `from_tensors()`: 배치를 지원하지 않음\n",
        "\n",
        "  - `from_generator()`: 생성자 함수에서 입력을 취함\n",
        "\n",
        "- 변환\n",
        "\n",
        "  - `batch()`: 순차적으로 지정한 배치사이즈로 데이터셋을 분할\n",
        "\n",
        "  - `repeat()`: 데이터를 복제\n",
        "\n",
        "  - `shuffle()`: 데이터를 무작위로 섞음\n",
        "\n",
        "  - `map()`: 데이터에 함수를 적용\n",
        "\n",
        "  - `filter()`: 데이터를 거르고자 할 때 사용\n",
        "- 반복\n",
        "  - `next_batch = iterator.get_next()` 사용"
      ]
    },
    {
      "cell_type": "markdown",
      "metadata": {
        "id": "51d2wkdMhTBn"
      },
      "source": [
        "### from_tensor_slices"
      ]
    },
    {
      "cell_type": "code",
      "metadata": {
        "id": "HWzGguIUg3Yi"
      },
      "source": [
        "import numpy as np"
      ],
      "execution_count": null,
      "outputs": []
    },
    {
      "cell_type": "code",
      "metadata": {
        "id": "aaO5aOqsg3Vf"
      },
      "source": [
        "num_items = 20\n",
        "num_list = np.arange(num_items)"
      ],
      "execution_count": null,
      "outputs": []
    },
    {
      "cell_type": "code",
      "metadata": {
        "id": "rFKz4nK2g3Sd"
      },
      "source": [
        "num_list_dataset = tf.data.Dataset.from_tensor_slices(num_list)"
      ],
      "execution_count": null,
      "outputs": []
    },
    {
      "cell_type": "code",
      "metadata": {
        "id": "gzqeoFS6g3Pg",
        "colab": {
          "base_uri": "https://localhost:8080/"
        },
        "outputId": "4b50bf87-5f5f-41ca-f47b-1f451953ac7d"
      },
      "source": [
        "num_list_dataset"
      ],
      "execution_count": null,
      "outputs": [
        {
          "output_type": "execute_result",
          "data": {
            "text/plain": [
              "<TensorSliceDataset element_spec=TensorSpec(shape=(), dtype=tf.int64, name=None)>"
            ]
          },
          "metadata": {},
          "execution_count": 66
        }
      ]
    },
    {
      "cell_type": "code",
      "metadata": {
        "id": "oBK4nAS7lpBJ",
        "colab": {
          "base_uri": "https://localhost:8080/"
        },
        "outputId": "2f225834-6a96-4be7-8dfc-a9c5cfb94bac"
      },
      "source": [
        "for item in num_list_dataset:\n",
        "  print(item.numpy())"
      ],
      "execution_count": null,
      "outputs": [
        {
          "output_type": "stream",
          "name": "stdout",
          "text": [
            "0\n",
            "1\n",
            "2\n",
            "3\n",
            "4\n",
            "5\n",
            "6\n",
            "7\n",
            "8\n",
            "9\n",
            "10\n",
            "11\n",
            "12\n",
            "13\n",
            "14\n",
            "15\n",
            "16\n",
            "17\n",
            "18\n",
            "19\n"
          ]
        }
      ]
    },
    {
      "cell_type": "markdown",
      "metadata": {
        "id": "8oSVGyqAsJz3"
      },
      "source": [
        "### from_generator()\n",
        "- 해당 클래스 메서드를 사용하면 생성자에서 데이터셋 생성 가능\n",
        "- output_types, output_shapes 인수로 출력 자료형과 크기를 지정해주어야 함"
      ]
    },
    {
      "cell_type": "code",
      "metadata": {
        "id": "5LEG6TzOsOAB",
        "colab": {
          "base_uri": "https://localhost:8080/"
        },
        "outputId": "6afb66b3-1e09-4213-f48b-8395cefde043"
      },
      "source": [
        "import itertools\n",
        "\n",
        "#yield : 메모리에 한 번에 올리기에는 부담스럽게 대용량의 파일을 읽거나, 스트림 데이터를 처리할 때 상당히 유용하게 사용\n",
        "def gen():\n",
        "  for i in itertools.count(1):\n",
        "    yield (i, [i] * i)\n",
        "\n",
        "dataset = tf.data.Dataset.from_generator(\n",
        "    gen,\n",
        "    (tf.int64, tf.int64),\n",
        "    (tf.TensorShape([]), tf.TensorShape([None]))\n",
        ")\n",
        "\n",
        "list(dataset.take(3).as_numpy_iterator())"
      ],
      "execution_count": null,
      "outputs": [
        {
          "output_type": "execute_result",
          "data": {
            "text/plain": [
              "[(1, array([1])), (2, array([2, 2])), (3, array([3, 3, 3]))]"
            ]
          },
          "metadata": {},
          "execution_count": 68
        }
      ]
    },
    {
      "cell_type": "code",
      "metadata": {
        "id": "P8X1Mn56sODk"
      },
      "source": [
        "#for item in dataset:\n",
        "#  print(item)  "
      ],
      "execution_count": null,
      "outputs": []
    },
    {
      "cell_type": "code",
      "metadata": {
        "id": "taha_e5QsN2U",
        "colab": {
          "base_uri": "https://localhost:8080/"
        },
        "outputId": "4713e305-fbb7-4f14-b79c-59f6e3467aa4"
      },
      "source": [
        "def gen(stop):\n",
        "  for i in itertools.count(1):\n",
        "    if i < stop:\n",
        "      yield(i, [1] * i)\n",
        "\n",
        "dataset = tf.data.Dataset.from_generator(\n",
        "    gen, args=[10],\n",
        "    output_types=(tf.int64, tf.int64),\n",
        "    output_shapes=(tf.TensorShape([]), tf.TensorShape([None]))\n",
        ")\n",
        "\n",
        "list(dataset.take(5).as_numpy_iterator())"
      ],
      "execution_count": null,
      "outputs": [
        {
          "output_type": "execute_result",
          "data": {
            "text/plain": [
              "[(1, array([1])),\n",
              " (2, array([1, 1])),\n",
              " (3, array([1, 1, 1])),\n",
              " (4, array([1, 1, 1, 1])),\n",
              " (5, array([1, 1, 1, 1, 1]))]"
            ]
          },
          "metadata": {},
          "execution_count": 70
        }
      ]
    },
    {
      "cell_type": "markdown",
      "metadata": {
        "id": "IQUCMAdilyA1"
      },
      "source": [
        "### batch, repeat\n",
        "- `batch()`: 배치 사이즈 크기\n",
        "- `repeat()`: 반복 횟수"
      ]
    },
    {
      "cell_type": "code",
      "metadata": {
        "id": "qJunKghtl0Mk"
      },
      "source": [
        "dataset = num_list_dataset.repeat(3).batch(7)"
      ],
      "execution_count": null,
      "outputs": []
    },
    {
      "cell_type": "code",
      "metadata": {
        "id": "EwNlE6d2l0Qy",
        "colab": {
          "base_uri": "https://localhost:8080/"
        },
        "outputId": "ceb493c5-a13e-4b78-ae4c-6fc6537add5a"
      },
      "source": [
        "for item in dataset:\n",
        "  print(item)  "
      ],
      "execution_count": null,
      "outputs": [
        {
          "output_type": "stream",
          "name": "stdout",
          "text": [
            "tf.Tensor([0 1 2 3 4 5 6], shape=(7,), dtype=int64)\n",
            "tf.Tensor([ 7  8  9 10 11 12 13], shape=(7,), dtype=int64)\n",
            "tf.Tensor([14 15 16 17 18 19  0], shape=(7,), dtype=int64)\n",
            "tf.Tensor([1 2 3 4 5 6 7], shape=(7,), dtype=int64)\n",
            "tf.Tensor([ 8  9 10 11 12 13 14], shape=(7,), dtype=int64)\n",
            "tf.Tensor([15 16 17 18 19  0  1], shape=(7,), dtype=int64)\n",
            "tf.Tensor([2 3 4 5 6 7 8], shape=(7,), dtype=int64)\n",
            "tf.Tensor([ 9 10 11 12 13 14 15], shape=(7,), dtype=int64)\n",
            "tf.Tensor([16 17 18 19], shape=(4,), dtype=int64)\n"
          ]
        }
      ]
    },
    {
      "cell_type": "code",
      "metadata": {
        "id": "cul1bFvImVxN"
      },
      "source": [
        "dataset = num_list_dataset.repeat(3).batch(7, drop_remainder=True)"
      ],
      "execution_count": null,
      "outputs": []
    },
    {
      "cell_type": "code",
      "metadata": {
        "id": "IHZ8JHIBmt_f",
        "colab": {
          "base_uri": "https://localhost:8080/"
        },
        "outputId": "c5299802-15fe-49ed-b3c2-6bc71a80619c"
      },
      "source": [
        "for item in dataset:\n",
        "  print(item)"
      ],
      "execution_count": null,
      "outputs": [
        {
          "output_type": "stream",
          "name": "stdout",
          "text": [
            "tf.Tensor([0 1 2 3 4 5 6], shape=(7,), dtype=int64)\n",
            "tf.Tensor([ 7  8  9 10 11 12 13], shape=(7,), dtype=int64)\n",
            "tf.Tensor([14 15 16 17 18 19  0], shape=(7,), dtype=int64)\n",
            "tf.Tensor([1 2 3 4 5 6 7], shape=(7,), dtype=int64)\n",
            "tf.Tensor([ 8  9 10 11 12 13 14], shape=(7,), dtype=int64)\n",
            "tf.Tensor([15 16 17 18 19  0  1], shape=(7,), dtype=int64)\n",
            "tf.Tensor([2 3 4 5 6 7 8], shape=(7,), dtype=int64)\n",
            "tf.Tensor([ 9 10 11 12 13 14 15], shape=(7,), dtype=int64)\n"
          ]
        }
      ]
    },
    {
      "cell_type": "markdown",
      "metadata": {
        "id": "xCAFfO6hmDDS"
      },
      "source": [
        "### map, filter\n",
        "- 전처리 단계에서 시행하여 원하지 않는 데이터를 거를 수 있음\n",
        "\n",
        "- `tf.Tensor` 자료형을 다룸"
      ]
    },
    {
      "cell_type": "code",
      "metadata": {
        "id": "lw37RX7KvN-K"
      },
      "source": [
        "from tensorflow.data import Dataset"
      ],
      "execution_count": null,
      "outputs": []
    },
    {
      "cell_type": "code",
      "metadata": {
        "id": "ubOuEgxal0Hv",
        "colab": {
          "base_uri": "https://localhost:8080/"
        },
        "outputId": "dd3455a4-160b-4672-939b-8f16f809d88b"
      },
      "source": [
        "dataset = Dataset.range(1,6)\n",
        "dataset = dataset.map(lambda x: x * 2)\n",
        "list(dataset.as_numpy_iterator())"
      ],
      "execution_count": null,
      "outputs": [
        {
          "output_type": "execute_result",
          "data": {
            "text/plain": [
              "[2, 4, 6, 8, 10]"
            ]
          },
          "metadata": {},
          "execution_count": 76
        }
      ]
    },
    {
      "cell_type": "code",
      "metadata": {
        "id": "jwxn37JRuzjV",
        "colab": {
          "base_uri": "https://localhost:8080/"
        },
        "outputId": "10a21b6d-0bc7-428c-c5a7-b6e429985360"
      },
      "source": [
        "dataset = Dataset.range(5)\n",
        "result = dataset.map(lambda x: x + 1)\n",
        "result"
      ],
      "execution_count": null,
      "outputs": [
        {
          "output_type": "execute_result",
          "data": {
            "text/plain": [
              "<MapDataset element_spec=TensorSpec(shape=(), dtype=tf.int64, name=None)>"
            ]
          },
          "metadata": {},
          "execution_count": 77
        }
      ]
    },
    {
      "cell_type": "code",
      "metadata": {
        "id": "FcwzArdpuzad",
        "colab": {
          "base_uri": "https://localhost:8080/"
        },
        "outputId": "60558737-a72d-4e77-b701-13d50a1b5355"
      },
      "source": [
        "elements = [(1, 'one'), (2, 'two'), (3, 'three')]\n",
        "dataset = Dataset.from_generator(lambda: elements, (tf.int32, tf.string))\n",
        "\n",
        "result = dataset.map(lambda x_int, y_str: x_int)\n",
        "list(result.as_numpy_iterator())"
      ],
      "execution_count": null,
      "outputs": [
        {
          "output_type": "execute_result",
          "data": {
            "text/plain": [
              "[1, 2, 3]"
            ]
          },
          "metadata": {},
          "execution_count": 78
        }
      ]
    },
    {
      "cell_type": "code",
      "metadata": {
        "id": "Tleeqc_GuzUX",
        "colab": {
          "base_uri": "https://localhost:8080/"
        },
        "outputId": "03dba1b0-818a-4917-9a70-917d1bdf1d88"
      },
      "source": [
        "dataset = Dataset.range(3)\n",
        "\n",
        "def g(x):\n",
        "  return tf.constant(10.5), tf.constant([\"One\", \"Two\", \"Three\"])\n",
        "\n",
        "result = dataset.map(g)\n",
        "result.element_spec"
      ],
      "execution_count": null,
      "outputs": [
        {
          "output_type": "execute_result",
          "data": {
            "text/plain": [
              "(TensorSpec(shape=(), dtype=tf.float32, name=None),\n",
              " TensorSpec(shape=(3,), dtype=tf.string, name=None))"
            ]
          },
          "metadata": {},
          "execution_count": 79
        }
      ]
    },
    {
      "cell_type": "code",
      "metadata": {
        "id": "0aRvH0yR0H1H",
        "colab": {
          "base_uri": "https://localhost:8080/"
        },
        "outputId": "67afd6e1-3659-4f39-c918-f659ffada46e"
      },
      "source": [
        "def h(x):\n",
        "  return 10.5, [\"One\", \"Two\", \"Three\"], np.array([1.0, 2.0], dtype=np.float64)\n",
        "\n",
        "result = dataset.map(h)\n",
        "result.element_spec"
      ],
      "execution_count": null,
      "outputs": [
        {
          "output_type": "execute_result",
          "data": {
            "text/plain": [
              "(TensorSpec(shape=(), dtype=tf.float32, name=None),\n",
              " TensorSpec(shape=(3,), dtype=tf.string, name=None),\n",
              " TensorSpec(shape=(2,), dtype=tf.float64, name=None))"
            ]
          },
          "metadata": {},
          "execution_count": 80
        }
      ]
    },
    {
      "cell_type": "code",
      "metadata": {
        "id": "YxvOUl4u0HxH",
        "colab": {
          "base_uri": "https://localhost:8080/"
        },
        "outputId": "900c171c-3c1f-4a89-8a45-79e52f2ff3aa"
      },
      "source": [
        "def i(x):\n",
        "  return 10.5, [12.5, 11.1], \"One\", \"Two\"\n",
        "\n",
        "result = dataset.map(i)\n",
        "result.element_spec"
      ],
      "execution_count": null,
      "outputs": [
        {
          "output_type": "execute_result",
          "data": {
            "text/plain": [
              "(TensorSpec(shape=(), dtype=tf.float32, name=None),\n",
              " TensorSpec(shape=(2,), dtype=tf.float32, name=None),\n",
              " TensorSpec(shape=(), dtype=tf.string, name=None),\n",
              " TensorSpec(shape=(), dtype=tf.string, name=None))"
            ]
          },
          "metadata": {},
          "execution_count": 81
        }
      ]
    },
    {
      "cell_type": "code",
      "metadata": {
        "id": "LeKdClAA0Vjy",
        "colab": {
          "base_uri": "https://localhost:8080/"
        },
        "outputId": "8ca0f5a2-3f19-4b12-acf5-46d909749e7b"
      },
      "source": [
        "dataset = Dataset.from_tensor_slices([1, 2, 3, 4, 5, 6, 7, 8, 9, 10])\n",
        "dataset = dataset.filter(lambda x: x !=5)\n",
        "list(dataset.as_numpy_iterator())"
      ],
      "execution_count": null,
      "outputs": [
        {
          "output_type": "execute_result",
          "data": {
            "text/plain": [
              "[1, 2, 3, 4, 6, 7, 8, 9, 10]"
            ]
          },
          "metadata": {},
          "execution_count": 82
        }
      ]
    },
    {
      "cell_type": "code",
      "metadata": {
        "id": "mnMR0g6Y0X8g",
        "colab": {
          "base_uri": "https://localhost:8080/"
        },
        "outputId": "69cb327f-ef71-459d-ea39-6af758b55ff9"
      },
      "source": [
        "def filter_fn(x):\n",
        "  return tf.math.equal(x, 1)\n",
        "\n",
        "dataset = dataset.filter(filter_fn)\n",
        "list(dataset.as_numpy_iterator())"
      ],
      "execution_count": null,
      "outputs": [
        {
          "output_type": "execute_result",
          "data": {
            "text/plain": [
              "[1]"
            ]
          },
          "metadata": {},
          "execution_count": 83
        }
      ]
    },
    {
      "cell_type": "markdown",
      "metadata": {
        "id": "MZlHtx9HiBnw"
      },
      "source": [
        "### shuffle, take"
      ]
    },
    {
      "cell_type": "code",
      "metadata": {
        "id": "yVjGXd0Zg3MV"
      },
      "source": [
        "dataset, info = tfds.load('imdb_reviews', with_info=True, as_supervised=True)"
      ],
      "execution_count": null,
      "outputs": []
    },
    {
      "cell_type": "code",
      "metadata": {
        "id": "aIYeC8XMg3JR",
        "colab": {
          "base_uri": "https://localhost:8080/"
        },
        "outputId": "b9baa810-e2cf-43fc-be69-ca430e994530"
      },
      "source": [
        "train_dataset = dataset['train']\n",
        "train_dataset = train_dataset.batch(5).shuffle(5).take(2)\n",
        "\n",
        "for data in train_dataset:\n",
        "  print(data)"
      ],
      "execution_count": null,
      "outputs": [
        {
          "output_type": "stream",
          "name": "stdout",
          "text": [
            "(<tf.Tensor: shape=(5,), dtype=string, numpy=\n",
            "array([b\"I can still remember first seeing this on TV. I couldn't believe TVNZ let it on! I had to own it! A lot of the humor will be lost on non-NZ'ers, but give it a go! <br /><br />Since finishing the Back of the Y series Matt and Chris have gone on to bigger and better(?) things. NZ's greatest dare-devil stuntman, Randy Campbell has often appeared on the British TV series Balls of Steel. Yes, he still f^@ks up all his stunts because he is too drunk.<br /><br />Also the 'house band' Deja Voodoo have since released 2 albums, Brown Sabbath and Back in Brown. The band consists of members of the Back of the Y team and singles such as 'I Would Give You One of My Beers (But I've Only Got 6)' and 'You Weren't Even Born in The 80's' continue their humor.<br /><br />The South-By-Southwest film festival also featured their feature length film 'The Devil Made Me Do It' which will be released early 2008 in NZ.<br /><br />All up, if you don't find these guys funny then you can just F%^K OFF!!\",\n",
            "       b'In a time of magic, barbarians and demons abound a diabolical tyrant named Nekhron and his mother Queen Juliane who lives in the realm of ice and wants to conquer the region of fire ruled by the King Jerol but when his beautiful daughter Princess Teegra has been kidnapped by Nekhron\\'s goons, a warrior named Larn must protect her and must defeat Nekhron from taking over the world and the kingdom with the help of an avenger named Darkwolf.<br /><br />A nicely done and excellent underrated animated fantasy epic that combines live actors with animation traced over them ( rotoscoping), it\\'s Ralph Bakshi\\'s second best movie only with \"American Pop\" being number one and \"Heavy Traffic\" being third and \"Wizards\" being fourth. It\\'s certainly better than his \"Cool World\" or \"Lord of the Rings\", the artwork is designed by famed artist Frank Farzetta and the animation has good coloring and there\\'s also a hottie for the guys.<br /><br />I highly recommend this movie to fantasy and animation lovers everywhere especially the new 2-Disc Limited Edition DVD from Blue Underground.<br /><br />Also recommended: \"The Black Cauldron\", \"The Dark Crystal\", \"Conan The Barbarian\", \"The Wizard of Oz\", \" Rock & Rule\", \"Wizards\", \"Heavy Metal\", \"Starchaser: Legend of Orin\", \"Fantastic Planet\", \" Princess Mononoke\", \" Nausicca: Valley of the Wind\", \" Conan The Destroyer\", \" Willow\", \" The Princess Bride\", \"Lord of the Rings ( 1978)\", \" The Sword in The Stone\", \" Excalibur\", \" Army of Darkness\", \" Krull\", \"Dragonheart\", \" King Arthur\", \" The Hobbit\", \" Return of the King ( 1980)\", \"Conquest\", \" American Pop\", \" Jason and The Argonauts\", \" Clash of the Titans\", \" The Last Unicorn\", \" The Secret of NIMH\", \"The Flight of Dragons\", \" Hercules (Disney)\", \" Legend\", \" The Chronicles of Narnia\", \" Harry Potter and The Goblet of Fire\".',\n",
            "       b'A pretty memorable movie of the animals-killing-people variety, specifically similar to \"Willard\" in that it stars an aging character actor (in this case, a step down a bit to the level of Les Tremayne, who puts in the only distinguished performance I\\'ve seen him give) in a role as a man whose life is unbalanced and who subsequently decides to use his animal friends to exact revenge on those who have wronged him. Yes, this is one of those movies where pretty much everybody is despicable, so that you will cheer when they die, and really the selection of actors, locations, etc. couldn\\'t be better at giving the film an atmosphere of shabby decadence.<br /><br />Tremayne\\'s character is \"Snakey Bender\", and he is certainly the most interesting thing about the movie: an aged snake collector who is obsessed with John Philip Souza\\'s music. When the local preacher clamps down on his practice of collecting small animals from the local schoolchildren as bait for his snakes, and his friend gets married to a stripper (thus upsetting his ritual Wednesday night band concert) he goes on the rampage, in the process creating a memorable pile-up of clunkers beneath the cliff where he dumps the wrecks after disposing of their unfortunate owners. One amusing game you can play while watching \"Snakes\" is to place bets on which cars will land the farthest down the cliff.<br /><br />All in all, very cheap and exploitative, but will really be a lot of fun for fans of these kinds of movies.',\n",
            "       b\"Except for an awkward scene, this refreshing fairy tale fantasy has a fun and delightful undercurrent of adult cynical wit that charms its way into the audience as well as a soundtrack that powerfully moves this fairy epic along. Except for one of the Robert DeNiro scenes that doesn't come across smooth and appears out of sync with the tone of the rest of the movie, this luscious romantic fairy tail has a great storytelling feel and the strong magic and the fine balance between serious adventure scenes and the lighter spiritual humor is well done. In the updated tradition of THE PRINCESS BRIDE this contemporary presentation of magic and love is captivating. Eight out of Ten Stars.\",\n",
            "       b'In this film we have the fabulous opportunity to see what happened to Timon and Pumbaa in the film when they are not shown - which is a lot! This film even goes back to before Simba and (presumbably) just after the birth of Kiara. <br /><br />Quite true to the first film, \"Lion King 1/2 (or Lion King 3 in other places)\" is a funny, entertaining, exciting and surprising film (or sequel if that\\'s what you want to call it). A bundle of surprises and hilarity await for you!<br /><br />While Timon and Pumbaa are watching a film at the cinema (with a remote control), Timon and Pumbaa have an argument of what point of \"The Lion King\" they are going to start watching, as Timon wants to go to the part when he and Pumbaa come in and Pumbaa wants to go back to the beginning. They have a very fair compromise of watching the film of their own story, which is what awaits... It starts with Timon\\'s first home...<br /><br />For anyone with a good sense of humour who liked the first films of just about any age, enjoy \"Lion King 1/2\"! :-)'],\n",
            "      dtype=object)>, <tf.Tensor: shape=(5,), dtype=int64, numpy=array([1, 1, 1, 1, 1])>)\n",
            "(<tf.Tensor: shape=(5,), dtype=string, numpy=\n",
            "array([b\"Well, i rented this movie and found out it realllllllly sucks. It is about that family with the stepmother and the same stupid fights in the family,then the cool son comes with his stupid camera and he likes to take a photo to damaged building and weird things and weird movie ,and then he asks his father to take him to a side trip and simply agrees, etc etc etc..... They go to that town which no one know it exists (blah blah blah) And the most annoying thing is that the movie ends and yet you don't understand what is THAT MOVIE!!!!I have seen many mystery movies but that was the worst, Honestly it doesn't have a description at all and i wish i didn't see it.\",\n",
            "       b'I actually had quite high hopes going into this movie, so I took what was given with a grain of salt and hoped for the best. About 1/3 of the way through the film I simply had to give up, quite simply the movie is a mish-mash of stuff happening for no apparent reason and it\\'s all disconnected. I love movies that make you think, but this movie was just a bunch of ideas thrown together and never really connected.<br /><br />Don\\'t think it\\'s David Lynch-esquire as some would have you believe, it is nowhere near that realm other than some trippy visuals. Saying it\\'s artsy to disguise the fact there\\'s no apparent plot or story is just a manner or justifying why you wasted the 1.5 hours in the film. The acting was good, but that cannot save lack of story. I do agree with the one comment posted previously... \"it\\'s like being in some other person\\'s head... while they\\'re on drugs,\" in other words nothing makes sense.',\n",
            "       b\"I liked the initial premise to this film which is what led me to hunt it out but the problem I quickly found is that one pretty much knows what's going to happen within the first 20-30 minutes ( the doubles will come from behind the mirror and take over everybody).<br /><br />There is no real twist (which is fine) , but the final reveal doesn't make a great deal of sense either (how can she be racked with uncertainty and fear for the whole film, if she's an evil id from beyond the mirror?).<br /><br />Admittedly the scenes 'beyond the mirror' were chilling when they first appeared and the blonde's murder is also effectively creepy, but ultimately alas this seems to be a film in search of a story or a more engaging script, piling atmosphere upon atmosphere and over the top scary sound design for 80-90 minutes does not really cut it, in fact it gets quite dull.\",\n",
            "       b\"My main problem with the film is that it goes on too long. Other then that, it's pretty good. Paul Muni plays a poor Chinese farmer who is about to get married through an arranged marriage. Luise Rainer is a servant girl who gets married to Muni. They live with Muni's father on a farm and they are doing pretty bad. When he finally gets some money to buy some more land, a drought hits and nothing is growing. Everybody stars to head north by Muni stays behind at first. When they leave and arrive at town they find that their are no jobs and they are worse off than before. They even think about selling their youngest daughter as a slave for some money but decide against it. When a bunch of people start looting the town, the military show up and start executing people . Paul Muni does a good job and Luise Rainer won a second oscar for this movie.\",\n",
            "       b\"This movie never made it to theaters in our area, so when it became available on DVD I was one of the first to rent it. For once, I should listened to the critics and passed on this one.<br /><br />Despite the excellent line up of actors the movie was very disappointing. I can see now why it went straight to video. <br /><br />I had thought that with Bloom, Ledger, and Rush it could have some value. All have done wonderful work in the past. <br /><br />The movie was slow moving and never pulled me in. I failed to develop much empathy for the characters and had to fight the urge to fast-forward just to get to the end. <br /><br />I do not recommend this film even if you are thinking of renting it for only for 'eye candy' purposes. It won't satisfy even that.\"],\n",
            "      dtype=object)>, <tf.Tensor: shape=(5,), dtype=int64, numpy=array([0, 0, 0, 1, 0])>)\n"
          ]
        }
      ]
    },
    {
      "cell_type": "markdown",
      "metadata": {
        "id": "4OqOaYk6k7wy"
      },
      "source": [
        "### get_next()"
      ]
    },
    {
      "cell_type": "code",
      "metadata": {
        "id": "m57rjJsskp8t",
        "colab": {
          "base_uri": "https://localhost:8080/"
        },
        "outputId": "b785b151-944c-425e-a337-3b4c52bead48"
      },
      "source": [
        "dataset = Dataset.range(2)\n",
        "for element in dataset:\n",
        "  print(element)"
      ],
      "execution_count": null,
      "outputs": [
        {
          "output_type": "stream",
          "name": "stdout",
          "text": [
            "tf.Tensor(0, shape=(), dtype=int64)\n",
            "tf.Tensor(1, shape=(), dtype=int64)\n"
          ]
        }
      ]
    },
    {
      "cell_type": "code",
      "metadata": {
        "id": "vitlC-JCkp4U",
        "colab": {
          "base_uri": "https://localhost:8080/"
        },
        "outputId": "c167a9e7-f044-41d9-bb09-97dccc990e0e"
      },
      "source": [
        "dataset = Dataset.range(2)\n",
        "iterator = iter(dataset)\n",
        "\n",
        "print(dataset)\n",
        "print(iterator.get_next())\n",
        "print(iterator.get_next())"
      ],
      "execution_count": null,
      "outputs": [
        {
          "output_type": "stream",
          "name": "stdout",
          "text": [
            "<RangeDataset element_spec=TensorSpec(shape=(), dtype=tf.int64, name=None)>\n",
            "tf.Tensor(0, shape=(), dtype=int64)\n",
            "tf.Tensor(1, shape=(), dtype=int64)\n"
          ]
        }
      ]
    },
    {
      "cell_type": "code",
      "metadata": {
        "id": "6o4XRcpLg3Fm",
        "colab": {
          "base_uri": "https://localhost:8080/"
        },
        "outputId": "15433133-f821-41f4-9176-35cbb6b3af5e"
      },
      "source": [
        "a = np.random.randint(0, 10, size=(2,3))\n",
        "print(a)\n",
        "\n",
        "dataset = Dataset.from_tensor_slices(a)\n",
        "iterator = iter(dataset)\n",
        "\n",
        "print(iterator.get_next())"
      ],
      "execution_count": null,
      "outputs": [
        {
          "output_type": "stream",
          "name": "stdout",
          "text": [
            "[[7 7 2]\n",
            " [1 1 3]]\n",
            "tf.Tensor([7 7 2], shape=(3,), dtype=int64)\n"
          ]
        }
      ]
    },
    {
      "cell_type": "markdown",
      "metadata": {
        "id": "oAK97VN4JObZ"
      },
      "source": [
        "## tf.dataset을 이용한 Fashion-MNIST 분류"
      ]
    },
    {
      "cell_type": "markdown",
      "metadata": {
        "id": "8FyGWr9h5s9m"
      },
      "source": [
        "### modules import"
      ]
    },
    {
      "cell_type": "code",
      "metadata": {
        "id": "wtumZQhkobI5"
      },
      "source": [
        "import matplotlib.pyplot as plt\n",
        "plt.style.use('seaborn-white')\n",
        "\n",
        "import tensorflow as tf\n",
        "from tensorflow.keras.layers import Dense, Input, Flatten, Dropout, Activation, BatchNormalization\n",
        "from tensorflow.keras.models import Model\n",
        "from tensorflow.keras.datasets.fashion_mnist import load_data\n"
      ],
      "execution_count": null,
      "outputs": []
    },
    {
      "cell_type": "markdown",
      "metadata": {
        "id": "VOTtgNwc3R6f"
      },
      "source": [
        "### 데이터 로드"
      ]
    },
    {
      "cell_type": "code",
      "metadata": {
        "id": "8434sHHjob1L"
      },
      "source": [
        "(x_train, y_train), (x_test, y_test) = load_data()"
      ],
      "execution_count": null,
      "outputs": []
    },
    {
      "cell_type": "code",
      "metadata": {
        "id": "bfxxi0TJ3kwq",
        "colab": {
          "base_uri": "https://localhost:8080/"
        },
        "outputId": "a6e2c450-1073-4ecc-a7c5-eec1abc97a44"
      },
      "source": [
        "print(x_train.shape)\n",
        "print(y_train.shape)\n",
        "print(x_test.shape)\n",
        "print(y_test.shape)"
      ],
      "execution_count": null,
      "outputs": [
        {
          "output_type": "stream",
          "name": "stdout",
          "text": [
            "(60000, 28, 28)\n",
            "(60000,)\n",
            "(10000, 28, 28)\n",
            "(10000,)\n"
          ]
        }
      ]
    },
    {
      "cell_type": "markdown",
      "metadata": {
        "id": "PPR9OD1w3mBQ"
      },
      "source": [
        "### 데이터 전처리"
      ]
    },
    {
      "cell_type": "code",
      "metadata": {
        "id": "U3W43mhxob4P"
      },
      "source": [
        "x_train = x_train / 255.\n",
        "x_test = x_test / 255."
      ],
      "execution_count": null,
      "outputs": []
    },
    {
      "cell_type": "markdown",
      "metadata": {
        "id": "nm8NM-QX32sf"
      },
      "source": [
        "### tf.data 이용"
      ]
    },
    {
      "cell_type": "code",
      "metadata": {
        "id": "VC9howR-obaW"
      },
      "source": [
        "train_ds = Dataset.from_tensor_slices((x_train, y_train))\n",
        "train_ds = train_ds.shuffle(1000)\n",
        "train_ds = train_ds.batch(32)\n",
        "\n",
        "test_ds = Dataset.from_tensor_slices((x_test, y_test))\n",
        "test_ds = test_ds.batch(32)"
      ],
      "execution_count": null,
      "outputs": []
    },
    {
      "cell_type": "code",
      "metadata": {
        "id": "FkbVvnrU5Idc"
      },
      "source": [
        "class_names = ['T-shirt/top', 'Trouser', 'Pullover', 'Dress', 'Coat', 'Sandal', 'Shirt', 'Sneaker', 'Bag', 'Ankle boot']"
      ],
      "execution_count": null,
      "outputs": []
    },
    {
      "cell_type": "markdown",
      "metadata": {
        "id": "aXJEB1qg4eB0"
      },
      "source": [
        "### 데이터 확인"
      ]
    },
    {
      "cell_type": "code",
      "metadata": {
        "id": "COlETHf2obVD",
        "colab": {
          "base_uri": "https://localhost:8080/",
          "height": 537
        },
        "outputId": "989a3725-a305-4ff9-eb08-d367ccf7efe3"
      },
      "source": [
        "for image, label in train_ds.take(2):\n",
        "  plt.title(\"{}\".format(class_names[label[0]]))\n",
        "  plt.imshow(image[0, :, :], cmap='gray')\n",
        "  plt.show()"
      ],
      "execution_count": null,
      "outputs": [
        {
          "output_type": "display_data",
          "data": {
            "text/plain": [
              "<Figure size 432x288 with 1 Axes>"
            ],
            "image/png": "[encoded data removed]"
          },
          "metadata": {}
        },
        {
          "output_type": "display_data",
          "data": {
            "text/plain": [
              "<Figure size 432x288 with 1 Axes>"
            ],
            "image/png": "[encoded data removed]"
          },
          "metadata": {}
        }
      ]
    },
    {
      "cell_type": "markdown",
      "metadata": {
        "id": "-2PTjY1D5g4L"
      },
      "source": [
        "### 모델 생성\n",
        "- 임의의 모델"
      ]
    },
    {
      "cell_type": "code",
      "metadata": {
        "id": "g29WUBIKobRN"
      },
      "source": [
        "def build_model():\n",
        "  input = Input(shape=(28, 28), name='input')\n",
        "  flatten = Flatten(input_shape=[28, 28], name='flatten')(input)\n",
        "  \n",
        "  hidden1 = Dense(256, kernel_initializer='he_normal', name='hidden1')(flatten)\n",
        "  hidden1 = BatchNormalization()(hidden1)\n",
        "  hidden1 = Activation('relu')(hidden1)\n",
        "  dropout1 = Dropout(0.5)(hidden1)\n",
        "\n",
        "  hidden2 = Dense(100, kernel_initializer='he_normal', name='hidden2')(dropout1)\n",
        "  hidden2 = BatchNormalization()(hidden2)\n",
        "  hidden2 = Activation('relu')(hidden2)\n",
        "  dropout2 = Dropout(0.5)(hidden2)\n",
        "\n",
        "  hidden3 = Dense(100, kernel_initializer='he_normal', name='hidden3')(dropout2)\n",
        "  hidden3 = BatchNormalization()(hidden3)\n",
        "  hidden3 = Activation('relu')(hidden3)\n",
        "  dropout3 = Dropout(0.5)(hidden3)\n",
        "\n",
        "  hidden4 = Dense(50, kernel_initializer='he_normal', name='hidden4')(dropout3)\n",
        "  hidden4 = BatchNormalization()(hidden4)\n",
        "  hidden4 = Activation('relu')(hidden4)\n",
        "  dropout4 = Dropout(0.5)(hidden4)  \n",
        "\n",
        "  output = Dense(10, activation='softmax', name='output')(dropout4)\n",
        "\n",
        "  model = Model(inputs=[input], outputs=output)\n",
        "\n",
        "  return model"
      ],
      "execution_count": null,
      "outputs": []
    },
    {
      "cell_type": "code",
      "metadata": {
        "id": "q7YYIDZq8iRN",
        "colab": {
          "base_uri": "https://localhost:8080/"
        },
        "outputId": "a9e7cdd5-9420-49be-a9b4-96b7aca84682"
      },
      "source": [
        "model = build_model()\n",
        "model.summary()"
      ],
      "execution_count": null,
      "outputs": [
        {
          "output_type": "stream",
          "name": "stdout",
          "text": [
            "Model: \"model_2\"\n",
            "_________________________________________________________________\n",
            " Layer (type)                Output Shape              Param #   \n",
            "=================================================================\n",
            " input (InputLayer)          [(None, 28, 28)]          0         \n",
            "                                                                 \n",
            " flatten (Flatten)           (None, 784)               0         \n",
            "                                                                 \n",
            " hidden1 (Dense)             (None, 256)               200960    \n",
            "                                                                 \n",
            " batch_normalization_12 (Bat  (None, 256)              1024      \n",
            " chNormalization)                                                \n",
            "                                                                 \n",
            " activation_12 (Activation)  (None, 256)               0         \n",
            "                                                                 \n",
            " dropout_12 (Dropout)        (None, 256)               0         \n",
            "                                                                 \n",
            " hidden2 (Dense)             (None, 100)               25700     \n",
            "                                                                 \n",
            " batch_normalization_13 (Bat  (None, 100)              400       \n",
            " chNormalization)                                                \n",
            "                                                                 \n",
            " activation_13 (Activation)  (None, 100)               0         \n",
            "                                                                 \n",
            " dropout_13 (Dropout)        (None, 100)               0         \n",
            "                                                                 \n",
            " hidden3 (Dense)             (None, 100)               10100     \n",
            "                                                                 \n",
            " batch_normalization_14 (Bat  (None, 100)              400       \n",
            " chNormalization)                                                \n",
            "                                                                 \n",
            " activation_14 (Activation)  (None, 100)               0         \n",
            "                                                                 \n",
            " dropout_14 (Dropout)        (None, 100)               0         \n",
            "                                                                 \n",
            " hidden4 (Dense)             (None, 50)                5050      \n",
            "                                                                 \n",
            " batch_normalization_15 (Bat  (None, 50)               200       \n",
            " chNormalization)                                                \n",
            "                                                                 \n",
            " activation_15 (Activation)  (None, 50)                0         \n",
            "                                                                 \n",
            " dropout_15 (Dropout)        (None, 50)                0         \n",
            "                                                                 \n",
            " output (Dense)              (None, 10)                510       \n",
            "                                                                 \n",
            "=================================================================\n",
            "Total params: 244,344\n",
            "Trainable params: 243,332\n",
            "Non-trainable params: 1,012\n",
            "_________________________________________________________________\n"
          ]
        }
      ]
    },
    {
      "cell_type": "code",
      "metadata": {
        "id": "qNlPrHBT9w-G"
      },
      "source": [
        ""
      ],
      "execution_count": null,
      "outputs": []
    },
    {
      "cell_type": "markdown",
      "metadata": {
        "id": "8noHcg8C6xMM"
      },
      "source": [
        "### 모델 컴파일\n",
        "- 평가(metrics)방식의 다른 방법\n",
        "  - `tf.keras.metrics.Mean`\n",
        "  - `tf.keras.metrics.SparseCategoricalAccuracy`\n",
        "\n",
        "- 위 두 방식을 사용하여 loss값을 좀 더 smooth하게 만들기(평균을 내는 방식)"
      ]
    },
    {
      "cell_type": "code",
      "metadata": {
        "id": "gpjwC1pa7pvI"
      },
      "source": [
        "loss_object = tf.keras.losses.SparseCategoricalCrossentropy()\n",
        "optimizer = tf.keras.optimizers.Adam()"
      ],
      "execution_count": null,
      "outputs": []
    },
    {
      "cell_type": "code",
      "metadata": {
        "id": "DSA2H53-6967"
      },
      "source": [
        "train_loss = tf.keras.metrics.Mean(name='train_loss')\n",
        "train_accurary = tf.keras.metrics.SparseCategoricalAccuracy('train_accuracy')\n",
        "\n",
        "test_loss = tf.keras.metrics.Mean(name='test_loss')\n",
        "test_accurary = tf.keras.metrics.SparseCategoricalAccuracy('test_accuracy')"
      ],
      "execution_count": null,
      "outputs": []
    },
    {
      "cell_type": "markdown",
      "metadata": {
        "id": "1uC7KjrU6WqL"
      },
      "source": [
        "### 모델 학습"
      ]
    },
    {
      "cell_type": "markdown",
      "metadata": {
        "id": "ZTF2mvFYRoj_"
      },
      "source": [
        "@tf.function 으로 인해 학습이 시작되면 그래프를 생성하여 속도가 빠름\n"
      ]
    },
    {
      "cell_type": "code",
      "metadata": {
        "id": "rRw0DDmqobEv"
      },
      "source": [
        "@tf.function\n",
        "def train_step(images, labels):\n",
        "  with tf.GradientTape() as tape:\n",
        "    predictions = model(images)\n",
        "    loss = loss_object(labels, predictions)\n",
        "\n",
        "  gradients = tape.gradient(loss, model.trainable_variables)\n",
        "  optimizer.apply_gradients(zip(gradients, model.trainable_variables))\n",
        "\n",
        "  train_loss(loss)\n",
        "  train_accurary(labels, predictions)"
      ],
      "execution_count": null,
      "outputs": []
    },
    {
      "cell_type": "code",
      "metadata": {
        "id": "rKoMJ7iJobB_"
      },
      "source": [
        "@tf.function\n",
        "def test_step(images, labels):\n",
        "  predictions = model(images)\n",
        "  t_loss = loss_object(labels, predictions)\n",
        "\n",
        "  test_loss(t_loss)\n",
        "  test_accurary(labels, predictions)"
      ],
      "execution_count": null,
      "outputs": []
    },
    {
      "cell_type": "code",
      "metadata": {
        "id": "sYkJhFWIoa_m",
        "colab": {
          "base_uri": "https://localhost:8080/"
        },
        "outputId": "913ac39c-1dbf-4a0b-a588-c5bf1455f775"
      },
      "source": [
        "epochs = 20\n",
        "\n",
        "for epoch in range(epochs):\n",
        "  for images, labels in train_ds:\n",
        "    train_step(images, labels)\n",
        "\n",
        "  for test_images, test_labels in test_ds:\n",
        "    test_step(test_images, test_labels)\n",
        "\n",
        "  template = \"Epochs:{:3d}\\tLoss: {:.4f}\\tAccuracy: {:.4f}\\tTest Loss: {:.4f}\\tTest Accuracy: {:.4f}\\t\"\n",
        "  print(template.format(epoch+1,\n",
        "                        train_loss.result(),\n",
        "                        train_accurary.result()*100,\n",
        "                        test_loss.result(),\n",
        "                        test_accurary.result()*100))\n"
      ],
      "execution_count": null,
      "outputs": [
        {
          "output_type": "stream",
          "name": "stdout",
          "text": [
            "Epochs:  1\tLoss: 0.4895\tAccuracy: 82.1483\tTest Loss: 0.4087\tTest Accuracy: 85.2300\t\n",
            "Epochs:  2\tLoss: 0.4308\tAccuracy: 84.2108\tTest Loss: 0.3920\tTest Accuracy: 85.8350\t\n",
            "Epochs:  3\tLoss: 0.3986\tAccuracy: 85.3728\tTest Loss: 0.3856\tTest Accuracy: 86.1400\t\n",
            "Epochs:  4\tLoss: 0.3771\tAccuracy: 86.0975\tTest Loss: 0.3767\tTest Accuracy: 86.4600\t\n",
            "Epochs:  5\tLoss: 0.3604\tAccuracy: 86.6773\tTest Loss: 0.3690\tTest Accuracy: 86.7740\t\n",
            "Epochs:  6\tLoss: 0.3467\tAccuracy: 87.1683\tTest Loss: 0.3641\tTest Accuracy: 86.9817\t\n",
            "Epochs:  7\tLoss: 0.3352\tAccuracy: 87.5731\tTest Loss: 0.3628\tTest Accuracy: 87.0543\t\n",
            "Epochs:  8\tLoss: 0.3253\tAccuracy: 87.9258\tTest Loss: 0.3609\tTest Accuracy: 87.1600\t\n",
            "Epochs:  9\tLoss: 0.3164\tAccuracy: 88.2541\tTest Loss: 0.3584\tTest Accuracy: 87.2356\t\n",
            "Epochs: 10\tLoss: 0.3084\tAccuracy: 88.5288\tTest Loss: 0.3559\tTest Accuracy: 87.3800\t\n",
            "Epochs: 11\tLoss: 0.3012\tAccuracy: 88.7789\tTest Loss: 0.3540\tTest Accuracy: 87.4536\t\n",
            "Epochs: 12\tLoss: 0.2944\tAccuracy: 89.0200\tTest Loss: 0.3537\tTest Accuracy: 87.5083\t\n",
            "Epochs: 13\tLoss: 0.2882\tAccuracy: 89.2417\tTest Loss: 0.3539\tTest Accuracy: 87.5646\t\n",
            "Epochs: 14\tLoss: 0.2824\tAccuracy: 89.4450\tTest Loss: 0.3533\tTest Accuracy: 87.6350\t\n",
            "Epochs: 15\tLoss: 0.2768\tAccuracy: 89.6466\tTest Loss: 0.3543\tTest Accuracy: 87.6873\t\n",
            "Epochs: 16\tLoss: 0.2717\tAccuracy: 89.8217\tTest Loss: 0.3540\tTest Accuracy: 87.7612\t\n",
            "Epochs: 17\tLoss: 0.2669\tAccuracy: 89.9972\tTest Loss: 0.3555\tTest Accuracy: 87.8076\t\n",
            "Epochs: 18\tLoss: 0.2623\tAccuracy: 90.1644\tTest Loss: 0.3558\tTest Accuracy: 87.8550\t\n",
            "Epochs: 19\tLoss: 0.2580\tAccuracy: 90.3184\tTest Loss: 0.3565\tTest Accuracy: 87.8726\t\n",
            "Epochs: 20\tLoss: 0.2538\tAccuracy: 90.4751\tTest Loss: 0.3570\tTest Accuracy: 87.8980\t\n"
          ]
        }
      ]
    },
    {
      "cell_type": "markdown",
      "metadata": {
        "id": "ZEUXDyCMKWRo"
      },
      "source": [
        "### 모델 학습 : 2번째 방법 (Keras)"
      ]
    },
    {
      "cell_type": "code",
      "metadata": {
        "id": "TRlqurJ_Mz6v"
      },
      "source": [
        "from sklearn.model_selection import train_test_split"
      ],
      "execution_count": null,
      "outputs": []
    },
    {
      "cell_type": "code",
      "metadata": {
        "id": "XGLv1B6-KiWK",
        "colab": {
          "base_uri": "https://localhost:8080/"
        },
        "outputId": "758aba8a-8a8b-415b-ca88-2f2287c12ce9"
      },
      "source": [
        "(x_train_full, y_train_full), (x_test, y_test) = load_data()\n",
        "\n",
        "x_train, x_val, y_train, y_val = train_test_split(x_train_full, y_train_full, test_size=0.3, random_state=777)\n",
        "\n",
        "x_train = x_train / 255.\n",
        "x_val = x_val / 255.\n",
        "x_test = x_test / 255.\n",
        "\n",
        "print(x_train.shape)\n",
        "print(y_train.shape)\n",
        "print(x_val.shape)\n",
        "print(y_val.shape)\n",
        "print(x_test.shape)\n",
        "print(y_test.shape)\n",
        "\n",
        "model = build_model()\n",
        "model.compile(optimizer='sgd',\n",
        "              loss='sparse_categorical_crossentropy',\n",
        "              metrics=['accuracy'])\n",
        "\n",
        "model.summary()"
      ],
      "execution_count": null,
      "outputs": [
        {
          "output_type": "stream",
          "name": "stdout",
          "text": [
            "(42000, 28, 28)\n",
            "(42000,)\n",
            "(18000, 28, 28)\n",
            "(18000,)\n",
            "(10000, 28, 28)\n",
            "(10000,)\n",
            "Model: \"model_3\"\n",
            "_________________________________________________________________\n",
            " Layer (type)                Output Shape              Param #   \n",
            "=================================================================\n",
            " input (InputLayer)          [(None, 28, 28)]          0         \n",
            "                                                                 \n",
            " flatten (Flatten)           (None, 784)               0         \n",
            "                                                                 \n",
            " hidden1 (Dense)             (None, 256)               200960    \n",
            "                                                                 \n",
            " batch_normalization_16 (Bat  (None, 256)              1024      \n",
            " chNormalization)                                                \n",
            "                                                                 \n",
            " activation_16 (Activation)  (None, 256)               0         \n",
            "                                                                 \n",
            " dropout_16 (Dropout)        (None, 256)               0         \n",
            "                                                                 \n",
            " hidden2 (Dense)             (None, 100)               25700     \n",
            "                                                                 \n",
            " batch_normalization_17 (Bat  (None, 100)              400       \n",
            " chNormalization)                                                \n",
            "                                                                 \n",
            " activation_17 (Activation)  (None, 100)               0         \n",
            "                                                                 \n",
            " dropout_17 (Dropout)        (None, 100)               0         \n",
            "                                                                 \n",
            " hidden3 (Dense)             (None, 100)               10100     \n",
            "                                                                 \n",
            " batch_normalization_18 (Bat  (None, 100)              400       \n",
            " chNormalization)                                                \n",
            "                                                                 \n",
            " activation_18 (Activation)  (None, 100)               0         \n",
            "                                                                 \n",
            " dropout_18 (Dropout)        (None, 100)               0         \n",
            "                                                                 \n",
            " hidden4 (Dense)             (None, 50)                5050      \n",
            "                                                                 \n",
            " batch_normalization_19 (Bat  (None, 50)               200       \n",
            " chNormalization)                                                \n",
            "                                                                 \n",
            " activation_19 (Activation)  (None, 50)                0         \n",
            "                                                                 \n",
            " dropout_19 (Dropout)        (None, 50)                0         \n",
            "                                                                 \n",
            " output (Dense)              (None, 10)                510       \n",
            "                                                                 \n",
            "=================================================================\n",
            "Total params: 244,344\n",
            "Trainable params: 243,332\n",
            "Non-trainable params: 1,012\n",
            "_________________________________________________________________\n"
          ]
        }
      ]
    },
    {
      "cell_type": "markdown",
      "metadata": {
        "id": "xBBuYErFFj0b"
      },
      "source": [
        "5~6분 소요"
      ]
    },
    {
      "cell_type": "code",
      "metadata": {
        "id": "32TtgSsWLT-0"
      },
      "source": [
        "from tensorflow.keras.callbacks import EarlyStopping"
      ],
      "execution_count": null,
      "outputs": []
    },
    {
      "cell_type": "code",
      "metadata": {
        "id": "TYEmlqkGKZbH",
        "colab": {
          "base_uri": "https://localhost:8080/"
        },
        "outputId": "8a633dcd-04a1-4e09-da7e-1da8899708cb"
      },
      "source": [
        "early_stopping_cb = EarlyStopping(patience=3, monitor='val_loss', restore_best_weights=True)\n",
        "\n",
        "history = model.fit(x_train, y_train,\n",
        "                    batch_size=256,\n",
        "                    epochs=200,\n",
        "                    shuffle=True,\n",
        "                    validation_data=(x_val, y_val),\n",
        "                    callbacks=[early_stopping_cb])"
      ],
      "execution_count": null,
      "outputs": [
        {
          "output_type": "stream",
          "name": "stdout",
          "text": [
            "Epoch 1/200\n",
            "165/165 [==============================] - 5s 20ms/step - loss: 2.5951 - accuracy: 0.1308 - val_loss: 2.0374 - val_accuracy: 0.4199\n",
            "Epoch 2/200\n",
            "165/165 [==============================] - 3s 17ms/step - loss: 2.2289 - accuracy: 0.2083 - val_loss: 1.7354 - val_accuracy: 0.5553\n",
            "Epoch 3/200\n",
            "165/165 [==============================] - 3s 17ms/step - loss: 2.0034 - accuracy: 0.2729 - val_loss: 1.5489 - val_accuracy: 0.5962\n",
            "Epoch 4/200\n",
            "165/165 [==============================] - 3s 17ms/step - loss: 1.8277 - accuracy: 0.3329 - val_loss: 1.4164 - val_accuracy: 0.6214\n",
            "Epoch 5/200\n",
            "165/165 [==============================] - 3s 17ms/step - loss: 1.6961 - accuracy: 0.3791 - val_loss: 1.3127 - val_accuracy: 0.6386\n",
            "Epoch 6/200\n",
            "165/165 [==============================] - 3s 17ms/step - loss: 1.5959 - accuracy: 0.4077 - val_loss: 1.2293 - val_accuracy: 0.6520\n",
            "Epoch 7/200\n",
            "165/165 [==============================] - 3s 17ms/step - loss: 1.5152 - accuracy: 0.4352 - val_loss: 1.1584 - val_accuracy: 0.6597\n",
            "Epoch 8/200\n",
            "165/165 [==============================] - 3s 19ms/step - loss: 1.4484 - accuracy: 0.4609 - val_loss: 1.0956 - val_accuracy: 0.6729\n",
            "Epoch 9/200\n",
            "165/165 [==============================] - 3s 18ms/step - loss: 1.3925 - accuracy: 0.4754 - val_loss: 1.0527 - val_accuracy: 0.6837\n",
            "Epoch 10/200\n",
            "165/165 [==============================] - 3s 19ms/step - loss: 1.3421 - accuracy: 0.4936 - val_loss: 1.0083 - val_accuracy: 0.6988\n",
            "Epoch 11/200\n",
            "165/165 [==============================] - 3s 17ms/step - loss: 1.3061 - accuracy: 0.5032 - val_loss: 0.9713 - val_accuracy: 0.7079\n",
            "Epoch 12/200\n",
            "165/165 [==============================] - 3s 17ms/step - loss: 1.2692 - accuracy: 0.5168 - val_loss: 0.9386 - val_accuracy: 0.7125\n",
            "Epoch 13/200\n",
            "165/165 [==============================] - 3s 17ms/step - loss: 1.2380 - accuracy: 0.5270 - val_loss: 0.9099 - val_accuracy: 0.7051\n",
            "Epoch 14/200\n",
            "165/165 [==============================] - 3s 19ms/step - loss: 1.2068 - accuracy: 0.5355 - val_loss: 0.8854 - val_accuracy: 0.7109\n",
            "Epoch 15/200\n",
            "165/165 [==============================] - 3s 17ms/step - loss: 1.1829 - accuracy: 0.5474 - val_loss: 0.8615 - val_accuracy: 0.7156\n",
            "Epoch 16/200\n",
            "165/165 [==============================] - 3s 17ms/step - loss: 1.1614 - accuracy: 0.5554 - val_loss: 0.8439 - val_accuracy: 0.7254\n",
            "Epoch 17/200\n",
            "165/165 [==============================] - 3s 17ms/step - loss: 1.1397 - accuracy: 0.5637 - val_loss: 0.8201 - val_accuracy: 0.7332\n",
            "Epoch 18/200\n",
            "165/165 [==============================] - 3s 17ms/step - loss: 1.1203 - accuracy: 0.5698 - val_loss: 0.8068 - val_accuracy: 0.7330\n",
            "Epoch 19/200\n",
            "165/165 [==============================] - 3s 17ms/step - loss: 1.1038 - accuracy: 0.5768 - val_loss: 0.8079 - val_accuracy: 0.7242\n",
            "Epoch 20/200\n",
            "165/165 [==============================] - 4s 22ms/step - loss: 1.0890 - accuracy: 0.5830 - val_loss: 0.7761 - val_accuracy: 0.7298\n",
            "Epoch 21/200\n",
            "165/165 [==============================] - 3s 17ms/step - loss: 1.0705 - accuracy: 0.5873 - val_loss: 0.7615 - val_accuracy: 0.7442\n",
            "Epoch 22/200\n",
            "165/165 [==============================] - 3s 17ms/step - loss: 1.0569 - accuracy: 0.5940 - val_loss: 0.7504 - val_accuracy: 0.7453\n",
            "Epoch 23/200\n",
            "165/165 [==============================] - 3s 17ms/step - loss: 1.0432 - accuracy: 0.5992 - val_loss: 0.7443 - val_accuracy: 0.7409\n",
            "Epoch 24/200\n",
            "165/165 [==============================] - 3s 19ms/step - loss: 1.0343 - accuracy: 0.6003 - val_loss: 0.7321 - val_accuracy: 0.7432\n",
            "Epoch 25/200\n",
            "165/165 [==============================] - 3s 17ms/step - loss: 1.0221 - accuracy: 0.6072 - val_loss: 0.7231 - val_accuracy: 0.7461\n",
            "Epoch 26/200\n",
            "165/165 [==============================] - 3s 17ms/step - loss: 1.0123 - accuracy: 0.6075 - val_loss: 0.7156 - val_accuracy: 0.7499\n",
            "Epoch 27/200\n",
            "165/165 [==============================] - 3s 19ms/step - loss: 0.9985 - accuracy: 0.6138 - val_loss: 0.7082 - val_accuracy: 0.7502\n",
            "Epoch 28/200\n",
            "165/165 [==============================] - 3s 17ms/step - loss: 0.9888 - accuracy: 0.6210 - val_loss: 0.6996 - val_accuracy: 0.7528\n",
            "Epoch 29/200\n",
            "165/165 [==============================] - 3s 17ms/step - loss: 0.9815 - accuracy: 0.6221 - val_loss: 0.6921 - val_accuracy: 0.7531\n",
            "Epoch 30/200\n",
            "165/165 [==============================] - 3s 17ms/step - loss: 0.9668 - accuracy: 0.6288 - val_loss: 0.6859 - val_accuracy: 0.7499\n",
            "Epoch 31/200\n",
            "165/165 [==============================] - 3s 17ms/step - loss: 0.9626 - accuracy: 0.6314 - val_loss: 0.6820 - val_accuracy: 0.7587\n",
            "Epoch 32/200\n",
            "165/165 [==============================] - 3s 17ms/step - loss: 0.9508 - accuracy: 0.6358 - val_loss: 0.6740 - val_accuracy: 0.7578\n",
            "Epoch 33/200\n",
            "165/165 [==============================] - 3s 17ms/step - loss: 0.9490 - accuracy: 0.6355 - val_loss: 0.6675 - val_accuracy: 0.7597\n",
            "Epoch 34/200\n",
            "165/165 [==============================] - 3s 17ms/step - loss: 0.9370 - accuracy: 0.6391 - val_loss: 0.6636 - val_accuracy: 0.7547\n",
            "Epoch 35/200\n",
            "165/165 [==============================] - 3s 19ms/step - loss: 0.9321 - accuracy: 0.6406 - val_loss: 0.6521 - val_accuracy: 0.7589\n",
            "Epoch 36/200\n",
            "165/165 [==============================] - 3s 17ms/step - loss: 0.9246 - accuracy: 0.6472 - val_loss: 0.6508 - val_accuracy: 0.7636\n",
            "Epoch 37/200\n",
            "165/165 [==============================] - 3s 17ms/step - loss: 0.9127 - accuracy: 0.6484 - val_loss: 0.6470 - val_accuracy: 0.7661\n",
            "Epoch 38/200\n",
            "165/165 [==============================] - 3s 17ms/step - loss: 0.9086 - accuracy: 0.6520 - val_loss: 0.6431 - val_accuracy: 0.7657\n",
            "Epoch 39/200\n",
            "165/165 [==============================] - 3s 17ms/step - loss: 0.9025 - accuracy: 0.6519 - val_loss: 0.6383 - val_accuracy: 0.7659\n",
            "Epoch 40/200\n",
            "165/165 [==============================] - 3s 17ms/step - loss: 0.8975 - accuracy: 0.6569 - val_loss: 0.6324 - val_accuracy: 0.7678\n",
            "Epoch 41/200\n",
            "165/165 [==============================] - 3s 17ms/step - loss: 0.8906 - accuracy: 0.6583 - val_loss: 0.6322 - val_accuracy: 0.7641\n",
            "Epoch 42/200\n",
            "165/165 [==============================] - 3s 17ms/step - loss: 0.8834 - accuracy: 0.6635 - val_loss: 0.6252 - val_accuracy: 0.7644\n",
            "Epoch 43/200\n",
            "165/165 [==============================] - 3s 17ms/step - loss: 0.8798 - accuracy: 0.6631 - val_loss: 0.6212 - val_accuracy: 0.7627\n",
            "Epoch 44/200\n",
            "165/165 [==============================] - 3s 17ms/step - loss: 0.8660 - accuracy: 0.6684 - val_loss: 0.6205 - val_accuracy: 0.7711\n",
            "Epoch 45/200\n",
            "165/165 [==============================] - 3s 17ms/step - loss: 0.8748 - accuracy: 0.6653 - val_loss: 0.6152 - val_accuracy: 0.7603\n",
            "Epoch 46/200\n",
            "165/165 [==============================] - 3s 18ms/step - loss: 0.8603 - accuracy: 0.6714 - val_loss: 0.6124 - val_accuracy: 0.7684\n",
            "Epoch 47/200\n",
            "165/165 [==============================] - 3s 20ms/step - loss: 0.8580 - accuracy: 0.6736 - val_loss: 0.6117 - val_accuracy: 0.7756\n",
            "Epoch 48/200\n",
            "165/165 [==============================] - 4s 22ms/step - loss: 0.8510 - accuracy: 0.6779 - val_loss: 0.6053 - val_accuracy: 0.7738\n",
            "Epoch 49/200\n",
            "165/165 [==============================] - 4s 23ms/step - loss: 0.8460 - accuracy: 0.6787 - val_loss: 0.6044 - val_accuracy: 0.7767\n",
            "Epoch 50/200\n",
            "165/165 [==============================] - 5s 28ms/step - loss: 0.8434 - accuracy: 0.6788 - val_loss: 0.6007 - val_accuracy: 0.7776\n",
            "Epoch 51/200\n",
            "165/165 [==============================] - 5s 29ms/step - loss: 0.8345 - accuracy: 0.6828 - val_loss: 0.5966 - val_accuracy: 0.7786\n",
            "Epoch 52/200\n",
            "165/165 [==============================] - 5s 28ms/step - loss: 0.8355 - accuracy: 0.6821 - val_loss: 0.5930 - val_accuracy: 0.7740\n",
            "Epoch 53/200\n",
            "165/165 [==============================] - 3s 17ms/step - loss: 0.8286 - accuracy: 0.6879 - val_loss: 0.5919 - val_accuracy: 0.7801\n",
            "Epoch 54/200\n",
            "165/165 [==============================] - 3s 19ms/step - loss: 0.8233 - accuracy: 0.6878 - val_loss: 0.5896 - val_accuracy: 0.7831\n",
            "Epoch 55/200\n",
            "165/165 [==============================] - 3s 17ms/step - loss: 0.8210 - accuracy: 0.6893 - val_loss: 0.5886 - val_accuracy: 0.7819\n",
            "Epoch 56/200\n",
            "165/165 [==============================] - 3s 19ms/step - loss: 0.8213 - accuracy: 0.6898 - val_loss: 0.5847 - val_accuracy: 0.7836\n",
            "Epoch 57/200\n",
            "165/165 [==============================] - 3s 19ms/step - loss: 0.8164 - accuracy: 0.6917 - val_loss: 0.5825 - val_accuracy: 0.7854\n",
            "Epoch 58/200\n",
            "165/165 [==============================] - 3s 17ms/step - loss: 0.8096 - accuracy: 0.6965 - val_loss: 0.5797 - val_accuracy: 0.7847\n",
            "Epoch 59/200\n",
            "165/165 [==============================] - 3s 17ms/step - loss: 0.8134 - accuracy: 0.6942 - val_loss: 0.5775 - val_accuracy: 0.7801\n",
            "Epoch 60/200\n",
            "165/165 [==============================] - 3s 17ms/step - loss: 0.8040 - accuracy: 0.6988 - val_loss: 0.5741 - val_accuracy: 0.7879\n",
            "Epoch 61/200\n",
            "165/165 [==============================] - 4s 23ms/step - loss: 0.7975 - accuracy: 0.7030 - val_loss: 0.5726 - val_accuracy: 0.7861\n",
            "Epoch 62/200\n",
            "165/165 [==============================] - 4s 23ms/step - loss: 0.7949 - accuracy: 0.7007 - val_loss: 0.5708 - val_accuracy: 0.7872\n",
            "Epoch 63/200\n",
            "165/165 [==============================] - 4s 24ms/step - loss: 0.7918 - accuracy: 0.7027 - val_loss: 0.5680 - val_accuracy: 0.7910\n",
            "Epoch 64/200\n",
            "165/165 [==============================] - 4s 25ms/step - loss: 0.7876 - accuracy: 0.7066 - val_loss: 0.5661 - val_accuracy: 0.7881\n",
            "Epoch 65/200\n",
            "165/165 [==============================] - 5s 27ms/step - loss: 0.7863 - accuracy: 0.7040 - val_loss: 0.5604 - val_accuracy: 0.7911\n",
            "Epoch 66/200\n",
            "165/165 [==============================] - 5s 28ms/step - loss: 0.7808 - accuracy: 0.7094 - val_loss: 0.5623 - val_accuracy: 0.7934\n",
            "Epoch 67/200\n",
            "165/165 [==============================] - 4s 24ms/step - loss: 0.7820 - accuracy: 0.7077 - val_loss: 0.5587 - val_accuracy: 0.7942\n",
            "Epoch 68/200\n",
            "165/165 [==============================] - 5s 28ms/step - loss: 0.7765 - accuracy: 0.7089 - val_loss: 0.5574 - val_accuracy: 0.7941\n",
            "Epoch 69/200\n",
            "165/165 [==============================] - 5s 29ms/step - loss: 0.7749 - accuracy: 0.7108 - val_loss: 0.5554 - val_accuracy: 0.7963\n",
            "Epoch 70/200\n",
            "165/165 [==============================] - 5s 28ms/step - loss: 0.7738 - accuracy: 0.7132 - val_loss: 0.5513 - val_accuracy: 0.7968\n",
            "Epoch 71/200\n",
            "165/165 [==============================] - 4s 27ms/step - loss: 0.7644 - accuracy: 0.7157 - val_loss: 0.5515 - val_accuracy: 0.7984\n",
            "Epoch 72/200\n",
            "165/165 [==============================] - 4s 26ms/step - loss: 0.7658 - accuracy: 0.7172 - val_loss: 0.5486 - val_accuracy: 0.7981\n",
            "Epoch 73/200\n",
            "165/165 [==============================] - 4s 23ms/step - loss: 0.7665 - accuracy: 0.7152 - val_loss: 0.5478 - val_accuracy: 0.7949\n",
            "Epoch 74/200\n",
            "165/165 [==============================] - 5s 27ms/step - loss: 0.7604 - accuracy: 0.7174 - val_loss: 0.5444 - val_accuracy: 0.7977\n",
            "Epoch 75/200\n",
            "165/165 [==============================] - 4s 25ms/step - loss: 0.7582 - accuracy: 0.7212 - val_loss: 0.5465 - val_accuracy: 0.7997\n",
            "Epoch 76/200\n",
            "165/165 [==============================] - 4s 23ms/step - loss: 0.7544 - accuracy: 0.7229 - val_loss: 0.5423 - val_accuracy: 0.8009\n",
            "Epoch 77/200\n",
            "165/165 [==============================] - 3s 17ms/step - loss: 0.7496 - accuracy: 0.7238 - val_loss: 0.5374 - val_accuracy: 0.8033\n",
            "Epoch 78/200\n",
            "165/165 [==============================] - 5s 29ms/step - loss: 0.7493 - accuracy: 0.7228 - val_loss: 0.5354 - val_accuracy: 0.8026\n",
            "Epoch 79/200\n",
            "165/165 [==============================] - 4s 26ms/step - loss: 0.7529 - accuracy: 0.7253 - val_loss: 0.5355 - val_accuracy: 0.8051\n",
            "Epoch 80/200\n",
            "165/165 [==============================] - 4s 27ms/step - loss: 0.7423 - accuracy: 0.7275 - val_loss: 0.5336 - val_accuracy: 0.8061\n",
            "Epoch 81/200\n",
            "165/165 [==============================] - 4s 23ms/step - loss: 0.7363 - accuracy: 0.7313 - val_loss: 0.5311 - val_accuracy: 0.8032\n",
            "Epoch 82/200\n",
            "165/165 [==============================] - 3s 17ms/step - loss: 0.7357 - accuracy: 0.7325 - val_loss: 0.5291 - val_accuracy: 0.8053\n",
            "Epoch 83/200\n",
            "165/165 [==============================] - 3s 17ms/step - loss: 0.7418 - accuracy: 0.7271 - val_loss: 0.5290 - val_accuracy: 0.8075\n",
            "Epoch 84/200\n",
            "165/165 [==============================] - 3s 17ms/step - loss: 0.7333 - accuracy: 0.7318 - val_loss: 0.5300 - val_accuracy: 0.8033\n",
            "Epoch 85/200\n",
            "165/165 [==============================] - 3s 17ms/step - loss: 0.7347 - accuracy: 0.7330 - val_loss: 0.5258 - val_accuracy: 0.8110\n",
            "Epoch 86/200\n",
            "165/165 [==============================] - 3s 17ms/step - loss: 0.7348 - accuracy: 0.7330 - val_loss: 0.5239 - val_accuracy: 0.8111\n",
            "Epoch 87/200\n",
            "165/165 [==============================] - 3s 17ms/step - loss: 0.7259 - accuracy: 0.7336 - val_loss: 0.5242 - val_accuracy: 0.8112\n",
            "Epoch 88/200\n",
            "165/165 [==============================] - 3s 17ms/step - loss: 0.7278 - accuracy: 0.7327 - val_loss: 0.5217 - val_accuracy: 0.8119\n",
            "Epoch 89/200\n",
            "165/165 [==============================] - 3s 18ms/step - loss: 0.7286 - accuracy: 0.7347 - val_loss: 0.5196 - val_accuracy: 0.8145\n",
            "Epoch 90/200\n",
            "165/165 [==============================] - 4s 22ms/step - loss: 0.7152 - accuracy: 0.7375 - val_loss: 0.5198 - val_accuracy: 0.8116\n",
            "Epoch 91/200\n",
            "165/165 [==============================] - 4s 27ms/step - loss: 0.7233 - accuracy: 0.7364 - val_loss: 0.5161 - val_accuracy: 0.8113\n",
            "Epoch 92/200\n",
            "165/165 [==============================] - 4s 24ms/step - loss: 0.7190 - accuracy: 0.7401 - val_loss: 0.5139 - val_accuracy: 0.8134\n",
            "Epoch 93/200\n",
            "165/165 [==============================] - 4s 24ms/step - loss: 0.7128 - accuracy: 0.7414 - val_loss: 0.5138 - val_accuracy: 0.8167\n",
            "Epoch 94/200\n",
            "165/165 [==============================] - 4s 24ms/step - loss: 0.7156 - accuracy: 0.7409 - val_loss: 0.5159 - val_accuracy: 0.8153\n",
            "Epoch 95/200\n",
            "165/165 [==============================] - 3s 17ms/step - loss: 0.7156 - accuracy: 0.7430 - val_loss: 0.5125 - val_accuracy: 0.8165\n",
            "Epoch 96/200\n",
            "165/165 [==============================] - 4s 22ms/step - loss: 0.7102 - accuracy: 0.7423 - val_loss: 0.5109 - val_accuracy: 0.8177\n",
            "Epoch 97/200\n",
            "165/165 [==============================] - 5s 31ms/step - loss: 0.7088 - accuracy: 0.7426 - val_loss: 0.5094 - val_accuracy: 0.8179\n",
            "Epoch 98/200\n",
            "165/165 [==============================] - 6s 36ms/step - loss: 0.7040 - accuracy: 0.7453 - val_loss: 0.5065 - val_accuracy: 0.8199\n",
            "Epoch 99/200\n",
            "165/165 [==============================] - 6s 36ms/step - loss: 0.7024 - accuracy: 0.7453 - val_loss: 0.5083 - val_accuracy: 0.8198\n",
            "Epoch 100/200\n",
            "165/165 [==============================] - 4s 25ms/step - loss: 0.6980 - accuracy: 0.7470 - val_loss: 0.5049 - val_accuracy: 0.8207\n",
            "Epoch 101/200\n",
            "165/165 [==============================] - 3s 18ms/step - loss: 0.7060 - accuracy: 0.7468 - val_loss: 0.5051 - val_accuracy: 0.8215\n",
            "Epoch 102/200\n",
            "165/165 [==============================] - 3s 19ms/step - loss: 0.7029 - accuracy: 0.7485 - val_loss: 0.5040 - val_accuracy: 0.8215\n",
            "Epoch 103/200\n",
            "165/165 [==============================] - 3s 17ms/step - loss: 0.6984 - accuracy: 0.7492 - val_loss: 0.5033 - val_accuracy: 0.8198\n",
            "Epoch 104/200\n",
            "165/165 [==============================] - 3s 17ms/step - loss: 0.6926 - accuracy: 0.7515 - val_loss: 0.4996 - val_accuracy: 0.8226\n",
            "Epoch 105/200\n",
            "165/165 [==============================] - 3s 18ms/step - loss: 0.7018 - accuracy: 0.7478 - val_loss: 0.5012 - val_accuracy: 0.8210\n",
            "Epoch 106/200\n",
            "165/165 [==============================] - 4s 22ms/step - loss: 0.6930 - accuracy: 0.7499 - val_loss: 0.4990 - val_accuracy: 0.8228\n",
            "Epoch 107/200\n",
            "165/165 [==============================] - 4s 23ms/step - loss: 0.6927 - accuracy: 0.7493 - val_loss: 0.4989 - val_accuracy: 0.8249\n",
            "Epoch 108/200\n",
            "165/165 [==============================] - 4s 25ms/step - loss: 0.6888 - accuracy: 0.7545 - val_loss: 0.4968 - val_accuracy: 0.8239\n",
            "Epoch 109/200\n",
            "165/165 [==============================] - 4s 24ms/step - loss: 0.6847 - accuracy: 0.7552 - val_loss: 0.4936 - val_accuracy: 0.8241\n",
            "Epoch 110/200\n",
            "165/165 [==============================] - 4s 24ms/step - loss: 0.6792 - accuracy: 0.7563 - val_loss: 0.4936 - val_accuracy: 0.8251\n",
            "Epoch 111/200\n",
            "165/165 [==============================] - 4s 27ms/step - loss: 0.6827 - accuracy: 0.7545 - val_loss: 0.4939 - val_accuracy: 0.8247\n",
            "Epoch 112/200\n",
            "165/165 [==============================] - 4s 23ms/step - loss: 0.6839 - accuracy: 0.7558 - val_loss: 0.4905 - val_accuracy: 0.8244\n",
            "Epoch 113/200\n",
            "165/165 [==============================] - 4s 23ms/step - loss: 0.6799 - accuracy: 0.7580 - val_loss: 0.4937 - val_accuracy: 0.8263\n",
            "Epoch 114/200\n",
            "165/165 [==============================] - 4s 24ms/step - loss: 0.6791 - accuracy: 0.7570 - val_loss: 0.4902 - val_accuracy: 0.8221\n",
            "Epoch 115/200\n",
            "165/165 [==============================] - 5s 30ms/step - loss: 0.6776 - accuracy: 0.7584 - val_loss: 0.4914 - val_accuracy: 0.8259\n",
            "Epoch 116/200\n",
            "165/165 [==============================] - 4s 25ms/step - loss: 0.6787 - accuracy: 0.7593 - val_loss: 0.4879 - val_accuracy: 0.8273\n",
            "Epoch 117/200\n",
            "165/165 [==============================] - 3s 18ms/step - loss: 0.6742 - accuracy: 0.7599 - val_loss: 0.4862 - val_accuracy: 0.8283\n",
            "Epoch 118/200\n",
            "165/165 [==============================] - 3s 19ms/step - loss: 0.6780 - accuracy: 0.7574 - val_loss: 0.4863 - val_accuracy: 0.8276\n",
            "Epoch 119/200\n",
            "165/165 [==============================] - 4s 27ms/step - loss: 0.6738 - accuracy: 0.7603 - val_loss: 0.4874 - val_accuracy: 0.8276\n",
            "Epoch 120/200\n",
            "165/165 [==============================] - 4s 25ms/step - loss: 0.6704 - accuracy: 0.7593 - val_loss: 0.4862 - val_accuracy: 0.8292\n",
            "Epoch 121/200\n",
            "165/165 [==============================] - 5s 28ms/step - loss: 0.6684 - accuracy: 0.7604 - val_loss: 0.4838 - val_accuracy: 0.8278\n",
            "Epoch 122/200\n",
            "165/165 [==============================] - 4s 25ms/step - loss: 0.6714 - accuracy: 0.7594 - val_loss: 0.4821 - val_accuracy: 0.8289\n",
            "Epoch 123/200\n",
            "165/165 [==============================] - 4s 26ms/step - loss: 0.6664 - accuracy: 0.7655 - val_loss: 0.4824 - val_accuracy: 0.8293\n",
            "Epoch 124/200\n",
            "165/165 [==============================] - 3s 18ms/step - loss: 0.6684 - accuracy: 0.7639 - val_loss: 0.4823 - val_accuracy: 0.8299\n",
            "Epoch 125/200\n",
            "165/165 [==============================] - 3s 18ms/step - loss: 0.6595 - accuracy: 0.7657 - val_loss: 0.4823 - val_accuracy: 0.8294\n"
          ]
        }
      ]
    },
    {
      "cell_type": "code",
      "metadata": {
        "id": "RaeHz1VFKZVM"
      },
      "source": [
        ""
      ],
      "execution_count": null,
      "outputs": []
    },
    {
      "cell_type": "markdown",
      "metadata": {
        "id": "5pJ6MDW9CcwX"
      },
      "source": [
        "### 모델 평가"
      ]
    },
    {
      "cell_type": "code",
      "metadata": {
        "id": "e4MxgLKOCeL9",
        "colab": {
          "base_uri": "https://localhost:8080/"
        },
        "outputId": "cb15747d-6c1d-4610-a448-461c6ea43e53"
      },
      "source": [
        "model.evaluate(x_test, y_test, batch_size=100)"
      ],
      "execution_count": null,
      "outputs": [
        {
          "output_type": "stream",
          "name": "stdout",
          "text": [
            "100/100 [==============================] - 1s 5ms/step - loss: 0.5077 - accuracy: 0.8103\n"
          ]
        },
        {
          "output_type": "execute_result",
          "data": {
            "text/plain": [
              "[0.507685124874115, 0.8102999925613403]"
            ]
          },
          "metadata": {},
          "execution_count": 107
        }
      ]
    },
    {
      "cell_type": "markdown",
      "metadata": {
        "id": "8McnnarjV2Tf"
      },
      "source": [
        "### 결과 확인"
      ]
    },
    {
      "cell_type": "code",
      "metadata": {
        "id": "7zHvs2FICeHD",
        "colab": {
          "base_uri": "https://localhost:8080/"
        },
        "outputId": "747eda1b-d5ce-4e9f-d292-91cb41182540"
      },
      "source": [
        "test_img = x_test[0, :, :]\n",
        "print(test_img.shape)"
      ],
      "execution_count": null,
      "outputs": [
        {
          "output_type": "stream",
          "name": "stdout",
          "text": [
            "(28, 28)\n"
          ]
        }
      ]
    },
    {
      "cell_type": "code",
      "metadata": {
        "id": "L9TlZb73CeEj",
        "colab": {
          "base_uri": "https://localhost:8080/",
          "height": 277
        },
        "outputId": "4ffbf2c4-22c2-474a-84db-fb71180e5459"
      },
      "source": [
        "plt.title(class_names[y_test[0]])\n",
        "plt.imshow(test_img, cmap='gray')\n",
        "plt.show()"
      ],
      "execution_count": null,
      "outputs": [
        {
          "output_type": "display_data",
          "data": {
            "text/plain": [
              "<Figure size 432x288 with 1 Axes>"
            ],
            "image/png": "[encoded data removed]"
          },
          "metadata": {}
        }
      ]
    },
    {
      "cell_type": "code",
      "metadata": {
        "id": "tLU39hstWLfh"
      },
      "source": [
        "pred = model.predict(test_img.reshape(1, 28, 28))"
      ],
      "execution_count": null,
      "outputs": []
    },
    {
      "cell_type": "code",
      "metadata": {
        "id": "VvN3dvdZWXRd",
        "colab": {
          "base_uri": "https://localhost:8080/"
        },
        "outputId": "d25433e3-dd33-437a-94bd-f48bedd30ce7"
      },
      "source": [
        "pred.shape"
      ],
      "execution_count": null,
      "outputs": [
        {
          "output_type": "execute_result",
          "data": {
            "text/plain": [
              "(1, 10)"
            ]
          },
          "metadata": {},
          "execution_count": 111
        }
      ]
    },
    {
      "cell_type": "code",
      "metadata": {
        "id": "gXCeb-f2WYm1",
        "colab": {
          "base_uri": "https://localhost:8080/"
        },
        "outputId": "bab98c0e-0a2c-4f3a-fe37-a095feb9f6f1"
      },
      "source": [
        "pred"
      ],
      "execution_count": null,
      "outputs": [
        {
          "output_type": "execute_result",
          "data": {
            "text/plain": [
              "array([[1.78374175e-05, 2.30642090e-05, 5.70261909e-05, 1.05258972e-04,\n",
              "        1.09626264e-04, 5.72063848e-02, 1.87177302e-05, 2.47149482e-01,\n",
              "        1.54241294e-04, 6.95158362e-01]], dtype=float32)"
            ]
          },
          "metadata": {},
          "execution_count": 112
        }
      ]
    },
    {
      "cell_type": "code",
      "metadata": {
        "id": "E_7gFZNAWZip",
        "colab": {
          "base_uri": "https://localhost:8080/",
          "height": 35
        },
        "outputId": "63fdea9d-58c4-4135-e9f9-2ffb9cf32c65"
      },
      "source": [
        "class_names[np.argmax(pred)]"
      ],
      "execution_count": null,
      "outputs": [
        {
          "output_type": "execute_result",
          "data": {
            "text/plain": [
              "'Ankle boot'"
            ],
            "application/vnd.google.colaboratory.intrinsic+json": {
              "type": "string"
            }
          },
          "metadata": {},
          "execution_count": 113
        }
      ]
    },
    {
      "cell_type": "markdown",
      "metadata": {
        "id": "MJL5wVZiWqtw"
      },
      "source": [
        "### Test Batch Dataset"
      ]
    },
    {
      "cell_type": "code",
      "metadata": {
        "id": "joaO3OqrWxIp",
        "colab": {
          "base_uri": "https://localhost:8080/"
        },
        "outputId": "a39fa160-86dc-4de9-ccdb-d0af9c921a1b"
      },
      "source": [
        "test_batch = x_test[:32, :, :]\n",
        "test_batch_y = y_test[:32]\n",
        "print(test_batch.shape)"
      ],
      "execution_count": null,
      "outputs": [
        {
          "output_type": "stream",
          "name": "stdout",
          "text": [
            "(32, 28, 28)\n"
          ]
        }
      ]
    },
    {
      "cell_type": "code",
      "metadata": {
        "id": "OxqBhlqXWmXl",
        "colab": {
          "base_uri": "https://localhost:8080/"
        },
        "outputId": "9a826756-0ec9-4325-817f-843377c101c8"
      },
      "source": [
        "preds = model.predict(test_batch)\n",
        "preds.shape"
      ],
      "execution_count": null,
      "outputs": [
        {
          "output_type": "execute_result",
          "data": {
            "text/plain": [
              "(32, 10)"
            ]
          },
          "metadata": {},
          "execution_count": 115
        }
      ]
    },
    {
      "cell_type": "code",
      "metadata": {
        "id": "5Pgwy4yXW2dt"
      },
      "source": [
        "preds_arg = np.argmax(preds, -1)"
      ],
      "execution_count": null,
      "outputs": []
    },
    {
      "cell_type": "code",
      "metadata": {
        "id": "53xdFvATW85m",
        "colab": {
          "base_uri": "https://localhost:8080/",
          "height": 603
        },
        "outputId": "0ce147b5-e441-4d78-ba1d-570d6a5e4875"
      },
      "source": [
        "num_rows=8\n",
        "num_cols=4\n",
        "num_images = num_rows * num_cols\n",
        "\n",
        "plt.figure(figsize=(16,10))\n",
        "\n",
        "for idx in range(1, 33, 1):\n",
        "  plt.subplot(num_rows, num_cols, idx)\n",
        "  plt.title(\"predicted: {}, True: {}\".format(class_names[preds_arg[idx-1]],\n",
        "                                             class_names[test_batch_y[idx-1]]))\n",
        "  plt.imshow(test_batch[idx-1], cmap='gray')\n",
        "\n",
        "plt.show()"
      ],
      "execution_count": null,
      "outputs": [
        {
          "output_type": "display_data",
          "data": {
            "text/plain": [
              "<Figure size 1152x720 with 32 Axes>"
            ],
            "image/png": "[encoded data removed]"
          },
          "metadata": {}
        }
      ]
    }
  ]
}