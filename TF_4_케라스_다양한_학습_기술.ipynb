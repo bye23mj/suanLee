{
  "nbformat": 4,
  "nbformat_minor": 0,
  "metadata": {
    "colab": {
      "name": "TF_4 케라스 다양한 학습 기술.ipynb",
      "provenance": [],
      "collapsed_sections": [],
      "toc_visible": true,
      "include_colab_link": true
    },
    "kernelspec": {
      "name": "python3",
      "display_name": "Python 3"
    }
  },
  "cells": [
    {
      "cell_type": "markdown",
      "metadata": {
        "id": "view-in-github",
        "colab_type": "text"
      },
      "source": [
        "<a href=\"https://colab.research.google.com/github/bye23mj/suanLee/blob/main/TF_4_%EC%BC%80%EB%9D%BC%EC%8A%A4_%EB%8B%A4%EC%96%91%ED%95%9C_%ED%95%99%EC%8A%B5_%EA%B8%B0%EC%88%A0.ipynb\" target=\"_parent\"><img src=\"https://colab.research.google.com/assets/colab-badge.svg\" alt=\"Open In Colab\"/></a>"
      ]
    },
    {
      "cell_type": "markdown",
      "metadata": {
        "id": "yOVeX9Ar4Auz"
      },
      "source": [
        "# 케라스 다양한 학습 기술\n",
        "\n",
        "- 과대적합, 과소적합을 막기 위한 방법들\n",
        "  - 모델의 크기 축소\n",
        "  \n",
        "  - 초기화\n",
        "\n",
        "  - 옵티마이저\n",
        "\n",
        "  - 배치 정규화\n",
        "\n",
        "  - 규제화"
      ]
    },
    {
      "cell_type": "markdown",
      "metadata": {
        "id": "IhPZ4w90viFx"
      },
      "source": [
        "### 모델의 크기 축소\n",
        "- 가장 단순한 방법\n",
        "\n",
        "- 모델의 크기를 줄인다는 것은 **학습 파라미터의 수를 줄이는 것**"
      ]
    },
    {
      "cell_type": "markdown",
      "metadata": {
        "id": "kxtmEK1Owrax"
      },
      "source": [
        "#### 데이터 준비\n",
        "- 설명을 위한 코드"
      ]
    },
    {
      "cell_type": "code",
      "metadata": {
        "id": "_iL6C1I3wuaA"
      },
      "source": [
        "from tensorflow.keras.datasets import imdb\n",
        "import numpy as np\n",
        "\n",
        "(train_data, train_labels), (test_data, test_labels) = imdb.load_data(num_words=1000)\n",
        "\n",
        "def vectorize_seq(seqs, dim=10000):\n",
        "  results = np.zeros((len(seqs), dim))\n",
        "  for i, seq in enumerate(seqs):\n",
        "    results[i, seq] = 1.\n",
        "\n",
        "  return results\n",
        "\n",
        "x_train = vectorize_seq(train_data)\n",
        "x_test = vectorize_seq(test_data)\n",
        "\n",
        "y_train = np.asarray(train_labels).astype('float32')\n",
        "y_test = np.asarray(test_labels).astype('float32')"
      ],
      "execution_count": null,
      "outputs": []
    },
    {
      "cell_type": "markdown",
      "metadata": {
        "id": "BZjjWyfyw6p2"
      },
      "source": [
        "#### 2가지의 모델 설정"
      ]
    },
    {
      "cell_type": "code",
      "metadata": {
        "id": "rrocxnqHvsmX"
      },
      "source": [
        "import tensorflow as tf\n",
        "from tensorflow.keras.models import Sequential\n",
        "from tensorflow.keras.layers import Dense\n",
        "from tensorflow.keras.utils import plot_model"
      ],
      "execution_count": null,
      "outputs": []
    },
    {
      "cell_type": "code",
      "metadata": {
        "id": "EF3hYeDNvsjm"
      },
      "source": [
        "model_1 = Sequential([Dense(16, activation='relu', input_shape=(10000,), name='input'),\n",
        "                      Dense(16, activation='relu', name='hidden'),\n",
        "                      Dense(1, activation='sigmoid', name='output')])"
      ],
      "execution_count": null,
      "outputs": []
    },
    {
      "cell_type": "code",
      "metadata": {
        "id": "amk5tmejvsgx",
        "colab": {
          "base_uri": "https://localhost:8080/"
        },
        "outputId": "bf00f2c2-7195-451c-e572-0bdfe643b8fd"
      },
      "source": [
        "model_1.summary()"
      ],
      "execution_count": null,
      "outputs": [
        {
          "output_type": "stream",
          "name": "stdout",
          "text": [
            "Model: \"sequential_2\"\n",
            "_________________________________________________________________\n",
            " Layer (type)                Output Shape              Param #   \n",
            "=================================================================\n",
            " input (Dense)               (None, 16)                160016    \n",
            "                                                                 \n",
            " hidden (Dense)              (None, 16)                272       \n",
            "                                                                 \n",
            " output (Dense)              (None, 1)                 17        \n",
            "                                                                 \n",
            "=================================================================\n",
            "Total params: 160,305\n",
            "Trainable params: 160,305\n",
            "Non-trainable params: 0\n",
            "_________________________________________________________________\n"
          ]
        }
      ]
    },
    {
      "cell_type": "code",
      "metadata": {
        "id": "xzcjFU1lvsco"
      },
      "source": [
        "model_2 = Sequential([Dense(7, activation='relu', input_shape=(10000,), name='input2'),\n",
        "                      Dense(7, activation='relu', name='hidden2'),\n",
        "                      Dense(1, activation='sigmoid', name='output2')])"
      ],
      "execution_count": null,
      "outputs": []
    },
    {
      "cell_type": "code",
      "metadata": {
        "id": "NVJKoQj-vsZY",
        "colab": {
          "base_uri": "https://localhost:8080/"
        },
        "outputId": "40902efe-4882-4754-8062-fa7eb1bb5966"
      },
      "source": [
        "model_2.summary()"
      ],
      "execution_count": null,
      "outputs": [
        {
          "output_type": "stream",
          "name": "stdout",
          "text": [
            "Model: \"sequential_3\"\n",
            "_________________________________________________________________\n",
            " Layer (type)                Output Shape              Param #   \n",
            "=================================================================\n",
            " input2 (Dense)              (None, 7)                 70007     \n",
            "                                                                 \n",
            " hidden2 (Dense)             (None, 7)                 56        \n",
            "                                                                 \n",
            " output2 (Dense)             (None, 1)                 8         \n",
            "                                                                 \n",
            "=================================================================\n",
            "Total params: 70,071\n",
            "Trainable params: 70,071\n",
            "Non-trainable params: 0\n",
            "_________________________________________________________________\n"
          ]
        }
      ]
    },
    {
      "cell_type": "code",
      "metadata": {
        "id": "3Uvw3YxhwUVc"
      },
      "source": [
        "model_1.compile(optimizer='rmsprop',\n",
        "                loss='binary_crossentropy',\n",
        "                metrics=['acc'])\n",
        "\n",
        "model_2.compile(optimizer='rmsprop',\n",
        "                loss='binary_crossentropy',\n",
        "                metrics=['acc'])\n"
      ],
      "execution_count": null,
      "outputs": []
    },
    {
      "cell_type": "markdown",
      "metadata": {
        "id": "Sm8jFl6RxLyg"
      },
      "source": [
        "#### 2개의 모델 학습"
      ]
    },
    {
      "cell_type": "code",
      "metadata": {
        "id": "9agfXfSGwUSr",
        "colab": {
          "base_uri": "https://localhost:8080/"
        },
        "outputId": "c4603918-ed45-42ad-999a-2a9f57f82bbc"
      },
      "source": [
        "model_1_hist = model_1.fit(x_train, y_train,\n",
        "                           epochs=20,\n",
        "                           batch_size=512,\n",
        "                           validation_data=(x_test,y_test))"
      ],
      "execution_count": null,
      "outputs": [
        {
          "output_type": "stream",
          "name": "stdout",
          "text": [
            "Epoch 1/20\n",
            "49/49 [==============================] - 5s 81ms/step - loss: 0.5066 - acc: 0.7912 - val_loss: 0.4052 - val_acc: 0.8349\n",
            "Epoch 2/20\n",
            "49/49 [==============================] - 2s 43ms/step - loss: 0.3585 - acc: 0.8553 - val_loss: 0.3598 - val_acc: 0.8466\n",
            "Epoch 3/20\n",
            "49/49 [==============================] - 2s 43ms/step - loss: 0.3276 - acc: 0.8657 - val_loss: 0.3356 - val_acc: 0.8579\n",
            "Epoch 4/20\n",
            "49/49 [==============================] - 2s 43ms/step - loss: 0.3145 - acc: 0.8705 - val_loss: 0.3518 - val_acc: 0.8502\n",
            "Epoch 5/20\n",
            "49/49 [==============================] - 2s 47ms/step - loss: 0.3094 - acc: 0.8719 - val_loss: 0.3489 - val_acc: 0.8507\n",
            "Epoch 6/20\n",
            "49/49 [==============================] - 2s 47ms/step - loss: 0.3080 - acc: 0.8702 - val_loss: 0.3309 - val_acc: 0.8592\n",
            "Epoch 7/20\n",
            "49/49 [==============================] - 2s 44ms/step - loss: 0.3037 - acc: 0.8716 - val_loss: 0.3402 - val_acc: 0.8541\n",
            "Epoch 8/20\n",
            "49/49 [==============================] - 2s 45ms/step - loss: 0.3006 - acc: 0.8749 - val_loss: 0.3369 - val_acc: 0.8566\n",
            "Epoch 9/20\n",
            "49/49 [==============================] - 2s 44ms/step - loss: 0.2974 - acc: 0.8754 - val_loss: 0.3249 - val_acc: 0.8608\n",
            "Epoch 10/20\n",
            "49/49 [==============================] - 2s 44ms/step - loss: 0.2950 - acc: 0.8759 - val_loss: 0.3241 - val_acc: 0.8610\n",
            "Epoch 11/20\n",
            "49/49 [==============================] - 2s 45ms/step - loss: 0.2910 - acc: 0.8774 - val_loss: 0.3296 - val_acc: 0.8586\n",
            "Epoch 12/20\n",
            "49/49 [==============================] - 2s 45ms/step - loss: 0.2870 - acc: 0.8791 - val_loss: 0.3218 - val_acc: 0.8609\n",
            "Epoch 13/20\n",
            "49/49 [==============================] - 3s 58ms/step - loss: 0.2828 - acc: 0.8824 - val_loss: 0.3235 - val_acc: 0.8606\n",
            "Epoch 14/20\n",
            "49/49 [==============================] - 2s 50ms/step - loss: 0.2779 - acc: 0.8835 - val_loss: 0.3267 - val_acc: 0.8588\n",
            "Epoch 15/20\n",
            "49/49 [==============================] - 2s 44ms/step - loss: 0.2728 - acc: 0.8848 - val_loss: 0.3410 - val_acc: 0.8507\n",
            "Epoch 16/20\n",
            "49/49 [==============================] - 2s 45ms/step - loss: 0.2697 - acc: 0.8863 - val_loss: 0.3420 - val_acc: 0.8507\n",
            "Epoch 17/20\n",
            "49/49 [==============================] - 2s 45ms/step - loss: 0.2636 - acc: 0.8891 - val_loss: 0.3259 - val_acc: 0.8585\n",
            "Epoch 18/20\n",
            "49/49 [==============================] - 3s 60ms/step - loss: 0.2600 - acc: 0.8899 - val_loss: 0.3252 - val_acc: 0.8599\n",
            "Epoch 19/20\n",
            "49/49 [==============================] - 2s 47ms/step - loss: 0.2557 - acc: 0.8926 - val_loss: 0.3326 - val_acc: 0.8573\n",
            "Epoch 20/20\n",
            "49/49 [==============================] - 2s 43ms/step - loss: 0.2500 - acc: 0.8959 - val_loss: 0.3415 - val_acc: 0.8553\n"
          ]
        }
      ]
    },
    {
      "cell_type": "code",
      "metadata": {
        "id": "kvj6-Zu5wUPw",
        "colab": {
          "base_uri": "https://localhost:8080/"
        },
        "outputId": "f47e7be5-287e-411a-a6fa-d4d94144e2e5"
      },
      "source": [
        "model_2_hist = model_2.fit(x_train, y_train,\n",
        "                           epochs=20,\n",
        "                           batch_size=512,\n",
        "                           validation_data=(x_test,y_test))"
      ],
      "execution_count": null,
      "outputs": [
        {
          "output_type": "stream",
          "name": "stdout",
          "text": [
            "Epoch 1/20\n",
            "49/49 [==============================] - 3s 57ms/step - loss: 0.5792 - acc: 0.7702 - val_loss: 0.4833 - val_acc: 0.8338\n",
            "Epoch 2/20\n",
            "49/49 [==============================] - 2s 45ms/step - loss: 0.4233 - acc: 0.8482 - val_loss: 0.3886 - val_acc: 0.8498\n",
            "Epoch 3/20\n",
            "49/49 [==============================] - 2s 46ms/step - loss: 0.3586 - acc: 0.8601 - val_loss: 0.3509 - val_acc: 0.8583\n",
            "Epoch 4/20\n",
            "49/49 [==============================] - 2s 45ms/step - loss: 0.3297 - acc: 0.8660 - val_loss: 0.3340 - val_acc: 0.8606\n",
            "Epoch 5/20\n",
            "49/49 [==============================] - 2s 44ms/step - loss: 0.3155 - acc: 0.8720 - val_loss: 0.3335 - val_acc: 0.8592\n",
            "Epoch 6/20\n",
            "49/49 [==============================] - 2s 45ms/step - loss: 0.3079 - acc: 0.8728 - val_loss: 0.3261 - val_acc: 0.8629\n",
            "Epoch 7/20\n",
            "49/49 [==============================] - 2s 45ms/step - loss: 0.3033 - acc: 0.8751 - val_loss: 0.3264 - val_acc: 0.8616\n",
            "Epoch 8/20\n",
            "49/49 [==============================] - 2s 51ms/step - loss: 0.2999 - acc: 0.8759 - val_loss: 0.3279 - val_acc: 0.8602\n",
            "Epoch 9/20\n",
            "49/49 [==============================] - 2s 45ms/step - loss: 0.2972 - acc: 0.8774 - val_loss: 0.3269 - val_acc: 0.8611\n",
            "Epoch 10/20\n",
            "49/49 [==============================] - 2s 45ms/step - loss: 0.2938 - acc: 0.8789 - val_loss: 0.3298 - val_acc: 0.8601\n",
            "Epoch 11/20\n",
            "49/49 [==============================] - 2s 46ms/step - loss: 0.2915 - acc: 0.8798 - val_loss: 0.3307 - val_acc: 0.8595\n",
            "Epoch 12/20\n",
            "49/49 [==============================] - 2s 44ms/step - loss: 0.2900 - acc: 0.8805 - val_loss: 0.3345 - val_acc: 0.8580\n",
            "Epoch 13/20\n",
            "49/49 [==============================] - 2s 45ms/step - loss: 0.2870 - acc: 0.8825 - val_loss: 0.3294 - val_acc: 0.8596\n",
            "Epoch 14/20\n",
            "49/49 [==============================] - 2s 44ms/step - loss: 0.2842 - acc: 0.8851 - val_loss: 0.3304 - val_acc: 0.8588\n",
            "Epoch 15/20\n",
            "49/49 [==============================] - 2s 45ms/step - loss: 0.2811 - acc: 0.8847 - val_loss: 0.3312 - val_acc: 0.8591\n",
            "Epoch 16/20\n",
            "49/49 [==============================] - 2s 46ms/step - loss: 0.2789 - acc: 0.8862 - val_loss: 0.3322 - val_acc: 0.8585\n",
            "Epoch 17/20\n",
            "49/49 [==============================] - 2s 46ms/step - loss: 0.2771 - acc: 0.8861 - val_loss: 0.3353 - val_acc: 0.8584\n",
            "Epoch 18/20\n",
            "49/49 [==============================] - 2s 48ms/step - loss: 0.2749 - acc: 0.8875 - val_loss: 0.3405 - val_acc: 0.8553\n",
            "Epoch 19/20\n",
            "49/49 [==============================] - 3s 59ms/step - loss: 0.2713 - acc: 0.8904 - val_loss: 0.3356 - val_acc: 0.8572\n",
            "Epoch 20/20\n",
            "49/49 [==============================] - 2s 46ms/step - loss: 0.2707 - acc: 0.8900 - val_loss: 0.3356 - val_acc: 0.8572\n"
          ]
        }
      ]
    },
    {
      "cell_type": "markdown",
      "metadata": {
        "id": "AasztxUFxlLp"
      },
      "source": [
        "#### 비교"
      ]
    },
    {
      "cell_type": "code",
      "metadata": {
        "id": "W-6Wsh9GwULZ"
      },
      "source": [
        "epochs = range(1, 21)\n",
        "model_1_val_loss = model_1_hist.history['val_loss']\n",
        "model_2_val_loss = model_2_hist.history['val_loss']"
      ],
      "execution_count": null,
      "outputs": []
    },
    {
      "cell_type": "code",
      "metadata": {
        "id": "jbtSXzhBwUHl"
      },
      "source": [
        "import matplotlib.pyplot as plt\n",
        "plt.style.use('seaborn-white')"
      ],
      "execution_count": null,
      "outputs": []
    },
    {
      "cell_type": "markdown",
      "metadata": {
        "id": "Cv89efVDyRFF"
      },
      "source": [
        "model_2 (더 작은 모델)이 '조금 더 나중에' 과대적합 발생"
      ]
    },
    {
      "cell_type": "code",
      "metadata": {
        "id": "E3mNd2HLxxwk",
        "colab": {
          "base_uri": "https://localhost:8080/",
          "height": 276
        },
        "outputId": "9d12cbd3-f9b6-4881-bdfe-ecf2dffdba7d"
      },
      "source": [
        "plt.plot(epochs, model_1_val_loss, 'r+', label='model 1')\n",
        "plt.plot(epochs, model_2_val_loss, 'bo', label='model 2')\n",
        "plt.xlabel('Epochs')\n",
        "plt.ylabel('Validation Loss')\n",
        "plt.legend()\n",
        "plt.grid()\n",
        "plt.show()"
      ],
      "execution_count": null,
      "outputs": [
        {
          "output_type": "display_data",
          "data": {
            "text/plain": [
              "<Figure size 432x288 with 1 Axes>"
            ],
            "image/png": "[encoded data removed]"
          },
          "metadata": {}
        }
      ]
    },
    {
      "cell_type": "markdown",
      "metadata": {
        "id": "_wprAXPZyY5L"
      },
      "source": [
        "### 모델의 크기 축소 (2)\n"
      ]
    },
    {
      "cell_type": "markdown",
      "metadata": {
        "id": "hbgdN2fJyewH"
      },
      "source": [
        "#### 모델 구성"
      ]
    },
    {
      "cell_type": "code",
      "metadata": {
        "id": "oxboLrD0xxsJ",
        "colab": {
          "base_uri": "https://localhost:8080/"
        },
        "outputId": "96db77b7-ea78-43a2-fb6c-0f600bbebc56"
      },
      "source": [
        "model_3 = Sequential([Dense(1024, activation='relu', input_shape=(10000,), name='input3'),\n",
        "                      Dense(1024, activation='relu', name='hidden3'),\n",
        "                      Dense(1, activation='sigmoid', name='output3')])\n",
        "\n",
        "model_3.compile(optimizer='rmsprop',\n",
        "                loss='binary_crossentropy',\n",
        "                metrics=['acc'])\n",
        "\n",
        "model_3.summary()"
      ],
      "execution_count": null,
      "outputs": [
        {
          "output_type": "stream",
          "name": "stdout",
          "text": [
            "Model: \"sequential_4\"\n",
            "_________________________________________________________________\n",
            " Layer (type)                Output Shape              Param #   \n",
            "=================================================================\n",
            " input3 (Dense)              (None, 1024)              10241024  \n",
            "                                                                 \n",
            " hidden3 (Dense)             (None, 1024)              1049600   \n",
            "                                                                 \n",
            " output3 (Dense)             (None, 1)                 1025      \n",
            "                                                                 \n",
            "=================================================================\n",
            "Total params: 11,291,649\n",
            "Trainable params: 11,291,649\n",
            "Non-trainable params: 0\n",
            "_________________________________________________________________\n"
          ]
        }
      ]
    },
    {
      "cell_type": "markdown",
      "metadata": {
        "id": "3cxKVbloyvpR"
      },
      "source": [
        "#### 모델 학습\n",
        "- 시간 소요"
      ]
    },
    {
      "cell_type": "code",
      "metadata": {
        "id": "C43sbIsCyu7A",
        "colab": {
          "base_uri": "https://localhost:8080/"
        },
        "outputId": "a167b1c4-b907-4d6f-8f04-13ee15dd975b"
      },
      "source": [
        "model_3_hist = model_3.fit(x_train, y_train,\n",
        "                           epochs=20,\n",
        "                           batch_size=512,\n",
        "                           validation_data=(x_test,y_test))"
      ],
      "execution_count": null,
      "outputs": [
        {
          "output_type": "stream",
          "name": "stdout",
          "text": [
            "Epoch 1/20\n",
            "49/49 [==============================] - 37s 739ms/step - loss: 0.5580 - acc: 0.7471 - val_loss: 0.4230 - val_acc: 0.8039\n",
            "Epoch 2/20\n",
            "49/49 [==============================] - 35s 715ms/step - loss: 0.3550 - acc: 0.8439 - val_loss: 0.3298 - val_acc: 0.8540\n",
            "Epoch 3/20\n",
            "49/49 [==============================] - 35s 714ms/step - loss: 0.3122 - acc: 0.8662 - val_loss: 0.3771 - val_acc: 0.8402\n",
            "Epoch 4/20\n",
            "49/49 [==============================] - 34s 703ms/step - loss: 0.2651 - acc: 0.8918 - val_loss: 0.3760 - val_acc: 0.8551\n",
            "Epoch 5/20\n",
            "49/49 [==============================] - 36s 731ms/step - loss: 0.1835 - acc: 0.9284 - val_loss: 0.6786 - val_acc: 0.7438\n",
            "Epoch 6/20\n",
            "49/49 [==============================] - 35s 716ms/step - loss: 0.1067 - acc: 0.9623 - val_loss: 0.4247 - val_acc: 0.8598\n",
            "Epoch 7/20\n",
            "49/49 [==============================] - 35s 709ms/step - loss: 0.0740 - acc: 0.9814 - val_loss: 0.4864 - val_acc: 0.8575\n",
            "Epoch 8/20\n",
            "49/49 [==============================] - 35s 711ms/step - loss: 0.1249 - acc: 0.9839 - val_loss: 0.5302 - val_acc: 0.8576\n",
            "Epoch 9/20\n",
            "49/49 [==============================] - 35s 716ms/step - loss: 0.1623 - acc: 0.9817 - val_loss: 0.5131 - val_acc: 0.8599\n",
            "Epoch 10/20\n",
            "49/49 [==============================] - 42s 871ms/step - loss: 0.0017 - acc: 0.9998 - val_loss: 0.6624 - val_acc: 0.8596\n",
            "Epoch 11/20\n",
            "49/49 [==============================] - 38s 784ms/step - loss: 0.1575 - acc: 0.9841 - val_loss: 0.5601 - val_acc: 0.8582\n",
            "Epoch 12/20\n",
            "49/49 [==============================] - 38s 784ms/step - loss: 0.0971 - acc: 0.9906 - val_loss: 1.6946 - val_acc: 0.7162\n",
            "Epoch 13/20\n",
            "49/49 [==============================] - 35s 727ms/step - loss: 0.0113 - acc: 0.9967 - val_loss: 0.6898 - val_acc: 0.8593\n",
            "Epoch 14/20\n",
            "49/49 [==============================] - 35s 711ms/step - loss: 1.4127e-04 - acc: 1.0000 - val_loss: 0.8568 - val_acc: 0.8598\n",
            "Epoch 15/20\n",
            "49/49 [==============================] - 35s 712ms/step - loss: 0.2483 - acc: 0.9885 - val_loss: 0.6263 - val_acc: 0.8562\n",
            "Epoch 16/20\n",
            "49/49 [==============================] - 34s 702ms/step - loss: 1.4002e-04 - acc: 1.0000 - val_loss: 0.7847 - val_acc: 0.8595\n",
            "Epoch 17/20\n",
            "49/49 [==============================] - 37s 771ms/step - loss: 2.8019e-05 - acc: 1.0000 - val_loss: 0.9270 - val_acc: 0.8573\n",
            "Epoch 18/20\n",
            "49/49 [==============================] - 34s 703ms/step - loss: 0.2538 - acc: 0.9875 - val_loss: 0.7376 - val_acc: 0.8596\n",
            "Epoch 19/20\n",
            "49/49 [==============================] - 34s 704ms/step - loss: 5.4100e-05 - acc: 1.0000 - val_loss: 0.8791 - val_acc: 0.8598\n",
            "Epoch 20/20\n",
            "49/49 [==============================] - 34s 697ms/step - loss: 1.0227e-04 - acc: 1.0000 - val_loss: 5.9511 - val_acc: 0.6128\n"
          ]
        }
      ]
    },
    {
      "cell_type": "markdown",
      "metadata": {
        "id": "xeiG_rHIzX6F"
      },
      "source": [
        "#### 시각화"
      ]
    },
    {
      "cell_type": "code",
      "metadata": {
        "id": "UNFhd4hnyu3p"
      },
      "source": [
        "model_3_val_loss = model_3_hist.history['val_loss']\n"
      ],
      "execution_count": null,
      "outputs": []
    },
    {
      "cell_type": "code",
      "metadata": {
        "id": "w7q9Q2FIyu0y",
        "colab": {
          "base_uri": "https://localhost:8080/",
          "height": 276
        },
        "outputId": "44c056d0-b36f-46d1-8339-e4a5aaa07106"
      },
      "source": [
        "plt.plot(epochs, model_1_val_loss, 'r+', label='Model 1')\n",
        "plt.plot(epochs, model_2_val_loss, 'bo', label='Model 2')\n",
        "plt.plot(epochs, model_3_val_loss, 'g--', label='Model 3')\n",
        "plt.xlabel('Epochs')\n",
        "plt.ylabel('Validation Loss')\n",
        "plt.legend()\n",
        "plt.grid()\n",
        "plt.show()"
      ],
      "execution_count": null,
      "outputs": [
        {
          "output_type": "display_data",
          "data": {
            "text/plain": [
              "<Figure size 432x288 with 1 Axes>"
            ],
            "image/png": "[encoded data removed]"
          },
          "metadata": {}
        }
      ]
    },
    {
      "cell_type": "markdown",
      "metadata": {
        "id": "mMu_Mpi40Re6"
      },
      "source": [
        "* 볼륨이 큰 신경망일수록 빠르게 훈련데이터 모델링 가능(학습 손실이 낮아짐)\n",
        "* 과대 적합에는 더욱 민감해짐\n",
        "* 이는 학습-검증 데이터의 손실을 보면 알 수 있음"
      ]
    },
    {
      "cell_type": "code",
      "metadata": {
        "id": "Ro9vewyOyuv0",
        "colab": {
          "base_uri": "https://localhost:8080/",
          "height": 277
        },
        "outputId": "181a1492-0252-4360-e39a-561bb9d871c6"
      },
      "source": [
        "model_1_train_loss = model_1_hist.history['loss']\n",
        "model_2_train_loss = model_2_hist.history['loss']\n",
        "model_3_train_loss = model_3_hist.history['loss']\n",
        "\n",
        "plt.plot(epochs, model_1_train_loss, 'r+', label='Model 1')\n",
        "plt.plot(epochs, model_2_train_loss, 'bo', label='Model 2')\n",
        "plt.plot(epochs, model_3_train_loss, 'g--', label='Model 3')\n",
        "\n",
        "plt.xlabel('Epochs')\n",
        "plt.ylabel('Validation Loss')\n",
        "plt.legend()\n",
        "plt.grid()\n",
        "\n",
        "plt.show()"
      ],
      "execution_count": null,
      "outputs": [
        {
          "output_type": "display_data",
          "data": {
            "text/plain": [
              "<Figure size 432x288 with 1 Axes>"
            ],
            "image/png": "[encoded data removed]"
          },
          "metadata": {}
        }
      ]
    },
    {
      "cell_type": "markdown",
      "metadata": {
        "id": "yN4NPzGxzWP1"
      },
      "source": [
        "### 가중치 초기화\n"
      ]
    },
    {
      "cell_type": "markdown",
      "metadata": {
        "id": "KLRQayA6KcX8"
      },
      "source": [
        "#### 초기화 전략\n",
        "\n",
        "- Glorot Initialization (Xavier)\n",
        "  - 활성화 함수  \n",
        "    - 없음\n",
        "    - tanh\n",
        "    - sigmoid\n",
        "    - softmax\n",
        "\n",
        "- He Initialization \n",
        "  - 활성화 함수  \n",
        "    - ReLU\n",
        "    - LeakyReLU\n",
        "    - ELU 등\n",
        "\n",
        "    "
      ]
    },
    {
      "cell_type": "code",
      "metadata": {
        "id": "NJy2-2lXLa0i"
      },
      "source": [
        "from tensorflow.keras.layers import Dense, LeakyReLU, Activation\n",
        "from tensorflow.keras.models import Sequential"
      ],
      "execution_count": null,
      "outputs": []
    },
    {
      "cell_type": "code",
      "metadata": {
        "id": "A9vpl6Gj4C3D",
        "colab": {
          "base_uri": "https://localhost:8080/"
        },
        "outputId": "3993584e-c707-456d-fc0b-85434c069efa"
      },
      "source": [
        "model = Sequential([Dense(30, kernel_initializer='he_normal', input_shape=[10,10]),\n",
        "                    LeakyReLU(alpha=0.2),\n",
        "                    Dense(1, kernel_initializer='he_normal'),\n",
        "                    Activation(\"softmax\")])\n",
        "\n",
        "model.summary()"
      ],
      "execution_count": null,
      "outputs": [
        {
          "output_type": "stream",
          "name": "stdout",
          "text": [
            "Model: \"sequential_6\"\n",
            "_________________________________________________________________\n",
            " Layer (type)                Output Shape              Param #   \n",
            "=================================================================\n",
            " dense_2 (Dense)             (None, 10, 30)            330       \n",
            "                                                                 \n",
            " leaky_re_lu_1 (LeakyReLU)   (None, 10, 30)            0         \n",
            "                                                                 \n",
            " dense_3 (Dense)             (None, 10, 1)             31        \n",
            "                                                                 \n",
            " activation_1 (Activation)   (None, 10, 1)             0         \n",
            "                                                                 \n",
            "=================================================================\n",
            "Total params: 361\n",
            "Trainable params: 361\n",
            "Non-trainable params: 0\n",
            "_________________________________________________________________\n"
          ]
        }
      ]
    },
    {
      "cell_type": "markdown",
      "metadata": {
        "id": "MJ-qfqIszX2r"
      },
      "source": [
        "### 고속 옵티마이저"
      ]
    },
    {
      "cell_type": "markdown",
      "metadata": {
        "id": "RRNxoDg2ePqe"
      },
      "source": [
        "#### 모멘텀 최적화\n",
        "\n",
        "$\n",
        "\\qquad v \\ \\leftarrow \\ \\alpha \\ v - \\gamma \\ \\frac{\\partial L}{\\partial W} \\\\\n",
        "\\qquad W \\ \\leftarrow \\ W \\ + \\ v\n",
        "$\n",
        "\n",
        "  - $\\alpha\\ $ : 관성계수 \n",
        "\n",
        "  - $v$ :  속도\n",
        "\n",
        "  - $\\gamma\\ $ : 학습률\n",
        "\n",
        "  - $\\frac{\\partial L}{\\partial W}\\ $ : 손실함수에 대한 미분"
      ]
    },
    {
      "cell_type": "code",
      "metadata": {
        "id": "Sf0b9AlvzaQk"
      },
      "source": [
        "import tensorflow as tf\n",
        "from tensorflow.keras.optimizers import SGD"
      ],
      "execution_count": null,
      "outputs": []
    },
    {
      "cell_type": "code",
      "metadata": {
        "id": "t6yxEpN1edGO"
      },
      "source": [
        "optimizer = SGD(learning_rate=0.001, momentum=0.9)"
      ],
      "execution_count": null,
      "outputs": []
    },
    {
      "cell_type": "markdown",
      "metadata": {
        "id": "BTYgA4r8ePLk"
      },
      "source": [
        "#### 네스테로프 (Nesterov)\n",
        "\n",
        "- 모멘텀의 방향으로 조금 앞선 곳에서 손실함수의 그라디언트를 구함\n",
        "\n",
        "- 시간이 지날수록 조금 더 빨리 최솟값에 도달\n",
        "\n",
        "$\n",
        "\\qquad m \\ \\leftarrow \\  \\beta m - \\eta \\bigtriangledown_\\theta J(\\theta + \\beta m) \\\\\n",
        "\\qquad \\theta \\ \\leftarrow \\ \\theta \\ + m\n",
        "$\n",
        "\n",
        "\n",
        "  - $h\\ $ : 기존 기울기를 제곱하여 더한 값\n",
        "\n",
        "  - $\\eta\\ $ : 학습률\n",
        "\n",
        "  - $\\bigtriangledown_\\theta J(\\theta) \\ $ : $\\theta$에 대한 미분(그라디언트)\n",
        "\n",
        "  <img src=\"https://t1.daumcdn.net/cfile/tistory/99D91C455C76428D11\">\n",
        "\n",
        "  <sub>출처: CS231n</sub>"
      ]
    },
    {
      "cell_type": "code",
      "metadata": {
        "id": "EzNkLS48eoW_"
      },
      "source": [
        "optimizer = SGD(learning_rate=0.001, momentum=0.9, nesterov=True)"
      ],
      "execution_count": null,
      "outputs": []
    },
    {
      "cell_type": "code",
      "metadata": {
        "id": "WDDQEcoRenpq"
      },
      "source": [
        ""
      ],
      "execution_count": null,
      "outputs": []
    },
    {
      "cell_type": "markdown",
      "metadata": {
        "id": "UcY8kkknewpB"
      },
      "source": [
        "#### AdaGrad\n",
        "\n",
        "- 보통 간단한 모델에는 효과 좋을 수는 있으나, 심층 신경망 모델에서는 사용 X\n",
        "\n",
        "$\n",
        "\\qquad h \\ \\leftarrow \\  h + \\frac{\\partial L}{\\partial W} \\odot \\frac{\\partial L}{\\partial W} \\\\\n",
        "\\qquad W \\ \\leftarrow \\ W \\ + \\gamma \\frac{1}{\\sqrt h} \\ \\frac{\\partial L}{\\partial W}\n",
        "$\n",
        "\n",
        "  - $h\\ $ : 기존 기울기를 제곱하여 더한 값\n",
        "\n",
        "  - $\\gamma\\ $ : 학습률\n",
        "\n",
        "  - $\\frac{\\partial L}{\\partial W}\\ $ : $W$에 대한 미분\n"
      ]
    },
    {
      "cell_type": "code",
      "metadata": {
        "id": "PU_alkIreycK"
      },
      "source": [
        "from tensorflow.keras.optimizers import Adagrad"
      ],
      "execution_count": null,
      "outputs": []
    },
    {
      "cell_type": "code",
      "metadata": {
        "id": "_PB1OADzfOET"
      },
      "source": [
        "optimizer = Adagrad(learning_rate=0.001)"
      ],
      "execution_count": null,
      "outputs": []
    },
    {
      "cell_type": "markdown",
      "metadata": {
        "id": "Js5uwi6lfYO_"
      },
      "source": [
        "#### RMSProp\n",
        "\n",
        "\n",
        "$\n",
        "\\qquad s \\ \\leftarrow \\ \\beta \\ s + (1 - \\beta) \\bigtriangledown_{\\theta} J(\\theta) \\otimes \\bigtriangledown_{\\theta} J(\\theta) \\\\\n",
        "\\qquad \\theta \\ \\leftarrow \\ \\theta \\ - \\eta  \\ \\bigtriangledown_{\\theta} J(\\theta) \\oslash \\sqrt{s + \\epsilon}\n",
        "$\n",
        "\n",
        "  - $s \\ $ : 그래디언트의 제곱을 감쇠율을 곱한 후 더함\n",
        "\n",
        "  - $\\eta\\ $ : 학습률\n",
        "\n",
        "  - $\\bigtriangledown_{\\theta} J(\\theta) \\ $ : 손실함수의 미분값\n",
        "\n",
        "\n",
        "  "
      ]
    },
    {
      "cell_type": "code",
      "metadata": {
        "id": "WEDCQVzofc2U"
      },
      "source": [
        "from tensorflow.keras.optimizers import RMSprop"
      ],
      "execution_count": null,
      "outputs": []
    },
    {
      "cell_type": "code",
      "metadata": {
        "id": "44v7Nu8Gfg8H"
      },
      "source": [
        "optimizer = RMSprop(learning_rate=0.001, rho=0.9)"
      ],
      "execution_count": null,
      "outputs": []
    },
    {
      "cell_type": "markdown",
      "metadata": {
        "id": "Y8UhxclQfl2h"
      },
      "source": [
        "#### Adam\n",
        "\n",
        "$\n",
        "\\qquad m \\ \\leftarrow \\  \\beta_1 \\ m - (1 - \\beta_1)\\ \\frac{\\partial L}{\\partial W}  \\\\\n",
        "\\qquad s \\ \\leftarrow \\ \\beta_2 \\ s + (1 - \\beta_2) \\frac{\\partial L}{\\partial W} \\odot \\frac{\\partial L}{\\partial W} \\\\\n",
        "\\qquad \\hat{m} \\ \\leftarrow \\frac{m}{1 - \\beta_1^t} \\\\\n",
        "\\qquad \\hat{s} \\ \\leftarrow \\frac{s}{1 - \\beta_2^t} \\\\\n",
        "\\qquad W \\ \\leftarrow \\ W \\ + \\gamma \\ \\hat{m}\\  \\oslash \\sqrt{\\hat{s} + \\epsilon}\n",
        "$\n",
        "\n",
        "  - $\\beta\\ $ : 지수 평균의 업데이트 계수\n",
        "\n",
        "  - $\\gamma\\ $ : 학습률\n",
        "\n",
        "  - $\\beta_1 \\approx 0.9\\ ,\\ \\ \\beta_2 \\approx 0.999$\n",
        "\n",
        "  - $\\frac{\\partial L}{\\partial W}\\ $ : $W$에 대한 미분"
      ]
    },
    {
      "cell_type": "code",
      "metadata": {
        "id": "5uPmICAYfg5q"
      },
      "source": [
        "from tensorflow.keras.optimizers import Adam"
      ],
      "execution_count": null,
      "outputs": []
    },
    {
      "cell_type": "code",
      "metadata": {
        "id": "Dq8C4XTYfg2e"
      },
      "source": [
        "optimizer = Adam(learning_rate=0.001, beta_1=0.9, beta_2=0.999)"
      ],
      "execution_count": null,
      "outputs": []
    },
    {
      "cell_type": "markdown",
      "metadata": {
        "id": "kJBvCWbezZYk"
      },
      "source": [
        "### 배치 정규화\n",
        "- 모델에 주입되는 샘플들을 균일하게 만드는 방법\n",
        "\n",
        "- 학습 후 새로운 데이터에 잘 일반화 할 수 있도록 도와줌\n",
        "\n",
        "- 데이터 전처리 단계에서 진행해도 되지만 정규화가 되어서 layer에 들어갔다는 보장이 없음\n",
        "\n",
        "- 주로 **Dense** 또는 **Conv2D** Layer 후, **활성화 함수**이전에 놓임\n"
      ]
    },
    {
      "cell_type": "code",
      "metadata": {
        "id": "rxU6fA0A4HrM"
      },
      "source": [
        "from tensorflow.keras.layers import BatchNormalization, Dense, Activation"
      ],
      "execution_count": null,
      "outputs": []
    },
    {
      "cell_type": "code",
      "metadata": {
        "id": "0igMU8uIzZAF",
        "colab": {
          "base_uri": "https://localhost:8080/",
          "height": 716
        },
        "outputId": "fa12678b-f512-4c62-a380-89f435e63964"
      },
      "source": [
        "model = Sequential()\n",
        "\n",
        "model.add(Dense(32, input_shape=(28*28,), kernel_initializer='he_normal'))\n",
        "model.add(BatchNormalization())\n",
        "model.add(Activation('relu'))\n",
        "\n",
        "model.summary()\n",
        "\n",
        "plot_model(model, show_shapes=True)"
      ],
      "execution_count": null,
      "outputs": [
        {
          "output_type": "stream",
          "name": "stdout",
          "text": [
            "Model: \"sequential_11\"\n",
            "_________________________________________________________________\n",
            " Layer (type)                Output Shape              Param #   \n",
            "=================================================================\n",
            " dense_8 (Dense)             (None, 32)                25120     \n",
            "                                                                 \n",
            " batch_normalization_3 (Batc  (None, 32)               128       \n",
            " hNormalization)                                                 \n",
            "                                                                 \n",
            " activation_5 (Activation)   (None, 32)                0         \n",
            "                                                                 \n",
            "=================================================================\n",
            "Total params: 25,248\n",
            "Trainable params: 25,184\n",
            "Non-trainable params: 64\n",
            "_________________________________________________________________\n"
          ]
        },
        {
          "output_type": "execute_result",
          "data": {
            "text/plain": [
              "<IPython.core.display.Image object>"
            ],
            "image/png": "[encoded data removed]"
          },
          "metadata": {},
          "execution_count": 53
        }
      ]
    },
    {
      "cell_type": "markdown",
      "metadata": {
        "id": "EQzTjO9pzeOF"
      },
      "source": [
        "### 규제화\n",
        "- 복잡한 네트워크 일수록 네트워크의 복잡도에 제한을 두어  \n",
        "  가중치가 작은 값을 가지도록 함\n",
        "\n",
        "- 가중치의 분포가 더 균일하게 됨\n",
        "\n",
        "- 네트워크 손실함수에 큰 가중치에 연관된 비용을 추가\n",
        "  - L1 규제 : 가중치의 절댓값에 비례하는 비용이 추가\n",
        "  - L2 규제 : 가중치의 제곱에 비례하는 비용이 추가(흔히 가중치 감쇠라고도 불림)\n",
        "  - 위 2규제가 합쳐진 경우도 존재"
      ]
    },
    {
      "cell_type": "markdown",
      "metadata": {
        "id": "IlNRw0Os6nva"
      },
      "source": [
        "데이터는 **모델의 크기** 파트에서 사용된 imdb dataset"
      ]
    },
    {
      "cell_type": "code",
      "metadata": {
        "id": "8i1DeU7jzghS"
      },
      "source": [
        "from tensorflow.keras.regularizers import l1, l2, l1_l2"
      ],
      "execution_count": null,
      "outputs": []
    },
    {
      "cell_type": "markdown",
      "metadata": {
        "id": "lprLPcG45OTJ"
      },
      "source": [
        "#### 모델 구성"
      ]
    },
    {
      "cell_type": "code",
      "metadata": {
        "id": "oaGfymuG5K-d",
        "colab": {
          "base_uri": "https://localhost:8080/",
          "height": 697
        },
        "outputId": "a43ffcc4-4111-401a-9e06-02ba5ea0d284"
      },
      "source": [
        "l2_model = Sequential([Dense(16, kernel_regularizer=l2(0.001), activation='relu', input_shape=(10000,)),\n",
        "                       Dense(16, kernel_regularizer=l2(0.001), activation='relu'),\n",
        "                       Dense(1, activation='sigmoid')])\n",
        "\n",
        "l2_model.compile(optimizer='rmsprop',\n",
        "                 loss='binary_crossentropy',\n",
        "                 metrics=['acc'])\n",
        "\n",
        "l2_model.summary()\n",
        "plot_model(l2_model, show_shapes=True)"
      ],
      "execution_count": null,
      "outputs": [
        {
          "output_type": "stream",
          "name": "stdout",
          "text": [
            "Model: \"sequential_13\"\n",
            "_________________________________________________________________\n",
            " Layer (type)                Output Shape              Param #   \n",
            "=================================================================\n",
            " dense_12 (Dense)            (None, 16)                160016    \n",
            "                                                                 \n",
            " dense_13 (Dense)            (None, 16)                272       \n",
            "                                                                 \n",
            " dense_14 (Dense)            (None, 1)                 17        \n",
            "                                                                 \n",
            "=================================================================\n",
            "Total params: 160,305\n",
            "Trainable params: 160,305\n",
            "Non-trainable params: 0\n",
            "_________________________________________________________________\n"
          ]
        },
        {
          "output_type": "execute_result",
          "data": {
            "text/plain": [
              "<IPython.core.display.Image object>"
            ],
            "image/png": "[encoded data removed]"
          },
          "metadata": {},
          "execution_count": 57
        }
      ]
    },
    {
      "cell_type": "markdown",
      "metadata": {
        "id": "sxREnpS7573M"
      },
      "source": [
        "#### 모델 학습"
      ]
    },
    {
      "cell_type": "code",
      "metadata": {
        "id": "LyAwuDMG5p2v",
        "colab": {
          "base_uri": "https://localhost:8080/"
        },
        "outputId": "c1c6499f-9d00-46a0-8816-3a66e7370204"
      },
      "source": [
        "l2_model_hist = l2_model.fit(x_train, y_train,\n",
        "                             epochs=20,\n",
        "                             batch_size=512,\n",
        "                             validation_data=(x_test, y_test))"
      ],
      "execution_count": null,
      "outputs": [
        {
          "output_type": "stream",
          "name": "stdout",
          "text": [
            "Epoch 1/20\n",
            "49/49 [==============================] - 6s 107ms/step - loss: 0.5364 - acc: 0.7905 - val_loss: 0.4289 - val_acc: 0.8462\n",
            "Epoch 2/20\n",
            "49/49 [==============================] - 2s 43ms/step - loss: 0.3923 - acc: 0.8526 - val_loss: 0.3776 - val_acc: 0.8537\n",
            "Epoch 3/20\n",
            "49/49 [==============================] - 2s 44ms/step - loss: 0.3551 - acc: 0.8654 - val_loss: 0.3624 - val_acc: 0.8576\n",
            "Epoch 4/20\n",
            "49/49 [==============================] - 2s 46ms/step - loss: 0.3442 - acc: 0.8702 - val_loss: 0.3529 - val_acc: 0.8620\n",
            "Epoch 5/20\n",
            "49/49 [==============================] - 2s 44ms/step - loss: 0.3369 - acc: 0.8711 - val_loss: 0.3516 - val_acc: 0.8622\n",
            "Epoch 6/20\n",
            "49/49 [==============================] - 2s 44ms/step - loss: 0.3351 - acc: 0.8698 - val_loss: 0.3736 - val_acc: 0.8514\n",
            "Epoch 7/20\n",
            "49/49 [==============================] - 2s 44ms/step - loss: 0.3354 - acc: 0.8708 - val_loss: 0.3596 - val_acc: 0.8578\n",
            "Epoch 8/20\n",
            "49/49 [==============================] - 2s 46ms/step - loss: 0.3331 - acc: 0.8721 - val_loss: 0.3680 - val_acc: 0.8528\n",
            "Epoch 9/20\n",
            "49/49 [==============================] - 2s 44ms/step - loss: 0.3303 - acc: 0.8739 - val_loss: 0.3529 - val_acc: 0.8595\n",
            "Epoch 10/20\n",
            "49/49 [==============================] - 2s 44ms/step - loss: 0.3296 - acc: 0.8727 - val_loss: 0.3560 - val_acc: 0.8593\n",
            "Epoch 11/20\n",
            "49/49 [==============================] - 2s 44ms/step - loss: 0.3270 - acc: 0.8747 - val_loss: 0.3602 - val_acc: 0.8558\n",
            "Epoch 12/20\n",
            "49/49 [==============================] - 2s 44ms/step - loss: 0.3272 - acc: 0.8750 - val_loss: 0.3673 - val_acc: 0.8522\n",
            "Epoch 13/20\n",
            "49/49 [==============================] - 2s 44ms/step - loss: 0.3231 - acc: 0.8769 - val_loss: 0.3486 - val_acc: 0.8608\n",
            "Epoch 14/20\n",
            "49/49 [==============================] - 2s 44ms/step - loss: 0.3233 - acc: 0.8742 - val_loss: 0.3632 - val_acc: 0.8538\n",
            "Epoch 15/20\n",
            "49/49 [==============================] - 2s 48ms/step - loss: 0.3192 - acc: 0.8785 - val_loss: 0.3493 - val_acc: 0.8607\n",
            "Epoch 16/20\n",
            "49/49 [==============================] - 2s 46ms/step - loss: 0.3169 - acc: 0.8770 - val_loss: 0.3598 - val_acc: 0.8542\n",
            "Epoch 17/20\n",
            "49/49 [==============================] - 2s 44ms/step - loss: 0.3161 - acc: 0.8790 - val_loss: 0.3585 - val_acc: 0.8566\n",
            "Epoch 18/20\n",
            "49/49 [==============================] - 2s 47ms/step - loss: 0.3119 - acc: 0.8810 - val_loss: 0.3477 - val_acc: 0.8607\n",
            "Epoch 19/20\n",
            "49/49 [==============================] - 2s 47ms/step - loss: 0.3110 - acc: 0.8796 - val_loss: 0.3481 - val_acc: 0.8612\n",
            "Epoch 20/20\n",
            "49/49 [==============================] - 2s 46ms/step - loss: 0.3115 - acc: 0.8804 - val_loss: 0.3510 - val_acc: 0.8596\n"
          ]
        }
      ]
    },
    {
      "cell_type": "markdown",
      "metadata": {
        "id": "9ncu8EfhBMSp"
      },
      "source": [
        "#### 시각화\n",
        "- Model 1은 **모델의 크기 축소**파트에서의 모델"
      ]
    },
    {
      "cell_type": "code",
      "metadata": {
        "id": "9bT9d1Ov5-g3",
        "colab": {
          "base_uri": "https://localhost:8080/",
          "height": 276
        },
        "outputId": "1cf4ab41-5843-4c87-bbe6-5fbbd7f73e2b"
      },
      "source": [
        "l2_model_val_loss = l2_model_hist.history['val_loss']\n",
        "\n",
        "epochs = range(1,21)\n",
        "plt.plot(epochs, model_1_val_loss, 'r+', label='Model 1')\n",
        "plt.plot(epochs, l2_model_val_loss, 'bo', label='Model 2')\n",
        "\n",
        "\n",
        "plt.xlabel('Epochs')\n",
        "plt.ylabel('Validation Loss')\n",
        "plt.legend()\n",
        "plt.grid()\n",
        "\n",
        "plt.show()"
      ],
      "execution_count": null,
      "outputs": [
        {
          "output_type": "display_data",
          "data": {
            "text/plain": [
              "<Figure size 432x288 with 1 Axes>"
            ],
            "image/png": "[encoded data removed]"
          },
          "metadata": {}
        }
      ]
    },
    {
      "cell_type": "markdown",
      "metadata": {
        "id": "mSAicW_U7PBQ"
      },
      "source": [
        "#### L1과 비교"
      ]
    },
    {
      "cell_type": "code",
      "metadata": {
        "id": "-aoBg6k16Ucv",
        "colab": {
          "base_uri": "https://localhost:8080/",
          "height": 697
        },
        "outputId": "ec7d420f-6bd3-43df-cede-a37f4edc29c6"
      },
      "source": [
        "l1_model = Sequential([Dense(16, kernel_regularizer=l2(0.0001), activation='relu', input_shape=(10000,)),\n",
        "                       Dense(16, kernel_regularizer=l2(0.0001), activation='relu'),\n",
        "                       Dense(1, activation='sigmoid')])\n",
        "\n",
        "l1_model.compile(optimizer='rmsprop',\n",
        "                 loss='binary_crossentropy',\n",
        "                 metrics=['acc'])\n",
        "\n",
        "l1_model.summary()\n",
        "plot_model(l1_model, show_shapes=True)"
      ],
      "execution_count": null,
      "outputs": [
        {
          "output_type": "stream",
          "name": "stdout",
          "text": [
            "Model: \"sequential_14\"\n",
            "_________________________________________________________________\n",
            " Layer (type)                Output Shape              Param #   \n",
            "=================================================================\n",
            " dense_15 (Dense)            (None, 16)                160016    \n",
            "                                                                 \n",
            " dense_16 (Dense)            (None, 16)                272       \n",
            "                                                                 \n",
            " dense_17 (Dense)            (None, 1)                 17        \n",
            "                                                                 \n",
            "=================================================================\n",
            "Total params: 160,305\n",
            "Trainable params: 160,305\n",
            "Non-trainable params: 0\n",
            "_________________________________________________________________\n"
          ]
        },
        {
          "output_type": "execute_result",
          "data": {
            "text/plain": [
              "<IPython.core.display.Image object>"
            ],
            "image/png": "[encoded data removed]"
          },
          "metadata": {},
          "execution_count": 60
        }
      ]
    },
    {
      "cell_type": "code",
      "metadata": {
        "id": "8CXp6Sae7vX_",
        "colab": {
          "base_uri": "https://localhost:8080/"
        },
        "outputId": "5cc027af-8be2-4190-8790-6d47240a34ba"
      },
      "source": [
        "l1_model_hist = l1_model.fit(x_train, y_train,\n",
        "                             epochs=20,\n",
        "                             batch_size=512,\n",
        "                             validation_data=(x_test, y_test))"
      ],
      "execution_count": null,
      "outputs": [
        {
          "output_type": "stream",
          "name": "stdout",
          "text": [
            "Epoch 1/20\n",
            "49/49 [==============================] - 5s 97ms/step - loss: 0.5323 - acc: 0.7702 - val_loss: 0.4091 - val_acc: 0.8502\n",
            "Epoch 2/20\n",
            "49/49 [==============================] - 2s 43ms/step - loss: 0.3699 - acc: 0.8572 - val_loss: 0.3736 - val_acc: 0.8406\n",
            "Epoch 3/20\n",
            "49/49 [==============================] - 2s 44ms/step - loss: 0.3348 - acc: 0.8631 - val_loss: 0.3332 - val_acc: 0.8615\n",
            "Epoch 4/20\n",
            "49/49 [==============================] - 2s 44ms/step - loss: 0.3218 - acc: 0.8677 - val_loss: 0.3312 - val_acc: 0.8613\n",
            "Epoch 5/20\n",
            "49/49 [==============================] - 2s 45ms/step - loss: 0.3144 - acc: 0.8718 - val_loss: 0.3286 - val_acc: 0.8612\n",
            "Epoch 6/20\n",
            "49/49 [==============================] - 2s 44ms/step - loss: 0.3112 - acc: 0.8731 - val_loss: 0.3331 - val_acc: 0.8589\n",
            "Epoch 7/20\n",
            "49/49 [==============================] - 2s 43ms/step - loss: 0.3078 - acc: 0.8737 - val_loss: 0.3464 - val_acc: 0.8533\n",
            "Epoch 8/20\n",
            "49/49 [==============================] - 2s 43ms/step - loss: 0.3071 - acc: 0.8727 - val_loss: 0.3284 - val_acc: 0.8610\n",
            "Epoch 9/20\n",
            "49/49 [==============================] - 2s 44ms/step - loss: 0.3031 - acc: 0.8758 - val_loss: 0.3441 - val_acc: 0.8544\n",
            "Epoch 10/20\n",
            "49/49 [==============================] - 3s 52ms/step - loss: 0.3010 - acc: 0.8749 - val_loss: 0.3285 - val_acc: 0.8610\n",
            "Epoch 11/20\n",
            "49/49 [==============================] - 3s 63ms/step - loss: 0.2957 - acc: 0.8790 - val_loss: 0.3332 - val_acc: 0.8589\n",
            "Epoch 12/20\n",
            "49/49 [==============================] - 3s 53ms/step - loss: 0.2944 - acc: 0.8761 - val_loss: 0.3277 - val_acc: 0.8602\n",
            "Epoch 13/20\n",
            "49/49 [==============================] - 3s 52ms/step - loss: 0.2892 - acc: 0.8803 - val_loss: 0.3300 - val_acc: 0.8585\n",
            "Epoch 14/20\n",
            "49/49 [==============================] - 2s 44ms/step - loss: 0.2856 - acc: 0.8815 - val_loss: 0.3607 - val_acc: 0.8450\n",
            "Epoch 15/20\n",
            "49/49 [==============================] - 2s 43ms/step - loss: 0.2817 - acc: 0.8843 - val_loss: 0.3274 - val_acc: 0.8603\n",
            "Epoch 16/20\n",
            "49/49 [==============================] - 3s 58ms/step - loss: 0.2787 - acc: 0.8855 - val_loss: 0.3302 - val_acc: 0.8591\n",
            "Epoch 17/20\n",
            "49/49 [==============================] - 2s 47ms/step - loss: 0.2748 - acc: 0.8854 - val_loss: 0.3405 - val_acc: 0.8561\n",
            "Epoch 18/20\n",
            "49/49 [==============================] - 2s 44ms/step - loss: 0.2693 - acc: 0.8901 - val_loss: 0.3348 - val_acc: 0.8579\n",
            "Epoch 19/20\n",
            "49/49 [==============================] - 2s 44ms/step - loss: 0.2673 - acc: 0.8900 - val_loss: 0.3356 - val_acc: 0.8570\n",
            "Epoch 20/20\n",
            "49/49 [==============================] - 2s 44ms/step - loss: 0.2609 - acc: 0.8936 - val_loss: 0.3366 - val_acc: 0.8570\n"
          ]
        }
      ]
    },
    {
      "cell_type": "code",
      "metadata": {
        "id": "homdYX387xL4",
        "colab": {
          "base_uri": "https://localhost:8080/",
          "height": 276
        },
        "outputId": "2729010d-41b7-458c-b197-0e119fc8ebbc"
      },
      "source": [
        "l1_model_val_loss = l1_model_hist.history['val_loss']\n",
        "\n",
        "epochs = range(1,21)\n",
        "plt.plot(epochs, model_1_val_loss, 'r+', label='Model 1')\n",
        "plt.plot(epochs, l1_model_val_loss, 'bo', label='Model 2')\n",
        "\n",
        "\n",
        "plt.xlabel('Epochs')\n",
        "plt.ylabel('Validation Loss')\n",
        "plt.legend()\n",
        "plt.grid()\n",
        "\n",
        "plt.show()"
      ],
      "execution_count": null,
      "outputs": [
        {
          "output_type": "display_data",
          "data": {
            "text/plain": [
              "<Figure size 432x288 with 1 Axes>"
            ],
            "image/png": "[encoded data removed]"
          },
          "metadata": {}
        }
      ]
    },
    {
      "cell_type": "markdown",
      "metadata": {
        "id": "SMrhigPO9y3k"
      },
      "source": [
        "3가지 모델 비교\n",
        "- Original\n",
        "- L1\n",
        "- L2"
      ]
    },
    {
      "cell_type": "code",
      "metadata": {
        "id": "B5L4Dt0m8LYB",
        "colab": {
          "base_uri": "https://localhost:8080/",
          "height": 697
        },
        "outputId": "499c3ac8-b078-406e-acde-e2c8be47e931"
      },
      "source": [
        "l1_l2_model = Sequential([Dense(16, kernel_regularizer=l1_l2(l1=0.0001, l2=0.0001), activation='relu', input_shape=(10000,)),\n",
        "                       Dense(16, kernel_regularizer=l1_l2(l1=0.0001, l2=0.0001), activation='relu'),\n",
        "                       Dense(1, activation='sigmoid')])\n",
        "\n",
        "l1_l2_model.compile(optimizer='rmsprop',\n",
        "                 loss='binary_crossentropy',\n",
        "                 metrics=['acc'])\n",
        "\n",
        "l1_l2_model.summary()\n",
        "plot_model(l1_l2_model, show_shapes=True)"
      ],
      "execution_count": null,
      "outputs": [
        {
          "output_type": "stream",
          "name": "stdout",
          "text": [
            "Model: \"sequential_16\"\n",
            "_________________________________________________________________\n",
            " Layer (type)                Output Shape              Param #   \n",
            "=================================================================\n",
            " dense_21 (Dense)            (None, 16)                160016    \n",
            "                                                                 \n",
            " dense_22 (Dense)            (None, 16)                272       \n",
            "                                                                 \n",
            " dense_23 (Dense)            (None, 1)                 17        \n",
            "                                                                 \n",
            "=================================================================\n",
            "Total params: 160,305\n",
            "Trainable params: 160,305\n",
            "Non-trainable params: 0\n",
            "_________________________________________________________________\n"
          ]
        },
        {
          "output_type": "execute_result",
          "data": {
            "text/plain": [
              "<IPython.core.display.Image object>"
            ],
            "image/png": "[encoded data removed]"
          },
          "metadata": {},
          "execution_count": 65
        }
      ]
    },
    {
      "cell_type": "markdown",
      "metadata": {
        "id": "Dt-_9PJa8ZPz"
      },
      "source": [
        "#### L1, L2와 비교"
      ]
    },
    {
      "cell_type": "code",
      "metadata": {
        "id": "om9_yG0N8p63",
        "colab": {
          "base_uri": "https://localhost:8080/"
        },
        "outputId": "9bcad3bd-9ea7-4643-e751-e49d3f3babef"
      },
      "source": [
        "l1_l2_model_hist = l1_l2_model.fit(x_train, y_train,\n",
        "                             epochs=20,\n",
        "                             batch_size=512,\n",
        "                             validation_data=(x_test, y_test))"
      ],
      "execution_count": null,
      "outputs": [
        {
          "output_type": "stream",
          "name": "stdout",
          "text": [
            "Epoch 1/20\n",
            "49/49 [==============================] - 5s 83ms/step - loss: 0.5548 - acc: 0.7880 - val_loss: 0.4492 - val_acc: 0.8304\n",
            "Epoch 2/20\n",
            "49/49 [==============================] - 2s 46ms/step - loss: 0.4009 - acc: 0.8571 - val_loss: 0.3801 - val_acc: 0.8602\n",
            "Epoch 3/20\n",
            "49/49 [==============================] - 2s 46ms/step - loss: 0.3668 - acc: 0.8662 - val_loss: 0.3733 - val_acc: 0.8597\n",
            "Epoch 4/20\n",
            "49/49 [==============================] - 2s 44ms/step - loss: 0.3567 - acc: 0.8685 - val_loss: 0.3734 - val_acc: 0.8589\n",
            "Epoch 5/20\n",
            "49/49 [==============================] - 2s 44ms/step - loss: 0.3552 - acc: 0.8686 - val_loss: 0.3659 - val_acc: 0.8620\n",
            "Epoch 6/20\n",
            "49/49 [==============================] - 2s 44ms/step - loss: 0.3500 - acc: 0.8700 - val_loss: 0.3627 - val_acc: 0.8620\n",
            "Epoch 7/20\n",
            "49/49 [==============================] - 2s 45ms/step - loss: 0.3493 - acc: 0.8698 - val_loss: 0.3783 - val_acc: 0.8560\n",
            "Epoch 8/20\n",
            "49/49 [==============================] - 2s 45ms/step - loss: 0.3484 - acc: 0.8719 - val_loss: 0.3704 - val_acc: 0.8588\n",
            "Epoch 9/20\n",
            "49/49 [==============================] - 2s 45ms/step - loss: 0.3470 - acc: 0.8711 - val_loss: 0.3789 - val_acc: 0.8540\n",
            "Epoch 10/20\n",
            "49/49 [==============================] - 2s 45ms/step - loss: 0.3488 - acc: 0.8702 - val_loss: 0.3624 - val_acc: 0.8611\n",
            "Epoch 11/20\n",
            "49/49 [==============================] - 2s 45ms/step - loss: 0.3445 - acc: 0.8725 - val_loss: 0.3660 - val_acc: 0.8596\n",
            "Epoch 12/20\n",
            "49/49 [==============================] - 2s 45ms/step - loss: 0.3435 - acc: 0.8722 - val_loss: 0.3633 - val_acc: 0.8613\n",
            "Epoch 13/20\n",
            "49/49 [==============================] - 2s 46ms/step - loss: 0.3419 - acc: 0.8710 - val_loss: 0.3606 - val_acc: 0.8608\n",
            "Epoch 14/20\n",
            "49/49 [==============================] - 2s 47ms/step - loss: 0.3405 - acc: 0.8738 - val_loss: 0.3615 - val_acc: 0.8600\n",
            "Epoch 15/20\n",
            "49/49 [==============================] - 2s 45ms/step - loss: 0.3379 - acc: 0.8751 - val_loss: 0.3663 - val_acc: 0.8574\n",
            "Epoch 16/20\n",
            "49/49 [==============================] - 2s 45ms/step - loss: 0.3383 - acc: 0.8742 - val_loss: 0.3623 - val_acc: 0.8602\n",
            "Epoch 17/20\n",
            "49/49 [==============================] - 2s 46ms/step - loss: 0.3351 - acc: 0.8749 - val_loss: 0.3817 - val_acc: 0.8489\n",
            "Epoch 18/20\n",
            "49/49 [==============================] - 2s 46ms/step - loss: 0.3336 - acc: 0.8735 - val_loss: 0.3585 - val_acc: 0.8613\n",
            "Epoch 19/20\n",
            "49/49 [==============================] - 2s 45ms/step - loss: 0.3302 - acc: 0.8760 - val_loss: 0.3691 - val_acc: 0.8588\n",
            "Epoch 20/20\n",
            "49/49 [==============================] - 2s 46ms/step - loss: 0.3295 - acc: 0.8761 - val_loss: 0.3632 - val_acc: 0.8606\n"
          ]
        }
      ]
    },
    {
      "cell_type": "code",
      "metadata": {
        "id": "HZvfp1oa8zqR",
        "colab": {
          "base_uri": "https://localhost:8080/",
          "height": 276
        },
        "outputId": "1789e78f-2fd7-4caf-cebb-b20eaf0cc0d1"
      },
      "source": [
        "l1_l2_model_val_loss = l1_l2_model_hist.history['val_loss']\n",
        "\n",
        "epochs = range(1,21)\n",
        "plt.plot(epochs, model_1_val_loss, 'r+', label='Model 1')\n",
        "plt.plot(epochs, l1_l2_model_val_loss, 'bo', label='Model 2')\n",
        "\n",
        "\n",
        "plt.xlabel('Epochs')\n",
        "plt.ylabel('Validation Loss')\n",
        "plt.legend()\n",
        "plt.grid()\n",
        "\n",
        "plt.show()"
      ],
      "execution_count": null,
      "outputs": [
        {
          "output_type": "display_data",
          "data": {
            "text/plain": [
              "<Figure size 432x288 with 1 Axes>"
            ],
            "image/png": "[encoded data removed]"
          },
          "metadata": {}
        }
      ]
    },
    {
      "cell_type": "code",
      "metadata": {
        "id": "pbAePZaz9Ct7"
      },
      "source": [
        ""
      ],
      "execution_count": null,
      "outputs": []
    },
    {
      "cell_type": "markdown",
      "metadata": {
        "id": "adXSd24794wD"
      },
      "source": [
        "4가지 모델 비교\n",
        "- Original\n",
        "\n",
        "- L1\n",
        "\n",
        "- L2\n",
        "\n",
        "- L1_L2"
      ]
    },
    {
      "cell_type": "code",
      "metadata": {
        "id": "MSlpzdAR9X7o"
      },
      "source": [
        ""
      ],
      "execution_count": null,
      "outputs": []
    },
    {
      "cell_type": "markdown",
      "metadata": {
        "id": "2HZJQ1Uc-Pwe"
      },
      "source": [
        "### 드롭아웃(Dropout)\n",
        "- 신경망을 위해 사용되는 규제 기법 중 가장 효과적이고 널리 사용되는 방법\n",
        "\n",
        "- 신경망의 레이어에 드롭아웃을 적용하면 훈련하는 동안 무작위로 층의 일부 특성(노드)를 제외\n",
        "  - 예를 들어, [1.0, 3.2, 0.6, 0.8, 1.1] 라는 벡터에 대해 드롭아웃을 적용하면 **무작위로 0으로 바뀜**  \n",
        "    $\\rightarrow$ [0, 3.2, 0.6, 0.8, 0]\n",
        "\n",
        "  - 보통 0.2 ~ 0.5 사이의 비율로 지정됨\n",
        "\n",
        "- 테스트 단계에서는 그 어떤 노드도 드롭아웃 되지 않는다.\n",
        "  - 대신 해당 레이어의 출력 노드를 드롭아웃 비율에 맞게 줄여줌"
      ]
    },
    {
      "cell_type": "code",
      "metadata": {
        "id": "m8vp3zV8_8va"
      },
      "source": [
        "from tensorflow.keras.layers import Dropout"
      ],
      "execution_count": null,
      "outputs": []
    },
    {
      "cell_type": "markdown",
      "metadata": {
        "id": "2Lv4SuKy_6C0"
      },
      "source": [
        "#### 모델 구성"
      ]
    },
    {
      "cell_type": "code",
      "metadata": {
        "id": "qb6_EQte-Jxu",
        "colab": {
          "base_uri": "https://localhost:8080/",
          "height": 993
        },
        "outputId": "50166887-6c46-4d6e-ac94-44278a605a35"
      },
      "source": [
        "dropout_model = Sequential([Dense(16, activation='relu', input_shape=(10000,)),\n",
        "                            Dropout(0.5),\n",
        "                            Dense(16, activation='relu'),\n",
        "                            Dropout(0.5),\n",
        "                            Dense(1, activation='sigmoid')])\n",
        "\n",
        "dropout_model.compile(optimizer='rmsprop',\n",
        "                    loss='binary_crossentropy',\n",
        "                    metrics=['acc'])\n",
        "\n",
        "dropout_model.summary()\n",
        "plot_model(dropout_model, show_shapes=True)"
      ],
      "execution_count": null,
      "outputs": [
        {
          "output_type": "stream",
          "name": "stdout",
          "text": [
            "Model: \"sequential_19\"\n",
            "_________________________________________________________________\n",
            " Layer (type)                Output Shape              Param #   \n",
            "=================================================================\n",
            " dense_30 (Dense)            (None, 16)                160016    \n",
            "                                                                 \n",
            " dropout_4 (Dropout)         (None, 16)                0         \n",
            "                                                                 \n",
            " dense_31 (Dense)            (None, 16)                272       \n",
            "                                                                 \n",
            " dropout_5 (Dropout)         (None, 16)                0         \n",
            "                                                                 \n",
            " dense_32 (Dense)            (None, 1)                 17        \n",
            "                                                                 \n",
            "=================================================================\n",
            "Total params: 160,305\n",
            "Trainable params: 160,305\n",
            "Non-trainable params: 0\n",
            "_________________________________________________________________\n"
          ]
        },
        {
          "output_type": "execute_result",
          "data": {
            "text/plain": [
              "<IPython.core.display.Image object>"
            ],
            "image/png": "[encoded data removed]"
          },
          "metadata": {},
          "execution_count": 71
        }
      ]
    },
    {
      "cell_type": "markdown",
      "metadata": {
        "id": "5aJVz33uArZo"
      },
      "source": [
        "#### 모델 학습"
      ]
    },
    {
      "cell_type": "code",
      "metadata": {
        "id": "3EKriwnYAhsO",
        "colab": {
          "base_uri": "https://localhost:8080/"
        },
        "outputId": "caddd3d0-e8e2-4673-f23b-7f0bbf98deae"
      },
      "source": [
        "dropout_model_hist = dropout_model.fit(x_train, y_train,\n",
        "                             epochs=20,\n",
        "                             batch_size=512,\n",
        "                             validation_data=(x_test, y_test))"
      ],
      "execution_count": null,
      "outputs": [
        {
          "output_type": "stream",
          "name": "stdout",
          "text": [
            "Epoch 1/20\n",
            "49/49 [==============================] - 4s 75ms/step - loss: 0.6095 - acc: 0.6746 - val_loss: 0.4908 - val_acc: 0.8394\n",
            "Epoch 2/20\n",
            "49/49 [==============================] - 2s 41ms/step - loss: 0.4921 - acc: 0.7830 - val_loss: 0.3859 - val_acc: 0.8528\n",
            "Epoch 3/20\n",
            "49/49 [==============================] - 2s 41ms/step - loss: 0.4355 - acc: 0.8185 - val_loss: 0.3503 - val_acc: 0.8610\n",
            "Epoch 4/20\n",
            "49/49 [==============================] - 2s 43ms/step - loss: 0.3996 - acc: 0.8397 - val_loss: 0.3281 - val_acc: 0.8631\n",
            "Epoch 5/20\n",
            "49/49 [==============================] - 2s 48ms/step - loss: 0.3822 - acc: 0.8484 - val_loss: 0.3222 - val_acc: 0.8625\n",
            "Epoch 6/20\n",
            "49/49 [==============================] - 3s 53ms/step - loss: 0.3670 - acc: 0.8537 - val_loss: 0.3205 - val_acc: 0.8619\n",
            "Epoch 7/20\n",
            "49/49 [==============================] - 2s 41ms/step - loss: 0.3534 - acc: 0.8597 - val_loss: 0.3191 - val_acc: 0.8617\n",
            "Epoch 8/20\n",
            "49/49 [==============================] - 2s 41ms/step - loss: 0.3420 - acc: 0.8636 - val_loss: 0.3221 - val_acc: 0.8620\n",
            "Epoch 9/20\n",
            "49/49 [==============================] - 2s 42ms/step - loss: 0.3403 - acc: 0.8666 - val_loss: 0.3209 - val_acc: 0.8616\n",
            "Epoch 10/20\n",
            "49/49 [==============================] - 2s 42ms/step - loss: 0.3339 - acc: 0.8663 - val_loss: 0.3236 - val_acc: 0.8620\n",
            "Epoch 11/20\n",
            "49/49 [==============================] - 2s 42ms/step - loss: 0.3260 - acc: 0.8734 - val_loss: 0.3253 - val_acc: 0.8593\n",
            "Epoch 12/20\n",
            "49/49 [==============================] - 2s 41ms/step - loss: 0.3236 - acc: 0.8720 - val_loss: 0.3302 - val_acc: 0.8605\n",
            "Epoch 13/20\n",
            "49/49 [==============================] - 2s 41ms/step - loss: 0.3193 - acc: 0.8734 - val_loss: 0.3314 - val_acc: 0.8598\n",
            "Epoch 14/20\n",
            "49/49 [==============================] - 3s 60ms/step - loss: 0.3172 - acc: 0.8753 - val_loss: 0.3291 - val_acc: 0.8595\n",
            "Epoch 15/20\n",
            "49/49 [==============================] - 2s 41ms/step - loss: 0.3114 - acc: 0.8763 - val_loss: 0.3294 - val_acc: 0.8591\n",
            "Epoch 16/20\n",
            "49/49 [==============================] - 2s 48ms/step - loss: 0.3111 - acc: 0.8775 - val_loss: 0.3397 - val_acc: 0.8582\n",
            "Epoch 17/20\n",
            "49/49 [==============================] - 2s 45ms/step - loss: 0.3079 - acc: 0.8794 - val_loss: 0.3379 - val_acc: 0.8570\n",
            "Epoch 18/20\n",
            "49/49 [==============================] - 2s 43ms/step - loss: 0.3024 - acc: 0.8805 - val_loss: 0.3374 - val_acc: 0.8586\n",
            "Epoch 19/20\n",
            "49/49 [==============================] - 2s 41ms/step - loss: 0.3013 - acc: 0.8795 - val_loss: 0.3426 - val_acc: 0.8566\n",
            "Epoch 20/20\n",
            "49/49 [==============================] - 2s 41ms/step - loss: 0.2983 - acc: 0.8812 - val_loss: 0.3357 - val_acc: 0.8563\n"
          ]
        }
      ]
    },
    {
      "cell_type": "markdown",
      "metadata": {
        "id": "H1mtPk84GQhi"
      },
      "source": [
        "#### 시각화"
      ]
    },
    {
      "cell_type": "code",
      "metadata": {
        "id": "UCYzvVV5A0it",
        "colab": {
          "base_uri": "https://localhost:8080/",
          "height": 276
        },
        "outputId": "2262e0c6-5f5f-4037-8ad1-98fefd368fcf"
      },
      "source": [
        "dropout_model_val_loss = dropout_model_hist.history['val_loss']\n",
        "\n",
        "epochs = range(1,21)\n",
        "plt.plot(epochs, model_1_val_loss, 'r+', label='Model 1')\n",
        "plt.plot(epochs, dropout_model_val_loss, 'bo', label='Model 2')\n",
        "\n",
        "\n",
        "plt.xlabel('Epochs')\n",
        "plt.ylabel('Validation Loss')\n",
        "plt.legend()\n",
        "plt.grid()\n",
        "\n",
        "plt.show()"
      ],
      "execution_count": null,
      "outputs": [
        {
          "output_type": "display_data",
          "data": {
            "text/plain": [
              "<Figure size 432x288 with 1 Axes>"
            ],
            "image/png": "[encoded data removed]"
          },
          "metadata": {}
        }
      ]
    }
  ]
}