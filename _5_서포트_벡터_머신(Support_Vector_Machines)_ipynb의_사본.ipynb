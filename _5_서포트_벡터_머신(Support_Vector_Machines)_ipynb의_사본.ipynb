{
  "cells": [
    {
      "cell_type": "markdown",
      "metadata": {
        "id": "view-in-github",
        "colab_type": "text"
      },
      "source": [
        "<a href=\"https://colab.research.google.com/github/bye23mj/suanLee/blob/main/_5_%EC%84%9C%ED%8F%AC%ED%8A%B8_%EB%B2%A1%ED%84%B0_%EB%A8%B8%EC%8B%A0(Support_Vector_Machines)_ipynb%EC%9D%98_%EC%82%AC%EB%B3%B8.ipynb\" target=\"_parent\"><img src=\"https://colab.research.google.com/assets/colab-badge.svg\" alt=\"Open In Colab\"/></a>"
      ]
    },
    {
      "cell_type": "markdown",
      "metadata": {
        "id": "g63soNOvFUSa"
      },
      "source": [
        "# 서포트 벡터 머신(Support Vector Machines)"
      ]
    },
    {
      "cell_type": "markdown",
      "metadata": {
        "id": "Rrbp02Mk5CDA"
      },
      "source": [
        "* 회귀, 분류, 이상치 탐지 등에 사용되는 지도학습 방법\n",
        "* 클래스 사이의 경계에 위치한 데이터 포인트를 서포트 벡터(support vector)라고 함\n",
        "* 각 지지 벡터가 클래스 사이의 결정 경계를 구분하는데 얼마나 중요한지를 학습\n",
        "* 각 지지 벡터 사이의 마진이 가장 큰 방향으로 학습\n",
        "* 지지 벡터 까지의 거리와 지지 벡터의 중요도를 기반으로 예측을 수행\n",
        "\n",
        "![support vector machine](https://upload.wikimedia.org/wikipedia/commons/thumb/2/20/Svm_separating_hyperplanes.png/220px-Svm_separating_hyperplanes.png)\n",
        "\n",
        "* H3은 두 클래스의 점들을 제대로 분류하고 있지 않음\n",
        "* H1과 H2는 두 클래스의 점들을 분류하는데, H2가 H1보다 더 큰 마진을 갖고 분류하는 것을 확인할 수 있음"
      ]
    },
    {
      "cell_type": "code",
      "execution_count": 202,
      "metadata": {
        "id": "zBilnkAn4_U3"
      },
      "outputs": [],
      "source": [
        "import multiprocessing\n",
        "import numpy as np\n",
        "import pandas as pd\n",
        "import matplotlib.pyplot as plt\n",
        "\n",
        "plt.style.use(['seaborn-whitegrid'])\n",
        "\n",
        "import warnings \n",
        "warnings.filterwarnings('ignore')"
      ]
    },
    {
      "cell_type": "code",
      "execution_count": 203,
      "metadata": {
        "id": "1YRJRPy6hTe0"
      },
      "outputs": [],
      "source": [
        "from sklearn.svm import SVC, SVR\n",
        "from sklearn.datasets import load_boston, load_diabetes\n",
        "from sklearn.datasets import load_breast_cancer, load_iris, load_wine\n",
        "from sklearn.pipeline import make_pipeline, Pipeline\n",
        "from sklearn.model_selection import train_test_split, GridSearchCV, cross_validate\n",
        "from sklearn.preprocessing import StandardScaler, MinMaxScaler\n",
        "#차원축소에 사용되는 패키지\n",
        "from sklearn.manifold import TSNE"
      ]
    },
    {
      "cell_type": "markdown",
      "metadata": {
        "id": "UxS0mPsCh4l0"
      },
      "source": [
        "## SVM을 이용한 회귀 모델과 분류 모델"
      ]
    },
    {
      "cell_type": "markdown",
      "metadata": {
        "id": "NTtcx3p8wtNX"
      },
      "source": [
        "### SVM을 사용한 회귀 모델 (SVR)"
      ]
    },
    {
      "cell_type": "code",
      "execution_count": 204,
      "metadata": {
        "colab": {
          "base_uri": "https://localhost:8080/"
        },
        "id": "sCrhSrMf5BqB",
        "outputId": "c2eafc3f-2afa-4cc9-a9ce-7cb15da27241"
      },
      "outputs": [
        {
          "output_type": "stream",
          "name": "stdout",
          "text": [
            "0.19315594710601414\n",
            "0.20156980505236877\n"
          ]
        }
      ],
      "source": [
        "X, y = load_boston(return_X_y= True)\n",
        "X_train, X_test, y_train, y_test = train_test_split(X, y)\n",
        "\n",
        "model = SVR()\n",
        "model.fit(X_train, y_train)\n",
        "\n",
        "print(model.score(X_train, y_train))\n",
        "print(model.score(X_test, y_test))"
      ]
    },
    {
      "cell_type": "markdown",
      "metadata": {
        "id": "CQraX6MzwvtE"
      },
      "source": [
        "### SVM을 사용한 분류 모델 (SVC)"
      ]
    },
    {
      "cell_type": "code",
      "execution_count": 205,
      "metadata": {
        "colab": {
          "base_uri": "https://localhost:8080/"
        },
        "id": "bnh5fS8gFbtK",
        "outputId": "ec664287-bfef-4b49-8415-80c31bbab3e8"
      },
      "outputs": [
        {
          "output_type": "stream",
          "name": "stdout",
          "text": [
            "0.92018779342723\n",
            "0.9230769230769231\n"
          ]
        }
      ],
      "source": [
        "X, y = load_breast_cancer(return_X_y= True)\n",
        "X_train, X_test, y_train, y_test = train_test_split(X, y)\n",
        "\n",
        "model = SVC()\n",
        "model.fit(X_train, y_train)\n",
        "\n",
        "print(model.score(X_train, y_train))\n",
        "print(model.score(X_test, y_test))"
      ]
    },
    {
      "cell_type": "markdown",
      "metadata": {
        "id": "zgd_dvKrGeFh"
      },
      "source": [
        "## 커널 기법\n",
        "\n",
        "* 입력 데이터를 고차원 공간에 사상해서 비선형 특징을 학습할 수 있도록 확장하는 방법\n",
        "* scikit-learn에서는 Linear, LinearSVC, Polynomial, RBF(Radial Basis Function)등 다양한 커널 기법을 지원\n",
        "\n",
        "![kernel trick](https://scikit-learn.org/stable/_images/sphx_glr_plot_iris_svc_0011.png)"
      ]
    },
    {
      "cell_type": "code",
      "execution_count": null,
      "metadata": {
        "colab": {
          "base_uri": "https://localhost:8080/"
        },
        "id": "Azq1UJtZF8sU",
        "outputId": "0a9263b7-cfda-4d76-b426-3c13ff1b2ae9"
      },
      "outputs": [
        {
          "name": "stdout",
          "output_type": "stream",
          "text": [
            "0.7090694765671062\n",
            "0.6578623366163128\n",
            "0.20379249908643815\n",
            "0.20577161325673976\n",
            "0.20453970185283743\n",
            "0.2098866405691382\n"
          ]
        }
      ],
      "source": [
        "X, y = load_boston(return_X_y= True)\n",
        "X_train, X_test, y_train, y_test = train_test_split(X, y)\n",
        "\n",
        "linear_svr = SVR(kernel='linear')\n",
        "linear_svr.fit(X_train, y_train)\n",
        "\n",
        "print(linear_svr.score(X_train, y_train))\n",
        "print(linear_svr.score(X_test, y_test))\n",
        "\n",
        "poly_svr = SVR(kernel='poly')\n",
        "poly_svr.fit(X_train, y_train)\n",
        "\n",
        "print(poly_svr.score(X_train, y_train))\n",
        "print(poly_svr.score(X_test, y_test))\n",
        "\n",
        "rbf_svr = SVR(kernel='rbf')\n",
        "rbf_svr.fit(X_train, y_train)\n",
        "\n",
        "print(rbf_svr.score(X_train, y_train))\n",
        "print(rbf_svr.score(X_test, y_test))"
      ]
    },
    {
      "cell_type": "code",
      "execution_count": null,
      "metadata": {
        "colab": {
          "base_uri": "https://localhost:8080/"
        },
        "id": "KuvRIzarJO0H",
        "outputId": "79b187cb-1ce4-4910-d096-132832f62c51"
      },
      "outputs": [
        {
          "name": "stdout",
          "output_type": "stream",
          "text": [
            "0.9671361502347418\n",
            "0.958041958041958\n",
            "0.9084507042253521\n",
            "0.9370629370629371\n",
            "0.9131455399061033\n",
            "0.9440559440559441\n"
          ]
        }
      ],
      "source": [
        "X, y = load_breast_cancer(return_X_y= True)\n",
        "X_train, X_test, y_train, y_test = train_test_split(X, y)\n",
        "\n",
        "linear_svc = SVC(kernel='linear')\n",
        "linear_svc.fit(X_train, y_train)\n",
        "\n",
        "print(linear_svc.score(X_train, y_train))\n",
        "print(linear_svc.score(X_test, y_test))\n",
        "\n",
        "poly_svc = SVC(kernel='poly')\n",
        "poly_svc.fit(X_train, y_train)\n",
        "\n",
        "print(poly_svc.score(X_train, y_train))\n",
        "print(poly_svc.score(X_test, y_test))\n",
        "\n",
        "rbf_svc = SVC(kernel='rbf')\n",
        "rbf_svc.fit(X_train, y_train)\n",
        "\n",
        "print(rbf_svc.score(X_train, y_train))\n",
        "print(rbf_svc.score(X_test, y_test))"
      ]
    },
    {
      "cell_type": "markdown",
      "metadata": {
        "id": "ysbUu5o3Lm2V"
      },
      "source": [
        "## 매개변수 튜닝\n",
        "\n",
        "* SVM은 사용하는 커널에 따라 다양한 매개변수 설정 가능\n",
        "* 매개변수를 변경하면서 성능변화를 관찰"
      ]
    },
    {
      "cell_type": "code",
      "execution_count": null,
      "metadata": {
        "colab": {
          "base_uri": "https://localhost:8080/"
        },
        "id": "JyCxM4abOZyO",
        "outputId": "7bab7a33-861c-479c-ca98-11a55d7556b3"
      },
      "outputs": [
        {
          "name": "stdout",
          "output_type": "stream",
          "text": [
            "0.9835680751173709\n",
            "0.993006993006993\n"
          ]
        }
      ],
      "source": [
        "X, y = load_breast_cancer(return_X_y= True)\n",
        "X_train, X_test, y_train, y_test = train_test_split(X, y, random_state=123)\n",
        "\n",
        "#cost와 함께 gamma라는 매개변수를 추가적으로 조정\n",
        "# C는 얼마나 많은 데이터 샘플이 다른 클래스에 놓이는 것을 허용하는지를 결정한다. 작을 수록 많이 허용하고, 클 수록 적게 허용한다.\n",
        "# gamma는 하나의 데이터 샘플이 영향력을 행사하는 거리를 결정 클수록 작은 표준편차를 갖는다\n",
        "poly_svc = SVC( kernel=\"poly\", degree=2, C=0.1,  gamma=\"auto\")\n",
        "poly_svc.fit(X_train, y_train)\n",
        "\n",
        "print(poly_svc.score(X_train, y_train))\n",
        "print(poly_svc.score(X_test, y_test))"
      ]
    },
    {
      "cell_type": "code",
      "execution_count": null,
      "metadata": {
        "colab": {
          "base_uri": "https://localhost:8080/"
        },
        "id": "QN4BSxiaJspb",
        "outputId": "155bd7fe-a3d1-447f-fe0b-74056d2b6f86"
      },
      "outputs": [
        {
          "name": "stdout",
          "output_type": "stream",
          "text": [
            "0.9154929577464789\n",
            "0.9370629370629371\n"
          ]
        }
      ],
      "source": [
        "rbf_svc = SVC( kernel=\"rbf\", C=2,  gamma=\"scale\")\n",
        "rbf_svc.fit(X_train, y_train)\n",
        "\n",
        "print(rbf_svc.score(X_train, y_train))\n",
        "print(rbf_svc.score(X_test, y_test))"
      ]
    },
    {
      "cell_type": "code",
      "execution_count": null,
      "metadata": {
        "id": "P7hOhO1oOvVC"
      },
      "outputs": [],
      "source": [
        ""
      ]
    },
    {
      "cell_type": "markdown",
      "metadata": {
        "id": "aEQL8h8WU0An"
      },
      "source": [
        "## 데이터 전처리\n",
        "\n",
        "* SVM은 입력 데이터가 정규화 되어야 좋은 성능을 보임\n",
        "* 주로 모든 특성 값을 [0, 1] 범위로 맞추는 방법을 사용\n",
        "* scikit-learn의 StandardScaler 또는 MinMaxScaler를 사용해 정규화"
      ]
    },
    {
      "cell_type": "code",
      "execution_count": null,
      "metadata": {
        "id": "RujhqUOsVU73"
      },
      "outputs": [],
      "source": [
        "X, y = load_breast_cancer(return_X_y= True)\n",
        "X_train, X_test, y_train, y_test = train_test_split(X, y, random_state=123)"
      ]
    },
    {
      "cell_type": "code",
      "execution_count": null,
      "metadata": {
        "colab": {
          "base_uri": "https://localhost:8080/"
        },
        "id": "DWau9A6UWds4",
        "outputId": "78731daf-9adb-43dd-a79b-82d51cd060b4"
      },
      "outputs": [
        {
          "name": "stdout",
          "output_type": "stream",
          "text": [
            "0.9154929577464789\n",
            "0.9370629370629371\n"
          ]
        }
      ],
      "source": [
        "model = SVC()\n",
        "model.fit(X_train, y_train)\n",
        "\n",
        "print(rbf_svc.score(X_train, y_train))\n",
        "print(rbf_svc.score(X_test, y_test))"
      ]
    },
    {
      "cell_type": "code",
      "execution_count": null,
      "metadata": {
        "colab": {
          "base_uri": "https://localhost:8080/"
        },
        "id": "y_ScHENS0ssY",
        "outputId": "029506ad-d72e-40c4-d3d4-c88a0bfa5b3d"
      },
      "outputs": [
        {
          "name": "stdout",
          "output_type": "stream",
          "text": [
            "0.9835680751173709\n",
            "0.986013986013986\n"
          ]
        }
      ],
      "source": [
        "#scaler(계수 : 변수에 일정한 수를 곱한 값)\n",
        "#fit_transform / transform 차이 \n",
        "#train data로 학습된 Scaler()의 parameter를 통해 test data의 feature 값들이 스케일 되는 것\n",
        "#테스트 데이터에 fit_transform를 적용할 경우 test 값도 학습됨\n",
        "\n",
        "scaler = StandardScaler()\n",
        "X_std_train = scaler.fit_transform(X_train)\n",
        "X_std_test = scaler.transform(X_test)\n",
        "\n",
        "model = SVC()\n",
        "model.fit(X_std_train, y_train)\n",
        "\n",
        "print(model.score(X_std_train, y_train))\n",
        "print(model.score(X_std_test, y_test))"
      ]
    },
    {
      "cell_type": "code",
      "execution_count": null,
      "metadata": {
        "colab": {
          "base_uri": "https://localhost:8080/"
        },
        "id": "R2_4R6JE0ssi",
        "outputId": "94c7534b-8119-4ce8-9154-5cad4ca50b93"
      },
      "outputs": [
        {
          "name": "stdout",
          "output_type": "stream",
          "text": [
            "0.9812206572769953\n",
            "0.986013986013986\n"
          ]
        }
      ],
      "source": [
        "scaler = MinMaxScaler()\n",
        "X_std_train = scaler.fit_transform(X_train)\n",
        "X_std_test = scaler.transform(X_test)\n",
        "\n",
        "model = SVC()\n",
        "model.fit(X_std_train, y_train)\n",
        "\n",
        "print(model.score(X_std_train, y_train))\n",
        "print(model.score(X_std_test, y_test))"
      ]
    },
    {
      "cell_type": "code",
      "execution_count": null,
      "metadata": {
        "id": "_EVkj33WVQOu"
      },
      "outputs": [],
      "source": [
        ""
      ]
    },
    {
      "cell_type": "code",
      "execution_count": null,
      "metadata": {
        "id": "D7Kj3q_bVmeN"
      },
      "outputs": [],
      "source": [
        ""
      ]
    },
    {
      "cell_type": "markdown",
      "metadata": {
        "id": "zLjtZC7gYr7R"
      },
      "source": [
        "## Linear SVR"
      ]
    },
    {
      "cell_type": "markdown",
      "metadata": {
        "id": "tbZicmjAZBZp"
      },
      "source": [
        "### 보스턴 주택 가격"
      ]
    },
    {
      "cell_type": "code",
      "execution_count": 206,
      "metadata": {
        "id": "X39InXCSYuPf"
      },
      "outputs": [],
      "source": [
        "X,y = load_boston(return_X_y=True)\n",
        "X_train, X_test, y_train, y_test = train_test_split(X,y, test_size = 0.2)"
      ]
    },
    {
      "cell_type": "code",
      "execution_count": 213,
      "metadata": {
        "colab": {
          "base_uri": "https://localhost:8080/"
        },
        "id": "I1TKwSKhdLaU",
        "outputId": "fa4be62d-aeae-445e-a58c-3ce46a6337df"
      },
      "outputs": [
        {
          "output_type": "stream",
          "name": "stdout",
          "text": [
            "0.735869834872335\n",
            "0.6045420959845871\n"
          ]
        }
      ],
      "source": [
        "scaler = StandardScaler()\n",
        "\n",
        "scaler.fit(X_train)\n",
        "X_train = scaler.transform(X_train)\n",
        "X_test = scaler.transform(X_test)\n",
        "\n",
        "# X_train = scaler.fit_transform(X_train)\n",
        "# X_test = scaler.transform(X_test)\n",
        "\n",
        "\n",
        "model = SVR(kernel= 'linear')\n",
        "model.fit(X_train, y_train)\n",
        "\n",
        "print(model.score(X_train, y_train))\n",
        "print(model.score(X_test, y_test))"
      ]
    },
    {
      "cell_type": "code",
      "execution_count": 216,
      "metadata": {
        "colab": {
          "base_uri": "https://localhost:8080/",
          "height": 280
        },
        "id": "deIvkeKRZqTU",
        "outputId": "7582f34d-65a7-45d5-c8b1-c8b62657931f"
      },
      "outputs": [
        {
          "output_type": "execute_result",
          "data": {
            "text/plain": [
              "<matplotlib.collections.PathCollection at 0x7f4099ba05d0>"
            ]
          },
          "metadata": {},
          "execution_count": 216
        },
        {
          "output_type": "display_data",
          "data": {
            "text/plain": [
              "<Figure size 432x288 with 1 Axes>"
            ],
            "image/png": "[encoded data removed]"
          },
          "metadata": {}
        }
      ],
      "source": [
        "#비지도 학습을 사용해 데이터를 변환하는 이유는 여러가지가 있다. \n",
        "#가장 일반적인 동기는 시각화, 데이터 압축, 지도학습을 위한 처리를 위해 정보가 더 잘드러나는 표현을 찾기 위함\n",
        "#매니폴드 알고리즘 중 하나\n",
        "#매니폴드 학습은 탐색적 데이터 분석에 유용, 지도학습에는 거의 사용하지 않음.\n",
        "#t-SNE의 아이디어는 데이터 포인트를 2차원에 무작위로 표현한 후 원본 특성 공간에서 가까운 포인트는 가깝게, 멀리떨어진 포이트는 멀어지게 만드는 것. \n",
        "#이웃 데이터 포인트에 대한 정보를 보전하려고함. \n",
        "\n",
        "X_comp = TSNE(n_components=1).fit_transform(X)\n",
        "plt.scatter(X_comp, y)"
      ]
    },
    {
      "cell_type": "code",
      "execution_count": 217,
      "metadata": {
        "colab": {
          "base_uri": "https://localhost:8080/",
          "height": 280
        },
        "id": "9EDBngPns4Ib",
        "outputId": "edee937e-5bb0-461b-e0c6-f639f5d79be0"
      },
      "outputs": [
        {
          "output_type": "execute_result",
          "data": {
            "text/plain": [
              "<matplotlib.collections.PathCollection at 0x7f4099cbd890>"
            ]
          },
          "metadata": {},
          "execution_count": 217
        },
        {
          "output_type": "display_data",
          "data": {
            "text/plain": [
              "<Figure size 432x288 with 1 Axes>"
            ],
            "image/png": "[encoded data removed]"
          },
          "metadata": {}
        }
      ],
      "source": [
        "model.fit(X_comp, y)\n",
        "predict = model.predict(X_comp)\n",
        "plt.scatter(X_comp, y)\n",
        "plt.scatter(X_comp, predict, color='r')"
      ]
    },
    {
      "cell_type": "markdown",
      "metadata": {
        "id": "y6YcXmTEwHTK"
      },
      "source": [
        "## **cross_validate**\n",
        "\n",
        "*참고(https://davinci-ai.tistory.com/18)\n",
        "\n",
        "1.데이터가 독립적이고 동일한 분포를 가진 경우\n",
        "* KFold, RepeatedKFold, LeaveOneOut(LOO), LeavePOutLeaveOneOut(LPO)\n",
        "\n",
        "2.동일한 분포가 아닌 경우\n",
        "* StratifiedKFold, RepeatedStratifiedKFold, StratifiedShuffleSplit\n",
        "\n",
        "3.그룹화된 데이터의 경우\n",
        "* GroupKFold, LeaveOneGroupOut, LeavePGroupsOut, GroupShuffleSplit\n",
        "\n",
        "4.시계열 데이터의 경우\n",
        "* TimeSeriesSplit\n",
        "\n",
        "\n"
      ]
    },
    {
      "cell_type": "code",
      "execution_count": 218,
      "metadata": {
        "colab": {
          "base_uri": "https://localhost:8080/"
        },
        "id": "lxHeRdyUs4cB",
        "outputId": "6c609c9f-fea8-4666-a413-a5b68bc1b612"
      },
      "outputs": [
        {
          "output_type": "stream",
          "name": "stderr",
          "text": [
            "[Parallel(n_jobs=2)]: Using backend LokyBackend with 2 concurrent workers.\n",
            "[Parallel(n_jobs=2)]: Done   5 out of   5 | elapsed:    0.9s finished\n"
          ]
        },
        {
          "output_type": "execute_result",
          "data": {
            "text/plain": [
              "{'fit_time': array([0.03318286, 0.02354884, 0.03570461, 0.03072405, 0.0255177 ]),\n",
              " 'score_time': array([0.00333214, 0.0059135 , 0.00312829, 0.00323081, 0.00180006]),\n",
              " 'test_score': array([0.76908568, 0.72180141, 0.56428426, 0.14083339, 0.07810211])}"
            ]
          },
          "metadata": {},
          "execution_count": 218
        }
      ],
      "source": [
        "estimator = make_pipeline(StandardScaler(), SVR(kernel='linear'))\n",
        "\n",
        "cross_validate(estimator=estimator, X=X, y=y, cv=5, n_jobs=multiprocessing.cpu_count(), verbose=True)"
      ]
    },
    {
      "cell_type": "code",
      "execution_count": null,
      "metadata": {
        "id": "LwVzn36gs4pA"
      },
      "outputs": [],
      "source": [
        ""
      ]
    },
    {
      "cell_type": "code",
      "execution_count": null,
      "metadata": {
        "id": "OFPw-qXuw85D"
      },
      "outputs": [],
      "source": [
        ""
      ]
    },
    {
      "cell_type": "code",
      "execution_count": null,
      "metadata": {
        "colab": {
          "base_uri": "https://localhost:8080/",
          "height": 274
        },
        "id": "zEknoMb5aRBt",
        "outputId": "2fa96830-719e-494a-d339-c42afde29c85"
      },
      "outputs": [
        {
          "data": {
            "image/png": "[encoded data removed]",
            "text/plain": [
              "<Figure size 720x360 with 10 Axes>"
            ]
          },
          "metadata": {},
          "output_type": "display_data"
        }
      ],
      "source": [
        "from sklearn.datasets import load_digits\n",
        "\n",
        "digits = load_digits()\n",
        "\n",
        "fig, axes = plt.subplots(2,5,figsize=(10,5), subplot_kw = {'xticks':(), 'yticks':()})\n",
        "\n",
        "for ax, imgs in zip(axes.ravel(), digits.images):\n",
        "    ax.imshow(imgs)"
      ]
    },
    {
      "cell_type": "code",
      "execution_count": null,
      "metadata": {
        "colab": {
          "base_uri": "https://localhost:8080/",
          "height": 627
        },
        "id": "S3ipWjbFiete",
        "outputId": "d0c7c093-deeb-4099-cb87-915e930455dd"
      },
      "outputs": [
        {
          "data": {
            "text/plain": [
              "Text(0, 0.5, '두 번째 주성분')"
            ]
          },
          "execution_count": 46,
          "metadata": {},
          "output_type": "execute_result"
        },
        {
          "data": {
            "image/png": "[encoded data removed]",
            "text/plain": [
              "<Figure size 720x720 with 1 Axes>"
            ]
          },
          "metadata": {},
          "output_type": "display_data"
        }
      ],
      "source": [
        "from sklearn.decomposition import PCA\n",
        "\n",
        "# 2차원으로 축소\n",
        "pca = PCA(n_components=2)\n",
        "pca.fit(digits.data)\n",
        "\n",
        "# 처음 두 개의 주성분으로 숫자 데이터를 변환\n",
        "digits_pca = pca.transform(digits.data)\n",
        "colors = [\"#476A2A\", \"#7851B8\", \"#BD3430\", \"#4A2D4E\", \"#875525\",\n",
        "          \"#A83683\", \"#4E655E\", \"#853541\", \"#3A3120\",\"#535D8E\"]\n",
        "\n",
        "plt.figure(figsize=(10,10))\n",
        "plt.xlim(digits_pca[:, 0].min(), digits_pca[:, 0].max())\n",
        "plt.ylim(digits_pca[:, 1].min(), digits_pca[:, 1].max())\n",
        "\n",
        "for i in range(len(digits.data)):\n",
        "    plt.text(digits_pca[i, 0], digits_pca[i,1], str(digits.target[i]),\n",
        "            color = colors[digits.target[i]] ,fontdict={'weight': 'bold', 'size':9}           )\n",
        "## fontdict={'weight': 'bold', 'size':9}\n",
        "\n",
        "plt.xlabel(\"첫 번째 주성분\")\n",
        "plt.ylabel(\"두 번째 주성분\")"
      ]
    },
    {
      "cell_type": "code",
      "execution_count": null,
      "metadata": {
        "colab": {
          "base_uri": "https://localhost:8080/",
          "height": 623
        },
        "id": "IqLc69hojcIr",
        "outputId": "16f4ef31-5858-40ac-9139-a95eaa81207e"
      },
      "outputs": [
        {
          "data": {
            "text/plain": [
              "Text(0, 0.5, 't-SNE 특성 1')"
            ]
          },
          "execution_count": 47,
          "metadata": {},
          "output_type": "execute_result"
        },
        {
          "data": {
            "image/png": "[encoded data removed]",
            "text/plain": [
              "<Figure size 720x720 with 1 Axes>"
            ]
          },
          "metadata": {},
          "output_type": "display_data"
        }
      ],
      "source": [
        "from sklearn.manifold import TSNE\n",
        "tsne = TSNE(random_state = 42)\n",
        "# TSNE에는 transform 메서드가 없으므로 대신 fit_transform을 사용한다.\n",
        "digits_tsne = tsne.fit_transform(digits.data)\n",
        "\n",
        "plt.figure(figsize=(10,10))\n",
        "plt.xlim(digits_tsne[:,0].min(), digits_tsne[:,0].max()+1)\n",
        "plt.ylim(digits_tsne[:,1].min(), digits_tsne[:,1].max()+1)\n",
        "\n",
        "for i in range(len(digits.data)):\n",
        "    plt.text(digits_tsne[i,0], digits_tsne[i,1], str(digits.target[i]),\n",
        "            color = colors[digits.target[i]],\n",
        "            fontdict = {'weight':'bold','size':9})\n",
        "    \n",
        "plt.xlabel(\"t-SNE 특성 0\")\n",
        "plt.ylabel(\"t-SNE 특성 1\")"
      ]
    },
    {
      "cell_type": "code",
      "execution_count": null,
      "metadata": {
        "id": "YzGeXLmZbGY7"
      },
      "outputs": [],
      "source": [
        ""
      ]
    },
    {
      "cell_type": "code",
      "execution_count": null,
      "metadata": {
        "id": "Hfo2Z6T5jo73"
      },
      "outputs": [],
      "source": [
        ""
      ]
    },
    {
      "cell_type": "code",
      "execution_count": null,
      "metadata": {
        "id": "G1BG0w50iUNF"
      },
      "outputs": [],
      "source": [
        ""
      ]
    },
    {
      "cell_type": "markdown",
      "metadata": {
        "id": "Tlmsj9sHlB_i"
      },
      "source": [
        "### 당뇨병"
      ]
    },
    {
      "cell_type": "code",
      "execution_count": 219,
      "metadata": {
        "id": "Yq7qyDJOlXgn"
      },
      "outputs": [],
      "source": [
        "X, y = load_diabetes(return_X_y=True)\n",
        "X_train, X_test, y_train, y_test = train_test_split(X, y, test_size = 0.2)"
      ]
    },
    {
      "cell_type": "code",
      "execution_count": 221,
      "metadata": {
        "colab": {
          "base_uri": "https://localhost:8080/"
        },
        "id": "O8ijEt-glfx0",
        "outputId": "d4f60b11-9130-4290-8e34-be19625f7c5c"
      },
      "outputs": [
        {
          "output_type": "stream",
          "name": "stdout",
          "text": [
            "0.4956586994235658\n",
            "0.5260532839456427\n"
          ]
        }
      ],
      "source": [
        "scaler = StandardScaler()\n",
        "\n",
        "scaler.fit(X_train)\n",
        "X_train = scaler.transform(X_train)\n",
        "X_test = scaler.transform(X_test)\n",
        "\n",
        "\n",
        "model = SVR(kernel='linear')\n",
        "\n",
        "model.fit(X_train, y_train)\n",
        "\n",
        "print(model.score(X_train, y_train))\n",
        "print(model.score(X_test, y_test))"
      ]
    },
    {
      "cell_type": "code",
      "execution_count": 222,
      "metadata": {
        "colab": {
          "base_uri": "https://localhost:8080/",
          "height": 280
        },
        "id": "NB4Kot_Yl1XY",
        "outputId": "35b5f267-8939-400a-c76a-b1062e2a5376"
      },
      "outputs": [
        {
          "output_type": "execute_result",
          "data": {
            "text/plain": [
              "<matplotlib.collections.PathCollection at 0x7f4099a8b310>"
            ]
          },
          "metadata": {},
          "execution_count": 222
        },
        {
          "output_type": "display_data",
          "data": {
            "text/plain": [
              "<Figure size 432x288 with 1 Axes>"
            ],
            "image/png": "[encoded data removed]"
          },
          "metadata": {}
        }
      ],
      "source": [
        "X_comp = TSNE(n_components=1).fit_transform(X)\n",
        "plt.scatter(X_comp,y)"
      ]
    },
    {
      "cell_type": "code",
      "execution_count": 223,
      "metadata": {
        "id": "VV0l-RNWmGCj",
        "colab": {
          "base_uri": "https://localhost:8080/",
          "height": 280
        },
        "outputId": "a84c94f7-e6e3-4e5f-98d6-f56c92389e73"
      },
      "outputs": [
        {
          "output_type": "execute_result",
          "data": {
            "text/plain": [
              "<matplotlib.collections.PathCollection at 0x7f4099aab0d0>"
            ]
          },
          "metadata": {},
          "execution_count": 223
        },
        {
          "output_type": "display_data",
          "data": {
            "text/plain": [
              "<Figure size 432x288 with 1 Axes>"
            ],
            "image/png": "[encoded data removed]"
          },
          "metadata": {}
        }
      ],
      "source": [
        "model.fit(X_comp, y)\n",
        "\n",
        "predict = model.predict(X_comp)\n",
        "plt.scatter(X_comp, y)\n",
        "plt.scatter(X_comp, predict, color='r')\n"
      ]
    },
    {
      "cell_type": "code",
      "execution_count": 224,
      "metadata": {
        "id": "VTdrZjW3uKa6",
        "colab": {
          "base_uri": "https://localhost:8080/"
        },
        "outputId": "ac1c69b7-87ff-45d0-a4e1-71b13d094d70"
      },
      "outputs": [
        {
          "output_type": "stream",
          "name": "stderr",
          "text": [
            "[Parallel(n_jobs=2)]: Using backend LokyBackend with 2 concurrent workers.\n",
            "[Parallel(n_jobs=2)]: Done   5 out of   5 | elapsed:    0.1s finished\n"
          ]
        },
        {
          "output_type": "execute_result",
          "data": {
            "text/plain": [
              "{'fit_time': array([0.02488208, 0.03073454, 0.02448416, 0.012501  , 0.01515126]),\n",
              " 'score_time': array([0.00265265, 0.0026176 , 0.00263047, 0.00250578, 0.00177479]),\n",
              " 'test_score': array([0.43037242, 0.51653341, 0.48275332, 0.42247202, 0.53076481])}"
            ]
          },
          "metadata": {},
          "execution_count": 224
        }
      ],
      "source": [
        "estimator = make_pipeline(StandardScaler(), SVR(kernel='linear'))\n",
        "cross_validate(estimator=estimator, X=X, y=y, cv=5, n_jobs=multiprocessing.cpu_count(), verbose=True)"
      ]
    },
    {
      "cell_type": "code",
      "execution_count": 225,
      "metadata": {
        "id": "f55hVLjGuKbE",
        "colab": {
          "base_uri": "https://localhost:8080/"
        },
        "outputId": "41fbe108-7c73-40ee-b916-1841d948c2f9"
      },
      "outputs": [
        {
          "output_type": "stream",
          "name": "stdout",
          "text": [
            "Fitting 5 folds for each of 18 candidates, totalling 90 fits\n"
          ]
        },
        {
          "output_type": "execute_result",
          "data": {
            "text/plain": [
              "GridSearchCV(cv=5,\n",
              "             estimator=Pipeline(steps=[('scaler', StandardScaler()),\n",
              "                                       ('model', SVR(kernel='linear'))]),\n",
              "             n_jobs=2,\n",
              "             param_grid=[{'model__C': [1.0, 0.1, 0.01],\n",
              "                          'model__epsilon': [1.0, 0.1, 0.01],\n",
              "                          'model__gamma': ['scale', 'auto']}],\n",
              "             verbose=True)"
            ]
          },
          "metadata": {},
          "execution_count": 225
        }
      ],
      "source": [
        "pipe = Pipeline([('scaler',StandardScaler()), ('model', SVR(kernel='linear'))])\n",
        "\n",
        "paramgrid = [{'model__gamma': ['scale','auto'],'model__C' : [1.0,0.1,0.01],'model__epsilon':[1.0,0.1,0.01]}]\n",
        "\n",
        "gs = GridSearchCV(estimator = pipe, param_grid = paramgrid, n_jobs=multiprocessing.cpu_count(), cv=5, verbose=True, )\n",
        "\n",
        "gs.fit(X,y)"
      ]
    },
    {
      "cell_type": "code",
      "execution_count": 226,
      "metadata": {
        "id": "cIrT1JJHmPJz",
        "colab": {
          "base_uri": "https://localhost:8080/"
        },
        "outputId": "c922d2f1-a70a-4422-f492-f6a69456bbd5"
      },
      "outputs": [
        {
          "output_type": "stream",
          "name": "stdout",
          "text": [
            "Pipeline(steps=[('scaler', StandardScaler()),\n",
            "                ('model', SVR(epsilon=1.0, kernel='linear'))])\n",
            "{'model__C': 1.0, 'model__epsilon': 1.0, 'model__gamma': 'scale'}\n",
            "0\n",
            "0.4780769992158147\n"
          ]
        }
      ],
      "source": [
        "print(gs.best_estimator_)\n",
        "print(gs.best_params_)\n",
        "print(gs.best_index_)\n",
        "print(gs.best_score_)"
      ]
    },
    {
      "cell_type": "code",
      "execution_count": null,
      "metadata": {
        "id": "x7PN7Napm4OP"
      },
      "outputs": [],
      "source": [
        "dir(gs)"
      ]
    },
    {
      "cell_type": "code",
      "execution_count": null,
      "metadata": {
        "id": "knBrWGyWhA9Z"
      },
      "outputs": [],
      "source": [
        ""
      ]
    },
    {
      "cell_type": "markdown",
      "metadata": {
        "id": "4d3ZxGT-rzSF"
      },
      "source": [
        "## Kernel SVR"
      ]
    },
    {
      "cell_type": "markdown",
      "metadata": {
        "id": "sJ4hf_LMr6i4"
      },
      "source": [
        "### 보스턴 주택 가격"
      ]
    },
    {
      "cell_type": "code",
      "execution_count": 227,
      "metadata": {
        "id": "SLtwEtFNDD2E",
        "colab": {
          "base_uri": "https://localhost:8080/"
        },
        "outputId": "3d185c17-ecbe-42bd-e02d-5d0e5f61452c"
      },
      "outputs": [
        {
          "output_type": "execute_result",
          "data": {
            "text/plain": [
              "0.5612221164905116"
            ]
          },
          "metadata": {},
          "execution_count": 227
        }
      ],
      "source": [
        "X, y = load_boston(return_X_y=True)\n",
        "X_train, X_test, y_train, y_test = train_test_split(X, y, test_size = 0.2)\n",
        "\n",
        "scaler = StandardScaler()\n",
        "\n",
        "scaler.fit(X_train)\n",
        "X_train = scaler.transform(X_train)\n",
        "X_test = scaler.transform(X_test)\n",
        "\n",
        "\n",
        "model = SVR(C=0.1, epsilon=1.0, kernel='linear')\n",
        "\n",
        "model.fit(X_train, y_train)\n",
        "\n",
        "model.score(X_train, y_train)\n",
        "model.score(X_test, y_test)"
      ]
    },
    {
      "cell_type": "code",
      "source": [
        "X_comp = TSNE(n_components=1).fit_transform(X)\n",
        "plt.scatter(X_comp,y)"
      ],
      "metadata": {
        "colab": {
          "base_uri": "https://localhost:8080/",
          "height": 280
        },
        "id": "1oDqkvlXYbir",
        "outputId": "56a6d310-22b7-4796-ef8b-9cf37953d902"
      },
      "execution_count": 228,
      "outputs": [
        {
          "output_type": "execute_result",
          "data": {
            "text/plain": [
              "<matplotlib.collections.PathCollection at 0x7f40999dff50>"
            ]
          },
          "metadata": {},
          "execution_count": 228
        },
        {
          "output_type": "display_data",
          "data": {
            "text/plain": [
              "<Figure size 432x288 with 1 Axes>"
            ],
            "image/png": "[encoded data removed]"
          },
          "metadata": {}
        }
      ]
    },
    {
      "cell_type": "code",
      "source": [
        "model.fit(X_comp, y)\n",
        "\n",
        "predict = model.predict(X_comp)\n",
        "plt.scatter(X_comp, y)\n",
        "plt.scatter(X_comp, predict, color='r')"
      ],
      "metadata": {
        "colab": {
          "base_uri": "https://localhost:8080/",
          "height": 280
        },
        "id": "qSUkugbIYiXu",
        "outputId": "b2a99bc0-682f-4bfc-954d-9b1ae5c96443"
      },
      "execution_count": 229,
      "outputs": [
        {
          "output_type": "execute_result",
          "data": {
            "text/plain": [
              "<matplotlib.collections.PathCollection at 0x7f40999aa690>"
            ]
          },
          "metadata": {},
          "execution_count": 229
        },
        {
          "output_type": "display_data",
          "data": {
            "text/plain": [
              "<Figure size 432x288 with 1 Axes>"
            ],
            "image/png": "[encoded data removed]"
          },
          "metadata": {}
        }
      ]
    },
    {
      "cell_type": "code",
      "source": [
        "estimator = make_pipeline(StandardScaler(), SVR(C=0.1, epsilon=1.0, kernel='linear'))\n",
        "cross_validate(estimator=estimator, X=X, y=y, cv=5, n_jobs=multiprocessing.cpu_count(), verbose=True)"
      ],
      "metadata": {
        "colab": {
          "base_uri": "https://localhost:8080/"
        },
        "id": "FZErPy1LYDm_",
        "outputId": "4ff30f78-2102-4b55-88bf-695081c0fd10"
      },
      "execution_count": 231,
      "outputs": [
        {
          "output_type": "stream",
          "name": "stderr",
          "text": [
            "[Parallel(n_jobs=2)]: Using backend LokyBackend with 2 concurrent workers.\n",
            "[Parallel(n_jobs=2)]: Done   5 out of   5 | elapsed:    0.1s finished\n"
          ]
        },
        {
          "output_type": "execute_result",
          "data": {
            "text/plain": [
              "{'fit_time': array([0.02420378, 0.03108692, 0.03426123, 0.01461959, 0.03527379]),\n",
              " 'score_time': array([0.00286365, 0.00291467, 0.01688075, 0.00280333, 0.0027566 ]),\n",
              " 'test_score': array([0.76423988, 0.71418191, 0.50257117, 0.22469043, 0.28704003])}"
            ]
          },
          "metadata": {},
          "execution_count": 231
        }
      ]
    },
    {
      "cell_type": "code",
      "execution_count": 232,
      "metadata": {
        "id": "MabVzR_RDoA_",
        "colab": {
          "base_uri": "https://localhost:8080/"
        },
        "outputId": "0c336ec8-5e9b-47b4-eca9-c7a6bc437199"
      },
      "outputs": [
        {
          "output_type": "stream",
          "name": "stdout",
          "text": [
            "Fitting 5 folds for each of 72 candidates, totalling 360 fits\n"
          ]
        },
        {
          "output_type": "execute_result",
          "data": {
            "text/plain": [
              "GridSearchCV(cv=5,\n",
              "             estimator=Pipeline(steps=[('scaler', StandardScaler()),\n",
              "                                       ('model', SVR())]),\n",
              "             n_jobs=2,\n",
              "             param_grid=[{'model__C': [1.0, 0.1, 0.01],\n",
              "                          'model__epsilon': [1.0, 0.1, 0.01],\n",
              "                          'model__gamma': ['scale', 'auto'],\n",
              "                          'model__kernel': ['rbf', 'polynomial', 'sigmoid',\n",
              "                                            'linear']}],\n",
              "             verbose=True)"
            ]
          },
          "metadata": {},
          "execution_count": 232
        }
      ],
      "source": [
        "#최적의 파라미터 확인\n",
        "pipe = Pipeline([('scaler',StandardScaler()), ('model', SVR(kernel='rbf'))])\n",
        "\n",
        "paramgrid = [{'model__kernel': ['rbf','polynomial','sigmoid','linear'],'model__gamma': ['scale','auto'],'model__C' : [1.0,0.1,0.01],'model__epsilon':[1.0,0.1,0.01]}]\n",
        "#paramgrid = [{'model__gamma': ['scale','auto'],'model__C' : [1.0,0.1,0.01],'model__epsilon':[1.0,0.1,0.01]}]\n",
        "\n",
        "bostom_gs = GridSearchCV(estimator = pipe, param_grid = paramgrid, n_jobs=multiprocessing.cpu_count(), cv=5, verbose=True, )\n",
        "\n",
        "bostom_gs.fit(X,y)"
      ]
    },
    {
      "cell_type": "code",
      "execution_count": 233,
      "metadata": {
        "id": "G1KuZZKyEup_",
        "colab": {
          "base_uri": "https://localhost:8080/"
        },
        "outputId": "cfc62fcf-b9bc-4056-aa94-e4f15eda5fd8"
      },
      "outputs": [
        {
          "output_type": "stream",
          "name": "stdout",
          "text": [
            "Pipeline(steps=[('scaler', StandardScaler()),\n",
            "                ('model', SVR(C=0.1, epsilon=1.0, kernel='linear'))])\n",
            "{'model__C': 0.1, 'model__epsilon': 1.0, 'model__gamma': 'scale', 'model__kernel': 'linear'}\n",
            "0.49854468515517\n"
          ]
        }
      ],
      "source": [
        "print(bostom_gs.best_estimator_)\n",
        "print(bostom_gs.best_params_)\n",
        "print(bostom_gs.best_score_)"
      ]
    },
    {
      "cell_type": "code",
      "execution_count": null,
      "metadata": {
        "id": "HdROKnxeFOAo"
      },
      "outputs": [],
      "source": [
        ""
      ]
    },
    {
      "cell_type": "markdown",
      "metadata": {
        "id": "WjmIL-u1r9qU"
      },
      "source": [
        "### 당뇨병"
      ]
    },
    {
      "cell_type": "code",
      "execution_count": 235,
      "metadata": {
        "id": "UlnjMwqOI1_0",
        "colab": {
          "base_uri": "https://localhost:8080/"
        },
        "outputId": "4000a559-18c1-42f9-f694-bcf59ef47f12"
      },
      "outputs": [
        {
          "output_type": "stream",
          "name": "stdout",
          "text": [
            "0.4917888153340588\n",
            "0.49089689349699417\n"
          ]
        }
      ],
      "source": [
        "X, y = load_diabetes(return_X_y=True)\n",
        "X_train, X_test, y_train, y_test = train_test_split(X, y, test_size=0.2)\n",
        "\n",
        "scaler.fit(X_train)\n",
        "X_train = scaler.transform(X_train)\n",
        "X_test = scaler.transform(X_test)\n",
        "\n",
        "model = SVR(kernel='linear')\n",
        "model.fit(X_train, y_train)\n",
        "\n",
        "print(model.score(X_train, y_train))\n",
        "print(model.score(X_test, y_test))"
      ]
    },
    {
      "cell_type": "code",
      "execution_count": 236,
      "metadata": {
        "id": "AmFCvtJlI99z",
        "colab": {
          "base_uri": "https://localhost:8080/",
          "height": 280
        },
        "outputId": "0e17bb12-ebc4-4f4a-8c26-c2443b0ca39b"
      },
      "outputs": [
        {
          "output_type": "execute_result",
          "data": {
            "text/plain": [
              "<matplotlib.collections.PathCollection at 0x7f4099900050>"
            ]
          },
          "metadata": {},
          "execution_count": 236
        },
        {
          "output_type": "display_data",
          "data": {
            "text/plain": [
              "<Figure size 432x288 with 1 Axes>"
            ],
            "image/png": "[encoded data removed]"
          },
          "metadata": {}
        }
      ],
      "source": [
        "X_comp = TSNE(n_components=1).fit_transform(X)\n",
        "plt.scatter(X_comp,y)"
      ]
    },
    {
      "cell_type": "code",
      "execution_count": 237,
      "metadata": {
        "id": "vbi19fstK0cl",
        "colab": {
          "base_uri": "https://localhost:8080/",
          "height": 280
        },
        "outputId": "f16ac97e-d21d-4adf-8df8-15d7aabcea22"
      },
      "outputs": [
        {
          "output_type": "execute_result",
          "data": {
            "text/plain": [
              "<matplotlib.collections.PathCollection at 0x7f4099f9c390>"
            ]
          },
          "metadata": {},
          "execution_count": 237
        },
        {
          "output_type": "display_data",
          "data": {
            "text/plain": [
              "<Figure size 432x288 with 1 Axes>"
            ],
            "image/png": "[encoded data removed]"
          },
          "metadata": {}
        }
      ],
      "source": [
        "model.fit(X_comp, y)\n",
        "\n",
        "predict = model.predict(X_comp)\n",
        "plt.scatter(X_comp, y)\n",
        "plt.scatter(X_comp, predict, color='r')"
      ]
    },
    {
      "cell_type": "code",
      "execution_count": 239,
      "metadata": {
        "id": "vT1lWiqFK8dd",
        "colab": {
          "base_uri": "https://localhost:8080/"
        },
        "outputId": "b9ea9675-b580-4aea-e5cc-2cb8ae4d4d40"
      },
      "outputs": [
        {
          "output_type": "stream",
          "name": "stderr",
          "text": [
            "[Parallel(n_jobs=2)]: Using backend LokyBackend with 2 concurrent workers.\n",
            "[Parallel(n_jobs=2)]: Done   5 out of   5 | elapsed:    0.1s finished\n"
          ]
        },
        {
          "output_type": "execute_result",
          "data": {
            "text/plain": [
              "{'fit_time': array([0.0273211 , 0.02309942, 0.01704764, 0.03384137, 0.02916527]),\n",
              " 'score_time': array([0.0110724 , 0.0047965 , 0.00463295, 0.00488186, 0.00485754]),\n",
              " 'test_score': array([0.14580789, 0.12539919, 0.18163816, 0.12223073, 0.15792085])}"
            ]
          },
          "metadata": {},
          "execution_count": 239
        }
      ],
      "source": [
        "estimator = make_pipeline(StandardScaler(), SVR(kernel='rbf'))\n",
        "cross_validate(estimator=estimator, X=X, y=y, cv=5, n_jobs=multiprocessing.cpu_count(), verbose=True)"
      ]
    },
    {
      "cell_type": "code",
      "execution_count": 241,
      "metadata": {
        "id": "XuWFQJ8GvZXa",
        "colab": {
          "base_uri": "https://localhost:8080/"
        },
        "outputId": "e3aae096-a6e4-4597-c8a3-79daf459f439"
      },
      "outputs": [
        {
          "output_type": "stream",
          "name": "stdout",
          "text": [
            "Fitting 5 folds for each of 72 candidates, totalling 360 fits\n"
          ]
        },
        {
          "output_type": "execute_result",
          "data": {
            "text/plain": [
              "GridSearchCV(cv=5,\n",
              "             estimator=Pipeline(steps=[('scaler', StandardScaler()),\n",
              "                                       ('model', SVR())]),\n",
              "             n_jobs=2,\n",
              "             param_grid=[{'model__C': [1.0, 0.1, 0.01],\n",
              "                          'model__epsilon': [1.0, 0.1, 0.01],\n",
              "                          'model__gamma': ['scale', 'auto'],\n",
              "                          'model__kernel': ['rbf', 'polynomial', 'sigmoid',\n",
              "                                            'linear']}],\n",
              "             verbose=True)"
            ]
          },
          "metadata": {},
          "execution_count": 241
        }
      ],
      "source": [
        "#최적의 파라미터 확인\n",
        "pipe = Pipeline([('scaler',StandardScaler()), ('model', SVR(kernel='rbf'))])\n",
        "\n",
        "paramgrid = [{'model__kernel': ['rbf','polynomial','sigmoid','linear'],'model__gamma': ['scale','auto'],'model__C' : [1.0,0.1,0.01],'model__epsilon':[1.0,0.1,0.01]}]\n",
        "#paramgrid = [{'model__gamma': ['scale','auto'],'model__C' : [1.0,0.1,0.01],'model__epsilon':[1.0,0.1,0.01]}]\n",
        "\n",
        "diabetes_gs = GridSearchCV(estimator = pipe, param_grid = paramgrid, n_jobs=multiprocessing.cpu_count(), cv=5, verbose=True, )\n",
        "\n",
        "diabetes_gs.fit(X,y)"
      ]
    },
    {
      "cell_type": "code",
      "execution_count": 242,
      "metadata": {
        "id": "BUWmex5yvZXl",
        "colab": {
          "base_uri": "https://localhost:8080/"
        },
        "outputId": "2fa676db-eb13-4abd-c960-c868d489fcc8"
      },
      "outputs": [
        {
          "output_type": "stream",
          "name": "stdout",
          "text": [
            "Pipeline(steps=[('scaler', StandardScaler()),\n",
            "                ('model', SVR(epsilon=1.0, kernel='linear'))])\n",
            "{'model__C': 1.0, 'model__epsilon': 1.0, 'model__gamma': 'scale', 'model__kernel': 'linear'}\n",
            "0.4780769992158147\n"
          ]
        }
      ],
      "source": [
        "print(diabetes_gs.best_estimator_)\n",
        "print(diabetes_gs.best_params_)\n",
        "print(diabetes_gs.best_score_)"
      ]
    },
    {
      "cell_type": "code",
      "execution_count": 243,
      "metadata": {
        "id": "yP_u9K5uLAu3",
        "colab": {
          "base_uri": "https://localhost:8080/"
        },
        "outputId": "fa3292c4-4a0a-4c48-c54a-faaaa7d4a08c"
      },
      "outputs": [
        {
          "output_type": "execute_result",
          "data": {
            "text/plain": [
              "Pipeline(steps=[('scaler', StandardScaler()),\n",
              "                ('model', SVR(epsilon=1.0, kernel='linear'))])"
            ]
          },
          "metadata": {},
          "execution_count": 243
        }
      ],
      "source": [
        "model = gs.best_estimator_\n",
        "model.fit(X_train, y_train)"
      ]
    },
    {
      "cell_type": "code",
      "execution_count": 244,
      "metadata": {
        "id": "sZoj8zj8LI6W",
        "colab": {
          "base_uri": "https://localhost:8080/"
        },
        "outputId": "c3b68c7f-6c50-492c-e86e-01a8a1ecbe17"
      },
      "outputs": [
        {
          "output_type": "stream",
          "name": "stdout",
          "text": [
            "0.49289988728917744\n",
            "0.49266384091624615\n"
          ]
        }
      ],
      "source": [
        "print(model.score(X_train, y_train))\n",
        "print(model.score(X_test, y_test))"
      ]
    },
    {
      "cell_type": "code",
      "execution_count": null,
      "metadata": {
        "id": "9de-eFTnLYDh"
      },
      "outputs": [],
      "source": [
        ""
      ]
    },
    {
      "cell_type": "code",
      "execution_count": null,
      "metadata": {
        "id": "BVLIk1PtLhoL"
      },
      "outputs": [],
      "source": [
        ""
      ]
    },
    {
      "cell_type": "code",
      "execution_count": null,
      "metadata": {
        "id": "O0Zg0sorLqnI"
      },
      "outputs": [],
      "source": [
        ""
      ]
    },
    {
      "cell_type": "markdown",
      "metadata": {
        "id": "iW0DXTLrNya-"
      },
      "source": [
        "## Linear SVC"
      ]
    },
    {
      "cell_type": "markdown",
      "metadata": {
        "id": "1b30IAFxN8XR"
      },
      "source": [
        "### 유방암"
      ]
    },
    {
      "cell_type": "code",
      "execution_count": 245,
      "metadata": {
        "id": "JA62MGlxT5wP",
        "colab": {
          "base_uri": "https://localhost:8080/"
        },
        "outputId": "a8044cf3-7abf-4d1d-8d1d-b1a2661a8ba3"
      },
      "outputs": [
        {
          "output_type": "stream",
          "name": "stdout",
          "text": [
            "0.9912087912087912\n",
            "0.9736842105263158\n"
          ]
        }
      ],
      "source": [
        "X, y = load_breast_cancer(return_X_y=True)\n",
        "X_train, X_test, y_train, y_test = train_test_split(X, y, test_size=0.2)\n",
        "\n",
        "scaler.fit(X_train)\n",
        "X_train = scaler.transform(X_train)\n",
        "X_test = scaler.transform(X_test)\n",
        "\n",
        "model = SVC(kernel='linear')\n",
        "model.fit(X_train, y_train)\n",
        "\n",
        "print(model.score(X_train, y_train))\n",
        "print(model.score(X_test, y_test))"
      ]
    },
    {
      "cell_type": "code",
      "source": [
        "def make_meshgrid(x, y, h=.02):\n",
        "  x_min, x_max = x.min()-1, x.max()+1\n",
        "  y_min, y_max = y.min()-1, y.max()+1\n",
        "  xx, yy = np.meshgrid(np.arange(x_min, x_max, h),np.arange(y_min, y_max, h))\n",
        "  return xx, yy"
      ],
      "metadata": {
        "id": "svZvqdvDoqxN"
      },
      "execution_count": null,
      "outputs": []
    },
    {
      "cell_type": "code",
      "source": [
        "def plot_contours(clf, xx, yy, **params):\n",
        "  Z = clf.predict(np.c_[xx.ravel(), yy.ravel()])\n",
        "  Z = Z.reshape(xx.shape)\n",
        "  out = plt.contourf(xx, yy, Z, **params)\n",
        "\n",
        "  return out"
      ],
      "metadata": {
        "id": "Ny62dVRppKI9"
      },
      "execution_count": null,
      "outputs": []
    },
    {
      "cell_type": "code",
      "execution_count": 246,
      "metadata": {
        "id": "QLeBYuyrWQDw"
      },
      "outputs": [],
      "source": [
        "X_comp = TSNE(n_components=2).fit_transform(X)\n",
        "X0, X1 = X_comp[:,0], X_comp[:,1]\n",
        "\n",
        "xx, yy = make_meshgrid(X0, X1)"
      ]
    },
    {
      "cell_type": "code",
      "execution_count": 247,
      "metadata": {
        "id": "9MW3gKwJWaoQ",
        "colab": {
          "base_uri": "https://localhost:8080/",
          "height": 280
        },
        "outputId": "91728fbd-77f5-4033-b2ed-aea15bc61e1c"
      },
      "outputs": [
        {
          "output_type": "execute_result",
          "data": {
            "text/plain": [
              "<matplotlib.collections.PathCollection at 0x7f4099c58390>"
            ]
          },
          "metadata": {},
          "execution_count": 247
        },
        {
          "output_type": "display_data",
          "data": {
            "text/plain": [
              "<Figure size 432x288 with 1 Axes>"
            ],
            "image/png": "[encoded data removed]"
          },
          "metadata": {}
        }
      ],
      "source": [
        "model.fit(X_comp, y)\n",
        "\n",
        "plot_contours(model, xx, yy, cmap=plt.cm.coolwarm, alpha=0.7)\n",
        "plt.scatter(X0, X1, c=y, cmap=plt.cm.coolwarm, s=20, edgecolors='k')"
      ]
    },
    {
      "cell_type": "code",
      "execution_count": 248,
      "metadata": {
        "id": "WBcgn7-0Whn6",
        "colab": {
          "base_uri": "https://localhost:8080/"
        },
        "outputId": "538a1458-dc17-4b34-f402-88da6f28566e"
      },
      "outputs": [
        {
          "output_type": "stream",
          "name": "stderr",
          "text": [
            "[Parallel(n_jobs=2)]: Using backend LokyBackend with 2 concurrent workers.\n",
            "[Parallel(n_jobs=2)]: Done   5 out of   5 | elapsed:    0.0s finished\n"
          ]
        },
        {
          "output_type": "execute_result",
          "data": {
            "text/plain": [
              "{'fit_time': array([0.01966   , 0.00728607, 0.00765371, 0.0062654 , 0.0044868 ]),\n",
              " 'score_time': array([0.00136328, 0.00118613, 0.00112319, 0.00118136, 0.00071025]),\n",
              " 'test_score': array([0.96491228, 0.98245614, 0.96491228, 0.96491228, 0.98230088])}"
            ]
          },
          "metadata": {},
          "execution_count": 248
        }
      ],
      "source": [
        "estimator = make_pipeline(StandardScaler(), SVC(kernel='linear'))\n",
        "cross_validate(estimator=estimator, X=X, y=y, cv=5, n_jobs=multiprocessing.cpu_count(), verbose=True)"
      ]
    },
    {
      "cell_type": "code",
      "execution_count": 249,
      "metadata": {
        "id": "bi1dYEBWmoxH",
        "colab": {
          "base_uri": "https://localhost:8080/"
        },
        "outputId": "2e138ad8-d1df-4ea3-893d-c589367d55ff"
      },
      "outputs": [
        {
          "output_type": "stream",
          "name": "stdout",
          "text": [
            "Fitting 5 folds for each of 6 candidates, totalling 30 fits\n"
          ]
        },
        {
          "output_type": "execute_result",
          "data": {
            "text/plain": [
              "GridSearchCV(cv=5,\n",
              "             estimator=Pipeline(steps=[('scaler', StandardScaler()),\n",
              "                                       ('model', SVC(kernel='linear'))]),\n",
              "             n_jobs=2,\n",
              "             param_grid=[{'model__C': [1.0, 0.1, 0.01],\n",
              "                          'model__gamma': ['scale', 'auto']}],\n",
              "             verbose=True)"
            ]
          },
          "metadata": {},
          "execution_count": 249
        }
      ],
      "source": [
        "#최적의 파라미터 확인\n",
        "pipe = Pipeline([('scaler',StandardScaler()), ('model', SVC(kernel='linear'))])\n",
        "\n",
        "#paramgrid = [{'model__kernel': ['rbf','polynomial','sigmoid','linear'],'model__gamma': ['scale','auto'],'model__C' : [1.0,0.1,0.01],'model__epsilon':[1.0,0.1,0.01]}]\n",
        "paramgrid = [{'model__gamma': ['scale','auto'],'model__C' : [1.0,0.1,0.01]}]\n",
        "\n",
        "cancer_gs = GridSearchCV(estimator = pipe, param_grid = paramgrid, n_jobs=multiprocessing.cpu_count(), cv=5, verbose=True, )\n",
        "\n",
        "cancer_gs.fit(X,y)"
      ]
    },
    {
      "cell_type": "code",
      "execution_count": 250,
      "metadata": {
        "id": "wThzdvIimoxN",
        "colab": {
          "base_uri": "https://localhost:8080/"
        },
        "outputId": "bbddb4b0-50f3-49f5-c5da-9ce6c38027ca"
      },
      "outputs": [
        {
          "output_type": "stream",
          "name": "stdout",
          "text": [
            "Pipeline(steps=[('scaler', StandardScaler()),\n",
            "                ('model', SVC(C=0.1, kernel='linear'))])\n",
            "{'model__C': 0.1, 'model__gamma': 'scale'}\n",
            "0.9736531594472908\n"
          ]
        }
      ],
      "source": [
        "print(cancer_gs.best_estimator_)\n",
        "print(cancer_gs.best_params_)\n",
        "print(cancer_gs.best_score_)"
      ]
    },
    {
      "cell_type": "code",
      "execution_count": 251,
      "metadata": {
        "id": "wFMmUxkXXBAB",
        "colab": {
          "base_uri": "https://localhost:8080/"
        },
        "outputId": "b3fc82f1-c0c0-4fb6-cd47-1eaf06bc3d36"
      },
      "outputs": [
        {
          "output_type": "execute_result",
          "data": {
            "text/plain": [
              "Pipeline(steps=[('scaler', StandardScaler()),\n",
              "                ('model', SVC(C=0.1, kernel='linear'))])"
            ]
          },
          "metadata": {},
          "execution_count": 251
        }
      ],
      "source": [
        "model = cancer_gs.best_estimator_\n",
        "model.fit(X_train, y_train)"
      ]
    },
    {
      "cell_type": "code",
      "execution_count": 252,
      "metadata": {
        "id": "ys_mdw5TXHSU",
        "colab": {
          "base_uri": "https://localhost:8080/"
        },
        "outputId": "2b935ed4-1009-4183-953c-75418c234085"
      },
      "outputs": [
        {
          "output_type": "stream",
          "name": "stdout",
          "text": [
            "0.9824175824175824\n",
            "0.9824561403508771\n"
          ]
        }
      ],
      "source": [
        "print(model.score(X_train, y_train))\n",
        "print(model.score(X_test, y_test))"
      ]
    },
    {
      "cell_type": "code",
      "execution_count": null,
      "metadata": {
        "id": "pvmNxo6tY8WY"
      },
      "outputs": [],
      "source": [
        ""
      ]
    },
    {
      "cell_type": "code",
      "execution_count": null,
      "metadata": {
        "id": "wAXU-TMyY8B7"
      },
      "outputs": [],
      "source": [
        ""
      ]
    },
    {
      "cell_type": "code",
      "execution_count": null,
      "metadata": {
        "id": "u0RrlLHdY7nX"
      },
      "outputs": [],
      "source": [
        ""
      ]
    },
    {
      "cell_type": "code",
      "execution_count": null,
      "metadata": {
        "id": "THwH-7nJZDtd"
      },
      "outputs": [],
      "source": [
        ""
      ]
    },
    {
      "cell_type": "markdown",
      "metadata": {
        "id": "jJfcIODbN6ec"
      },
      "source": [
        "### 붓꽃"
      ]
    },
    {
      "cell_type": "code",
      "execution_count": null,
      "metadata": {
        "id": "HRlUQk2QOa-f"
      },
      "outputs": [],
      "source": [
        ""
      ]
    },
    {
      "cell_type": "code",
      "execution_count": 254,
      "metadata": {
        "colab": {
          "base_uri": "https://localhost:8080/"
        },
        "outputId": "9f967339-914d-475d-c1a2-51cf7123a5c5",
        "id": "X0LIafLdt-KE"
      },
      "outputs": [
        {
          "output_type": "stream",
          "name": "stdout",
          "text": [
            "0.975\n",
            "0.9666666666666667\n"
          ]
        }
      ],
      "source": [
        "X, y = load_iris(return_X_y=True)\n",
        "X_train, X_test, y_train, y_test = train_test_split(X, y, test_size=0.2)\n",
        "\n",
        "scaler = StandardScaler()\n",
        "scaler.fit(X_train)\n",
        "X_train = scaler.transform(X_train)\n",
        "X_test = scaler.transform(X_test)\n",
        "\n",
        "\n",
        "model = SVC(kernel='linear')\n",
        "model.fit(X_train, y_train)\n",
        "\n",
        "print(model.score(X_train, y_train))\n",
        "print(model.score(X_test, y_test))"
      ]
    },
    {
      "cell_type": "code",
      "execution_count": 255,
      "metadata": {
        "id": "0vFvPbTQt-KH"
      },
      "outputs": [],
      "source": [
        "X_comp = TSNE(n_components=2).fit_transform(X)\n",
        "X0, X1 = X_comp[:,0], X_comp[:,1]\n",
        "\n",
        "xx, yy = make_meshgrid(X0, X1)"
      ]
    },
    {
      "cell_type": "code",
      "execution_count": 256,
      "metadata": {
        "colab": {
          "base_uri": "https://localhost:8080/",
          "height": 281
        },
        "outputId": "40836608-f2bf-4e20-aaa2-711e987e8c46",
        "id": "4xloHzU0t-KH"
      },
      "outputs": [
        {
          "output_type": "execute_result",
          "data": {
            "text/plain": [
              "<matplotlib.collections.PathCollection at 0x7f409a4c7890>"
            ]
          },
          "metadata": {},
          "execution_count": 256
        },
        {
          "output_type": "display_data",
          "data": {
            "text/plain": [
              "<Figure size 432x288 with 1 Axes>"
            ],
            "image/png": "[encoded data removed]"
          },
          "metadata": {}
        }
      ],
      "source": [
        "model.fit(X_comp, y)\n",
        "\n",
        "plot_contours(model, xx, yy, cmap=plt.cm.coolwarm, alpha=0.7)\n",
        "plt.scatter(X0, X1, c=y, cmap=plt.cm.coolwarm, s=20, edgecolors='k')"
      ]
    },
    {
      "cell_type": "code",
      "execution_count": 257,
      "metadata": {
        "colab": {
          "base_uri": "https://localhost:8080/"
        },
        "outputId": "ab0d612d-ab69-4623-faae-63e3bb725248",
        "id": "dKEyICZmt-KH"
      },
      "outputs": [
        {
          "output_type": "stream",
          "name": "stderr",
          "text": [
            "[Parallel(n_jobs=2)]: Using backend LokyBackend with 2 concurrent workers.\n",
            "[Parallel(n_jobs=2)]: Done   5 out of   5 | elapsed:    0.0s finished\n"
          ]
        },
        {
          "output_type": "execute_result",
          "data": {
            "text/plain": [
              "{'fit_time': array([0.00264621, 0.00282598, 0.00302482, 0.002244  , 0.00146675]),\n",
              " 'score_time': array([0.00087452, 0.00086164, 0.00079918, 0.00077629, 0.00052047]),\n",
              " 'test_score': array([0.96666667, 1.        , 0.93333333, 0.93333333, 1.        ])}"
            ]
          },
          "metadata": {},
          "execution_count": 257
        }
      ],
      "source": [
        "estimator = make_pipeline(StandardScaler(), SVC(kernel='linear'))\n",
        "cross_validate(estimator=estimator, X=X, y=y, cv=5, n_jobs=multiprocessing.cpu_count(), verbose=True)"
      ]
    },
    {
      "cell_type": "code",
      "execution_count": 258,
      "metadata": {
        "colab": {
          "base_uri": "https://localhost:8080/"
        },
        "outputId": "b17b2cc4-b97f-4734-a9af-3bc3a1a56a3c",
        "id": "IE18YMsBt-KH"
      },
      "outputs": [
        {
          "output_type": "stream",
          "name": "stdout",
          "text": [
            "Fitting 5 folds for each of 6 candidates, totalling 30 fits\n"
          ]
        },
        {
          "output_type": "execute_result",
          "data": {
            "text/plain": [
              "GridSearchCV(cv=5,\n",
              "             estimator=Pipeline(steps=[('scaler', StandardScaler()),\n",
              "                                       ('model', SVC(kernel='linear'))]),\n",
              "             n_jobs=2,\n",
              "             param_grid=[{'model__C': [1.0, 0.1, 0.01],\n",
              "                          'model__gamma': ['scale', 'auto']}],\n",
              "             verbose=True)"
            ]
          },
          "metadata": {},
          "execution_count": 258
        }
      ],
      "source": [
        "#최적의 파라미터 확인\n",
        "pipe = Pipeline([('scaler',StandardScaler()), ('model', SVC(kernel='linear'))])\n",
        "\n",
        "#paramgrid = [{'model__kernel': ['rbf','polynomial','sigmoid','linear'],'model__gamma': ['scale','auto'],'model__C' : [1.0,0.1,0.01],'model__epsilon':[1.0,0.1,0.01]}]\n",
        "paramgrid = [{'model__gamma': ['scale','auto'],'model__C' : [1.0,0.1,0.01]}]\n",
        "\n",
        "cancer_gs = GridSearchCV(estimator = pipe, param_grid = paramgrid, n_jobs=multiprocessing.cpu_count(), cv=5, verbose=True, )\n",
        "\n",
        "cancer_gs.fit(X,y)"
      ]
    },
    {
      "cell_type": "code",
      "execution_count": 259,
      "metadata": {
        "colab": {
          "base_uri": "https://localhost:8080/"
        },
        "outputId": "9679949d-22a7-45b0-b879-925e40360ab8",
        "id": "9hDKHti0t-KH"
      },
      "outputs": [
        {
          "output_type": "stream",
          "name": "stdout",
          "text": [
            "Pipeline(steps=[('scaler', StandardScaler()), ('model', SVC(kernel='linear'))])\n",
            "{'model__C': 1.0, 'model__gamma': 'scale'}\n",
            "0.9666666666666668\n"
          ]
        }
      ],
      "source": [
        "print(cancer_gs.best_estimator_)\n",
        "print(cancer_gs.best_params_)\n",
        "print(cancer_gs.best_score_)"
      ]
    },
    {
      "cell_type": "code",
      "execution_count": 260,
      "metadata": {
        "colab": {
          "base_uri": "https://localhost:8080/"
        },
        "outputId": "b2f004fb-5f3e-4cbc-8a00-e5fe6044bf6c",
        "id": "TE_WfExKt-KH"
      },
      "outputs": [
        {
          "output_type": "execute_result",
          "data": {
            "text/plain": [
              "Pipeline(steps=[('scaler', StandardScaler()), ('model', SVC(kernel='linear'))])"
            ]
          },
          "metadata": {},
          "execution_count": 260
        }
      ],
      "source": [
        "model = cancer_gs.best_estimator_\n",
        "model.fit(X_train, y_train)"
      ]
    },
    {
      "cell_type": "code",
      "execution_count": 261,
      "metadata": {
        "colab": {
          "base_uri": "https://localhost:8080/"
        },
        "outputId": "1d8f160e-fa26-4599-e955-6d667895240e",
        "id": "0RHC2Dt-t-KI"
      },
      "outputs": [
        {
          "output_type": "stream",
          "name": "stdout",
          "text": [
            "0.975\n",
            "0.9666666666666667\n"
          ]
        }
      ],
      "source": [
        "print(model.score(X_train, y_train))\n",
        "print(model.score(X_test, y_test))"
      ]
    },
    {
      "cell_type": "code",
      "execution_count": null,
      "metadata": {
        "id": "MsSU3aiJP9fn"
      },
      "outputs": [],
      "source": [
        ""
      ]
    },
    {
      "cell_type": "code",
      "execution_count": null,
      "metadata": {
        "id": "qAGmOZj5Qkk4"
      },
      "outputs": [],
      "source": [
        ""
      ]
    },
    {
      "cell_type": "code",
      "execution_count": null,
      "metadata": {
        "id": "l4kznJ4hmZmC"
      },
      "outputs": [],
      "source": [
        ""
      ]
    },
    {
      "cell_type": "code",
      "execution_count": null,
      "metadata": {
        "id": "05s3vwmEmZmM"
      },
      "outputs": [],
      "source": [
        ""
      ]
    },
    {
      "cell_type": "code",
      "execution_count": null,
      "metadata": {
        "id": "C-_JMQJ2mZmW"
      },
      "outputs": [],
      "source": [
        ""
      ]
    },
    {
      "cell_type": "code",
      "execution_count": null,
      "metadata": {
        "id": "UOT_vRO_mZmp"
      },
      "outputs": [],
      "source": [
        ""
      ]
    },
    {
      "cell_type": "code",
      "execution_count": null,
      "metadata": {
        "id": "mrQ4Akf5RI_v"
      },
      "outputs": [],
      "source": [
        ""
      ]
    },
    {
      "cell_type": "code",
      "execution_count": null,
      "metadata": {
        "id": "qzZrx2a-RPFB"
      },
      "outputs": [],
      "source": [
        ""
      ]
    },
    {
      "cell_type": "code",
      "execution_count": null,
      "metadata": {
        "id": "bWf0mPjXRm3p"
      },
      "outputs": [],
      "source": [
        ""
      ]
    },
    {
      "cell_type": "code",
      "execution_count": null,
      "metadata": {
        "id": "FgfS7jrzRrIa"
      },
      "outputs": [],
      "source": [
        ""
      ]
    },
    {
      "cell_type": "code",
      "execution_count": null,
      "metadata": {
        "id": "Rvnn5I7SSovQ"
      },
      "outputs": [],
      "source": [
        ""
      ]
    },
    {
      "cell_type": "code",
      "execution_count": null,
      "metadata": {
        "id": "3RgoCn-XSsnz"
      },
      "outputs": [],
      "source": [
        ""
      ]
    },
    {
      "cell_type": "markdown",
      "metadata": {
        "id": "fGErBCXR3P_p"
      },
      "source": [
        "### 와인"
      ]
    },
    {
      "cell_type": "code",
      "execution_count": null,
      "metadata": {
        "id": "HbDty6Se3Sbk"
      },
      "outputs": [],
      "source": [
        "wine = load_wine()\n",
        "print(wine.keys())\n",
        "print(wine.DESCR)\n",
        "print(wine.target_names)"
      ]
    },
    {
      "cell_type": "code",
      "execution_count": 267,
      "metadata": {
        "colab": {
          "base_uri": "https://localhost:8080/"
        },
        "outputId": "6780f1e9-d6e2-419a-ad81-1c6a94cd4055",
        "id": "MaQSlE6awsu8"
      },
      "outputs": [
        {
          "output_type": "stream",
          "name": "stdout",
          "text": [
            "1.0\n",
            "1.0\n"
          ]
        }
      ],
      "source": [
        "X, y = load_wine(return_X_y=True)\n",
        "X_train, X_test, y_train, y_test = train_test_split(X, y, test_size=0.2)\n",
        "\n",
        "scaler = StandardScaler()\n",
        "\n",
        "#scaler.fit(X_train)\n",
        "X_train = scaler.fit_transform(X_train)\n",
        "X_test = scaler.transform(X_test)\n",
        "\n",
        "\n",
        "model = SVC(kernel='linear')\n",
        "model.fit(X_train, y_train)\n",
        "\n",
        "print(model.score(X_train, y_train))\n",
        "print(model.score(X_test, y_test))"
      ]
    },
    {
      "cell_type": "code",
      "execution_count": 268,
      "metadata": {
        "id": "wVNIYCa2wsu9"
      },
      "outputs": [],
      "source": [
        "X_comp = TSNE(n_components=2).fit_transform(X)\n",
        "X0, X1 = X_comp[:,0], X_comp[:,1]\n",
        "\n",
        "xx, yy = make_meshgrid(X0, X1)"
      ]
    },
    {
      "cell_type": "code",
      "execution_count": 269,
      "metadata": {
        "colab": {
          "base_uri": "https://localhost:8080/",
          "height": 280
        },
        "outputId": "503d57eb-0b87-4038-f716-ed9f031e777e",
        "id": "AhxrsWvpwsu9"
      },
      "outputs": [
        {
          "output_type": "execute_result",
          "data": {
            "text/plain": [
              "<matplotlib.collections.PathCollection at 0x7f4099727cd0>"
            ]
          },
          "metadata": {},
          "execution_count": 269
        },
        {
          "output_type": "display_data",
          "data": {
            "text/plain": [
              "<Figure size 432x288 with 1 Axes>"
            ],
            "image/png": "[encoded data removed]"
          },
          "metadata": {}
        }
      ],
      "source": [
        "model.fit(X_comp, y)\n",
        "\n",
        "plot_contours(model, xx, yy, cmap=plt.cm.coolwarm, alpha=0.7)\n",
        "plt.scatter(X0, X1, c=y, cmap=plt.cm.coolwarm, s=20, edgecolors='k')"
      ]
    },
    {
      "cell_type": "code",
      "execution_count": null,
      "metadata": {
        "colab": {
          "base_uri": "https://localhost:8080/"
        },
        "outputId": "0cb14533-d106-46cb-f3c8-d8d6f9fe14a8",
        "id": "eTgUxgKZwsu9"
      },
      "outputs": [
        {
          "output_type": "stream",
          "name": "stderr",
          "text": [
            "[Parallel(n_jobs=2)]: Using backend LokyBackend with 2 concurrent workers.\n",
            "[Parallel(n_jobs=2)]: Done   5 out of   5 | elapsed:    0.0s finished\n"
          ]
        },
        {
          "output_type": "execute_result",
          "data": {
            "text/plain": [
              "{'fit_time': array([0.01151943, 0.00855851, 0.00806308, 0.00748944, 0.00467777]),\n",
              " 'score_time': array([0.00128484, 0.0013144 , 0.00115705, 0.00129557, 0.00190139]),\n",
              " 'test_score': array([0.96491228, 0.98245614, 0.96491228, 0.96491228, 0.98230088])}"
            ]
          },
          "metadata": {},
          "execution_count": 183
        }
      ],
      "source": [
        "estimator = make_pipeline(StandardScaler(), SVC(kernel='linear'))\n",
        "cross_validate(estimator=estimator, X=X, y=y, cv=5, n_jobs=multiprocessing.cpu_count(), verbose=True)"
      ]
    },
    {
      "cell_type": "code",
      "execution_count": null,
      "metadata": {
        "colab": {
          "base_uri": "https://localhost:8080/"
        },
        "outputId": "e742729e-a54e-40c8-a311-92d934cb6c97",
        "id": "-x2-su7Kwsu9"
      },
      "outputs": [
        {
          "output_type": "stream",
          "name": "stdout",
          "text": [
            "Fitting 5 folds for each of 6 candidates, totalling 30 fits\n"
          ]
        },
        {
          "output_type": "execute_result",
          "data": {
            "text/plain": [
              "GridSearchCV(cv=5,\n",
              "             estimator=Pipeline(steps=[('scaler', StandardScaler()),\n",
              "                                       ('model', SVC(kernel='linear'))]),\n",
              "             n_jobs=2,\n",
              "             param_grid=[{'model__C': [1.0, 0.1, 0.01],\n",
              "                          'model__gamma': ['scale', 'auto']}],\n",
              "             verbose=True)"
            ]
          },
          "metadata": {},
          "execution_count": 184
        }
      ],
      "source": [
        "#최적의 파라미터 확인\n",
        "pipe = Pipeline([('scaler',StandardScaler()), ('model', SVC(kernel='linear'))])\n",
        "\n",
        "#paramgrid = [{'model__kernel': ['rbf','polynomial','sigmoid','linear'],'model__gamma': ['scale','auto'],'model__C' : [1.0,0.1,0.01],'model__epsilon':[1.0,0.1,0.01]}]\n",
        "paramgrid = [{'model__gamma': ['scale','auto'],'model__C' : [1.0,0.1,0.01]}]\n",
        "\n",
        "cancer_gs = GridSearchCV(estimator = pipe, param_grid = paramgrid, n_jobs=multiprocessing.cpu_count(), cv=5, verbose=True, )\n",
        "\n",
        "cancer_gs.fit(X,y)"
      ]
    },
    {
      "cell_type": "code",
      "execution_count": null,
      "metadata": {
        "colab": {
          "base_uri": "https://localhost:8080/"
        },
        "outputId": "c893e539-e79a-4cb4-a907-59ff5d952575",
        "id": "mt-yKpOJwsu9"
      },
      "outputs": [
        {
          "output_type": "stream",
          "name": "stdout",
          "text": [
            "Pipeline(steps=[('scaler', StandardScaler()),\n",
            "                ('model', SVC(C=0.1, kernel='linear'))])\n",
            "{'model__C': 0.1, 'model__gamma': 'scale'}\n",
            "0.9736531594472908\n"
          ]
        }
      ],
      "source": [
        "print(cancer_gs.best_estimator_)\n",
        "print(cancer_gs.best_params_)\n",
        "print(cancer_gs.best_score_)"
      ]
    },
    {
      "cell_type": "code",
      "execution_count": null,
      "metadata": {
        "colab": {
          "base_uri": "https://localhost:8080/"
        },
        "outputId": "d371d557-522e-4342-9f38-5fb92391f8dd",
        "id": "2nB98tbgwsu9"
      },
      "outputs": [
        {
          "output_type": "execute_result",
          "data": {
            "text/plain": [
              "Pipeline(steps=[('scaler', StandardScaler()),\n",
              "                ('model', SVC(C=0.1, kernel='linear'))])"
            ]
          },
          "metadata": {},
          "execution_count": 186
        }
      ],
      "source": [
        "model = cancer_gs.best_estimator_\n",
        "model.fit(X_train, y_train)"
      ]
    },
    {
      "cell_type": "code",
      "execution_count": null,
      "metadata": {
        "colab": {
          "base_uri": "https://localhost:8080/"
        },
        "outputId": "7f85bcf5-f39d-4eb2-9040-0ca759a315fa",
        "id": "1TC2Ta1Kwsu-"
      },
      "outputs": [
        {
          "output_type": "stream",
          "name": "stdout",
          "text": [
            "0.9824175824175824\n",
            "0.9824561403508771\n"
          ]
        }
      ],
      "source": [
        "print(model.score(X_train, y_train))\n",
        "print(model.score(X_test, y_test))"
      ]
    },
    {
      "cell_type": "code",
      "execution_count": null,
      "metadata": {
        "id": "on761i8Z3Sbt"
      },
      "outputs": [],
      "source": [
        ""
      ]
    },
    {
      "cell_type": "markdown",
      "metadata": {
        "id": "NKavNYlxN1fB"
      },
      "source": [
        "## Kernel SVC"
      ]
    },
    {
      "cell_type": "markdown",
      "metadata": {
        "id": "M7QkeGrdOAxV"
      },
      "source": [
        "### 유방암"
      ]
    },
    {
      "cell_type": "code",
      "execution_count": null,
      "metadata": {
        "id": "LtHeKTDjhF24"
      },
      "outputs": [],
      "source": [
        ""
      ]
    },
    {
      "cell_type": "code",
      "execution_count": null,
      "metadata": {
        "id": "CfkpaOxk4HI2"
      },
      "outputs": [],
      "source": [
        "wine = load_breast_cancer()\n",
        "print(wine.keys())\n",
        "print(wine.DESCR)\n",
        "print(wine.target_names)"
      ]
    },
    {
      "cell_type": "code",
      "execution_count": 283,
      "metadata": {
        "colab": {
          "base_uri": "https://localhost:8080/"
        },
        "outputId": "95e8add7-2dce-4763-d376-37ba2f43ee2b",
        "id": "6m2RlEOh4HI4"
      },
      "outputs": [
        {
          "output_type": "stream",
          "name": "stdout",
          "text": [
            "0.989010989010989\n",
            "0.9736842105263158\n"
          ]
        }
      ],
      "source": [
        "X, y = load_breast_cancer(return_X_y=True)\n",
        "X_train, X_test, y_train, y_test = train_test_split(X, y, test_size=0.2)\n",
        "\n",
        "scaler = StandardScaler()\n",
        "\n",
        "scaler.fit(X_train)\n",
        "X_train = scaler.transform(X_train)\n",
        "X_test = scaler.transform(X_test)\n",
        "\n",
        "\n",
        "model = SVC(kernel='rbf')\n",
        "model.fit(X_train, y_train)\n",
        "\n",
        "print(model.score(X_train, y_train))\n",
        "print(model.score(X_test, y_test))"
      ]
    },
    {
      "cell_type": "code",
      "execution_count": 284,
      "metadata": {
        "id": "Ksxq5fh54HI4"
      },
      "outputs": [],
      "source": [
        "X_comp = TSNE(n_components=2).fit_transform(X)\n",
        "X0, X1 = X_comp[:,0], X_comp[:,1]\n",
        "\n",
        "xx, yy = make_meshgrid(X0, X1)"
      ]
    },
    {
      "cell_type": "code",
      "execution_count": 285,
      "metadata": {
        "colab": {
          "base_uri": "https://localhost:8080/",
          "height": 280
        },
        "outputId": "8c9d8b79-09cf-4d2f-d002-798c1e8f2bf8",
        "id": "hn6MJzke4HI4"
      },
      "outputs": [
        {
          "output_type": "execute_result",
          "data": {
            "text/plain": [
              "<matplotlib.collections.PathCollection at 0x7f409943bc50>"
            ]
          },
          "metadata": {},
          "execution_count": 285
        },
        {
          "output_type": "display_data",
          "data": {
            "text/plain": [
              "<Figure size 432x288 with 1 Axes>"
            ],
            "image/png": "[encoded data removed]"
          },
          "metadata": {}
        }
      ],
      "source": [
        "model.fit(X_comp, y)\n",
        "\n",
        "plot_contours(model, xx, yy, cmap=plt.cm.coolwarm, alpha=0.7)\n",
        "plt.scatter(X0, X1, c=y, cmap=plt.cm.coolwarm, s=20, edgecolors='k')"
      ]
    },
    {
      "cell_type": "code",
      "execution_count": 286,
      "metadata": {
        "colab": {
          "base_uri": "https://localhost:8080/"
        },
        "outputId": "7b9e4469-151c-45f8-ce4c-e8a53925916f",
        "id": "UycwP9UW4HI4"
      },
      "outputs": [
        {
          "output_type": "stream",
          "name": "stderr",
          "text": [
            "[Parallel(n_jobs=2)]: Using backend LokyBackend with 2 concurrent workers.\n",
            "[Parallel(n_jobs=2)]: Done   5 out of   5 | elapsed:    1.3s finished\n"
          ]
        },
        {
          "output_type": "execute_result",
          "data": {
            "text/plain": [
              "{'fit_time': array([0.01026297, 0.02082014, 0.0128715 , 0.01771426, 0.00939846]),\n",
              " 'score_time': array([0.00306988, 0.00271344, 0.00310469, 0.00301504, 0.00300193]),\n",
              " 'test_score': array([0.97368421, 0.95614035, 1.        , 0.96491228, 0.97345133])}"
            ]
          },
          "metadata": {},
          "execution_count": 286
        }
      ],
      "source": [
        "estimator = make_pipeline(StandardScaler(), SVC(kernel='rbf'))\n",
        "cross_validate(estimator=estimator, X=X, y=y, cv=5, n_jobs=multiprocessing.cpu_count(), verbose=True)"
      ]
    },
    {
      "cell_type": "code",
      "execution_count": 291,
      "metadata": {
        "colab": {
          "base_uri": "https://localhost:8080/"
        },
        "outputId": "e096b6af-47d4-4d88-ced9-0d078098b96a",
        "id": "N8AdRsdn4HI5"
      },
      "outputs": [
        {
          "output_type": "stream",
          "name": "stdout",
          "text": [
            "Fitting 5 folds for each of 6 candidates, totalling 30 fits\n"
          ]
        },
        {
          "output_type": "execute_result",
          "data": {
            "text/plain": [
              "GridSearchCV(cv=5,\n",
              "             estimator=Pipeline(steps=[('scaler', StandardScaler()),\n",
              "                                       ('model', SVC())]),\n",
              "             n_jobs=2,\n",
              "             param_grid=[{'model__C': [1.0, 0.1, 0.01],\n",
              "                          'model__gamma': ['scale', 'auto']}],\n",
              "             verbose=True)"
            ]
          },
          "metadata": {},
          "execution_count": 291
        }
      ],
      "source": [
        "#최적의 파라미터 확인\n",
        "pipe = Pipeline([('scaler',StandardScaler()), ('model', SVC(kernel='rbf'))])\n",
        "\n",
        "#paramgrid = [{'model__kernel': ['rbf','polynomial','sigmoid','linear'],'model__gamma': ['scale','auto'],'model__C' : [1.0,0.1,0.01],'model__epsilon':[1.0,0.1,0.01]}]\n",
        "paramgrid = [{'model__gamma': ['scale','auto'],'model__C' : [1.0,0.1,0.01]}]\n",
        "\n",
        "wine_gs = GridSearchCV(estimator = pipe, param_grid = paramgrid, n_jobs=multiprocessing.cpu_count(), cv=5, verbose=True, )\n",
        "\n",
        "wine_gs.fit(X,y)"
      ]
    },
    {
      "cell_type": "code",
      "execution_count": 292,
      "metadata": {
        "colab": {
          "base_uri": "https://localhost:8080/"
        },
        "outputId": "fae3c301-c546-4dfb-896f-6de52603dd9f",
        "id": "0_rJ4R5R4HI5"
      },
      "outputs": [
        {
          "output_type": "stream",
          "name": "stdout",
          "text": [
            "Pipeline(steps=[('scaler', StandardScaler()), ('model', SVC())])\n",
            "{'model__C': 1.0, 'model__gamma': 'scale'}\n",
            "0.9736376339077782\n"
          ]
        }
      ],
      "source": [
        "print(wine_gs.best_estimator_)\n",
        "print(wine_gs.best_params_)\n",
        "print(wine_gs.best_score_)"
      ]
    },
    {
      "cell_type": "code",
      "execution_count": 293,
      "metadata": {
        "colab": {
          "base_uri": "https://localhost:8080/"
        },
        "outputId": "e66e1f60-00bb-49da-df3d-f143982a9d25",
        "id": "izvUnQvG4HI5"
      },
      "outputs": [
        {
          "output_type": "execute_result",
          "data": {
            "text/plain": [
              "Pipeline(steps=[('scaler', StandardScaler()), ('model', SVC())])"
            ]
          },
          "metadata": {},
          "execution_count": 293
        }
      ],
      "source": [
        "model = wine_gs.best_estimator_\n",
        "model.fit(X_train, y_train)"
      ]
    },
    {
      "cell_type": "code",
      "execution_count": 294,
      "metadata": {
        "colab": {
          "base_uri": "https://localhost:8080/"
        },
        "outputId": "8e8de11e-2ad7-48b0-8af1-90fa9056d198",
        "id": "7lQeZw3m4HI5"
      },
      "outputs": [
        {
          "output_type": "stream",
          "name": "stdout",
          "text": [
            "0.989010989010989\n",
            "0.9736842105263158\n"
          ]
        }
      ],
      "source": [
        "print(model.score(X_train, y_train))\n",
        "print(model.score(X_test, y_test))"
      ]
    },
    {
      "cell_type": "code",
      "execution_count": null,
      "metadata": {
        "id": "UmSGCO2nhIsv"
      },
      "outputs": [],
      "source": [
        ""
      ]
    },
    {
      "cell_type": "markdown",
      "metadata": {
        "id": "8488abTBN-GA"
      },
      "source": [
        "### 붓꽃"
      ]
    },
    {
      "cell_type": "code",
      "execution_count": null,
      "metadata": {
        "id": "fg3w1a2Ce9s1"
      },
      "outputs": [],
      "source": [
        ""
      ]
    },
    {
      "cell_type": "code",
      "execution_count": null,
      "metadata": {
        "id": "IauEISnFAgIO"
      },
      "outputs": [],
      "source": [
        "iris = load_iris()\n",
        "print(wine.keys())\n",
        "print(wine.DESCR)\n",
        "print(wine.target_names)"
      ]
    },
    {
      "cell_type": "code",
      "execution_count": 317,
      "metadata": {
        "colab": {
          "base_uri": "https://localhost:8080/"
        },
        "outputId": "eeb946bf-afd0-40cc-ea33-480226429882",
        "id": "NrhIGBI6AgIO"
      },
      "outputs": [
        {
          "output_type": "stream",
          "name": "stdout",
          "text": [
            "0.9833333333333333\n",
            "0.9333333333333333\n"
          ]
        }
      ],
      "source": [
        "X, y = load_iris(return_X_y=True)\n",
        "X_train, X_test, y_train, y_test = train_test_split(X, y, test_size=0.2)\n",
        "\n",
        "scaler = StandardScaler()\n",
        "\n",
        "scaler.fit(X_train)\n",
        "X_train = scaler.transform(X_train)\n",
        "X_test = scaler.transform(X_test)\n",
        "\n",
        "\n",
        "model = SVC(kernel='rbf')\n",
        "model.fit(X_train, y_train)\n",
        "\n",
        "print(model.score(X_train, y_train))\n",
        "print(model.score(X_test, y_test))"
      ]
    },
    {
      "cell_type": "code",
      "execution_count": 318,
      "metadata": {
        "id": "mN9X5tFhAgIP"
      },
      "outputs": [],
      "source": [
        "X_comp = TSNE(n_components=2).fit_transform(X)\n",
        "X0, X1 = X_comp[:,0], X_comp[:,1]\n",
        "\n",
        "xx, yy = make_meshgrid(X0, X1)"
      ]
    },
    {
      "cell_type": "code",
      "execution_count": 319,
      "metadata": {
        "colab": {
          "base_uri": "https://localhost:8080/",
          "height": 280
        },
        "outputId": "99cf4ed3-de4a-445e-aa35-97e08765adf9",
        "id": "dWns5OPVAgIP"
      },
      "outputs": [
        {
          "output_type": "execute_result",
          "data": {
            "text/plain": [
              "<matplotlib.collections.PathCollection at 0x7f4099073fd0>"
            ]
          },
          "metadata": {},
          "execution_count": 319
        },
        {
          "output_type": "display_data",
          "data": {
            "text/plain": [
              "<Figure size 432x288 with 1 Axes>"
            ],
            "image/png": "[encoded data removed]"
          },
          "metadata": {}
        }
      ],
      "source": [
        "model.fit(X_comp, y)\n",
        "\n",
        "plot_contours(model, xx, yy, cmap=plt.cm.coolwarm, alpha=0.7)\n",
        "plt.scatter(X0, X1, c=y, cmap=plt.cm.coolwarm, s=20, edgecolors='k')"
      ]
    },
    {
      "cell_type": "code",
      "execution_count": 323,
      "metadata": {
        "colab": {
          "base_uri": "https://localhost:8080/"
        },
        "outputId": "d8d99eaa-5eaa-4052-dac4-a84b24e28536",
        "id": "TFvkYZ2dAgIP"
      },
      "outputs": [
        {
          "output_type": "stream",
          "name": "stderr",
          "text": [
            "[Parallel(n_jobs=2)]: Using backend LokyBackend with 2 concurrent workers.\n",
            "[Parallel(n_jobs=2)]: Done   5 out of   5 | elapsed:    0.0s finished\n"
          ]
        },
        {
          "output_type": "execute_result",
          "data": {
            "text/plain": [
              "{'fit_time': array([0.00288773, 0.00307298, 0.00210285, 0.00276113, 0.00279212]),\n",
              " 'score_time': array([0.00085473, 0.00087595, 0.00246978, 0.00085902, 0.00087786]),\n",
              " 'test_score': array([0.96666667, 1.        , 0.93333333, 0.93333333, 1.        ])}"
            ]
          },
          "metadata": {},
          "execution_count": 323
        }
      ],
      "source": [
        "estimator = make_pipeline(StandardScaler(), SVC(kernel='linear'))\n",
        "cross_validate(estimator=estimator, X=X, y=y, cv=5, n_jobs=multiprocessing.cpu_count(), verbose=True)"
      ]
    },
    {
      "cell_type": "code",
      "execution_count": 326,
      "metadata": {
        "colab": {
          "base_uri": "https://localhost:8080/"
        },
        "outputId": "bb408955-2f54-4b1e-d7c9-bdfe8b004fa1",
        "id": "6eKZo0NgAgIP"
      },
      "outputs": [
        {
          "output_type": "stream",
          "name": "stdout",
          "text": [
            "Fitting 5 folds for each of 6 candidates, totalling 30 fits\n"
          ]
        },
        {
          "output_type": "execute_result",
          "data": {
            "text/plain": [
              "GridSearchCV(cv=5,\n",
              "             estimator=Pipeline(steps=[('scaler', StandardScaler()),\n",
              "                                       ('model', SVC(kernel='linear'))]),\n",
              "             n_jobs=2,\n",
              "             param_grid=[{'model__C': [1.0, 0.1, 0.01],\n",
              "                          'model__gamma': ['scale', 'auto']}],\n",
              "             verbose=True)"
            ]
          },
          "metadata": {},
          "execution_count": 326
        }
      ],
      "source": [
        "#최적의 파라미터 확인\n",
        "pipe = Pipeline([('scaler',StandardScaler()), ('model', SVC(kernel='linear'))])\n",
        "\n",
        "#paramgrid = [{'model__kernel': ['rbf','polynomial','sigmoid','linear'],'model__gamma': ['scale','auto'],'model__C' : [1.0,0.1,0.01],'model__epsilon':[1.0,0.1,0.01]}]\n",
        "paramgrid = [{'model__gamma': ['scale','auto'],'model__C' : [1.0,0.1,0.01]}]\n",
        "\n",
        "iris_gs = GridSearchCV(estimator = pipe, param_grid = paramgrid, n_jobs=multiprocessing.cpu_count(), cv=5, verbose=True, )\n",
        "\n",
        "iris_gs.fit(X,y)"
      ]
    },
    {
      "cell_type": "code",
      "execution_count": 328,
      "metadata": {
        "colab": {
          "base_uri": "https://localhost:8080/"
        },
        "outputId": "5d82226a-1676-40db-9f65-0ffc9e6253b2",
        "id": "A7j-W5OKAgIP"
      },
      "outputs": [
        {
          "output_type": "stream",
          "name": "stdout",
          "text": [
            "Pipeline(steps=[('scaler', StandardScaler()), ('model', SVC(kernel='linear'))])\n",
            "{'model__C': 1.0, 'model__gamma': 'scale'}\n",
            "0.9666666666666668\n"
          ]
        }
      ],
      "source": [
        "print(iris_gs.best_estimator_)\n",
        "print(iris_gs.best_params_)\n",
        "print(iris_gs.best_score_)"
      ]
    },
    {
      "cell_type": "code",
      "execution_count": 329,
      "metadata": {
        "colab": {
          "base_uri": "https://localhost:8080/"
        },
        "outputId": "ff4cf0a4-a900-4d62-983a-8a69cf810b3a",
        "id": "aNRpLesvAgIP"
      },
      "outputs": [
        {
          "output_type": "execute_result",
          "data": {
            "text/plain": [
              "Pipeline(steps=[('scaler', StandardScaler()), ('model', SVC(kernel='linear'))])"
            ]
          },
          "metadata": {},
          "execution_count": 329
        }
      ],
      "source": [
        "model = wine_gs.best_estimator_\n",
        "model.fit(X_train, y_train)"
      ]
    },
    {
      "cell_type": "code",
      "execution_count": 330,
      "metadata": {
        "colab": {
          "base_uri": "https://localhost:8080/"
        },
        "outputId": "4e2800f8-054f-45f8-b5eb-866f0130bb92",
        "id": "UF5A5uxyAgIP"
      },
      "outputs": [
        {
          "output_type": "stream",
          "name": "stdout",
          "text": [
            "0.9916666666666667\n",
            "0.9\n"
          ]
        }
      ],
      "source": [
        "print(model.score(X_train, y_train))\n",
        "print(model.score(X_test, y_test))"
      ]
    },
    {
      "cell_type": "code",
      "execution_count": null,
      "metadata": {
        "id": "-uJ83cBufbZe"
      },
      "outputs": [],
      "source": [
        ""
      ]
    },
    {
      "cell_type": "markdown",
      "metadata": {
        "id": "nidX5eMZ3ncE"
      },
      "source": [
        "### 와인"
      ]
    },
    {
      "cell_type": "code",
      "execution_count": null,
      "metadata": {
        "id": "JFi_47EI3ncH"
      },
      "outputs": [],
      "source": [
        ""
      ]
    },
    {
      "cell_type": "code",
      "execution_count": null,
      "metadata": {
        "id": "IMAMKR5ODnuW"
      },
      "outputs": [],
      "source": [
        "wine = load_wine()\n",
        "print(wine.keys())\n",
        "print(wine.DESCR)\n",
        "print(wine.target_names)"
      ]
    },
    {
      "cell_type": "code",
      "execution_count": 331,
      "metadata": {
        "colab": {
          "base_uri": "https://localhost:8080/"
        },
        "outputId": "e8a61ebe-75f7-42c2-cd85-826bf21693b0",
        "id": "2jkwxFXZDnuX"
      },
      "outputs": [
        {
          "output_type": "stream",
          "name": "stdout",
          "text": [
            "1.0\n",
            "0.9722222222222222\n"
          ]
        }
      ],
      "source": [
        "X, y = load_wine(return_X_y=True)\n",
        "X_train, X_test, y_train, y_test = train_test_split(X, y, test_size=0.2)\n",
        "\n",
        "scaler = StandardScaler()\n",
        "\n",
        "scaler.fit(X_train)\n",
        "X_train = scaler.transform(X_train)\n",
        "X_test = scaler.transform(X_test)\n",
        "\n",
        "\n",
        "model = SVC(kernel='rbf')\n",
        "model.fit(X_train, y_train)\n",
        "\n",
        "print(model.score(X_train, y_train))\n",
        "print(model.score(X_test, y_test))"
      ]
    },
    {
      "cell_type": "code",
      "execution_count": 332,
      "metadata": {
        "id": "AAGhbIfFDnuX"
      },
      "outputs": [],
      "source": [
        "X_comp = TSNE(n_components=2).fit_transform(X)\n",
        "X0, X1 = X_comp[:,0], X_comp[:,1]\n",
        "\n",
        "xx, yy = make_meshgrid(X0, X1)"
      ]
    },
    {
      "cell_type": "code",
      "execution_count": 333,
      "metadata": {
        "colab": {
          "base_uri": "https://localhost:8080/",
          "height": 282
        },
        "outputId": "73077ace-3f4b-4e09-ecd5-1f775869c1af",
        "id": "m0BmiHvnDnuX"
      },
      "outputs": [
        {
          "output_type": "execute_result",
          "data": {
            "text/plain": [
              "<matplotlib.collections.PathCollection at 0x7f4098f992d0>"
            ]
          },
          "metadata": {},
          "execution_count": 333
        },
        {
          "output_type": "display_data",
          "data": {
            "text/plain": [
              "<Figure size 432x288 with 1 Axes>"
            ],
            "image/png": "[encoded data removed]"
          },
          "metadata": {}
        }
      ],
      "source": [
        "model.fit(X_comp, y)\n",
        "\n",
        "plot_contours(model, xx, yy, cmap=plt.cm.coolwarm, alpha=0.7)\n",
        "plt.scatter(X0, X1, c=y, cmap=plt.cm.coolwarm, s=20, edgecolors='k')"
      ]
    },
    {
      "cell_type": "code",
      "execution_count": 334,
      "metadata": {
        "colab": {
          "base_uri": "https://localhost:8080/"
        },
        "outputId": "b1172d8e-ea97-4ed3-dd54-aba5658c26c4",
        "id": "RyutToJ_DnuX"
      },
      "outputs": [
        {
          "output_type": "stream",
          "name": "stderr",
          "text": [
            "[Parallel(n_jobs=2)]: Using backend LokyBackend with 2 concurrent workers.\n",
            "[Parallel(n_jobs=2)]: Done   5 out of   5 | elapsed:    0.8s finished\n"
          ]
        },
        {
          "output_type": "execute_result",
          "data": {
            "text/plain": [
              "{'fit_time': array([0.00321174, 0.00234246, 0.00279617, 0.00270867, 0.00300455]),\n",
              " 'score_time': array([0.00094557, 0.00063467, 0.00085449, 0.00082135, 0.00083208]),\n",
              " 'test_score': array([0.94444444, 0.97222222, 0.97222222, 0.97142857, 0.94285714])}"
            ]
          },
          "metadata": {},
          "execution_count": 334
        }
      ],
      "source": [
        "estimator = make_pipeline(StandardScaler(), SVC(kernel='linear'))\n",
        "cross_validate(estimator=estimator, X=X, y=y, cv=5, n_jobs=multiprocessing.cpu_count(), verbose=True)"
      ]
    },
    {
      "cell_type": "code",
      "execution_count": 337,
      "metadata": {
        "colab": {
          "base_uri": "https://localhost:8080/"
        },
        "outputId": "2dffcdf1-4ecb-486d-ce69-17373d933bb0",
        "id": "OPla0AQsDnuX"
      },
      "outputs": [
        {
          "output_type": "stream",
          "name": "stdout",
          "text": [
            "Fitting 5 folds for each of 6 candidates, totalling 30 fits\n"
          ]
        },
        {
          "output_type": "execute_result",
          "data": {
            "text/plain": [
              "GridSearchCV(cv=5,\n",
              "             estimator=Pipeline(steps=[('scaler', StandardScaler()),\n",
              "                                       ('model', SVC(kernel='linear'))]),\n",
              "             n_jobs=2,\n",
              "             param_grid=[{'model__C': [1.0, 0.1, 0.01],\n",
              "                          'model__gamma': ['scale', 'auto']}],\n",
              "             verbose=True)"
            ]
          },
          "metadata": {},
          "execution_count": 337
        }
      ],
      "source": [
        "#최적의 파라미터 확인\n",
        "pipe = Pipeline([('scaler',StandardScaler()), ('model', SVC(kernel='linear'))])\n",
        "\n",
        "#paramgrid = [{'model__kernel': ['rbf','polynomial','sigmoid','linear'],'model__gamma': ['scale','auto'],'model__C' : [1.0,0.1,0.01],'model__epsilon':[1.0,0.1,0.01]}]\n",
        "paramgrid = [{'model__gamma': ['scale','auto'],'model__C' : [1.0,0.1,0.01]}]\n",
        "\n",
        "wine_gs = GridSearchCV(estimator = pipe, param_grid = paramgrid, n_jobs=multiprocessing.cpu_count(), cv=5, verbose=True, )\n",
        "\n",
        "wine_gs.fit(X,y)"
      ]
    },
    {
      "cell_type": "code",
      "execution_count": 338,
      "metadata": {
        "colab": {
          "base_uri": "https://localhost:8080/"
        },
        "outputId": "4a61008f-ce1a-420c-e875-045a70a7922a",
        "id": "GhSqr74rDnuX"
      },
      "outputs": [
        {
          "output_type": "stream",
          "name": "stdout",
          "text": [
            "Pipeline(steps=[('scaler', StandardScaler()),\n",
            "                ('model', SVC(C=0.1, kernel='linear'))])\n",
            "{'model__C': 0.1, 'model__gamma': 'scale'}\n",
            "0.972063492063492\n"
          ]
        }
      ],
      "source": [
        "print(wine_gs.best_estimator_)\n",
        "print(wine_gs.best_params_)\n",
        "print(wine_gs.best_score_)"
      ]
    },
    {
      "cell_type": "code",
      "execution_count": 339,
      "metadata": {
        "colab": {
          "base_uri": "https://localhost:8080/"
        },
        "outputId": "db745913-8ef9-46fb-848e-d7dfa1918aa6",
        "id": "r1O44_2fDnuY"
      },
      "outputs": [
        {
          "output_type": "execute_result",
          "data": {
            "text/plain": [
              "Pipeline(steps=[('scaler', StandardScaler()),\n",
              "                ('model', SVC(C=0.1, kernel='linear'))])"
            ]
          },
          "metadata": {},
          "execution_count": 339
        }
      ],
      "source": [
        "model = wine_gs.best_estimator_\n",
        "model.fit(X_train, y_train)"
      ]
    },
    {
      "cell_type": "code",
      "execution_count": 340,
      "metadata": {
        "colab": {
          "base_uri": "https://localhost:8080/"
        },
        "outputId": "f5b778e1-e5a9-47c9-996c-4f743f72639f",
        "id": "WdsxeWH7DnuY"
      },
      "outputs": [
        {
          "output_type": "stream",
          "name": "stdout",
          "text": [
            "1.0\n",
            "1.0\n"
          ]
        }
      ],
      "source": [
        "print(model.score(X_train, y_train))\n",
        "print(model.score(X_test, y_test))"
      ]
    },
    {
      "cell_type": "code",
      "execution_count": null,
      "metadata": {
        "id": "r0nXpsIy3ncP"
      },
      "outputs": [],
      "source": [
        ""
      ]
    },
    {
      "cell_type": "code",
      "execution_count": null,
      "metadata": {
        "id": "_bP6E_fo3nca"
      },
      "outputs": [],
      "source": [
        ""
      ]
    },
    {
      "cell_type": "code",
      "execution_count": null,
      "metadata": {
        "id": "31meFM0G3nch"
      },
      "outputs": [],
      "source": [
        ""
      ]
    },
    {
      "cell_type": "code",
      "execution_count": null,
      "metadata": {
        "id": "Vf0pIWPp3ncn"
      },
      "outputs": [],
      "source": [
        ""
      ]
    },
    {
      "cell_type": "code",
      "execution_count": null,
      "metadata": {
        "id": "aI0f1Gs_3ncv"
      },
      "outputs": [],
      "source": [
        ""
      ]
    },
    {
      "cell_type": "code",
      "execution_count": null,
      "metadata": {
        "id": "Edm3bwbJ3nc1"
      },
      "outputs": [],
      "source": [
        ""
      ]
    },
    {
      "cell_type": "code",
      "execution_count": null,
      "metadata": {
        "id": "hSirMLUZ3nc6"
      },
      "outputs": [],
      "source": [
        ""
      ]
    },
    {
      "cell_type": "code",
      "execution_count": null,
      "metadata": {
        "id": "GKmP7vEG3nc_"
      },
      "outputs": [],
      "source": [
        ""
      ]
    },
    {
      "cell_type": "code",
      "execution_count": null,
      "metadata": {
        "id": "UvcDratI3ndG"
      },
      "outputs": [],
      "source": [
        ""
      ]
    },
    {
      "cell_type": "code",
      "execution_count": null,
      "metadata": {
        "id": "IYGDeYTM3ndK"
      },
      "outputs": [],
      "source": [
        ""
      ]
    },
    {
      "cell_type": "code",
      "execution_count": null,
      "metadata": {
        "id": "lyQEmPG93ndP"
      },
      "outputs": [],
      "source": [
        ""
      ]
    },
    {
      "cell_type": "code",
      "execution_count": null,
      "metadata": {
        "id": "8Gz5WltL3ndU"
      },
      "outputs": [],
      "source": [
        ""
      ]
    },
    {
      "cell_type": "code",
      "execution_count": null,
      "metadata": {
        "id": "JYx0sPLh3ndZ"
      },
      "outputs": [],
      "source": [
        ""
      ]
    },
    {
      "cell_type": "code",
      "execution_count": null,
      "metadata": {
        "id": "zZw_Fq-q3ndd"
      },
      "outputs": [],
      "source": [
        ""
      ]
    },
    {
      "cell_type": "code",
      "execution_count": null,
      "metadata": {
        "id": "EZ-rVe_o3ndi"
      },
      "outputs": [],
      "source": [
        ""
      ]
    }
  ],
  "metadata": {
    "colab": {
      "collapsed_sections": [],
      "name": "_5 서포트 벡터 머신(Support Vector Machines).ipynb의 사본",
      "provenance": [],
      "toc_visible": true,
      "include_colab_link": true
    },
    "kernelspec": {
      "display_name": "Python 3",
      "name": "python3"
    }
  },
  "nbformat": 4,
  "nbformat_minor": 0
}