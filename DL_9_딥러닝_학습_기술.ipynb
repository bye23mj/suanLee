{
  "nbformat": 4,
  "nbformat_minor": 0,
  "metadata": {
    "colab": {
      "name": "DL_9 딥러닝 학습 기술.ipynb",
      "provenance": [],
      "collapsed_sections": [],
      "toc_visible": true,
      "include_colab_link": true
    },
    "kernelspec": {
      "name": "python3",
      "display_name": "Python 3"
    }
  },
  "cells": [
    {
      "cell_type": "markdown",
      "metadata": {
        "id": "view-in-github",
        "colab_type": "text"
      },
      "source": [
        "<a href=\"https://colab.research.google.com/github/bye23mj/suanLee/blob/main/DL_9_%EB%94%A5%EB%9F%AC%EB%8B%9D_%ED%95%99%EC%8A%B5_%EA%B8%B0%EC%88%A0.ipynb\" target=\"_parent\"><img src=\"https://colab.research.google.com/assets/colab-badge.svg\" alt=\"Open In Colab\"/></a>"
      ]
    },
    {
      "cell_type": "markdown",
      "metadata": {
        "id": "T7RbRq7bKrSl"
      },
      "source": [
        "# 딥러닝 학습 기술\n",
        "\n",
        "- Optimization (매개변수 갱신(확률적 경사하강법, 모멘텀, AdaGrad, Adam) )\n",
        "\n",
        "- Weight Decay\n",
        "- Batch Normalization\n",
        "- 과대적합(Overfitting) / 과소적합(Underfitting)\n",
        "- 규제화(Regularization)\n",
        "- 드롭아웃(Drop Out)\n",
        "- 하이퍼 파라미터\n",
        "  - 학습률(Learning Rate)\n",
        "  - 학습횟수\n",
        "  - 미니배치 크기\n",
        "\n"
      ]
    },
    {
      "cell_type": "markdown",
      "metadata": {
        "id": "qPY3S6UCKum-"
      },
      "source": [
        "## 최적화 방법 : 매개변수 갱신"
      ]
    },
    {
      "cell_type": "markdown",
      "metadata": {
        "id": "UyKUPpJvKxTs"
      },
      "source": [
        "### 확률적 경사하강법(Stochastic Gradient Descent, SGD)\n",
        "\n",
        "  - 전체를 한번에 계산하지 않고, **확률적**으로 일부 샘플을 뽑아 조금씩 나누어 학습을 시키는 과정  \n",
        "  \n",
        "  - 반복할 때마다 다루는 데이터의 수가 적기때문에 한 번 처리하는 속도는 빠름  \n",
        "\n",
        "  - 한 번 학습할 때 필요한 메모리만 있으면 되므로 매우 큰 데이터셋에 대해서도 학습이 가능\n",
        "\n",
        "  - 확률적이기 때문에, 배치 경사하강법보다 불안정\n",
        "\n",
        "  - 손실함수의 최솟값에 이를 때까지 다소 위아래로 요동치면서 이동\n",
        "\n",
        "  - 따라서, 위와 같은 문제 때문에 **미니 배치 경사하강법**(mini-batch gradient descent)로 학습을 진행  \n",
        "    요즘에는 보통 SGD라고하면 미니 배치 경사하강법을 의미하기도 함\n",
        "\n",
        "  \n",
        "  - (참고)\n",
        "    - <code>배치 경사하강법</code>\n",
        "    - <code>미니 배치 경사하강법</code>\n",
        "    - <code>확률적 경사하강법</code>\n",
        "  \n",
        "  <br>\n",
        "\n",
        "  ## $\\quad W \\leftarrow W - \\gamma \\frac{\\partial L}{\\partial W}$  \n",
        "   - $\\gamma :\\ $ 학습률\n",
        "\n",
        "  <br>\n",
        "\n",
        "![](https://engmrk.com/wp-content/uploads/2018/04/Fig2.png)\n",
        "<sub>출처: https://engmrk.com/mini-batch-gd/</sub>\n",
        "\n",
        "\n",
        "  \n",
        "\n",
        "\n",
        "\n"
      ]
    },
    {
      "cell_type": "code",
      "metadata": {
        "id": "FwUy7mx_KjAb"
      },
      "source": [
        "class SGD:\n",
        "  def __init__(self, learning_rate=0.01):\n",
        "    self.learning_rate = learning_rate\n",
        "\n",
        "  def update(self, params, grads):\n",
        "    for key in params.keys():\n",
        "      params[key] -= self.learning_rate * grads[key]"
      ],
      "execution_count": 2,
      "outputs": []
    },
    {
      "cell_type": "code",
      "metadata": {
        "id": "EF-AMLICK0bL"
      },
      "source": [
        "# optimizer = SGD()\n",
        "\n",
        "# for i in range(10000):\n",
        "#   optimizer.update(params, grads)"
      ],
      "execution_count": 3,
      "outputs": []
    },
    {
      "cell_type": "markdown",
      "metadata": {
        "id": "OWYrwWodK6GJ"
      },
      "source": [
        "### SGD의 단점\n",
        "- 단순하지만, 문제에 따라서 시간이 매우 오래걸림"
      ]
    },
    {
      "cell_type": "markdown",
      "metadata": {
        "id": "7pqcwf0gK9O5"
      },
      "source": [
        "### 모멘텀(Momentum)\n",
        "- 운동량을 의미, 관성과 관련\n",
        "\n",
        "- 공이 그릇의 경사면을 따라서 내려가는 듯한 모습\n",
        "\n",
        "- 이전의 속도를 유지하려는 성향  \n",
        "  경사하강을 좀 더 유지하려는 성격을 지님\n",
        "\n",
        "- 단순히 SGD만 사용하는 것보다 적게 방향이 변함\n",
        "  \n",
        "![](https://media.springernature.com/original/springer-static/image/chp%3A10.1007%2F978-1-4842-4470-8_33/MediaObjects/463852_1_En_33_Fig1_HTML.jpg)\n",
        "\n",
        "<sub>출처: https://link.springer.com/chapter/10.1007/978-1-4842-4470-8_33</sub>\n",
        "\n",
        "$\n",
        "\\qquad v \\ \\leftarrow \\ \\alpha \\ v - \\gamma \\ \\frac{\\partial L}{\\partial W} \\\\\n",
        "\\qquad W \\ \\leftarrow \\ W \\ + \\ v\n",
        "$\n",
        "\n",
        "  - $\\alpha\\ $ : 관성계수 \n",
        "\n",
        "  - $v$ :  속도\n",
        "\n",
        "  - $\\gamma\\ $ : 학습률\n",
        "\n",
        "  - $\\frac{\\partial L}{\\partial W}\\ $ : 손실함수에 대한 미분\n"
      ]
    },
    {
      "cell_type": "code",
      "metadata": {
        "id": "9MIfOV6xK16f"
      },
      "source": [
        "import numpy as np\n",
        "\n",
        "class Momentum:\n",
        "\n",
        "  def __init__(self, learning_rate = 0.01, momentum=0.9):\n",
        "    self.learning_rate = learning_rate\n",
        "    self.momentum = momentum\n",
        "    self.v = None\n",
        "\n",
        "  def update(self, params, grads):\n",
        "    if self.v is None:\n",
        "      self.v = {}\n",
        "      for key, val in params.items():\n",
        "        self.v[key] = np.zeros_like(val)\n",
        "\n",
        "    for key in params.keys():\n",
        "      self.v[key] = self.momentum * self.v[key] - self.learning_rate * grads[key]\n",
        "      params[key] += self.v[key]"
      ],
      "execution_count": 4,
      "outputs": []
    },
    {
      "cell_type": "markdown",
      "metadata": {
        "id": "cNr1hKRcLCRR"
      },
      "source": [
        "### AdaGrad(Adaptive Gradient)\n",
        "- **가장 가파른 경사를 따라 빠르게 하강하는 방법**\n",
        "\n",
        "- 적응적 학습률이라고도 함\n",
        "  학습률을 **변화시키며 진행**\n",
        "\n",
        "- 경사가 급할 때는 빠르게 변화,  \n",
        "  완만할 때는 느리게 변화\n",
        "\n",
        "- 간단한 문제에서는 좋을 수는 있지만 딥러닝(Deep Learning)에서는 자주 쓰이지 않음\n",
        "  학습률이 너무 감소되어 전역최소값(global minimum)에 도달하기 전에   \n",
        "  학습이 빨리 종료될 수 있기 때문\n",
        "\n",
        "\n",
        "<br>\n",
        "\n",
        "$\n",
        "\\qquad h \\ \\leftarrow \\  h + \\frac{\\partial L}{\\partial W} \\odot \\frac{\\partial L}{\\partial W} \\\\\n",
        "\\qquad W \\ \\leftarrow \\ W \\ + \\gamma \\frac{1}{\\sqrt h} \\ \\frac{\\partial L}{\\partial W}\n",
        "$\n",
        "\n",
        "  <br>\n",
        "\n",
        "  - $h\\ $ : 기존 기울기를 제곱하여 더한 값\n",
        "\n",
        "  - $\\gamma\\ $ : 학습률\n",
        "\n",
        "  - $\\frac{\\partial L}{\\partial W}\\ $ : $W$에 대한 미분\n",
        "\n",
        "  <br>\n",
        "\n",
        "  - (참고)  \n",
        "    - 과거의 기울기를 제곱하여 계속 더해하기 때문에  \n",
        "      학습을 진행할수록 갱신 강도가 약해짐($\\because \\frac{1}{\\sqrt h}$)    \n",
        "  "
      ]
    },
    {
      "cell_type": "code",
      "metadata": {
        "id": "N4TORymQK-yE"
      },
      "source": [
        "class AdaGrad:\n",
        "\n",
        "  def __init__(self, learning_rate = 0.01):\n",
        "    self.learning_rate = learning_rate\n",
        "    self.v = None\n",
        "\n",
        "  def update(self, params, grads):\n",
        "    if self.v is None:\n",
        "      self.v = {}\n",
        "      for key, val in params.items():\n",
        "        self.v[key] = np.zeros_like(val)\n",
        "\n",
        "    for key in params.keys():\n",
        "      self.h[key] += grads[key] * grads[key]\n",
        "      params[key] -= self.learning_rate * grads[key] / (np.sqrt(self.h[key]) + 1e-7)"
      ],
      "execution_count": 5,
      "outputs": []
    },
    {
      "cell_type": "markdown",
      "metadata": {
        "id": "aQTD3UUkLJDt"
      },
      "source": [
        "### RMSProp (Root Mean Square Propagation)\n",
        "- AdaGrad를 보완하기 위한 방법으로 등장\n",
        "\n",
        "- 합 대신 지수의 평균값을 활용\n",
        "\n",
        "- 학습이 안되기 시작하면 학습률이 커져 잘 되게끔하고,  \n",
        "  학습률이 너무 크면 학습률을 다시 줄임\n",
        "\n",
        "\n",
        "<br>\n",
        "\n",
        "$\n",
        "\\qquad h \\ \\leftarrow \\  \\rho \\ h + (1 - \\rho)\\ \\frac{\\partial L}{\\partial W} \\odot \\frac{\\partial L}{\\partial W} \\\\\n",
        "\\qquad W \\ \\leftarrow \\ W \\ + \\gamma \\frac{\\partial L}{\\partial W} / \\ \\sqrt{h + \\epsilon}\n",
        "$\n",
        "\n",
        "  <br>\n",
        "\n",
        "  - $h\\ $ : 기존 기울기를 제곱하여 업데이트 계수를 곱한 값과 업데이트 계수를 곱한 값을 더해줌 \n",
        "\n",
        "  - $\\rho\\ $ : 지수 평균의 업데이트 계수\n",
        "\n",
        "  - $\\gamma\\ $ : 학습률\n",
        "\n",
        "  - $\\frac{\\partial L}{\\partial W}\\ $ : $W$에 대한 미분"
      ]
    },
    {
      "cell_type": "code",
      "metadata": {
        "id": "wROsDRxDGC75"
      },
      "source": [
        "class RMSprop:\n",
        "\n",
        "  def __init__(self, learning_rate = 0.01, decay_rate = 0.01):\n",
        "    self.learning_rate = learning_rate\n",
        "    self.decay_rate = decay_rate\n",
        "    self.h = None\n",
        "\n",
        "  def update(self, params, grads):\n",
        "    if self.h is None:\n",
        "      self.v = {}\n",
        "      for key, val in params.items():\n",
        "        self.h[key] = np.zeros_like(val)\n",
        "\n",
        "    for key in params.keys():\n",
        "      self.h[key] *= self.decay_rate\n",
        "      self.h[key] += (1 - self.decay_rate) * grads[key] * grads[key]\n",
        "      params[key] -= self.learning_rate * grads[key] / (np.sqrt(self.h[key]) + 1e-7)"
      ],
      "execution_count": 6,
      "outputs": []
    },
    {
      "cell_type": "markdown",
      "metadata": {
        "id": "b4d5CeZ_LPaY"
      },
      "source": [
        "### Adam (Adaptive moment estimation)\n",
        "- 모멘텀 최적화와 RMSProp의 아이디어를 합친 것\n",
        "\n",
        "- 지난 그래디언트의 지수 감소 평균을 따르고(Momentum), 지난 그레디언트 제곱의 지수 감소된 평균(RMSProp)을 따름\n",
        "\n",
        "- 가장 많이 사용되는 최적화 방법\n",
        "\n",
        "\n",
        "<br>\n",
        "\n",
        "$\n",
        "\\qquad t \\ \\leftarrow \\ t + 1 \\\\\n",
        "\\qquad m_t \\ \\leftarrow \\  \\beta_1 \\ m_{t-1} - (1 - \\beta_1)\\ \\frac{\\partial L}{\\partial W}  \\\\\n",
        "\\qquad v_t \\ \\leftarrow \\ \\beta_2 \\ v_{t-1} + (1 - \\beta_2) \\frac{\\partial L}{\\partial W} \\odot \\frac{\\partial L}{\\partial W} \\\\\n",
        "\\qquad \\hat{m_t} \\ \\leftarrow \\frac{m_t}{1 - \\beta_1^t} \\\\\n",
        "\\qquad \\hat{v_t} \\ \\leftarrow \\frac{v_t}{1 - \\beta_2^t} \\\\\n",
        "\\qquad W_t \\ \\leftarrow \\ W_{t-1} \\ + \\gamma \\ \\hat{m_t}\\  / \\sqrt{\\hat{v_t} + \\epsilon}\n",
        "$\n",
        "\n",
        "  <br>\n",
        "\n",
        "  - $\\beta\\ $ : 지수 평균의 업데이트 계수\n",
        "\n",
        "  - $\\gamma\\ $ : 학습률\n",
        "\n",
        "  - $\\beta_1 \\approx 0.9\\ ,\\ \\ \\beta_2 \\approx 0.999$\n",
        "\n",
        "  - $\\frac{\\partial L}{\\partial W}\\ $ : $W$에 대한 미분"
      ]
    },
    {
      "cell_type": "code",
      "metadata": {
        "id": "BFyE0iaFLL0M"
      },
      "source": [
        "class Adam:\n",
        "\n",
        "    def __init__(self, lr=0.001, beta1=0.9, beta2=0.999):\n",
        "        self.lr = lr\n",
        "        self.beta1 = beta1\n",
        "        self.beta2 = beta2\n",
        "        self.iter = 0\n",
        "        self.m = None\n",
        "        self.v = None\n",
        "        \n",
        "    def update(self, params, grads):\n",
        "        if self.m is None:\n",
        "            self.m, self.v = {}, {}\n",
        "            for key, val in params.items():\n",
        "                self.m[key] = np.zeros_like(val)\n",
        "                self.v[key] = np.zeros_like(val)\n",
        "        \n",
        "        self.iter += 1\n",
        "        lr_t  = self.lr * np.sqrt(1.0 - self.beta2**self.iter) / (1.0 - self.beta1**self.iter)         \n",
        "        \n",
        "        for key in params.keys():\n",
        "            self.m[key] += (1 - self.beta1) * (grads[key] - self.m[key])\n",
        "            self.v[key] += (1 - self.beta2) * (grads[key]**2 - self.v[key])\n",
        "            \n",
        "            params[key] -= lr_t * self.m[key] / (np.sqrt(self.v[key]) + 1e-7)"
      ],
      "execution_count": 7,
      "outputs": []
    },
    {
      "cell_type": "markdown",
      "metadata": {
        "id": "Rm-SFxGGLYKq"
      },
      "source": [
        "## 최적화 방법 비교 (예, Linear Regression)\n",
        "\n",
        "<img src=\"https://user-images.githubusercontent.com/11681225/50016682-39742a80-000d-11e9-81da-ab0406610b9c.gif\" width=\"600\">\n",
        "\n",
        "<sub>출처: https://github.com/ilguyi/optimizers.numpy</sub>"
      ]
    },
    {
      "cell_type": "markdown",
      "metadata": {
        "id": "8uQ6VOltLaOG"
      },
      "source": [
        "## AI 두 번째 위기 (가중치 소실, Gradient Vanishing)\n",
        "\n",
        "- 활성화함수가 Sigmoid 함수 일 때, 은닉층의 갯수가 늘어 날수록  \n",
        "  가중치가 역전파되면서 가중치 소실문제 발생\n",
        "  - 0 ~ 1 사이의 값으로 출력되면서 0 또는 1에 가중치 값이 퍼짐  \n",
        "    이는 <u>미분값이 점점 0에 가까워짐</u>을 의미하기도 한다.\n",
        "\n",
        "  - **ReLU 함수 등장(비선형 함수)**\n",
        "\n",
        "- 가중치 초기화 문제(은닉층의 활성화값 분포)\n",
        "  - 가중치의 값이 일부 값으로 치우치게 되면  \n",
        "    활성화 함수를 통과한 값이 치우치게 되고, 표현할 수 있는 신경망의 수가 적어짐.\n",
        "\n",
        "  - 따라서, 활성화값이 골고루 분포되는 것이 중요!\n",
        "\n",
        "![](https://www.googleapis.com/download/storage/v1/b/kaggle-user-content/o/inbox%2F278186%2Fd158ec3585bc1551d9f3a03ae13a3a73%2Fvanishing%20gradient%20problem.png?generation=1574233763365617&alt=media)\n",
        "\n",
        "<sub>출처: https://www.kaggle.com/getting-started/118228</sub>"
      ]
    },
    {
      "cell_type": "markdown",
      "metadata": {
        "id": "lDoVAV_fLdul"
      },
      "source": [
        "## 가중치 초기화\n",
        "\n",
        "* https://www.deeplearning.ai/ai-notes/initialization/"
      ]
    },
    {
      "cell_type": "markdown",
      "metadata": {
        "id": "rYl_0HikLfQT"
      },
      "source": [
        "### 초기값 : 0 (zeros)\n",
        "\n",
        "- 학습이 올바르게 진행되지 않음\n",
        "\n",
        "- 0으로 설정하면  \n",
        "  오차역전파법에서 모든 가중치의 값이 똑같이 갱신됨"
      ]
    },
    {
      "cell_type": "code",
      "metadata": {
        "id": "BSsNNBbHLeCb"
      },
      "source": [
        "import numpy as np\n",
        "\n",
        "def sigmoid(x):\n",
        "  return 1 / (1 + np.exp(-x))\n",
        "\n",
        "x = np.random.randn(1000, 50)\n",
        "nodes = 50\n",
        "hidden_layers = 6\n",
        "activation_values = {}\n",
        "\n",
        "for i in range(hidden_layers):\n",
        "  if i != 0:\n",
        "    x = activation_values[i-1]\n",
        "\n",
        "  #초기값 : 0\n",
        "  w = np.zeros((nodes, nodes))\n",
        "  a = np.dot(x,w)\n",
        "  z = sigmoid(a)\n",
        "\n",
        "  activation_values[i] = z\n"
      ],
      "execution_count": 8,
      "outputs": []
    },
    {
      "cell_type": "code",
      "metadata": {
        "id": "vZYtfJU_LgeY",
        "colab": {
          "base_uri": "https://localhost:8080/",
          "height": 386
        },
        "outputId": "b1377cac-6b64-481b-f26d-9e1baafc2283"
      },
      "source": [
        "import matplotlib.pyplot as plt\n",
        "plt.style.use(['seaborn-whitegrid'])\n",
        "\n",
        "plt.figure(figsize=(12,6))\n",
        "for i, a in activation_values.items():\n",
        "  plt.subplot(1, len(activation_values), i+1)\n",
        "  plt.title(str(i+1)+ 'th layer')\n",
        "  plt.hist(a.flatten(), 50, range=(0,1))\n",
        "  plt.subplots_adjust(wspace=0.5, hspace=0.5)\n",
        "\n",
        "plt.show()\n"
      ],
      "execution_count": 9,
      "outputs": [
        {
          "output_type": "display_data",
          "data": {
            "text/plain": [
              "<Figure size 864x432 with 6 Axes>"
            ],
            "image/png": "[encoded data removed]"
          },
          "metadata": {}
        }
      ]
    },
    {
      "cell_type": "markdown",
      "metadata": {
        "id": "3tX8pl-TLjDE"
      },
      "source": [
        "### 초기값 : 균일분포(Uniform)\n",
        "- 활성화 값이 균일하지 않음(활성화함수 : sigmoid)\n",
        "\n",
        "- 역전파로 전해지는 기울기값이 사라짐"
      ]
    },
    {
      "cell_type": "code",
      "metadata": {
        "id": "IRDam-xN1mGA"
      },
      "source": [
        "import numpy as np\n",
        "\n",
        "def sigmoid(x):\n",
        "  return 1 / (1 + np.exp(-x))\n",
        "\n",
        "x = np.random.randn(1000, 50)\n",
        "nodes = 50\n",
        "hidden_layers = 6\n",
        "activation_values = {}\n",
        "\n",
        "for i in range(hidden_layers):\n",
        "  if i != 0:\n",
        "    x = activation_values[i-1]\n",
        "\n",
        "  #균일분포\n",
        "  w = np.random.uniform(1, 10, (nodes, nodes))\n",
        "  a = np.dot(x,w)\n",
        "  z = sigmoid(a)\n",
        "\n",
        "  activation_values[i] = z\n"
      ],
      "execution_count": 10,
      "outputs": []
    },
    {
      "cell_type": "code",
      "metadata": {
        "colab": {
          "base_uri": "https://localhost:8080/",
          "height": 386
        },
        "outputId": "473822cf-25e6-4229-a14b-c22332672aaf",
        "id": "WQKiN3Vz1mGD"
      },
      "source": [
        "import matplotlib.pyplot as plt\n",
        "plt.style.use(['seaborn-whitegrid'])\n",
        "\n",
        "plt.figure(figsize=(12,6))\n",
        "for i, a in activation_values.items():\n",
        "  plt.subplot(1, len(activation_values), i+1)\n",
        "  plt.title(str(i+1)+ 'th layer')\n",
        "  plt.hist(a.flatten(), 50, range=(0,1))\n",
        "  plt.subplots_adjust(wspace=0.5, hspace=0.5)\n",
        "\n",
        "plt.show()\n"
      ],
      "execution_count": 11,
      "outputs": [
        {
          "output_type": "display_data",
          "data": {
            "text/plain": [
              "<Figure size 864x432 with 6 Axes>"
            ],
            "image/png": "[encoded data removed]"
          },
          "metadata": {}
        }
      ]
    },
    {
      "cell_type": "code",
      "metadata": {
        "id": "_uyVrwCfLkYg"
      },
      "source": [
        ""
      ],
      "execution_count": 11,
      "outputs": []
    },
    {
      "cell_type": "markdown",
      "metadata": {
        "id": "xtaDIKQOLns3"
      },
      "source": [
        "### 초기값 : 정규분포(nomalization)\n",
        "- 활성화함수를 통과하면 양쪽으로 퍼짐\n",
        "\n",
        "- 0과 1에 퍼지면서 기울기 소실문제(gradient vanishing) 발생"
      ]
    },
    {
      "cell_type": "code",
      "metadata": {
        "id": "GnZR0KVd2OOe"
      },
      "source": [
        "import numpy as np\n",
        "\n",
        "def sigmoid(x):\n",
        "  return 1 / (1 + np.exp(-x))\n",
        "\n",
        "x = np.random.randn(1000, 50)\n",
        "nodes = 50\n",
        "hidden_layers = 6\n",
        "activation_values = {}\n",
        "\n",
        "for i in range(hidden_layers):\n",
        "  if i != 0:\n",
        "    x = activation_values[i-1]\n",
        "\n",
        "  #균일분포\n",
        "  w = np.random.randn(nodes, nodes)\n",
        "  a = np.dot(x,w)\n",
        "  z = sigmoid(a)\n",
        "\n",
        "  activation_values[i] = z\n"
      ],
      "execution_count": 12,
      "outputs": []
    },
    {
      "cell_type": "code",
      "metadata": {
        "colab": {
          "base_uri": "https://localhost:8080/",
          "height": 386
        },
        "outputId": "229d71ce-4e69-4814-bf27-eb4ff182a4cc",
        "id": "mfzD52V72OOe"
      },
      "source": [
        "import matplotlib.pyplot as plt\n",
        "plt.style.use(['seaborn-whitegrid'])\n",
        "\n",
        "plt.figure(figsize=(12,6))\n",
        "for i, a in activation_values.items():\n",
        "  plt.subplot(1, len(activation_values), i+1)\n",
        "  plt.title(str(i+1)+ 'th layer')\n",
        "  plt.hist(a.flatten(), 50, range=(0,1))\n",
        "  plt.subplots_adjust(wspace=0.5, hspace=0.5)\n",
        "\n",
        "plt.show()\n"
      ],
      "execution_count": 13,
      "outputs": [
        {
          "output_type": "display_data",
          "data": {
            "text/plain": [
              "<Figure size 864x432 with 6 Axes>"
            ],
            "image/png": "[encoded data removed]"
          },
          "metadata": {}
        }
      ]
    },
    {
      "cell_type": "code",
      "metadata": {
        "id": "cdb94aLtLpGY"
      },
      "source": [
        ""
      ],
      "execution_count": 13,
      "outputs": []
    },
    {
      "cell_type": "markdown",
      "metadata": {
        "id": "8NVHTWyeLr2W"
      },
      "source": [
        "### 아주 작은 정규분포값으로 가중치 초기화\n",
        "- 0과 1로 퍼치지는 않았고, 한 곳에 치우쳐 짐\n",
        "\n",
        "- 해당 신경망이 표현할 수 있는 문제가 제한됨"
      ]
    },
    {
      "cell_type": "code",
      "metadata": {
        "id": "B-atEjtH2wnS"
      },
      "source": [
        "import numpy as np\n",
        "\n",
        "def sigmoid(x):\n",
        "  return 1 / (1 + np.exp(-x))\n",
        "\n",
        "x = np.random.randn(1000, 50)\n",
        "nodes = 50\n",
        "hidden_layers = 6\n",
        "activation_values = {}\n",
        "\n",
        "for i in range(hidden_layers):\n",
        "  if i != 0:\n",
        "    x = activation_values[i-1]\n",
        "\n",
        "  #균일분포\n",
        "  w = np.random.randn(nodes, nodes) * 0.01\n",
        "  a = np.dot(x,w)\n",
        "  z = sigmoid(a)\n",
        "\n",
        "  activation_values[i] = z\n"
      ],
      "execution_count": 14,
      "outputs": []
    },
    {
      "cell_type": "code",
      "metadata": {
        "colab": {
          "base_uri": "https://localhost:8080/",
          "height": 386
        },
        "outputId": "3f3da148-604c-426e-a19e-7debf6475c90",
        "id": "CpDvQosT2wnT"
      },
      "source": [
        "import matplotlib.pyplot as plt\n",
        "plt.style.use(['seaborn-whitegrid'])\n",
        "\n",
        "plt.figure(figsize=(12,6))\n",
        "for i, a in activation_values.items():\n",
        "  plt.subplot(1, len(activation_values), i+1)\n",
        "  plt.title(str(i+1)+ 'th layer')\n",
        "  plt.hist(a.flatten(), 50, range=(0,1))\n",
        "  plt.subplots_adjust(wspace=0.5, hspace=0.5)\n",
        "\n",
        "plt.show()\n"
      ],
      "execution_count": 15,
      "outputs": [
        {
          "output_type": "display_data",
          "data": {
            "text/plain": [
              "<Figure size 864x432 with 6 Axes>"
            ],
            "image/png": "[encoded data removed]"
          },
          "metadata": {}
        }
      ]
    },
    {
      "cell_type": "code",
      "metadata": {
        "id": "E860A3Y1Ls1I"
      },
      "source": [
        ""
      ],
      "execution_count": 15,
      "outputs": []
    },
    {
      "cell_type": "markdown",
      "metadata": {
        "id": "H1j0IEjPLv1g"
      },
      "source": [
        "### 초기값 : Xavier (Glorot)\n",
        "- 은닉층의 노드의 수가 n이라면 표준편차가 $\\frac{1}{\\sqrt{n}}$인 분포\n",
        "\n",
        "- 더 많은 가중치에 역전파가 전달 가능하고,  \n",
        "  비교적 많은 문제를 표현할 수 있음\n",
        "\n",
        "- 활성화 함수가 **선형**인 함수일 때 매우 적합"
      ]
    },
    {
      "cell_type": "code",
      "metadata": {
        "id": "PlQ-4GV12_E6"
      },
      "source": [
        "import numpy as np\n",
        "\n",
        "def sigmoid(x):\n",
        "  return 1 / (1 + np.exp(-x))\n",
        "\n",
        "x = np.random.randn(1000, 50)\n",
        "nodes = 50\n",
        "hidden_layers = 6\n",
        "activation_values = {}\n",
        "\n",
        "for i in range(hidden_layers):\n",
        "  if i != 0:\n",
        "    x = activation_values[i-1]\n",
        "\n",
        "  # 활성화 함수가 선형인 함수일 때 매우 적합\n",
        "  w = np.random.randn(nodes, nodes) / np.sqrt(nodes)\n",
        "  a = np.dot(x,w)\n",
        "  z = sigmoid(a)\n",
        "\n",
        "  activation_values[i] = z\n"
      ],
      "execution_count": 16,
      "outputs": []
    },
    {
      "cell_type": "code",
      "metadata": {
        "colab": {
          "base_uri": "https://localhost:8080/",
          "height": 386
        },
        "outputId": "683e1082-37a3-4606-ff0b-cd38365be156",
        "id": "QJKZ_IUl2_E7"
      },
      "source": [
        "import matplotlib.pyplot as plt\n",
        "plt.style.use(['seaborn-whitegrid'])\n",
        "\n",
        "plt.figure(figsize=(12,6))\n",
        "for i, a in activation_values.items():\n",
        "  plt.subplot(1, len(activation_values), i+1)\n",
        "  plt.title(str(i+1)+ 'th layer')\n",
        "  plt.hist(a.flatten(), 50, range=(0,1))\n",
        "  plt.subplots_adjust(wspace=0.5, hspace=0.5)\n",
        "\n",
        "plt.show()\n"
      ],
      "execution_count": 17,
      "outputs": [
        {
          "output_type": "display_data",
          "data": {
            "text/plain": [
              "<Figure size 864x432 with 6 Axes>"
            ],
            "image/png": "[encoded data removed]"
          },
          "metadata": {}
        }
      ]
    },
    {
      "cell_type": "code",
      "metadata": {
        "id": "CrZazzpjLyCN"
      },
      "source": [
        ""
      ],
      "execution_count": 17,
      "outputs": []
    },
    {
      "cell_type": "markdown",
      "metadata": {
        "id": "dWTHG_CDLzub"
      },
      "source": [
        "### 초기값 : Xavier (Glorot) - tanh\n",
        "- 활성화 함수: tanh\n",
        "\n",
        "- sigmoid 함수보다 더 깔끔한 종모양으로 분포  \n"
      ]
    },
    {
      "cell_type": "code",
      "metadata": {
        "id": "XTG8OWJG3aa3"
      },
      "source": [
        "import numpy as np\n",
        "\n",
        "def tanh(x):\n",
        "  return (np.exp(x) - np.exp(-x)) / (np.exp(x) + np.exp(-x))\n",
        "\n",
        "x = np.random.randn(1000, 50)\n",
        "nodes = 50\n",
        "hidden_layers = 6\n",
        "activation_values = {}\n",
        "\n",
        "for i in range(hidden_layers):\n",
        "  if i != 0:\n",
        "    x = activation_values[i-1]\n",
        "\n",
        "  # 활성화 함수가 선형인 함수일 때 매우 적합\n",
        "  w = np.random.randn(nodes, nodes) / np.sqrt(nodes)\n",
        "  a = np.dot(x,w)\n",
        "  z = tanh(a)\n",
        "\n",
        "  activation_values[i] = z\n"
      ],
      "execution_count": 18,
      "outputs": []
    },
    {
      "cell_type": "code",
      "metadata": {
        "colab": {
          "base_uri": "https://localhost:8080/",
          "height": 386
        },
        "outputId": "1e0b7b27-03f1-4cfe-d858-6d2724341135",
        "id": "KeDpMVGL3aa3"
      },
      "source": [
        "import matplotlib.pyplot as plt\n",
        "plt.style.use(['seaborn-whitegrid'])\n",
        "\n",
        "plt.figure(figsize=(12,6))\n",
        "for i, a in activation_values.items():\n",
        "  plt.subplot(1, len(activation_values), i+1)\n",
        "  plt.title(str(i+1)+ 'th layer')\n",
        "  plt.hist(a.flatten(), 50, range=(0,1))\n",
        "  plt.subplots_adjust(wspace=0.5, hspace=0.5)\n",
        "\n",
        "plt.show()\n"
      ],
      "execution_count": 19,
      "outputs": [
        {
          "output_type": "display_data",
          "data": {
            "text/plain": [
              "<Figure size 864x432 with 6 Axes>"
            ],
            "image/png": "[encoded data removed]"
          },
          "metadata": {}
        }
      ]
    },
    {
      "cell_type": "code",
      "metadata": {
        "id": "556nPeAwL081"
      },
      "source": [
        ""
      ],
      "execution_count": 19,
      "outputs": []
    },
    {
      "cell_type": "markdown",
      "metadata": {
        "id": "6ApbdW0yL4D_"
      },
      "source": [
        "## 비선형 함수에서의 가중치 초기화"
      ]
    },
    {
      "cell_type": "markdown",
      "metadata": {
        "id": "V1Y5Mqo5L5VX"
      },
      "source": [
        "### 초기값: 0 (Zeros)\n",
        "- 활성화함수: ReLU"
      ]
    },
    {
      "cell_type": "code",
      "metadata": {
        "id": "tzZUcB-037Up"
      },
      "source": [
        "import numpy as np\n",
        "\n",
        "def ReLU(x):\n",
        "  return np.maximum(0, x)\n",
        "\n",
        "x = np.random.randn(1000, 50)\n",
        "nodes = 50\n",
        "hidden_layers = 6\n",
        "activation_values = {}\n",
        "\n",
        "for i in range(hidden_layers):\n",
        "  if i != 0:\n",
        "    x = activation_values[i-1]\n",
        "\n",
        "  w = np.zeros((nodes,nodes))\n",
        "  a = np.dot(x,w)\n",
        "  z = ReLU(a)\n",
        "\n",
        "  activation_values[i] = z\n"
      ],
      "execution_count": 20,
      "outputs": []
    },
    {
      "cell_type": "code",
      "metadata": {
        "colab": {
          "base_uri": "https://localhost:8080/",
          "height": 386
        },
        "outputId": "4b43eeed-fb7c-48d8-fbfd-8cfe9c87f12f",
        "id": "45Yr5nbH37Up"
      },
      "source": [
        "import matplotlib.pyplot as plt\n",
        "plt.style.use(['seaborn-whitegrid'])\n",
        "\n",
        "plt.figure(figsize=(12,6))\n",
        "for i, a in activation_values.items():\n",
        "  plt.subplot(1, len(activation_values), i+1)\n",
        "  plt.title(str(i+1)+ 'th layer')\n",
        "  plt.hist(a.flatten(), 50, range=(0,1))\n",
        "  plt.subplots_adjust(wspace=0.5, hspace=0.5)\n",
        "\n",
        "plt.show()\n"
      ],
      "execution_count": 21,
      "outputs": [
        {
          "output_type": "display_data",
          "data": {
            "text/plain": [
              "<Figure size 864x432 with 6 Axes>"
            ],
            "image/png": "[encoded data removed]"
          },
          "metadata": {}
        }
      ]
    },
    {
      "cell_type": "code",
      "metadata": {
        "id": "qm6JA1KQL6Y6"
      },
      "source": [
        ""
      ],
      "execution_count": 21,
      "outputs": []
    },
    {
      "cell_type": "markdown",
      "metadata": {
        "id": "sslazMXKL9bP"
      },
      "source": [
        "### 초기값: 정규분포(Nomalization)\n",
        "- 활성화함수 : ReLU"
      ]
    },
    {
      "cell_type": "code",
      "metadata": {
        "id": "2HIPvLSy4oiH"
      },
      "source": [
        "import numpy as np\n",
        "\n",
        "def ReLU(x):\n",
        "  return np.maximum(0, x)\n",
        "\n",
        "x = np.random.randn(1000, 50)\n",
        "nodes = 50\n",
        "hidden_layers = 6\n",
        "activation_values = {}\n",
        "\n",
        "for i in range(hidden_layers):\n",
        "  if i != 0:\n",
        "    x = activation_values[i-1]\n",
        "\n",
        "  w = np.random.randn(nodes,nodes)\n",
        "  a = np.dot(x,w)\n",
        "  z = ReLU(a)\n",
        "\n",
        "  activation_values[i] = z\n"
      ],
      "execution_count": 22,
      "outputs": []
    },
    {
      "cell_type": "code",
      "metadata": {
        "colab": {
          "base_uri": "https://localhost:8080/",
          "height": 386
        },
        "outputId": "a8e8c64d-6ef4-4559-dbf3-7d5d875637a2",
        "id": "vWw1CIWj4oiH"
      },
      "source": [
        "import matplotlib.pyplot as plt\n",
        "plt.style.use(['seaborn-whitegrid'])\n",
        "\n",
        "plt.figure(figsize=(12,6))\n",
        "for i, a in activation_values.items():\n",
        "  plt.subplot(1, len(activation_values), i+1)\n",
        "  plt.title(str(i+1)+ 'th layer')\n",
        "  plt.hist(a.flatten(), 50, range=(0,1))\n",
        "  plt.subplots_adjust(wspace=0.5, hspace=0.5)\n",
        "\n",
        "plt.show()\n"
      ],
      "execution_count": 23,
      "outputs": [
        {
          "output_type": "display_data",
          "data": {
            "text/plain": [
              "<Figure size 864x432 with 6 Axes>"
            ],
            "image/png": "[encoded data removed]"
          },
          "metadata": {}
        }
      ]
    },
    {
      "cell_type": "code",
      "metadata": {
        "id": "ZYq5Mu4SL-oj"
      },
      "source": [
        ""
      ],
      "execution_count": 23,
      "outputs": []
    },
    {
      "cell_type": "markdown",
      "metadata": {
        "id": "mR9Jz3_fMCNl"
      },
      "source": [
        "#### 표준편차: 0.01 일 때"
      ]
    },
    {
      "cell_type": "code",
      "metadata": {
        "id": "soDZeZt94123"
      },
      "source": [
        "import numpy as np\n",
        "\n",
        "def ReLU(x):\n",
        "  return np.maximum(0, x)\n",
        "\n",
        "x = np.random.randn(1000, 50)\n",
        "nodes = 50\n",
        "hidden_layers = 6\n",
        "activation_values = {}\n",
        "\n",
        "for i in range(hidden_layers):\n",
        "  if i != 0:\n",
        "    x = activation_values[i-1]\n",
        "\n",
        "  w = np.random.randn(nodes,nodes) * 0.01\n",
        "  a = np.dot(x,w)\n",
        "  z = ReLU(a)\n",
        "\n",
        "  activation_values[i] = z\n"
      ],
      "execution_count": 24,
      "outputs": []
    },
    {
      "cell_type": "code",
      "metadata": {
        "colab": {
          "base_uri": "https://localhost:8080/",
          "height": 386
        },
        "outputId": "ff8b13c1-e9f6-4fba-d0f9-1354aca9f77f",
        "id": "WnPH-H8e4123"
      },
      "source": [
        "import matplotlib.pyplot as plt\n",
        "plt.style.use(['seaborn-whitegrid'])\n",
        "\n",
        "plt.figure(figsize=(12,6))\n",
        "for i, a in activation_values.items():\n",
        "  plt.subplot(1, len(activation_values), i+1)\n",
        "  plt.title(str(i+1)+ 'th layer')\n",
        "  plt.hist(a.flatten(), 50, range=(0,1))\n",
        "  plt.subplots_adjust(wspace=0.5, hspace=0.5)\n",
        "\n",
        "plt.show()\n"
      ],
      "execution_count": 25,
      "outputs": [
        {
          "output_type": "display_data",
          "data": {
            "text/plain": [
              "<Figure size 864x432 with 6 Axes>"
            ],
            "image/png": "[encoded data removed]"
          },
          "metadata": {}
        }
      ]
    },
    {
      "cell_type": "code",
      "metadata": {
        "id": "q8uqyiKdMDeN"
      },
      "source": [
        ""
      ],
      "execution_count": 25,
      "outputs": []
    },
    {
      "cell_type": "markdown",
      "metadata": {
        "id": "dBbPUMmIMHJa"
      },
      "source": [
        "### 초기값 : Xavier (Glorot)"
      ]
    },
    {
      "cell_type": "code",
      "metadata": {
        "id": "I8smgDn849ha"
      },
      "source": [
        "import numpy as np\n",
        "\n",
        "def ReLU(x):\n",
        "  return np.maximum(0, x)\n",
        "\n",
        "x = np.random.randn(1000, 50)\n",
        "nodes = 50\n",
        "hidden_layers = 6\n",
        "activation_values = {}\n",
        "\n",
        "for i in range(hidden_layers):\n",
        "  if i != 0:\n",
        "    x = activation_values[i-1]\n",
        "\n",
        "  w = np.random.randn(nodes,nodes) / np.sqrt(nodes)\n",
        "  a = np.dot(x,w)\n",
        "  z = ReLU(a)\n",
        "\n",
        "  activation_values[i] = z\n"
      ],
      "execution_count": 26,
      "outputs": []
    },
    {
      "cell_type": "code",
      "metadata": {
        "colab": {
          "base_uri": "https://localhost:8080/",
          "height": 386
        },
        "outputId": "b9d4d341-61d6-4eda-eb8a-12c54f6044d3",
        "id": "4tQrQq-X49ha"
      },
      "source": [
        "import matplotlib.pyplot as plt\n",
        "plt.style.use(['seaborn-whitegrid'])\n",
        "\n",
        "plt.figure(figsize=(12,6))\n",
        "for i, a in activation_values.items():\n",
        "  plt.subplot(1, len(activation_values), i+1)\n",
        "  plt.title(str(i+1)+ 'th layer')\n",
        "  plt.hist(a.flatten(), 50, range=(0,1))\n",
        "  plt.subplots_adjust(wspace=0.5, hspace=0.5)\n",
        "\n",
        "plt.show()\n"
      ],
      "execution_count": 27,
      "outputs": [
        {
          "output_type": "display_data",
          "data": {
            "text/plain": [
              "<Figure size 864x432 with 6 Axes>"
            ],
            "image/png": "[encoded data removed]"
          },
          "metadata": {}
        }
      ]
    },
    {
      "cell_type": "code",
      "metadata": {
        "id": "ciwcOOEdMISK"
      },
      "source": [
        ""
      ],
      "execution_count": 27,
      "outputs": []
    },
    {
      "cell_type": "markdown",
      "metadata": {
        "id": "1DohDKwbMKvi"
      },
      "source": [
        "### 초기값 : He\n",
        "- 표준편차가 $\\sqrt{\\frac{2}{n}}$인 분포\n",
        "\n",
        "- 활성화값 분포가 균일하게 분포되어 있음\n",
        "\n",
        "- 활성화함수가 ReLU와 같은 **비선형**함수 일 때 더 적합하다고 알려진 분포"
      ]
    },
    {
      "cell_type": "code",
      "metadata": {
        "id": "AzB9uHi85biy"
      },
      "source": [
        "import numpy as np\n",
        "\n",
        "def ReLU(x):\n",
        "  return np.maximum(0, x)\n",
        "\n",
        "x = np.random.randn(1000, 50)\n",
        "nodes = 50\n",
        "hidden_layers = 6\n",
        "activation_values = {}\n",
        "\n",
        "for i in range(hidden_layers):\n",
        "  if i != 0:\n",
        "    x = activation_values[i-1]\n",
        "\n",
        "  w = np.random.randn(nodes,nodes) / np.sqrt(2 / nodes)\n",
        "  a = np.dot(x,w)\n",
        "  z = ReLU(a)\n",
        "\n",
        "  activation_values[i] = z\n"
      ],
      "execution_count": 28,
      "outputs": []
    },
    {
      "cell_type": "code",
      "metadata": {
        "colab": {
          "base_uri": "https://localhost:8080/",
          "height": 386
        },
        "outputId": "954b9bc0-5028-4e02-be40-83921418bc78",
        "id": "1momLTVB5biz"
      },
      "source": [
        "import matplotlib.pyplot as plt\n",
        "plt.style.use(['seaborn-whitegrid'])\n",
        "\n",
        "plt.figure(figsize=(12,6))\n",
        "for i, a in activation_values.items():\n",
        "  plt.subplot(1, len(activation_values), i+1)\n",
        "  plt.title(str(i+1)+ 'th layer')\n",
        "  plt.hist(a.flatten(), 50, range=(0,1))\n",
        "  plt.subplots_adjust(wspace=0.5, hspace=0.5)\n",
        "\n",
        "plt.show()\n"
      ],
      "execution_count": 29,
      "outputs": [
        {
          "output_type": "display_data",
          "data": {
            "text/plain": [
              "<Figure size 864x432 with 6 Axes>"
            ],
            "image/png": "[encoded data removed]"
          },
          "metadata": {}
        }
      ]
    },
    {
      "cell_type": "code",
      "metadata": {
        "id": "MvZrFwFWMMQD"
      },
      "source": [
        "class BatchNormalization:\n",
        "\n",
        "  def __init__(self, gamma, beta, momentum=0.9, running_mean=None, running_var=None):\n",
        "    self.gamma = gamma\n",
        "    self.beta = beta\n",
        "    self.momentum = momentum\n",
        "    self.input_shape = None\n",
        "\n",
        "    self.running_mean = running_mean\n",
        "    self.running_var = running_var\n",
        "\n",
        "    self.batch_size = None\n",
        "    self.xc = None\n",
        "    self.std = None\n",
        "    self.dgamma = None\n",
        "    self.dbeta = None\n",
        "\n",
        "  def forward(self, input_data, is_train=True):\n",
        "    self.input_shape = input_data.shape\n",
        "    if input_data.ndim != 2:\n",
        "      N, C, H, W = input_data.shape\n",
        "      input_data = input_data.reshape(N, -1)\n",
        "\n",
        "    out = self.__forward(input_data, is_train)\n",
        "\n",
        "    return out.reshape(*self.input_shape)\n",
        "\n",
        "  def __forward(self, input_data, is_train=True):\n",
        "    if self.running_mean is None:\n",
        "      N, D = input_data.shape\n",
        "      self.running_mean = np.zeros(D)\n",
        "      self.running_var = np.zeros(D)\n",
        "\n",
        "    if is_train:\n",
        "      mu = input_data.mean(axis=0)\n",
        "      xc = input_data - mu\n",
        "      var = np.mean(xc**2, axis=0)\n",
        "      std = np.sqrt(var + 10e-7)\n",
        "      xn = xc / std\n",
        "\n",
        "      self.batch_size = input_data.shape[0]\n",
        "      self.xc = xc\n",
        "      self.xn = xn\n",
        "      self.std = std\n",
        "      self.running_mean = self.momentum * self.running_mean + (1 - self.momentum) * mu\n",
        "      self.running_var = self.momentum * self.running_var + (1 - self.momentum) * var\n",
        "    else:\n",
        "      xc = input_data - self.running_mean\n",
        "      xn = xc / ((np.sqrt(self.running_var + 10e-7)))    \n",
        "\n",
        "    out = self.gamma * xn + self.beta\n",
        "    return out\n",
        "\n",
        "  def backward(self, dout):\n",
        "    if dout.ndim != 2:\n",
        "      N, C, H, W = dout.shape\n",
        "      dout = dout.reshape(N, -1)\n",
        "\n",
        "    dx = self.__backward(dout)\n",
        "\n",
        "    dx = dx.reshape(*self.input_shape)\n",
        "    return dx\n",
        "\n",
        "  def __backward(self, dout):\n",
        "    dbeta = dout.sum(axis=0)\n",
        "    dgamma = np.sum(self.xn * dout, axis=0)\n",
        "    dxn = self.gamma * dout\n",
        "    dxc = dxn / self.std\n",
        "    dstd = -np.sum((dxn * self.xc) / (self.std * self.std), axis=0)\n",
        "    dvar = 0.5 * dstd / self.std\n",
        "    dxc += (2.0 / self.batch_size) * self.xc * dvar\n",
        "    dmu = np.sum(dxc, axis=0)\n",
        "    dx = dxc - dmu / self.batch_size\n",
        "\n",
        "    self.dgamma = dgamma\n",
        "    self.dbeta = dbeta\n",
        "\n",
        "    return dx\n"
      ],
      "execution_count": 30,
      "outputs": []
    },
    {
      "cell_type": "markdown",
      "metadata": {
        "id": "L-46LuSaMU10"
      },
      "source": [
        "## 배치 정규화 (Batch Normalization)\n",
        "\n",
        "- 가중치의 활성화값이 적당히 퍼지게끔 '강제'로 적용시키는 것\n",
        "\n",
        "- 미니배치 단위로 데이터의 평균이 0, 표준편차가 1로 정규화\n",
        "\n",
        "- 학습을 빨리 진행할 수 있음\n",
        "\n",
        "- 초기값에 크게 의존하지 않아도 됨\n",
        "\n",
        "- 과적합을 방지\n",
        "\n",
        "- 보통 Fully-Connected와 활성화함수(비선형) 사이에 놓임\n",
        "\n",
        "![](https://www.jeremyjordan.me/content/images/2018/01/Screen-Shot-2018-01-23-at-2.27.20-PM.png)\n",
        "\n",
        "<sub>출처: https://www.jeremyjordan.me/batch-normalization/</sub>"
      ]
    },
    {
      "cell_type": "code",
      "metadata": {
        "id": "ZVHz_WG0MVJ8"
      },
      "source": [
        ""
      ],
      "execution_count": 30,
      "outputs": []
    },
    {
      "cell_type": "markdown",
      "metadata": {
        "id": "_MJmIwMcMXpW"
      },
      "source": [
        "## 과대적합(Overfitting) / 과소적합(Underfitting)\n",
        "\n",
        "![](https://miro.medium.com/max/2400/1*UCd6KrmBxpzUpWt3bnoKEA.png)\n",
        "\n",
        "<sub>출처: https://towardsdatascience.com/underfitting-and-overfitting-in-machine-learning-and-how-to-deal-with-it-6fe4a8a49dbf</sub>"
      ]
    },
    {
      "cell_type": "markdown",
      "metadata": {
        "id": "xUQRmlPEMa1w"
      },
      "source": [
        "### 과대적합 (Overfitting, 오버피팅)\n",
        "- 모델이 학습 데이터에 한에서만 좋은 성능을 보이고 새로운 데이터에는 그렇지 못한 경우\n",
        "\n",
        "- 학습 데이터가 매우 적을 경우\n",
        "\n",
        "- 모델이 지나치게 복잡한 경우 \n",
        "\n",
        "- 학습 횟수가 매우 많을 경우\n",
        "\n",
        "<br>\n",
        "\n",
        "- 해결방안\n",
        "  - 학습 데이터를 다양하게 수집\n",
        "\n",
        "  - 모델을 단순화\n",
        "    - 파라미터가 적은 모델을 선택하거나, 학습 데이터의 특성 수를 줄이거나\n",
        "  \n",
        "  - 정규화(Regularization)을 통한 규칙을 단순화\n",
        "\n",
        "  - 적정한 하이퍼 파라미터 찾기"
      ]
    },
    {
      "cell_type": "markdown",
      "metadata": {
        "id": "9Rx8kyOpMcUS"
      },
      "source": [
        "### 과소적합 (Underfitting, 언더피팅)\n",
        "- 학습 데이터를 충분히 학습하지 않아 성능이 매우 안 좋을 경우\n",
        "\n",
        "- 모델이 지나치게 단순한 경우\n",
        "\n",
        "<br>\n",
        "\n",
        "- 해결방안\n",
        "  - 충분한 학습 데이터 수집\n",
        "\n",
        "  - 보다 더 복잡한 모델\n",
        "\n",
        "  - 에폭수(epochs)를 늘려 충분히 학습 "
      ]
    },
    {
      "cell_type": "markdown",
      "metadata": {
        "id": "iC79Q19VMeov"
      },
      "source": [
        "## 규제화(Regularization) - 가중치 감소\n",
        "\n",
        "- 과대적합(Overfitting, 오버피팅)을 방지하는 방법 중 하나\n",
        "\n",
        "- 과대적합은 가중치의 매개변수 값이 커서 발생하는 경우가 많음  \n",
        "  이를 방지하기 위해 **큰 가중치 값에 큰 규제를 가하는 것**\n",
        "\n",
        "- 규제란 가중치의 절댓값을 가능한 작게 만드는 것으로,  \n",
        "  가중치의 모든 원소를 0에 가깝게 하여 모든 특성이 출력에 주는 영향을 최소한으로 만드는 것(기울기를 작게 만드는 것)을 의미한다.  \n",
        "  즉, 규제란 과대적합이 되지 않도록 모델을 강제로 제한한다는 의미\n",
        "\n",
        "- 적절한 규제값을 찾는 것이 중요.\n"
      ]
    },
    {
      "cell_type": "markdown",
      "metadata": {
        "id": "7J-os5aqMg__"
      },
      "source": [
        "### L2 규제\n",
        "- 가중치의 제곱합\n",
        "\n",
        "- 손실 함수일정 값을 더함으로써 과적합을 방지\n",
        "\n",
        "- $\\lambda$ 값이 크면 가중치 감소가 커지고,  \n",
        "  작으면 가하는 규제가 적어진다.\n",
        "\n",
        "- 더 Robust한 모델을 생성하므로 L1보다 많이 사용됨\n",
        "\n",
        "<br>\n",
        "\n",
        "## $\\qquad Cost = \\frac{1}{n} \\sum{^n}_{i=1} {L(y_i, \\hat{y_i}) + \\frac{\\lambda}{2}w^2}$\n",
        "\n",
        "### $\\quad L(y_i, \\hat{y_i})$ : 기존 Cost Function"
      ]
    },
    {
      "cell_type": "code",
      "metadata": {
        "id": "oB3tTCdEMe0u"
      },
      "source": [
        "#def loss(X, true_y):\n",
        "  #weight_decay += 0.5 * weight_decay_lambda * np.sum(W**2)\n",
        "\n",
        "  #return weight_decay"
      ],
      "execution_count": 31,
      "outputs": []
    },
    {
      "cell_type": "markdown",
      "metadata": {
        "id": "-_Nekb9aMiCc"
      },
      "source": [
        "### L1 규제\n",
        "- 가중치의 절대값합\n",
        "\n",
        "- L2 규제와 달리 어떤 가중치는 0이 되는데 이는 모델이 가벼워짐을 의미\n",
        "\n",
        "<br>\n",
        "\n",
        "## $\\qquad Cost = \\frac{1}{n} \\sum{^n}_{i=1} {L(y_i, \\hat{y_i}) + \\frac{\\lambda}{2}|w|}$\n",
        "\n",
        "### $\\quad L(y_i, \\hat{y_i})$ : 기존 Cost Function"
      ]
    },
    {
      "cell_type": "code",
      "metadata": {
        "id": "Hh4icLpxMjNx"
      },
      "source": [
        "#def loss(X, true_y):\n",
        "#  weight_decay += 0.5 * weight_decay_lambda * np.sum(np.abs(W))\n",
        "\n",
        "#  return weight_decay"
      ],
      "execution_count": 32,
      "outputs": []
    },
    {
      "cell_type": "markdown",
      "metadata": {
        "id": "Lpg8N7AXNJpe"
      },
      "source": [
        "## 드롭아웃(Dropout)\n",
        "\n",
        "- 과적합을 방지하기 위한 방법\n",
        "\n",
        "- 학습할 때 사용하는 노드의 수를 전체 노드 중에서 **일부만을 사용**\n",
        "\n",
        "- 보통 ratio_value는 0.5 또는 0.7\n",
        "\n",
        "![](https://miro.medium.com/max/981/1*EinUlWw1n8vbcLyT0zx4gw.png)\n",
        "\n",
        "<sub>출처: https://medium.com/konvergen/understanding-dropout-ddb60c9f98aa</sub>"
      ]
    },
    {
      "cell_type": "code",
      "metadata": {
        "id": "JAydC3fSNJ7V"
      },
      "source": [
        "class Dropout:\n",
        "\n",
        "  def __init__(self, dropout_ratio=0.5):\n",
        "    self.dropout_ratio = dropout_ratio\n",
        "    self.mask = None\n",
        "\n",
        "  def forward(self, input_data, is_train=True):\n",
        "    if is_train:\n",
        "      self.mask = np.random.rand(*input_data.shape) > self.dropout_ratio\n",
        "      return input_data * self.mask\n",
        "    else:\n",
        "      return input_data * (1.0 - self.dropout_ratio)\n",
        "\n",
        "  def backward(self, dout):\n",
        "    return dout * self.mask\n",
        "    "
      ],
      "execution_count": 33,
      "outputs": []
    },
    {
      "cell_type": "markdown",
      "metadata": {
        "id": "RzotyuFjNL79"
      },
      "source": [
        "## 하이퍼 파라미터(Hyper Parameter)"
      ]
    },
    {
      "cell_type": "markdown",
      "metadata": {
        "id": "MovMTKvLNOJR"
      },
      "source": [
        "### 학습률(Learning Rate)\n",
        "- 적절한 학습률에 따라 학습정도가 달라짐  \n",
        "  **적당한** 학습률을 찾는 것이 핵심"
      ]
    },
    {
      "cell_type": "markdown",
      "metadata": {
        "id": "uU4VwrkLNR_8"
      },
      "source": [
        "### 학습 횟수(Epochs)\n",
        "- 학습 횟수를 너무 작게, 또는 너무 크게 지정하면  \n",
        "  과소적합 또는 과적합을 띈다.\n",
        "\n",
        "- 몇 번씩 진행하면서 최적의 epochs값을 찾아야한다."
      ]
    },
    {
      "cell_type": "markdown",
      "metadata": {
        "id": "D0CoUCbKNToW"
      },
      "source": [
        "### 미니배치 크기(Mini Batch Size)\n",
        "- 미니 배치 학습\n",
        "  - 한번 학습할 때 메모리의 부족현상을 막기 위해  \n",
        "    전체 데이터의 일부를 여러번 학습하는 방식\n",
        "\n",
        "- 한번 학습할 때마다 얼마만큼의 미니배치 크기를 사용할지 결정\n",
        "\n",
        "- 배치 크기가 작을수록 학습 시간이 많이 소요되고,  \n",
        "  클수록 학습 시간이 학습 시간은 적게 소요된다.  \n",
        "  "
      ]
    },
    {
      "cell_type": "markdown",
      "metadata": {
        "id": "9jdpc8gdNVt3"
      },
      "source": [
        "### 검증데이터(Validation Data)\n",
        "- 주어진 데이터를  \n",
        "  학습 + 검증 + 테스트 데이터로 구분하여 과적합을 방지\n",
        "\n",
        "- 일반적으로 전체 데이터의 2~30%를 테스트 데이터,  \n",
        "  나머지에서 20%정도를 검증용 데이터,  \n",
        "  남은 부분을 학습용 데이터로 사용\n",
        "\n",
        "![](https://miro.medium.com/max/1400/1*4G__SV580CxFj78o9yUXuQ.png)\n",
        "\n",
        "<sub>출처: https://towardsdatascience.com/train-test-split-and-cross-validation-in-python-80b61beca4b6</sub>"
      ]
    },
    {
      "cell_type": "markdown",
      "metadata": {
        "id": "itBjeGS-vQi-"
      },
      "source": [
        "## MNIST 분류"
      ]
    },
    {
      "cell_type": "markdown",
      "metadata": {
        "id": "sgz8_GjSveBi"
      },
      "source": [
        "### Modules Import"
      ]
    },
    {
      "cell_type": "code",
      "metadata": {
        "id": "5p9ArEUkInYk"
      },
      "source": [
        "import tensorflow as tf\n",
        "import numpy as np\n",
        "import matplotlib.pyplot as plt\n",
        "plt.style.use(['seaborn-whitegrid'])\n",
        "\n",
        "from collections import OrderedDict"
      ],
      "execution_count": 34,
      "outputs": []
    },
    {
      "cell_type": "markdown",
      "metadata": {
        "id": "2dg7-vr1vj1_"
      },
      "source": [
        "### 데이터 로드"
      ]
    },
    {
      "cell_type": "code",
      "metadata": {
        "id": "Vu_5fUTVvfyD"
      },
      "source": [
        "np.random.seed(42)\n",
        "mnist = tf.keras.datasets.mnist\n",
        "\n",
        "(X_train, y_train), (X_test, y_test) = mnist.load_data()\n",
        "\n",
        "num_classes = 10"
      ],
      "execution_count": 35,
      "outputs": []
    },
    {
      "cell_type": "markdown",
      "metadata": {
        "id": "BCILIUjovmhj"
      },
      "source": [
        "### 데이터 전처리"
      ]
    },
    {
      "cell_type": "code",
      "metadata": {
        "id": "vZX6J11WvgsD"
      },
      "source": [
        "X_train = X_train[:10000]\n",
        "X_test = X_train[:3000]\n",
        "\n",
        "y_train = y_train[:10000]\n",
        "y_test = y_train[:3000]\n",
        "\n"
      ],
      "execution_count": 36,
      "outputs": []
    },
    {
      "cell_type": "code",
      "metadata": {
        "id": "dwwZGRjbtXDy"
      },
      "source": [
        "X_train, X_test = X_train.reshape(-1, 28*28).astype(np.float32), X_test.reshape(-1, 28*28).astype(np.float32)\n",
        "\n",
        "X_train = X_train / .255\n",
        "X_test = X_test / .255\n",
        "\n",
        "y_train = np.eye(num_classes)[y_train]"
      ],
      "execution_count": 37,
      "outputs": []
    },
    {
      "cell_type": "code",
      "metadata": {
        "id": "KqckLwhYvgwI",
        "colab": {
          "base_uri": "https://localhost:8080/"
        },
        "outputId": "925cb1fe-e962-4f9d-c112-78544a466ce7"
      },
      "source": [
        "print(X_train.shape)\n",
        "print(y_train.shape)\n",
        "\n",
        "print(X_test.shape)\n",
        "print(y_test.shape)"
      ],
      "execution_count": 38,
      "outputs": [
        {
          "output_type": "stream",
          "name": "stdout",
          "text": [
            "(10000, 784)\n",
            "(10000, 10)\n",
            "(3000, 784)\n",
            "(3000,)\n"
          ]
        }
      ]
    },
    {
      "cell_type": "markdown",
      "metadata": {
        "id": "lXAz-S0Nv0gn"
      },
      "source": [
        "### Hyper Parameters"
      ]
    },
    {
      "cell_type": "code",
      "metadata": {
        "id": "maUj-a-5vg5i"
      },
      "source": [
        "epochs = 1000\n",
        "lr = 1e-2\n",
        "batch_size = 256\n",
        "train_size = X_train.shape[0]\n",
        "iter_per_epoch = max(train_size/batch_size, 1)"
      ],
      "execution_count": 39,
      "outputs": []
    },
    {
      "cell_type": "markdown",
      "metadata": {
        "id": "eVKs6vDIwCZN"
      },
      "source": [
        "### Util Functions"
      ]
    },
    {
      "cell_type": "code",
      "metadata": {
        "id": "NVYcEN1pvhWK"
      },
      "source": [
        "def softmax(x):\n",
        "  if x.ndim == 2:\n",
        "    x = x.T\n",
        "    x = x - np.max(x, axis=0)\n",
        "    y = np.exp(x) / np.sum(np.exp(x), axis=0)\n",
        "    return y.T\n",
        "\n",
        "  x = x - np.max(x)\n",
        "  return np.exp(x) / np.sum(np.exp(x))\n",
        "\n",
        "def mean_squared_error(pred_y, true_y):\n",
        "  return 0.5 * (np.sum((true_y - pred_y)**2))\n",
        "\n",
        "def cross_entropy_error(pred_y, true_y):\n",
        "  if true_y.ndim == 1:\n",
        "    true_y = true_y.reshape(1, true_y.size)\n",
        "    pred_y = pred_y.reshape(1, pred_y.size)\n",
        "\n",
        "  if true_y.size == pred_y.size:\n",
        "    true_y = true_y.argmax(axis=1)\n",
        "\n",
        "  batch_size = pred_y.shape[0]\n",
        "\n",
        "  delta = 1e-7\n",
        "  return -np.sum(np.log(pred_y[np.arange(batch_size), true_y] + delta)) / batch_size\n"
      ],
      "execution_count": 40,
      "outputs": []
    },
    {
      "cell_type": "markdown",
      "metadata": {
        "id": "mgkGwvZewGE2"
      },
      "source": [
        "### Util Classes"
      ]
    },
    {
      "cell_type": "markdown",
      "metadata": {
        "id": "efZ5-0QIwF7y"
      },
      "source": [
        "#### ReLU"
      ]
    },
    {
      "cell_type": "code",
      "metadata": {
        "id": "oUN_eIfjvhc4"
      },
      "source": [
        "class ReLU():\n",
        "\n",
        "  def __init__(self):\n",
        "    self.mask = None\n",
        "\n",
        "  def forward(self, input_data):\n",
        "    self.mask = (input_data < 0)\n",
        "    out = input_data.copy()\n",
        "    out[self.mask] = 0\n",
        "    return out\n",
        "\n",
        "  def backward(self, dout):\n",
        "    dout[self.mask] = 0\n",
        "    dx = dout\n",
        "    return dx"
      ],
      "execution_count": 41,
      "outputs": []
    },
    {
      "cell_type": "markdown",
      "metadata": {
        "id": "jq_Umt-qwOLx"
      },
      "source": [
        "#### Sigmoid"
      ]
    },
    {
      "cell_type": "code",
      "metadata": {
        "id": "4LdQiHGHvha7"
      },
      "source": [
        "class Sigmoid:\n",
        "\n",
        "  def __init__(self):\n",
        "    self.out = None\n",
        "\n",
        "  def forward(self, input_data):\n",
        "    out = 1 / (1+np.exp(-input_data))\n",
        "    self.out = out\n",
        "    return out\n",
        "\n",
        "  def backward(self, dout):\n",
        "    dx = dout * (1.0 - self.out) * self.dout\n",
        "    return dx  "
      ],
      "execution_count": 42,
      "outputs": []
    },
    {
      "cell_type": "markdown",
      "metadata": {
        "id": "fm_FInuUwQUQ"
      },
      "source": [
        "#### Layer"
      ]
    },
    {
      "cell_type": "code",
      "metadata": {
        "id": "_OgM39CRvhQK"
      },
      "source": [
        "class Layer():\n",
        "  def __init__(self, W, b):\n",
        "    self.W = W\n",
        "    self.b = b\n",
        "\n",
        "    self.input_data = None\n",
        "    self.input_data_shape = None\n",
        "\n",
        "    self.dW = None\n",
        "    self.db = None\n",
        "\n",
        "  def forward(self, input_data):\n",
        "    self.input_data_shape = input_data.shape\n",
        "\n",
        "    input_data = input_data.reshape(input_data.shape[0], -1)\n",
        "    self.input_data = input_data\n",
        "\n",
        "    out = np.dot(self.input_data, self.W) + self.b\n",
        "    return out\n",
        "\n",
        "  def backward(self, dout):\n",
        "    dx = np.dot(dout, self.W.T)\n",
        "    self.dW = np.dot(self.input_data.T, dout)\n",
        "    self.db = np.sum(dout, axis = 0)\n",
        "    dx = dx.reshape(*self.input_data_shape)\n",
        "    return dx"
      ],
      "execution_count": 43,
      "outputs": []
    },
    {
      "cell_type": "markdown",
      "metadata": {
        "id": "PSArAOBAzZ8H"
      },
      "source": [
        "#### Batch Normalization"
      ]
    },
    {
      "cell_type": "code",
      "metadata": {
        "id": "rZwJVo30zbIZ"
      },
      "source": [
        "class BatchNormalization:\n",
        "\n",
        "  def __init__(self, gamma, beta, momentum=0.9, running_mean=None, running_var=None):\n",
        "    self.gamma = gamma\n",
        "    self.beta = beta\n",
        "    self.momentum = momentum\n",
        "    self.input_shape = None\n",
        "\n",
        "    self.running_mean = running_mean\n",
        "    self.running_var = running_var\n",
        "\n",
        "    self.batch_size = None\n",
        "    self.xc = None\n",
        "    self.std = None\n",
        "    self.dgamma = None\n",
        "    self.dbeta = None\n",
        "\n",
        "  def forward(self, input_data, is_train=True):\n",
        "    self.input_shape = input_data.shape\n",
        "    if input_data.ndim != 2:\n",
        "      N, C, H, W = input_data.shape\n",
        "      input_data = input_data.reshape(N, -1)\n",
        "\n",
        "    out = self.__forward(input_data, is_train)\n",
        "\n",
        "    return out.reshape(*self.input_shape)\n",
        "\n",
        "  def __forward(self, input_data, is_train=True):\n",
        "    if self.running_mean is None:\n",
        "      N, D = input_data.shape\n",
        "      self.running_mean = np.zeros(D)\n",
        "      self.running_var = np.zeros(D)\n",
        "\n",
        "    if is_train:\n",
        "      mu = input_data.mean(axis=0)\n",
        "      xc = input_data - mu\n",
        "      var = np.mean(xc**2, axis=0)\n",
        "      std = np.sqrt(var + 10e-7)\n",
        "      xn = xc / std\n",
        "\n",
        "      self.batch_size = input_data.shape[0]\n",
        "      self.xc = xc\n",
        "      self.xn = xn\n",
        "      self.std = std\n",
        "      self.running_mean = self.momentum * self.running_mean + (1 - self.momentum) * mu\n",
        "      self.running_var = self.momentum * self.running_var + (1 - self.momentum) * var\n",
        "    else:\n",
        "      xc = input_data - self.running_mean\n",
        "      xn = xc / ((np.sqrt(self.running_var + 10e-7)))    \n",
        "\n",
        "    out = self.gamma * xn + self.beta\n",
        "    return out\n",
        "\n",
        "  def backward(self, dout):\n",
        "    if dout.ndim != 2:\n",
        "      N, C, H, W = dout.shape\n",
        "      dout = dout.reshape(N, -1)\n",
        "\n",
        "    dx = self.__backward(dout)\n",
        "\n",
        "    dx = dx.reshape(*self.input_shape)\n",
        "    return dx\n",
        "\n",
        "  def __backward(self, dout):\n",
        "    dbeta = dout.sum(axis=0)\n",
        "    dgamma = np.sum(self.xn * dout, axis=0)\n",
        "    dxn = self.gamma * dout\n",
        "    dxc = dxn / self.std\n",
        "    dstd = -np.sum((dxn * self.xc) / (self.std * self.std), axis=0)\n",
        "    dvar = 0.5 * dstd / self.std\n",
        "    dxc += (2.0 / self.batch_size) * self.xc * dvar\n",
        "    dmu = np.sum(dxc, axis=0)\n",
        "    dx = dxc - dmu / self.batch_size\n",
        "\n",
        "    self.dgamma = dgamma\n",
        "    self.dbeta = dbeta\n",
        "\n",
        "    return dx\n"
      ],
      "execution_count": 44,
      "outputs": []
    },
    {
      "cell_type": "markdown",
      "metadata": {
        "id": "7zcprwHBzBPn"
      },
      "source": [
        "#### Dropout\n"
      ]
    },
    {
      "cell_type": "code",
      "metadata": {
        "id": "tiHwGZQgzCtb"
      },
      "source": [
        "class Dropout:\n",
        "\n",
        "  def __init__(self, dropout_ratio=0.5):\n",
        "    self.dropout_ratio = dropout_ratio\n",
        "    self.mask = None\n",
        "\n",
        "  def forward(self, input_data, is_train=True):\n",
        "    if is_train:\n",
        "      self.mask = np.random.rand(*input_data.shape) > self.dropout_ratio\n",
        "      return input_data * self.mask\n",
        "    else:\n",
        "      return input_data * (1.0 - self.dropout_ratio)\n",
        "\n",
        "  def backward(self, dout):\n",
        "    return dout * self.mask\n",
        "  "
      ],
      "execution_count": 45,
      "outputs": []
    },
    {
      "cell_type": "markdown",
      "metadata": {
        "id": "MUO5dDGtwa62"
      },
      "source": [
        "#### Softmax"
      ]
    },
    {
      "cell_type": "code",
      "metadata": {
        "id": "Fe4RY7pVvhN5"
      },
      "source": [
        "class Softmax:\n",
        "\n",
        "  def __init(self):\n",
        "    self.loss = None\n",
        "    self.y = None\n",
        "    self.t = None\n",
        "\n",
        "  def forward(self, input_data, t):\n",
        "    self.t = t\n",
        "    self.y = softmax(input_data)\n",
        "    self.loss = cross_entropy_error(self.y, self.t)\n",
        "\n",
        "    return self.loss\n",
        "\n",
        "  def backward(self, dout=1):\n",
        "    batch_size = self.t.shape[0]\n",
        "\n",
        "    if self.t.size == self.y.size:\n",
        "      dx = (self.y - self.t) / batch_size\n",
        "    else:\n",
        "      dx = self.y.copy()\n",
        "      dx[np.arrange(batch_size), self.t] -= 1\n",
        "      dx = dx / batch_size\n",
        "\n",
        "    return dx"
      ],
      "execution_count": 46,
      "outputs": []
    },
    {
      "cell_type": "markdown",
      "metadata": {
        "id": "BIjbtanh10Mt"
      },
      "source": [
        "## Model"
      ]
    },
    {
      "cell_type": "code",
      "metadata": {
        "id": "h442ImGrvhMm"
      },
      "source": [
        "class MyModel():\n",
        "\n",
        "  def __init__(self, input_size, hidden_size_list, output_size, \n",
        "               activation='relu', decay_lambda = 0, \n",
        "               use_dropout=False, dropout_ratio=0.5, use_batchnorm=False):\n",
        "    self.input_size = input_size\n",
        "    self.output_size = output_size\n",
        "    self.hidden_size_list = hidden_size_list\n",
        "    self.hidden_layer_num = len(hidden_size_list)\n",
        "    self.decay_lambda = decay_lambda\n",
        "    self.use_dropout = use_dropout\n",
        "    self.dropout_ratio = dropout_ratio\n",
        "    self.use_batchnorm = use_batchnorm\n",
        "    self.params = {}\n",
        "\n",
        "    self.__init_weights(activation)\n",
        "\n",
        "    activation_layer = {'sigmoid': Sigmoid, 'relu': ReLU}\n",
        "    \n",
        "    self.layers = OrderedDict()\n",
        "    for idx in range(1, self.hidden_layer_num + 1):\n",
        "      self.layers['Layer' + str(idx)] = Layer(self.params['W'+ str(idx)], self.params['b'+ str(idx)])\n",
        "      \n",
        "      if self.use_batchnorm:\n",
        "        self.params['gamma' + str(idx)] = np.ones(hidden_size_list[idx-1])\n",
        "        self.params['beta' + str(idx)] = np.zeros(hidden_size_list[idx-1])\n",
        "        self.layers['BatchNorm' + str(idx)] = BatchNormalization(self.params['gamma' + str(idx)], self.params['beta' + str(idx)])\n",
        "\n",
        "      \n",
        "      self.layers['Activation_function' + str(idx)] = activation_layer[activation]()\n",
        "\n",
        "      if self.use_dropout:\n",
        "        self.layers['Dropout' + str(idx)] = Dropout(dropout_ratio)\n",
        "\n",
        "    idx = self.hidden_layer_num + 1\n",
        "    self.layers['Layer' + str(idx)] = Layer(self.params['W' + str(idx)], self.params['b' + str(idx)])\n",
        "    self.last_layer = Softmax()\n",
        "\n",
        "  def __init_weights(self, activation):\n",
        "    all_size_list = [self.input_size] + self.hidden_size_list + [self.output_size]\n",
        "\n",
        "    for idx in range(1, len(all_size_list)):\n",
        "      scale = None\n",
        "      if activation.lower() == \"relu\":\n",
        "        scale = np.sqrt(2.0 / all_size_list[idx-1])\n",
        "      elif activation.lower() == \"sigmoid\":\n",
        "        scale = np.sqrt(1.0 / all_size_list[idx-1])\n",
        "\n",
        "      self.params['W' + str(idx)] = scale * np.random.randn(all_size_list[idx-1], all_size_list[idx])\n",
        "      self.params['b' + str(idx)] = np.random.randn(all_size_list[idx])\n",
        "    \n",
        "  def predict(self, x, is_train=False):\n",
        "    for key, layer in self.layers.items():\n",
        "      if \"Dropout\" in key or \"BatchNorm\" in key:\n",
        "        x= layer.forward(x, is_train)\n",
        "      else:\n",
        "        x = layer.forward(x)\n",
        "    return x\n",
        "\n",
        "  def loss(self, x, true_y, is_train=False):\n",
        "    pred_y = self.predict(x, is_train)\n",
        "\n",
        "    weight_decay = 0\n",
        "    for idx in range(1, self.hidden_layer_num + 2):\n",
        "      W = self.params['W' + str(idx)]\n",
        "      weight_decay += 0.5 * self.decay_lambda * np.sum(W**2)\n",
        "\n",
        "    return self.last_layer.forward(pred_y, true_y) + weight_decay\n",
        "\n",
        "  def accuracy(self, x, true_y):\n",
        "    pred_y = self.predict(x, is_train=False)\n",
        "    pred_y = np.argmax(pred_y, axis =1)\n",
        "\n",
        "    if true_y.ndim != 1:\n",
        "      true_y = np.argmax(true_y, axis =1)\n",
        "\n",
        "    accuracy = np.sum(pred_y == true_y) / float(x.shape[0])\n",
        "    return accuracy\n",
        "\n",
        "  def gradient(self, x, t):\n",
        "    self.loss(x, t, is_train=True)\n",
        "\n",
        "    dout = 1\n",
        "    dout = self.last_layer.backward(dout)\n",
        "\n",
        "    layers = list(self.layers.values())\n",
        "    layers.reverse()\n",
        "    for layer in layers:\n",
        "      dout = layer.backward(dout)\n",
        "\n",
        "    grads = {}\n",
        "    for idx in range(1, self.hidden_layer_num + 2):\n",
        "      grads['W' + str(idx)] = self.layers['Layer' + str(idx)].dW + self.decay_lambda * self.params['W' + str(idx)]\n",
        "      grads['b' + str(idx)] = self.layers['Layer' + str(idx)].db\n",
        "\n",
        "      if self.use_batchnorm and idx != self.hidden_layer_num + 1:\n",
        "        grads['gamma' + str(idx)] = self.layers['BatchNorm' + str(idx)].dgamma\n",
        "        grads['beta' + str(idx)] = self.layers['BatchNorm' + str(idx)].dbeta\n",
        "\n",
        "    return grads"
      ],
      "execution_count": 47,
      "outputs": []
    },
    {
      "cell_type": "markdown",
      "metadata": {
        "id": "pHtNGXBqt4Vp"
      },
      "source": [
        "### 모델 생성 및 학습 1\n",
        "- 사용한 기법\n",
        "  - 학습데이터 수 10,000\n",
        "\n",
        "  - Hidden Layers : 4\n",
        "    - [100, 100, 100, 100]\n",
        "  - SGD\n",
        "  - EPOCHS : 1000\n",
        "  - 학습률 : 1e-2 (0.01)\n",
        "  - 배치사이즈 : 256\n",
        "  - 드롭아웃 : 0.2\n",
        "  - 배치 정규화\n",
        "  - 규제화 : 0.1"
      ]
    },
    {
      "cell_type": "code",
      "metadata": {
        "id": "QUxhUnI4vhHt"
      },
      "source": [
        "decay_lambda = 0.1\n",
        "model_1 = MyModel(input_size=784, hidden_size_list=[256, 100, 64, 32], output_size=10, decay_lambda=decay_lambda, use_batchnorm=True)"
      ],
      "execution_count": 48,
      "outputs": []
    },
    {
      "cell_type": "code",
      "metadata": {
        "id": "lDHmqeUl2qPN"
      },
      "source": [
        "optimizer = SGD(learning_rate=0.01)"
      ],
      "execution_count": 49,
      "outputs": []
    },
    {
      "cell_type": "code",
      "metadata": {
        "id": "4h1_KYo12qqd"
      },
      "source": [
        "model1_train_loss_list = []\n",
        "model1_train_acc_list = []\n",
        "model1_test_acc_list = []"
      ],
      "execution_count": 50,
      "outputs": []
    },
    {
      "cell_type": "code",
      "metadata": {
        "id": "WwPofLPxvhFo",
        "colab": {
          "base_uri": "https://localhost:8080/"
        },
        "outputId": "6b46fa95-9d0b-48ed-da04-237b348fc33e"
      },
      "source": [
        "for epoch in range(epochs):\n",
        "  batch_mask = np.random.choice(train_size, batch_size)\n",
        "  x_batch = X_train[batch_mask]\n",
        "  y_batch = y_train[batch_mask]\n",
        "\n",
        "  grads = model_1.gradient(x_batch, y_batch)\n",
        "  optimizer.update(model_1.params, grads)\n",
        "\n",
        "  loss = model_1.loss(x_batch, y_batch)\n",
        "  model1_train_loss_list.append(loss)\n",
        "\n",
        "  train_acc = model_1.accuracy(X_train, y_train)\n",
        "  test_acc = model_1.accuracy(X_test, y_test)\n",
        "  model1_train_acc_list.append(train_acc)\n",
        "  model1_test_acc_list.append(test_acc)\n",
        "\n",
        "  if epoch % 50 == 0:\n",
        "    print(\"[Model 1] Epoch:{} Train Loss: {:.4f} Train Acc: {:.4f} Test ACC : {:.4f}\".format(epoch+1, loss, train_acc, test_acc))"
      ],
      "execution_count": null,
      "outputs": [
        {
          "output_type": "stream",
          "name": "stdout",
          "text": [
            "[Model 1] Epoch:1 Train Loss: 60.6658 Train Acc: 0.0977 Test ACC : 0.0967\n",
            "[Model 1] Epoch:51 Train Loss: 43.3474 Train Acc: 0.4514 Test ACC : 0.4730\n",
            "[Model 1] Epoch:101 Train Loss: 38.9464 Train Acc: 0.6733 Test ACC : 0.6960\n",
            "[Model 1] Epoch:151 Train Loss: 35.1930 Train Acc: 0.7769 Test ACC : 0.7817\n",
            "[Model 1] Epoch:201 Train Loss: 31.9090 Train Acc: 0.8343 Test ACC : 0.8350\n"
          ]
        }
      ]
    },
    {
      "cell_type": "markdown",
      "metadata": {
        "id": "Q1GqiWjN4ry4"
      },
      "source": [
        "#### 시각화"
      ]
    },
    {
      "cell_type": "code",
      "metadata": {
        "id": "9cl9oGWNvhES"
      },
      "source": [
        "x = np.arange(len(model1_train_acc_list))\n",
        "\n",
        "plt.plot(x, model1_train_acc_list, 'bo', label='train', markersize=3)\n",
        "plt.plot(x, model1_test_acc_list, 'rv', label='test', markersize=1)\n",
        "plt.xlabel('Epochs')\n",
        "plt.ylabel('Accuracy')\n",
        "plt.grid()\n",
        "plt.ylim(0, 1.0)\n",
        "plt.legend()\n",
        "plt.show()"
      ],
      "execution_count": null,
      "outputs": []
    },
    {
      "cell_type": "code",
      "metadata": {
        "id": "kDFYdkxkvgmb"
      },
      "source": [
        "x = np.arange(len(model1_train_loss_list))\n",
        "\n",
        "plt.plot(x, model1_train_loss_list, 'g--', label='train', markersize=3)\n",
        "plt.xlabel('Epochs')\n",
        "plt.ylabel('Loss')\n",
        "plt.grid()\n",
        "plt.legend()\n",
        "plt.show()"
      ],
      "execution_count": null,
      "outputs": []
    },
    {
      "cell_type": "markdown",
      "metadata": {
        "id": "TZmqdHTauXSR"
      },
      "source": [
        "### 모델 생성 및 학습 2\n",
        "- 사용한 기법\n",
        "  - 학습데이터 수 10,000\n",
        "\n",
        "  - Hidden Layers = 4\n",
        "    - [100, 100, 100, 100]\n",
        "  - Adam\n",
        "  - EPOCHS : 1000\n",
        "  - 학습률 : 1e-3 (0.001)\n",
        "  - 배치사이즈 : 100\n",
        "  - 드롭아웃 : 0.5\n",
        "  - 배치 정규화\n",
        "  - 규제화 : 0.15"
      ]
    },
    {
      "cell_type": "code",
      "metadata": {
        "id": "7tO9vazOuVKn"
      },
      "source": [
        "np.random.seed(42)\n",
        "mnist = tf.keras.datasets.mnist\n",
        "\n",
        "(X_train, y_train), (X_test, y_test) = mnist.load_data()\n",
        "\n",
        "num_classes = 10\n",
        "\n",
        "X_train = X_train[:10000]\n",
        "X_test = X_train[:3000]\n",
        "\n",
        "y_train = y_train[:10000]\n",
        "y_test = y_train[:3000]\n",
        "\n",
        "X_train, X_test = X_train.reshape(-1, 28*28).astype(np.float32), X_test.reshape(-1, 28*28).astype(np.float32)\n",
        "\n",
        "X_train = X_train / .255\n",
        "X_test = X_test / .255\n",
        "\n",
        "y_train = np.eye(num_classes)[y_train]\n",
        "\n",
        "print(X_train.shape)\n",
        "print(y_train.shape)\n",
        "\n",
        "print(X_test.shape)\n",
        "print(y_test.shape)"
      ],
      "execution_count": null,
      "outputs": []
    },
    {
      "cell_type": "code",
      "metadata": {
        "id": "fcIkhjZmuY5W"
      },
      "source": [
        "epochs = 1000\n",
        "lr = 1e-3\n",
        "batch_size = 100\n",
        "train_size = X_train.shape[0]\n",
        "iter_per_epoch = max(train_size/batch_size, 1)"
      ],
      "execution_count": null,
      "outputs": []
    },
    {
      "cell_type": "code",
      "metadata": {
        "id": "HnYzifxsYEvg"
      },
      "source": [
        "decay_lambda2 = 0.15\n",
        "model_2 = MyModel(input_size=784, hidden_size_list=[100, 100, 100, 100], output_size=10, decay_lambda=decay_lambda2, use_batchnorm=True)"
      ],
      "execution_count": null,
      "outputs": []
    },
    {
      "cell_type": "code",
      "metadata": {
        "id": "mtDN10YSYEvi"
      },
      "source": [
        "optimizer = Adam()"
      ],
      "execution_count": null,
      "outputs": []
    },
    {
      "cell_type": "code",
      "metadata": {
        "id": "HJ-W-m1nY4U-"
      },
      "source": [
        "model2_train_loss_list = []\n",
        "model2_train_acc_list = []\n",
        "model2_test_acc_list = []"
      ],
      "execution_count": null,
      "outputs": []
    },
    {
      "cell_type": "code",
      "metadata": {
        "id": "t9TlkaofY4U_"
      },
      "source": [
        "for epoch in range(epochs):\n",
        "  batch_mask = np.random.choice(train_size, batch_size)\n",
        "  x_batch = X_train[batch_mask]\n",
        "  y_batch = y_train[batch_mask]\n",
        "\n",
        "  grads = model_2.gradient(x_batch, y_batch)\n",
        "  optimizer.update(model_2.params, grads)\n",
        "\n",
        "  loss = model_2.loss(x_batch, y_batch)\n",
        "  model2_train_loss_list.append(loss)\n",
        "\n",
        "  train_acc = model_2.accuracy(X_train, y_train)\n",
        "  test_acc = model_2.accuracy(X_test, y_test)\n",
        "  model2_train_acc_list.append(train_acc)\n",
        "  model2_test_acc_list.append(test_acc)\n",
        "\n",
        "  if epoch % 50 == 0:\n",
        "    print(\"[Model 1] Epoch:{} Train Loss: {:.4f} Train Acc: {:.4f} Test ACC : {:.4f}\".format(epoch+1, loss, train_acc, test_acc))"
      ],
      "execution_count": null,
      "outputs": []
    },
    {
      "cell_type": "markdown",
      "metadata": {
        "id": "3oIQ6MRtuodG"
      },
      "source": [
        "#### 시각화"
      ]
    },
    {
      "cell_type": "code",
      "metadata": {
        "id": "_M5QYQDXbmJX"
      },
      "source": [
        "x = np.arange(len(model2_train_acc_list))\n",
        "\n",
        "plt.plot(x, model2_train_acc_list, 'bo', label='train', markersize=3)\n",
        "plt.plot(x, model2_test_acc_list, 'rv', label='test', markersize=1)\n",
        "plt.xlabel('Epochs')\n",
        "plt.ylabel('Accuracy')\n",
        "plt.grid()\n",
        "plt.ylim(0, 1.0)\n",
        "plt.legend()\n",
        "plt.show()"
      ],
      "execution_count": null,
      "outputs": []
    },
    {
      "cell_type": "code",
      "metadata": {
        "id": "3Hr7HVM_bmJX"
      },
      "source": [
        "x = np.arange(len(model2_train_loss_list))\n",
        "\n",
        "plt.plot(x, model2_train_loss_list, 'g--', label='train', markersize=3)\n",
        "plt.xlabel('Epochs')\n",
        "plt.ylabel('Loss')\n",
        "plt.grid()\n",
        "plt.legend()\n",
        "plt.show()"
      ],
      "execution_count": null,
      "outputs": []
    },
    {
      "cell_type": "markdown",
      "metadata": {
        "id": "5QKrLVC7utVp"
      },
      "source": [
        "### 모델 생성 및 학습 3\n",
        "\n",
        "- 사용한 기법\n",
        "  - 학습데이터 수 20,000\n",
        "\n",
        "  - Hidden Layers = 4\n",
        "    - [500, 256, 100, 64]\n",
        "  - Adam\n",
        "  - EPOCHS : 1000\n",
        "  - 학습률 : 1e-2 (0.01)\n",
        "  - 배치사이즈 : 100\n",
        "  - 드롭아웃 : 0.5\n",
        "\n"
      ]
    },
    {
      "cell_type": "code",
      "metadata": {
        "id": "3Ryv4c_6b46t"
      },
      "source": [
        "np.random.seed(42)\n",
        "mnist = tf.keras.datasets.mnist\n",
        "\n",
        "(X_train, y_train), (X_test, y_test) = mnist.load_data()\n",
        "\n",
        "num_classes = 10\n",
        "\n",
        "X_train = X_train[:20000]\n",
        "X_test = X_train[:3000]\n",
        "\n",
        "y_train = y_train[:20000]\n",
        "y_test = y_train[:3000]\n",
        "\n",
        "X_train, X_test = X_train.reshape(-1, 28*28).astype(np.float32), X_test.reshape(-1, 28*28).astype(np.float32)\n",
        "\n",
        "X_train = X_train / .255\n",
        "X_test = X_test / .255\n",
        "\n",
        "y_train = np.eye(num_classes)[y_train]\n",
        "\n",
        "print(X_train.shape)\n",
        "print(y_train.shape)\n",
        "\n",
        "print(X_test.shape)\n",
        "print(y_test.shape)"
      ],
      "execution_count": null,
      "outputs": []
    },
    {
      "cell_type": "code",
      "metadata": {
        "id": "LGHrJwrdb46u"
      },
      "source": [
        "epochs = 1000\n",
        "lr = 1e-1\n",
        "batch_size = 100\n",
        "train_size = X_train.shape[0]\n",
        "iter_per_epoch = max(train_size/batch_size, 1)"
      ],
      "execution_count": null,
      "outputs": []
    },
    {
      "cell_type": "code",
      "metadata": {
        "id": "Hsu2rNAcb46u"
      },
      "source": [
        "decay_lambda3 = 0\n",
        "model_3 = MyModel(input_size=784, hidden_size_list=[500, 256, 100, 64], output_size=10, use_dropout=True, dropout_ratio=0.5, decay_lambda=decay_lambda2, use_batchnorm=True)"
      ],
      "execution_count": null,
      "outputs": []
    },
    {
      "cell_type": "code",
      "metadata": {
        "id": "J1gyTS3Tb46u"
      },
      "source": [
        "optimizer = Adam(lr=0.01)"
      ],
      "execution_count": null,
      "outputs": []
    },
    {
      "cell_type": "code",
      "metadata": {
        "id": "ROEWHNllb46u"
      },
      "source": [
        "model3_train_loss_list = []\n",
        "model3_train_acc_list = []\n",
        "model3_test_acc_list = []"
      ],
      "execution_count": null,
      "outputs": []
    },
    {
      "cell_type": "code",
      "metadata": {
        "id": "K0MiK-zKuvEU"
      },
      "source": [
        "for epoch in range(epochs):\n",
        "  batch_mask = np.random.choice(train_size, batch_size)\n",
        "  x_batch = X_train[batch_mask]\n",
        "  y_batch = y_train[batch_mask]\n",
        "\n",
        "  grads = model_3.gradient(x_batch, y_batch)\n",
        "  optimizer.update(model_3.params, grads)\n",
        "\n",
        "  loss = model_3.loss(x_batch, y_batch)\n",
        "  model3_train_loss_list.append(loss)\n",
        "\n",
        "  train_acc = model_3.accuracy(X_train, y_train)\n",
        "  test_acc = model_3.accuracy(X_test, y_test)\n",
        "  model3_train_acc_list.append(train_acc)\n",
        "  model3_test_acc_list.append(test_acc)\n",
        "\n",
        "  if epoch % 50 == 0:\n",
        "    print(\"[Model 1] Epoch:{} Train Loss: {:.4f} Train Acc: {:.4f} Test ACC : {:.4f}\".format(epoch+1, loss, train_acc, test_acc))"
      ],
      "execution_count": null,
      "outputs": []
    },
    {
      "cell_type": "markdown",
      "metadata": {
        "id": "QQvzV-h2xfDJ"
      },
      "source": [
        "#### 시각화"
      ]
    },
    {
      "cell_type": "code",
      "metadata": {
        "id": "oPQTdXwbc5jl"
      },
      "source": [
        "x = np.arange(len(model3_train_acc_list))\n",
        "\n",
        "plt.plot(x, model3_train_acc_list, 'bo', label='train', markersize=3)\n",
        "plt.plot(x, model3_test_acc_list, 'rv', label='test', markersize=1)\n",
        "plt.xlabel('Epochs')\n",
        "plt.ylabel('Accuracy')\n",
        "plt.grid()\n",
        "plt.ylim(0, 1.0)\n",
        "plt.legend()\n",
        "plt.show()"
      ],
      "execution_count": null,
      "outputs": []
    },
    {
      "cell_type": "code",
      "metadata": {
        "id": "FyUFEoq5c5jl"
      },
      "source": [
        "x = np.arange(len(model3_train_loss_list))\n",
        "\n",
        "plt.plot(x, model3_train_loss_list, 'g--', label='train', markersize=3)\n",
        "plt.xlabel('Epochs')\n",
        "plt.ylabel('Loss')\n",
        "plt.grid()\n",
        "plt.legend()\n",
        "plt.show()"
      ],
      "execution_count": null,
      "outputs": []
    },
    {
      "cell_type": "code",
      "metadata": {
        "id": "PMcbhRDjxgcb"
      },
      "source": [
        ""
      ],
      "execution_count": null,
      "outputs": []
    },
    {
      "cell_type": "markdown",
      "metadata": {
        "id": "Savtn0OxyHal"
      },
      "source": [
        "### 3가지 모델 비교\n",
        "- 위의 3가지 모델은 전체적으로 학습 데이터 수를 일부로 제한했기 때문에 학습이 잘 안 될 가능성이 높음  \n",
        "  - 따라서 여러 학습 기술들을 적용함\n"
      ]
    },
    {
      "cell_type": "code",
      "metadata": {
        "id": "UbHbrNdZxiDw"
      },
      "source": [
        "x = np.arange(len(model3_train_acc_list))\n",
        "\n",
        "plt.plot(x, model1_train_acc_list, 'r--', label='train', markersize=3)\n",
        "plt.plot(x, model2_train_acc_list, 'r:', label='train', markersize=3)\n",
        "plt.plot(x, model3_train_acc_list, 'go', label='train', markersize=3)\n",
        "plt.xlabel('Epochs')\n",
        "plt.ylabel('Accuracy')\n",
        "plt.grid()\n",
        "plt.ylim(0, 1.0)\n",
        "plt.legend()\n",
        "plt.show()"
      ],
      "execution_count": null,
      "outputs": []
    }
  ]
}