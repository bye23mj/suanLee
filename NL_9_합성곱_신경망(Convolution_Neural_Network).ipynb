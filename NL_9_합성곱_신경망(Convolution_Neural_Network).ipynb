{
  "nbformat": 4,
  "nbformat_minor": 0,
  "metadata": {
    "colab": {
      "name": "NL_9 합성곱 신경망(Convolution Neural Network).ipynb",
      "provenance": [],
      "collapsed_sections": [],
      "toc_visible": true,
      "include_colab_link": true
    },
    "kernelspec": {
      "name": "python3",
      "display_name": "Python 3"
    },
    "accelerator": "TPU",
    "gpuClass": "standard"
  },
  "cells": [
    {
      "cell_type": "markdown",
      "metadata": {
        "id": "view-in-github",
        "colab_type": "text"
      },
      "source": [
        "<a href=\"https://colab.research.google.com/github/bye23mj/suanLee/blob/main/NL_9_%ED%95%A9%EC%84%B1%EA%B3%B1_%EC%8B%A0%EA%B2%BD%EB%A7%9D(Convolution_Neural_Network).ipynb\" target=\"_parent\"><img src=\"https://colab.research.google.com/assets/colab-badge.svg\" alt=\"Open In Colab\"/></a>"
      ]
    },
    {
      "cell_type": "markdown",
      "metadata": {
        "id": "86l7I5SQ_u9J"
      },
      "source": [
        "# 합성곱 신경망(Convolution Neural Network)\n",
        "\n",
        "- 이미지 인식, 음성 인식 등에 자주 사용되는데,  \n",
        "  특히, 이미지 인식 분야에서 거의 모든 딥러닝 기술에 사용\n",
        "\n",
        "<br>\n",
        "\n",
        "## 컨볼루션 신경망의 등장\n",
        "- 1989년 얀 르쿤(Yann LeCun) 교수의 논문에서 발표\n",
        "\n",
        "  - 필기체 인식에서 의미가 있었지만 범용화하는데에는 무리\n",
        "\n",
        "- 1998년, \"Gradient-Based Learning Applied to Document Recognition\"이라는 논문에서 LeNet-5 제시\n",
        "\n",
        "- 합성곱 층(convolution layer), 풀링 층(pooling layer) 소개\n",
        "  <br>\n",
        "\n",
        "  <img src=\"https://miro.medium.com/max/4308/1*1TI1aGBZ4dybR6__DI9dzA.png\">\n",
        "  \n",
        "  <center>[LeNet-5 구조]</center>\n",
        "\n",
        "  <sub>출처: https://medium.com/@pechyonkin/key-deep-learning-architectures-lenet-5-6fc3c59e6f4</sub>"
      ]
    },
    {
      "cell_type": "markdown",
      "metadata": {
        "id": "Y46evOQHNukF"
      },
      "source": [
        "## 컨볼루션 신경망 구조 예시\n",
        "\n",
        "<img src=\"https://www.oreilly.com/library/view/neural-network-projects/9781789138900/assets/c38754ca-f2ea-425a-b7a6-1fe0f2f5074e.png\" width=\"600\">\n",
        "\n",
        "<sub>출처: https://www.oreilly.com/library/view/neural-network-projects/9781789138900/8e87ad66-6de3-4275-81a4-62b54436bf16.xhtml</sub>\n",
        "\n"
      ]
    },
    {
      "cell_type": "markdown",
      "metadata": {
        "id": "Wtb8UWyTNxp_"
      },
      "source": [
        "## 합성곱 연산\n",
        "- 필터(filter) 연산\n",
        "  - 입력 데이터에 필터를 통한 어떠한 연산을 진행\n",
        "  \n",
        "  - **필터에 대응하는 원소끼리 곱하고, 그 합을 구함**\n",
        "\n",
        "  - 연산이 완료된 결과 데이터를 **특징 맵(feature map)**이라 부름\n",
        "\n",
        "- 필터(filter)\n",
        "  - 커널(kernel)이라고도 칭함\n",
        "  \n",
        "  - 흔히 사진 어플에서 사용하는 '이미지 필터'와 비슷한 개념\n",
        "\n",
        "  - 필터의 사이즈는 \"거의 항상 홀수\"\n",
        "    - 짝수이면 패딩이 비대칭이 되어버림\n",
        "  \n",
        "    - 왼쪽, 오른쪽을 다르게 주어야함\n",
        "  \n",
        "    - 중심위치가 존재, 즉 구별된 하나의 픽셀(중심 픽셀)이 존재\n",
        "\n",
        "  - 필터의 학습 파라미터 개수는 입력 데이터의 크기와 상관없이 일정  \n",
        "    따라서, 과적합을 방지할 수 있음\n",
        "\n",
        "  <br>\n",
        "  <img src=\"http://deeplearning.net/software/theano_versions/dev/_images/numerical_no_padding_no_strides.gif\">\n",
        "\n",
        "  <sub>출처: http://deeplearning.net/software/theano_versions/dev/tutorial/conv_arithmetic.html</sub>\n",
        "\n",
        "\n",
        "- 연산 시각화\n",
        "  <img src=\"https://www.researchgate.net/profile/Ihab_S_Mohamed/publication/324165524/figure/fig3/AS:611103423860736@1522709818959/An-example-of-convolution-operation-in-2D-2.png\" width=\"500\">\n",
        "\n",
        "  <sub>출처: https://www.researchgate.net/figure/An-example-of-convolution-operation-in-2D-2_fig3_324165524</sub>\n",
        "\n",
        "\n",
        "- 일반적으로, 합성곱 연산을 한 후의 데이터 사이즈는  \n",
        "  ### $\\quad (n-f+1) \\times (n-f+1)$\n",
        "    $n$: 입력 데이터의 크기  \n",
        "    $f$: 필터(커널)의 크기\n",
        "\n",
        "\n",
        "  <img src=\"https://miro.medium.com/max/1400/1*Fw-ehcNBR9byHtho-Rxbtw.gif\" width=\"400\">\n",
        "\n",
        "  <sub>출처: https://towardsdatascience.com/intuitively-understanding-convolutions-for-deep-learning-1f6f42faee1</sub>\n",
        "  \n",
        "  위 예에서 입력 데이터 크기($n$)는 5, 필터의 크기($k$)는 3이므로  \n",
        "  출력 데이터의 크기는 $(5 - 3 + 1) = 3$\n"
      ]
    },
    {
      "cell_type": "markdown",
      "metadata": {
        "id": "5-ekDsJwN2Y-"
      },
      "source": [
        "## 패딩(padding)과 스트라이드(stride)\n",
        "- 필터(커널) 사이즈과 함께 **입력 이미지와 출력 이미지의 사이즈를 결정**하기 위해 사용\n",
        "\n",
        "- 사용자가 결정할 수 있음\n"
      ]
    },
    {
      "cell_type": "markdown",
      "metadata": {
        "id": "alV1bgcjN4Kc"
      },
      "source": [
        "\n",
        "### 패딩\n",
        "- 입력 데이터의 주변을 특정 값으로 채우는 기법\n",
        "  - 주로 0으로 많이 채움\n",
        "\n",
        "  <img src=\"http://deeplearning.net/software/theano_versions/dev/_images/arbitrary_padding_no_strides.gif\" width=\"300\">\n",
        "\n",
        "- 출력 데이터의 크기\n",
        "  ### $\\quad (n+2p-f+1) \\times (n+2p-f+1)$\n",
        "\n",
        "  위 그림에서, 입력 데이터의 크기($n$)는 5, 필터의 크기($f$)는 4, 패딩값($p$)은 2이므로    \n",
        "  출력 데이터의 크기는 ($5 + 2\\times 2 - 4 + 1) = 6$\n",
        "\n",
        "### 'valid' 와 'same'\n",
        "- 'valid'\n",
        "  - 패딩을 주지 않음\n",
        "  - padding=0 (0으로 채워진 테두리가 아니라 패딩을 주지 않는다는 의미)\n",
        "\n",
        "- 'same'\n",
        "  - 패딩을 주어 입력 이미지의 크기와 연산 후의 이미지 크기를 같게함\n",
        "\n",
        "  - 만약, 필터(커널)의 크기가 $k$ 이면,  \n",
        "    패딩의 크기는 $p = \\frac{k-1}{2}$ (단, <u>stride=1)</u>"
      ]
    },
    {
      "cell_type": "markdown",
      "metadata": {
        "id": "zlZ7zG6ON85J"
      },
      "source": [
        "\n",
        "\n",
        "### 스트라이드\n",
        "- 필터를 적용하는 간격을 의미\n",
        "\n",
        "- 아래는 그림의 간격 2\n",
        "\n",
        "  <img src=\"http://deeplearning.net/software/theano_versions/dev/_images/no_padding_strides.gif\">\n"
      ]
    },
    {
      "cell_type": "markdown",
      "metadata": {
        "id": "LPcsND-0OCNm"
      },
      "source": [
        "## 출력 데이터의 크기\n",
        "\n",
        "## $\\qquad OH = \\frac{H + 2P - FH}{S} + 1 $ \n",
        "## $\\qquad OW = \\frac{W + 2P - FW}{S} + 1 $ \n",
        "\n",
        "- 입력 크기 : $(H, W)$\n",
        "\n",
        "- 필터 크기 : $(FH, FW)$\n",
        "\n",
        "- 출력 크기 : $(OH, OW)$\n",
        "\n",
        "- 패딩, 스트라이드 : $P, S$\n",
        "\n",
        "- (주의) \n",
        "  - 위 식의 값에서 $\\frac{H + 2P - FH}{S}$ 또는 $\\frac{W + 2P - FW}{S}$가 정수로 나누어 떨어지는 값이어야 함\n",
        "  - 만약, 정수로 나누어 떨어지지 않으면  \n",
        "    패딩, 스트라이드값을 조정하여 정수로 나누어 떨어지게 해야함\n"
      ]
    },
    {
      "cell_type": "markdown",
      "metadata": {
        "id": "1x4UoMbF8jJ9"
      },
      "source": [
        "## 풀링(Pooling)\n",
        "\n",
        "- 필터(커널) 사이즈 내에서 특정 값을 추출하는 과정"
      ]
    },
    {
      "cell_type": "markdown",
      "metadata": {
        "id": "lDiaO3XF8oC_"
      },
      "source": [
        "### 맥스 풀링(Max Pooling)\n",
        "- 가장 많이 사용되는 방법\n",
        "\n",
        "- 출력 데이터의 사이즈 계산은 컨볼루션 연산과 동일\n",
        "## $\\quad OH = \\frac{H + 2P - FH}{S} + 1 $ \n",
        "## $\\quad OW = \\frac{W + 2P - FW}{S} + 1 $ \n",
        "\n",
        "- 일반적으로 stride=2, kernel_size=2 를 통해  \n",
        "  **특징맵의 크기를 <u>절반으로 줄이는 역할</u>**\n",
        "\n",
        "- 모델이 물체의 주요한 특징을 학습할 수 있도록 해주며,  \n",
        "  컨볼루션 신경망이 이동 불변성 특성을 가지게 해줌\n",
        "  - 예를 들어, 아래의 그림에서 초록색 사각형 안에 있는  \n",
        "    2와 8의 위치를 바꾼다해도 맥스 풀링 연산은 8을 추출\n",
        "\n",
        "- 모델의 파라미터 개수를 줄여주고, 연산 속도를 빠르게 해줌\n",
        "\n",
        "  <br>\n",
        "\n",
        "  <img src=\"https://cs231n.github.io/assets/cnn/maxpool.jpeg\" width=\"600\">\n",
        "\n",
        "  <sub>출처: https://cs231n.github.io/convolutional-networks/</sub>"
      ]
    },
    {
      "cell_type": "markdown",
      "metadata": {
        "id": "CrvtX4LrkhPI"
      },
      "source": [
        "## Conv1D \n",
        "\n",
        "- 텍스트 분류나 시계열 예측 같은 간단한 문제, 오디오 생성, 기계 번역 등의 문제에서 좋은 성능\n",
        "\n",
        "- 타임스텝의 순서에 민감하지 X\n",
        "\n",
        "\n",
        "- 2D Convolution\n",
        "  - 지역적 특징을 인식\n",
        "\n",
        "  <img src=\"https://missinglink.ai/wp-content/uploads/2019/03/2D-convolutional-example_2x-700x584.png\" width=\"500\">\n",
        "\n",
        "- 1D Convolution\n",
        "  - 문맥을 인식\n",
        "\n",
        "  <img src=\"https://missinglink.ai/wp-content/uploads/2019/03/1D-convolutional-example_2x.png\" width=\"500\">\n",
        "\n",
        "  <sub>출처: https://missinglink.ai/guides/keras/keras-conv1d-working-1d-convolutional-neural-networks-keras/</sub>"
      ]
    },
    {
      "cell_type": "markdown",
      "metadata": {
        "id": "aJNAI-aYnDuc"
      },
      "source": [
        "### Conv1D Layer\n",
        "- 입력: `(batch_size, timesteps, channels)`\n",
        "\n",
        "- 출력: `(batch_size, timesteps, filters)`\n",
        "\n",
        "- 필터의 사이즈가 커져도 모델이 급격히 증가하지 않기 때문에 다양한 크기를 사용할 수 있음\n",
        "- 데이터의 품질이 좋으면 굳이 크기를 달리하여 여러 개를 사용하지 않아도 될 수도 있음"
      ]
    },
    {
      "cell_type": "markdown",
      "metadata": {
        "id": "ADJZHPLJqTZa"
      },
      "source": [
        "### MaxPooling1D Layer\n",
        "- 다운 샘플링 효과\n",
        "\n",
        "- 단지 1차원형태로 바뀐 것 뿐"
      ]
    },
    {
      "cell_type": "markdown",
      "metadata": {
        "id": "wirZzwYJrNll"
      },
      "source": [
        "### GlovalMaxPooling Layer\n",
        "- 배치차원을 제외하고 2차원 형태를 1차원 형태로 바꾸어주는 레이어\n",
        "\n",
        "- Flatten layer로 대신 사용가능"
      ]
    },
    {
      "cell_type": "markdown",
      "metadata": {
        "id": "YQY_1IL9nQs2"
      },
      "source": [
        "## IMDB 데이터"
      ]
    },
    {
      "cell_type": "markdown",
      "metadata": {
        "id": "pl4Eu32qnUES"
      },
      "source": [
        "### 데이터 로드 및 전처리"
      ]
    },
    {
      "cell_type": "code",
      "metadata": {
        "id": "WcG-Hiltklbe"
      },
      "source": [
        "import numpy as np\n",
        "import matplotlib.pyplot as plt\n",
        "\n",
        "from tensorflow.keras.datasets import imdb\n",
        "from tensorflow.keras.preprocessing.sequence import pad_sequences\n",
        "from tensorflow.keras.models import Sequential\n",
        "from tensorflow.keras.optimizers import RMSprop\n",
        "from tensorflow.keras.layers import Dense, Embedding, Conv1D, MaxPooling1D, GlobalMaxPooling1D"
      ],
      "execution_count": null,
      "outputs": []
    },
    {
      "cell_type": "code",
      "metadata": {
        "id": "GGYaNT8hnec5",
        "colab": {
          "base_uri": "https://localhost:8080/"
        },
        "outputId": "47eabac4-d96f-4fb6-83d2-6509df3776d5"
      },
      "source": [
        "num_words = 10000\n",
        "max_len = 500\n",
        "batch_size = 32\n",
        "\n",
        "(input_train, y_train), (input_test, y_test) = imdb.load_data(num_words=num_words)\n",
        "\n",
        "print(len(input_train))\n",
        "print(len(input_test))"
      ],
      "execution_count": null,
      "outputs": [
        {
          "output_type": "stream",
          "name": "stdout",
          "text": [
            "Downloading data from https://storage.googleapis.com/tensorflow/tf-keras-datasets/imdb.npz\n",
            "17465344/17464789 [==============================] - 0s 0us/step\n",
            "17473536/17464789 [==============================] - 0s 0us/step\n",
            "25000\n",
            "25000\n"
          ]
        }
      ]
    },
    {
      "cell_type": "code",
      "metadata": {
        "id": "nQBzp3ownpEK",
        "colab": {
          "base_uri": "https://localhost:8080/"
        },
        "outputId": "fbbce87e-32f5-4f63-e868-36646b6f585a"
      },
      "source": [
        "pad_x_train = pad_sequences(input_train, maxlen=max_len)\n",
        "pad_x_test = pad_sequences(input_test, maxlen=max_len)\n",
        "\n",
        "print(pad_x_train.shape)\n",
        "print(pad_x_test.shape)"
      ],
      "execution_count": null,
      "outputs": [
        {
          "output_type": "stream",
          "name": "stdout",
          "text": [
            "(25000, 500)\n",
            "(25000, 500)\n"
          ]
        }
      ]
    },
    {
      "cell_type": "markdown",
      "metadata": {
        "id": "j3E0hYiHoBO0"
      },
      "source": [
        "### 모델 구성"
      ]
    },
    {
      "cell_type": "code",
      "metadata": {
        "id": "PvKPr7N6nuHr"
      },
      "source": [
        "def build_model():\n",
        "  model = Sequential()\n",
        "\n",
        "  model.add(Embedding(input_dim=num_words, output_dim=32, input_length=max_len))\n",
        "  model.add(Conv1D(32, 7, activation='relu'))\n",
        "  model.add(MaxPooling1D(7))\n",
        "  model.add(Conv1D(32, 5 , activation='relu'))\n",
        "  model.add(MaxPooling1D(5))\n",
        "  model.add(GlobalMaxPooling1D())\n",
        "  model.add(Dense(1, activation='sigmoid'))\n",
        "\n",
        "  model.compile(optimizer=RMSprop(learning_rate=1e-4),\n",
        "                loss='binary_crossentropy',\n",
        "                metrics=['accuracy'])\n",
        "  \n",
        "  return model"
      ],
      "execution_count": null,
      "outputs": []
    },
    {
      "cell_type": "code",
      "metadata": {
        "id": "wwWZ47NHolB6",
        "colab": {
          "base_uri": "https://localhost:8080/"
        },
        "outputId": "ed57167d-6c0a-420e-9dad-74b0ad8fe46d"
      },
      "source": [
        "model = build_model()\n",
        "model.summary()"
      ],
      "execution_count": null,
      "outputs": [
        {
          "output_type": "stream",
          "name": "stdout",
          "text": [
            "Model: \"sequential\"\n",
            "_________________________________________________________________\n",
            " Layer (type)                Output Shape              Param #   \n",
            "=================================================================\n",
            " embedding (Embedding)       (None, 500, 32)           320000    \n",
            "                                                                 \n",
            " conv1d (Conv1D)             (None, 494, 32)           7200      \n",
            "                                                                 \n",
            " max_pooling1d (MaxPooling1D  (None, 70, 32)           0         \n",
            " )                                                               \n",
            "                                                                 \n",
            " conv1d_1 (Conv1D)           (None, 66, 32)            5152      \n",
            "                                                                 \n",
            " max_pooling1d_1 (MaxPooling  (None, 13, 32)           0         \n",
            " 1D)                                                             \n",
            "                                                                 \n",
            " global_max_pooling1d (Globa  (None, 32)               0         \n",
            " lMaxPooling1D)                                                  \n",
            "                                                                 \n",
            " dense (Dense)               (None, 1)                 33        \n",
            "                                                                 \n",
            "=================================================================\n",
            "Total params: 332,385\n",
            "Trainable params: 332,385\n",
            "Non-trainable params: 0\n",
            "_________________________________________________________________\n"
          ]
        }
      ]
    },
    {
      "cell_type": "markdown",
      "metadata": {
        "id": "0qUbPGdmpHpQ"
      },
      "source": [
        "### 모델 학습"
      ]
    },
    {
      "cell_type": "code",
      "metadata": {
        "id": "xcCgjLHvonWB"
      },
      "source": [
        "history = model.fit(pad_x_train, y_train,\n",
        "                    batch_size=128, epochs=30,\n",
        "                    validation_split=0.2)"
      ],
      "execution_count": null,
      "outputs": []
    },
    {
      "cell_type": "markdown",
      "metadata": {
        "id": "n2yEkawIph4C"
      },
      "source": [
        "### 시각화"
      ]
    },
    {
      "cell_type": "code",
      "metadata": {
        "id": "BfKC0UOkpPmP",
        "colab": {
          "base_uri": "https://localhost:8080/",
          "height": 513
        },
        "outputId": "c6f8ca22-7da4-4018-b5f0-4762a0b679ca"
      },
      "source": [
        "loss = history.history['loss']\n",
        "val_loss = history.history['val_loss']\n",
        "acc = history.history['accuracy']\n",
        "val_acc = history.history['val_accuracy']\n",
        "\n",
        "epochs = range(1, len(loss) + 1)\n",
        "\n",
        "plt.plot(loss, 'b-', label='Train Loss')\n",
        "plt.plot(val_loss, 'r:', label='Validation Loss')\n",
        "plt.legend()\n",
        "plt.grid()\n",
        "\n",
        "plt.figure()\n",
        "plt.plot(acc, 'b-', label='Train Loss')\n",
        "plt.plot(val_acc, 'r:', label='Validation Loss')\n",
        "plt.legend()\n",
        "plt.grid()\n",
        "\n",
        "plt.show()"
      ],
      "execution_count": null,
      "outputs": [
        {
          "output_type": "display_data",
          "data": {
            "text/plain": [
              "<Figure size 432x288 with 1 Axes>"
            ],
            "image/png": "[encoded data removed]"
          },
          "metadata": {
            "needs_background": "light"
          }
        },
        {
          "output_type": "display_data",
          "data": {
            "text/plain": [
              "<Figure size 432x288 with 1 Axes>"
            ],
            "image/png": "[encoded data removed]"
          },
          "metadata": {
            "needs_background": "light"
          }
        }
      ]
    },
    {
      "cell_type": "code",
      "source": [
        "model.evaluate(pad_x_test, y_test)"
      ],
      "metadata": {
        "id": "nD2DNDeg_CdE",
        "outputId": "bfdfa32e-ebf9-440a-8f8a-506f3759f359",
        "colab": {
          "base_uri": "https://localhost:8080/"
        }
      },
      "execution_count": null,
      "outputs": [
        {
          "output_type": "stream",
          "name": "stdout",
          "text": [
            "782/782 [==============================] - 9s 11ms/step - loss: 0.3883 - accuracy: 0.8484\n"
          ]
        },
        {
          "output_type": "execute_result",
          "data": {
            "text/plain": [
              "[0.38829946517944336, 0.8483999967575073]"
            ]
          },
          "metadata": {},
          "execution_count": 13
        }
      ]
    },
    {
      "cell_type": "markdown",
      "metadata": {
        "id": "Oz_Iu_VHV7Z5"
      },
      "source": [
        "## Reuters 데이터"
      ]
    },
    {
      "cell_type": "markdown",
      "metadata": {
        "id": "4_Q6p0nhV7Z6"
      },
      "source": [
        "### 데이터 로드 및 전처리"
      ]
    },
    {
      "cell_type": "code",
      "metadata": {
        "id": "waEmkCowV7Z7"
      },
      "source": [
        "from tensorflow.keras.datasets import reuters"
      ],
      "execution_count": null,
      "outputs": []
    },
    {
      "cell_type": "code",
      "metadata": {
        "id": "dggcmeJ4V7Z_",
        "colab": {
          "base_uri": "https://localhost:8080/"
        },
        "outputId": "b891a9e9-4c50-43ad-8834-2de0d87df857"
      },
      "source": [
        "num_words = 10000\n",
        "max_len = 500\n",
        "batch_size = 32\n",
        "\n",
        "(input_train, y_train), (input_test, y_test) = reuters.load_data(num_words=num_words)\n",
        "\n",
        "print(len(input_train))\n",
        "print(len(input_test))"
      ],
      "execution_count": null,
      "outputs": [
        {
          "output_type": "stream",
          "name": "stdout",
          "text": [
            "Downloading data from https://storage.googleapis.com/tensorflow/tf-keras-datasets/reuters.npz\n",
            "2113536/2110848 [==============================] - 0s 0us/step\n",
            "2121728/2110848 [==============================] - 0s 0us/step\n",
            "8982\n",
            "2246\n"
          ]
        }
      ]
    },
    {
      "cell_type": "code",
      "metadata": {
        "id": "EBOJIgbgV7aB",
        "colab": {
          "base_uri": "https://localhost:8080/"
        },
        "outputId": "0b1214fb-ccb4-4cf3-a538-b516a3a18f44"
      },
      "source": [
        "pad_x_train = pad_sequences(input_train, maxlen=max_len)\n",
        "pad_x_test = pad_sequences(input_test, maxlen=max_len)\n",
        "\n",
        "print(pad_x_train.shape)\n",
        "print(pad_x_test.shape)"
      ],
      "execution_count": null,
      "outputs": [
        {
          "output_type": "stream",
          "name": "stdout",
          "text": [
            "(8982, 500)\n",
            "(2246, 500)\n"
          ]
        }
      ]
    },
    {
      "cell_type": "markdown",
      "metadata": {
        "id": "xehgNec0V7aE"
      },
      "source": [
        "### 모델 구성"
      ]
    },
    {
      "cell_type": "code",
      "metadata": {
        "id": "RTV2qF8_V7aE"
      },
      "source": [
        "def build_model():\n",
        "  model = Sequential()\n",
        "\n",
        "  model.add(Embedding(input_dim=num_words, output_dim=32, input_length=max_len))\n",
        "  model.add(Conv1D(32, 7, activation='relu'))\n",
        "  model.add(MaxPooling1D(7))\n",
        "  model.add(Conv1D(32, 5 , activation='relu'))\n",
        "  model.add(MaxPooling1D(5))\n",
        "  model.add(GlobalMaxPooling1D())\n",
        "  model.add(Dense(46, activation='softmax'))\n",
        "\n",
        "  model.compile(optimizer='adam',\n",
        "                loss='sparse_categorical_crossentropy',\n",
        "                metrics=['accuracy'])\n",
        "  \n",
        "  return model"
      ],
      "execution_count": null,
      "outputs": []
    },
    {
      "cell_type": "code",
      "metadata": {
        "id": "48n2W3xpV7aG",
        "colab": {
          "base_uri": "https://localhost:8080/"
        },
        "outputId": "57a37208-989a-4dcf-cd35-e6b92501c90d"
      },
      "source": [
        "model = build_model()\n",
        "model.summary()"
      ],
      "execution_count": null,
      "outputs": [
        {
          "output_type": "stream",
          "name": "stdout",
          "text": [
            "Model: \"sequential_1\"\n",
            "_________________________________________________________________\n",
            " Layer (type)                Output Shape              Param #   \n",
            "=================================================================\n",
            " embedding_1 (Embedding)     (None, 500, 32)           320000    \n",
            "                                                                 \n",
            " conv1d_2 (Conv1D)           (None, 494, 32)           7200      \n",
            "                                                                 \n",
            " max_pooling1d_2 (MaxPooling  (None, 70, 32)           0         \n",
            " 1D)                                                             \n",
            "                                                                 \n",
            " conv1d_3 (Conv1D)           (None, 66, 32)            5152      \n",
            "                                                                 \n",
            " max_pooling1d_3 (MaxPooling  (None, 13, 32)           0         \n",
            " 1D)                                                             \n",
            "                                                                 \n",
            " global_max_pooling1d_1 (Glo  (None, 32)               0         \n",
            " balMaxPooling1D)                                                \n",
            "                                                                 \n",
            " dense_1 (Dense)             (None, 46)                1518      \n",
            "                                                                 \n",
            "=================================================================\n",
            "Total params: 333,870\n",
            "Trainable params: 333,870\n",
            "Non-trainable params: 0\n",
            "_________________________________________________________________\n"
          ]
        }
      ]
    },
    {
      "cell_type": "markdown",
      "metadata": {
        "id": "WeRmu5WMV7aI"
      },
      "source": [
        "### 모델 학습"
      ]
    },
    {
      "cell_type": "code",
      "metadata": {
        "id": "BGVdYyIrV7aJ",
        "colab": {
          "base_uri": "https://localhost:8080/"
        },
        "outputId": "dc07809c-ea8e-4ac4-ff51-d90c1afecad6"
      },
      "source": [
        "history = model.fit(pad_x_train, y_train,\n",
        "                    batch_size=128, epochs=30,\n",
        "                    validation_split=0.2)"
      ],
      "execution_count": null,
      "outputs": [
        {
          "output_type": "stream",
          "name": "stdout",
          "text": [
            "Epoch 1/30\n",
            "57/57 [==============================] - 9s 151ms/step - loss: 3.0130 - accuracy: 0.3530 - val_loss: 2.2475 - val_accuracy: 0.4925\n",
            "Epoch 2/30\n",
            "57/57 [==============================] - 8s 147ms/step - loss: 1.9946 - accuracy: 0.5068 - val_loss: 1.8131 - val_accuracy: 0.5225\n",
            "Epoch 3/30\n",
            "57/57 [==============================] - 9s 155ms/step - loss: 1.7146 - accuracy: 0.5442 - val_loss: 1.6584 - val_accuracy: 0.5615\n",
            "Epoch 4/30\n",
            "57/57 [==============================] - 10s 177ms/step - loss: 1.5584 - accuracy: 0.6007 - val_loss: 1.5772 - val_accuracy: 0.5927\n",
            "Epoch 5/30\n",
            "57/57 [==============================] - 8s 148ms/step - loss: 1.4314 - accuracy: 0.6408 - val_loss: 1.5095 - val_accuracy: 0.6177\n",
            "Epoch 6/30\n",
            "57/57 [==============================] - 8s 149ms/step - loss: 1.2983 - accuracy: 0.6804 - val_loss: 1.4529 - val_accuracy: 0.6400\n",
            "Epoch 7/30\n",
            "57/57 [==============================] - 8s 149ms/step - loss: 1.1602 - accuracy: 0.7095 - val_loss: 1.4123 - val_accuracy: 0.6689\n",
            "Epoch 8/30\n",
            "57/57 [==============================] - 8s 149ms/step - loss: 1.0231 - accuracy: 0.7466 - val_loss: 1.4058 - val_accuracy: 0.6756\n",
            "Epoch 9/30\n",
            "57/57 [==============================] - 8s 148ms/step - loss: 0.8889 - accuracy: 0.7775 - val_loss: 1.3963 - val_accuracy: 0.6873\n",
            "Epoch 10/30\n",
            "57/57 [==============================] - 8s 149ms/step - loss: 0.7633 - accuracy: 0.8117 - val_loss: 1.4110 - val_accuracy: 0.6978\n",
            "Epoch 11/30\n",
            "57/57 [==============================] - 8s 148ms/step - loss: 0.6558 - accuracy: 0.8394 - val_loss: 1.4569 - val_accuracy: 0.6995\n",
            "Epoch 12/30\n",
            "57/57 [==============================] - 8s 149ms/step - loss: 0.5632 - accuracy: 0.8619 - val_loss: 1.4986 - val_accuracy: 0.6967\n",
            "Epoch 13/30\n",
            "57/57 [==============================] - 8s 148ms/step - loss: 0.4845 - accuracy: 0.8803 - val_loss: 1.5571 - val_accuracy: 0.6973\n",
            "Epoch 14/30\n",
            "57/57 [==============================] - 8s 149ms/step - loss: 0.4246 - accuracy: 0.8970 - val_loss: 1.5876 - val_accuracy: 0.7067\n",
            "Epoch 15/30\n",
            "57/57 [==============================] - 9s 151ms/step - loss: 0.3687 - accuracy: 0.9105 - val_loss: 1.6725 - val_accuracy: 0.7006\n",
            "Epoch 16/30\n",
            "57/57 [==============================] - 9s 153ms/step - loss: 0.3264 - accuracy: 0.9221 - val_loss: 1.7211 - val_accuracy: 0.6956\n",
            "Epoch 17/30\n",
            "57/57 [==============================] - 9s 149ms/step - loss: 0.2846 - accuracy: 0.9351 - val_loss: 1.7560 - val_accuracy: 0.7040\n",
            "Epoch 18/30\n",
            "57/57 [==============================] - 8s 149ms/step - loss: 0.2552 - accuracy: 0.9404 - val_loss: 1.8040 - val_accuracy: 0.7056\n",
            "Epoch 19/30\n",
            "57/57 [==============================] - 8s 149ms/step - loss: 0.2366 - accuracy: 0.9441 - val_loss: 1.8264 - val_accuracy: 0.7067\n",
            "Epoch 20/30\n",
            "57/57 [==============================] - 9s 150ms/step - loss: 0.2088 - accuracy: 0.9485 - val_loss: 1.8860 - val_accuracy: 0.6984\n",
            "Epoch 21/30\n",
            "57/57 [==============================] - 9s 150ms/step - loss: 0.1942 - accuracy: 0.9513 - val_loss: 1.9158 - val_accuracy: 0.7023\n",
            "Epoch 22/30\n",
            "57/57 [==============================] - 8s 149ms/step - loss: 0.1820 - accuracy: 0.9530 - val_loss: 1.9040 - val_accuracy: 0.7017\n",
            "Epoch 23/30\n",
            "57/57 [==============================] - 8s 148ms/step - loss: 0.1709 - accuracy: 0.9574 - val_loss: 1.9755 - val_accuracy: 0.7028\n",
            "Epoch 24/30\n",
            "57/57 [==============================] - 8s 147ms/step - loss: 0.1533 - accuracy: 0.9581 - val_loss: 1.9818 - val_accuracy: 0.6989\n",
            "Epoch 25/30\n",
            "57/57 [==============================] - 8s 148ms/step - loss: 0.1514 - accuracy: 0.9599 - val_loss: 2.0165 - val_accuracy: 0.6884\n",
            "Epoch 26/30\n",
            "57/57 [==============================] - 8s 148ms/step - loss: 0.1498 - accuracy: 0.9588 - val_loss: 2.0118 - val_accuracy: 0.7073\n",
            "Epoch 27/30\n",
            "57/57 [==============================] - 8s 147ms/step - loss: 0.1331 - accuracy: 0.9628 - val_loss: 2.0338 - val_accuracy: 0.6945\n",
            "Epoch 28/30\n",
            "57/57 [==============================] - 8s 147ms/step - loss: 0.1280 - accuracy: 0.9628 - val_loss: 2.0516 - val_accuracy: 0.6950\n",
            "Epoch 29/30\n",
            "57/57 [==============================] - 8s 147ms/step - loss: 0.1219 - accuracy: 0.9634 - val_loss: 2.0733 - val_accuracy: 0.7040\n",
            "Epoch 30/30\n",
            "57/57 [==============================] - 8s 147ms/step - loss: 0.1216 - accuracy: 0.9616 - val_loss: 2.0579 - val_accuracy: 0.7028\n"
          ]
        }
      ]
    },
    {
      "cell_type": "markdown",
      "metadata": {
        "id": "ao8NNj2SV7aL"
      },
      "source": [
        "### 시각화"
      ]
    },
    {
      "cell_type": "code",
      "metadata": {
        "id": "D_CisVtyV7aL",
        "colab": {
          "base_uri": "https://localhost:8080/",
          "height": 513
        },
        "outputId": "d947bda5-6677-454b-d407-370adb919c33"
      },
      "source": [
        "loss = history.history['loss']\n",
        "val_loss = history.history['val_loss']\n",
        "acc = history.history['accuracy']\n",
        "val_acc = history.history['val_accuracy']\n",
        "\n",
        "epochs = range(1, len(loss) + 1)\n",
        "\n",
        "plt.plot(loss, 'b-', label='Train Loss')\n",
        "plt.plot(val_loss, 'r:', label='Validation Loss')\n",
        "plt.legend()\n",
        "plt.grid()\n",
        "\n",
        "plt.figure()\n",
        "plt.plot(acc, 'b-', label='Train Loss')\n",
        "plt.plot(val_acc, 'r:', label='Validation Loss')\n",
        "plt.legend()\n",
        "plt.grid()\n",
        "\n",
        "plt.show()"
      ],
      "execution_count": null,
      "outputs": [
        {
          "output_type": "display_data",
          "data": {
            "text/plain": [
              "<Figure size 432x288 with 1 Axes>"
            ],
            "image/png": "[encoded data removed]"
          },
          "metadata": {
            "needs_background": "light"
          }
        },
        {
          "output_type": "display_data",
          "data": {
            "text/plain": [
              "<Figure size 432x288 with 1 Axes>"
            ],
            "image/png": "[encoded data removed]"
          },
          "metadata": {
            "needs_background": "light"
          }
        }
      ]
    },
    {
      "cell_type": "code",
      "metadata": {
        "id": "NCsNsoiUV7aP",
        "colab": {
          "base_uri": "https://localhost:8080/"
        },
        "outputId": "d76089f7-22a3-4789-c46a-78118134b6b4"
      },
      "source": [
        "model.evaluate(pad_x_test, y_test)"
      ],
      "execution_count": null,
      "outputs": [
        {
          "output_type": "stream",
          "name": "stdout",
          "text": [
            "71/71 [==============================] - 1s 11ms/step - loss: 1.9735 - accuracy: 0.7133\n"
          ]
        },
        {
          "output_type": "execute_result",
          "data": {
            "text/plain": [
              "[1.9734734296798706, 0.7132680416107178]"
            ]
          },
          "metadata": {},
          "execution_count": 24
        }
      ]
    }
  ]
}