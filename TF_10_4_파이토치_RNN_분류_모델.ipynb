{
  "nbformat": 4,
  "nbformat_minor": 0,
  "metadata": {
    "colab": {
      "name": "TF_10.4 파이토치 RNN 분류 모델.ipynb",
      "provenance": [],
      "collapsed_sections": [],
      "include_colab_link": true
    },
    "kernelspec": {
      "name": "python3",
      "display_name": "Python 3"
    },
    "accelerator": "TPU",
    "gpuClass": "standard"
  },
  "cells": [
    {
      "cell_type": "markdown",
      "metadata": {
        "id": "view-in-github",
        "colab_type": "text"
      },
      "source": [
        "<a href=\"https://colab.research.google.com/github/bye23mj/suanLee/blob/main/TF_10_4_%ED%8C%8C%EC%9D%B4%ED%86%A0%EC%B9%98_RNN_%EB%B6%84%EB%A5%98_%EB%AA%A8%EB%8D%B8.ipynb\" target=\"_parent\"><img src=\"https://colab.research.google.com/assets/colab-badge.svg\" alt=\"Open In Colab\"/></a>"
      ]
    },
    {
      "cell_type": "markdown",
      "metadata": {
        "id": "w7dUbyNVXcEf"
      },
      "source": [
        "# 파이토치 RNN 분류 모델\n",
        "- 코드 출처: https://tutorials.pytorch.kr/intermediate/char_rnn_classification_tutorial.html"
      ]
    },
    {
      "cell_type": "code",
      "metadata": {
        "id": "dB-d43kLYEAi",
        "colab": {
          "base_uri": "https://localhost:8080/"
        },
        "outputId": "81deaa3b-e336-46ed-e3a9-3e93b7cd44e8"
      },
      "source": [
        "!wget https://download.pytorch.org/tutorial/data.zip\n",
        "!unzip data.zip"
      ],
      "execution_count": null,
      "outputs": [
        {
          "output_type": "stream",
          "name": "stdout",
          "text": [
            "--2022-07-12 23:35:58--  https://download.pytorch.org/tutorial/data.zip\n",
            "Resolving download.pytorch.org (download.pytorch.org)... 18.160.200.77, 18.160.200.71, 18.160.200.126, ...\n",
            "Connecting to download.pytorch.org (download.pytorch.org)|18.160.200.77|:443... connected.\n",
            "HTTP request sent, awaiting response... 200 OK\n",
            "Length: 2882130 (2.7M) [application/zip]\n",
            "Saving to: ‘data.zip.1’\n",
            "\n",
            "\rdata.zip.1            0%[                    ]       0  --.-KB/s               \rdata.zip.1          100%[===================>]   2.75M  --.-KB/s    in 0.07s   \n",
            "\n",
            "2022-07-12 23:35:58 (41.1 MB/s) - ‘data.zip.1’ saved [2882130/2882130]\n",
            "\n",
            "Archive:  data.zip\n",
            "replace data/eng-fra.txt? [y]es, [n]o, [A]ll, [N]one, [r]ename: "
          ]
        }
      ]
    },
    {
      "cell_type": "markdown",
      "metadata": {
        "id": "Vukqoa09LSZw"
      },
      "source": [
        "이름: Ślusàrski"
      ]
    },
    {
      "cell_type": "code",
      "metadata": {
        "id": "2d1pQ-JeYKzw"
      },
      "source": [
        "from io import open\n",
        "import glob\n",
        "import os\n",
        "\n",
        "def findFiles(path):\n",
        "  return glob.glob(path)\n",
        "\n",
        "print(findFiles('data/names/*.txt'))\n",
        "\n",
        "import unicodedata\n",
        "import string\n",
        "\n",
        "all_letters = string.ascii_letters + \" .,;\"\n",
        "n_letters = len(all_letters)\n",
        "\n",
        "def unicodeToAscii(s):\n",
        "  return ''.join(\n",
        "      c for c in unicodedata.normalize('NFD', s)\n",
        "      if unicodedata.category(c) != 'Mh' and c in all_letters\n",
        "  )\n",
        "\n",
        "#print(unicodeToAscii('Ślusàrski'))\n",
        "\n",
        "category_lines = {}\n",
        "all_categories = []\n",
        "\n",
        "def readLines(filename):\n",
        "  lines = open(filename, encoding='utf-8').read().strip().split('\\n')\n",
        "  return [unicodeToAscii(line) for line in lines]\n",
        "\n",
        "for filename in findFiles('data/names/*.txt'):\n",
        "  category = os.path.splitext(os.path.basename(filename))[0]\n",
        "  all_categories.append(category)\n",
        "  lines = readLines(filename)\n",
        "  category_lines[category] = lines\n",
        "\n",
        "n_categories = len(all_categories)\n",
        "\n",
        "all_categories"
      ],
      "execution_count": null,
      "outputs": []
    },
    {
      "cell_type": "code",
      "metadata": {
        "id": "o39feEPmYRdv",
        "colab": {
          "base_uri": "https://localhost:8080/"
        },
        "outputId": "819922d9-9d86-47f1-a618-bee2e6c29ecc"
      },
      "source": [
        "print(category_lines['Italian'][:5])"
      ],
      "execution_count": null,
      "outputs": [
        {
          "output_type": "stream",
          "name": "stdout",
          "text": [
            "['Abandonato', 'Abatangelo', 'Abatantuono', 'Abate', 'Abategiovanni']\n"
          ]
        }
      ]
    },
    {
      "cell_type": "code",
      "metadata": {
        "id": "Mkjk05rwYUyx",
        "colab": {
          "base_uri": "https://localhost:8080/"
        },
        "outputId": "62e61eee-584e-4515-a80f-cc8ecd044ecc"
      },
      "source": [
        "import torch\n",
        "\n",
        "def letterToIndex(letter):\n",
        "  return all_letters.find(letter)\n",
        "\n",
        "def letterToTensor(letter):\n",
        "  tensor = torch.zeros(1, n_letters)\n",
        "  tensor[0][letterToIndex(letter)] = 1\n",
        "  return tensor\n",
        "\n",
        "def lineToTensor(line):\n",
        "  tensor = torch.zeros(len(line), 1, n_letters)\n",
        "  for li, letter in enumerate(line):\n",
        "    tensor[li][0][letterToIndex(letter)] = 1\n",
        "  return tensor\n",
        "\n",
        "print(letterToTensor('J'))\n",
        "print(lineToTensor('Jones').size())"
      ],
      "execution_count": null,
      "outputs": [
        {
          "output_type": "stream",
          "name": "stdout",
          "text": [
            "tensor([[0., 0., 0., 0., 0., 0., 0., 0., 0., 0., 0., 0., 0., 0., 0., 0., 0., 0.,\n",
            "         0., 0., 0., 0., 0., 0., 0., 0., 0., 0., 0., 0., 0., 0., 0., 0., 0., 1.,\n",
            "         0., 0., 0., 0., 0., 0., 0., 0., 0., 0., 0., 0., 0., 0., 0., 0., 0., 0.,\n",
            "         0., 0.]])\n",
            "torch.Size([5, 1, 56])\n"
          ]
        }
      ]
    },
    {
      "cell_type": "markdown",
      "metadata": {
        "id": "IPVvWrMHYelv"
      },
      "source": [
        "## 신경망 생성\n",
        "\n",
        "- 모델 생성 방법 참고 : https://pytorch.org/tutorials/beginner/former_torchies/nnft_tutorial.html"
      ]
    },
    {
      "cell_type": "code",
      "metadata": {
        "id": "t6gKYokQYYZW"
      },
      "source": [
        "import torch.nn as nn\n",
        "\n",
        "class RNN(nn.Module):\n",
        "  def __init__(self, input_size, hidden_size, output_size):\n",
        "    super(RNN, self).__init__()\n",
        "\n",
        "    self.hidden_size = hidden_size\n",
        "\n",
        "    self.i2h = nn.Linear(input_size + hidden_size, hidden_size)\n",
        "    self.i2o = nn.Linear(input_size + hidden_size, output_size)\n",
        "    self.softmax = nn.LogSoftmax(dim=1)\n",
        "\n",
        "  def forward(self, input, hidden):\n",
        "    combined = torch.cat((input, hidden), 1)\n",
        "    hidden = self.i2h(combined)\n",
        "    output = self.i2o(combined)\n",
        "    output = self.softmax(output)\n",
        "    return output, hidden\n",
        "\n",
        "  def initHidden(self):\n",
        "    return torch.zeros(1, self.hidden_size)\n",
        "\n",
        "n_hidden = 128\n",
        "rnn = RNN(n_letters, n_hidden, n_categories)"
      ],
      "execution_count": null,
      "outputs": []
    },
    {
      "cell_type": "code",
      "metadata": {
        "id": "wuFpzGrHYgBY",
        "colab": {
          "base_uri": "https://localhost:8080/"
        },
        "outputId": "ae26bae0-eb4d-4862-f3d8-7d1cbc7bd00e"
      },
      "source": [
        "input = letterToTensor('A')\n",
        "hidden = torch.zeros(1, n_hidden)\n",
        "\n",
        "output, next_hidden = rnn(input, hidden)\n",
        "print(output, next_hidden)"
      ],
      "execution_count": null,
      "outputs": [
        {
          "output_type": "stream",
          "name": "stdout",
          "text": [
            "tensor([[-3.0133, -3.0261, -2.9558, -2.8513, -2.9182, -2.8102, -2.8802, -2.8076,\n",
            "         -2.9380, -2.9511, -2.8958, -2.8366, -2.8459, -2.8608, -2.8386, -2.8806,\n",
            "         -2.8609, -2.8894]], grad_fn=<LogSoftmaxBackward0>) tensor([[-0.1050, -0.0207,  0.0375, -0.0388, -0.0214, -0.0184, -0.0302,  0.0770,\n",
            "         -0.0700,  0.1127,  0.0022,  0.0748,  0.0909,  0.0874, -0.0636, -0.0129,\n",
            "          0.0747,  0.0504,  0.0007,  0.0367, -0.0371,  0.0010,  0.0080, -0.0941,\n",
            "          0.1279, -0.0570, -0.0397, -0.0378, -0.0043,  0.0044, -0.0937, -0.0805,\n",
            "          0.1096, -0.1066,  0.1228,  0.0128,  0.0463, -0.0935,  0.0117,  0.0140,\n",
            "          0.0424,  0.0820,  0.0029, -0.0197, -0.1146, -0.0962,  0.0096,  0.0327,\n",
            "          0.0388,  0.0109, -0.0091, -0.0067, -0.1123, -0.0829, -0.0047, -0.0336,\n",
            "         -0.0202, -0.0236, -0.0166,  0.1208, -0.0316,  0.0453, -0.0868, -0.0050,\n",
            "          0.0794,  0.0776,  0.0218,  0.0233, -0.0771,  0.0097, -0.0791,  0.0680,\n",
            "         -0.1069, -0.0295, -0.1032, -0.0570,  0.0131, -0.0354,  0.0252,  0.0680,\n",
            "         -0.0552,  0.0090,  0.0284, -0.1274,  0.0290, -0.0620,  0.0435, -0.0965,\n",
            "         -0.0477,  0.0532,  0.0412,  0.0705, -0.0389,  0.0386, -0.0021,  0.0350,\n",
            "          0.0400,  0.0619,  0.0607, -0.0104, -0.0508,  0.0440,  0.0904, -0.0233,\n",
            "          0.0104, -0.0019, -0.0914,  0.1024,  0.0681,  0.1080, -0.0325, -0.0724,\n",
            "          0.0034,  0.0338, -0.0286,  0.0118, -0.0453, -0.0186, -0.0254, -0.0161,\n",
            "          0.0016,  0.0550,  0.0245,  0.0544, -0.1119,  0.0023,  0.0340, -0.0468]],\n",
            "       grad_fn=<AddmmBackward0>)\n"
          ]
        }
      ]
    },
    {
      "cell_type": "code",
      "metadata": {
        "id": "wpGGzL2NYku2",
        "colab": {
          "base_uri": "https://localhost:8080/"
        },
        "outputId": "54d41555-9662-4050-a00b-ccc70698dbe0"
      },
      "source": [
        "input = lineToTensor('Albert')\n",
        "hidden = torch.zeros(1, n_hidden)\n",
        "\n",
        "output, next_hidden = rnn(input[0], hidden)\n",
        "print(output)"
      ],
      "execution_count": null,
      "outputs": [
        {
          "output_type": "stream",
          "name": "stdout",
          "text": [
            "tensor([[-3.0133, -3.0261, -2.9558, -2.8513, -2.9182, -2.8102, -2.8802, -2.8076,\n",
            "         -2.9380, -2.9511, -2.8958, -2.8366, -2.8459, -2.8608, -2.8386, -2.8806,\n",
            "         -2.8609, -2.8894]], grad_fn=<LogSoftmaxBackward0>)\n"
          ]
        }
      ]
    },
    {
      "cell_type": "markdown",
      "metadata": {
        "id": "q3qAoF6BYrPW"
      },
      "source": [
        "## 모델 학습\n",
        "- 준비"
      ]
    },
    {
      "cell_type": "code",
      "metadata": {
        "id": "WNTCbv4aYoP2",
        "colab": {
          "base_uri": "https://localhost:8080/"
        },
        "outputId": "c8c0d5e5-f1b9-4e76-ac9c-fb356d1b67e2"
      },
      "source": [
        "def categoryFromOutput(output):\n",
        "  top_n, top_i = output.topk(1)\n",
        "  category_i = top_i[0].item()\n",
        "  return all_categories[category_i], category_i\n",
        "\n",
        "print(categoryFromOutput(output))"
      ],
      "execution_count": null,
      "outputs": [
        {
          "output_type": "stream",
          "name": "stdout",
          "text": [
            "('Chinese', 7)\n"
          ]
        }
      ]
    },
    {
      "cell_type": "code",
      "metadata": {
        "id": "aanvL45oYs00",
        "colab": {
          "base_uri": "https://localhost:8080/"
        },
        "outputId": "65f742d5-99f8-4dcb-d8b8-c7f776a0e639"
      },
      "source": [
        "import random\n",
        "\n",
        "def randomChoice(l):\n",
        "  return l[random.randint(0, len(l) - 1)]\n",
        "\n",
        "def randomTrainingExample():\n",
        "  category = randomChoice(all_categories)\n",
        "  line = randomChoice(category_lines[category])\n",
        "  category_tensor = torch.tensor([all_categories.index(category)], dtype=torch.long)\n",
        "  line_tensor = lineToTensor(line)\n",
        "  return category, line, category_tensor, line_tensor\n",
        "\n",
        "for i in range(10):\n",
        "  category, line, category_tensor, line_tensor = randomTrainingExample()\n",
        "  print('category: {}\\tline: {}'.format(category, line))"
      ],
      "execution_count": null,
      "outputs": [
        {
          "output_type": "stream",
          "name": "stdout",
          "text": [
            "category: Russian\tline: Shakhmin\n",
            "category: French\tline: Villeneuve\n",
            "category: Vietnamese\tline: Doan\n",
            "category: Polish\tline: Zabek\n",
            "category: Portuguese\tline: Simoes\n",
            "category: Vietnamese\tline: Thuy\n",
            "category: Korean\tline: Jeon\n",
            "category: Chinese\tline: Ruan\n",
            "category: Japanese\tline: Temko\n",
            "category: French\tline: Traver\n"
          ]
        }
      ]
    },
    {
      "cell_type": "markdown",
      "metadata": {
        "id": "qVA-IZP3Yzz2"
      },
      "source": [
        "## 손실함수"
      ]
    },
    {
      "cell_type": "code",
      "metadata": {
        "id": "Y98Uy0YPYwjY"
      },
      "source": [
        "criterion = nn.NLLLoss()"
      ],
      "execution_count": null,
      "outputs": []
    },
    {
      "cell_type": "markdown",
      "metadata": {
        "id": "oDyQIe8lY_Vl"
      },
      "source": [
        "## 모델 학습"
      ]
    },
    {
      "cell_type": "code",
      "metadata": {
        "id": "4vIcTqP8Y9lo"
      },
      "source": [
        "learning_rate = 0.005\n",
        "\n",
        "def train(category_tensor, line_tensor):\n",
        "  hidden = rnn.initHidden()\n",
        "\n",
        "  rnn.zero_grad()\n",
        "\n",
        "  for i in range(line_tensor.size()[0]):\n",
        "    output, hidden = rnn(line_tensor[i], hidden)\n",
        "\n",
        "  loss = criterion(output, category_tensor)\n",
        "  loss.backward()\n",
        "\n",
        "  for p in rnn.parameters():\n",
        "    p.data.add_(p.grad.data, alpha=-learning_rate)\n",
        "\n",
        "  return output, loss.item()"
      ],
      "execution_count": null,
      "outputs": []
    },
    {
      "cell_type": "code",
      "metadata": {
        "id": "DRDcSbrsZAK9",
        "colab": {
          "base_uri": "https://localhost:8080/"
        },
        "outputId": "731128ef-2523-46c7-b533-2aee640f18ee"
      },
      "source": [
        "import time\n",
        "import math\n",
        "\n",
        "n_iters = 100000\n",
        "print_every = 5000\n",
        "plot_every = 1000\n",
        "\n",
        "current_loss = 0\n",
        "all_losses = []\n",
        "\n",
        "def timeSince(since):\n",
        "  now = time.time()\n",
        "  s = now - since\n",
        "  m = math.floor(s / 60)\n",
        "  s -= m * 60\n",
        "  return '%dm %ds' % (m, s)\n",
        "\n",
        "start = time.time()\n",
        "\n",
        "for iter in range(1, n_iters + 1):\n",
        "  category, line, category_tensor, line_tensor = randomTrainingExample()\n",
        "  output, loss = train(category_tensor, line_tensor)\n",
        "  current_loss += loss\n",
        "\n",
        "  if iter % print_every == 0:\n",
        "    guess, guess_i = categoryFromOutput(output)\n",
        "    correct = '0' if guess == category else 'X (%s)' % category\n",
        "    print('%d %d%% (%s) %.4f %s / %s %s' % (iter, iter/n_iters * 100, timeSince(start), loss, line, guess, correct))\n",
        "\n",
        "  if iter % plot_every == 0:\n",
        "    all_losses.append(current_loss / plot_every)\n",
        "    current_loss = 0\n"
      ],
      "execution_count": null,
      "outputs": [
        {
          "output_type": "stream",
          "name": "stdout",
          "text": [
            "5000 5% (0m 5s) 1.8201 Gomes / Portuguese 0\n",
            "10000 10% (0m 11s) 0.2577 Zouvelekis / Greek 0\n",
            "15000 15% (0m 16s) 1.9206 Arthur / Arabic X (French)\n",
            "20000 20% (0m 21s) 2.2098 Kinnison / Scottish X (English)\n",
            "25000 25% (0m 27s) 4.3273 Fay / Chinese X (French)\n",
            "30000 30% (0m 32s) 1.9488 Palumbo / Portuguese X (Italian)\n",
            "35000 35% (0m 37s) 2.5713 Garrastazu / Japanese X (Spanish)\n",
            "40000 40% (0m 42s) 1.5757 Gniewek / Czech X (Polish)\n",
            "45000 45% (0m 48s) 1.1605 Pinho / Portuguese 0\n",
            "50000 50% (0m 53s) 0.7088 Gabler / German 0\n",
            "55000 55% (0m 58s) 0.5053 Handal / Arabic 0\n",
            "60000 60% (1m 3s) 2.2753 Fuentes / Portuguese X (Spanish)\n",
            "65000 65% (1m 8s) 2.0296 Blythe / Japanese X (English)\n",
            "70000 70% (1m 14s) 1.4918 Chikanatsu / Arabic X (Japanese)\n",
            "75000 75% (1m 19s) 0.0191 Jirnyakov / Russian 0\n",
            "80000 80% (1m 24s) 0.0178 Schwarzenberg / Dutch 0\n",
            "85000 85% (1m 30s) 0.3762 Suk / Korean 0\n",
            "90000 90% (1m 35s) 0.3023 Watson / Scottish 0\n",
            "95000 95% (1m 43s) 3.3140 Bohn / Vietnamese X (German)\n",
            "100000 100% (1m 50s) 0.0617 ODonnell / Irish 0\n"
          ]
        }
      ]
    },
    {
      "cell_type": "code",
      "metadata": {
        "id": "cSwAjR6QZDRf",
        "colab": {
          "base_uri": "https://localhost:8080/",
          "height": 262
        },
        "outputId": "fa7a5fa0-4839-4a7c-e159-fe5b4717c3c3"
      },
      "source": [
        "import matplotlib.ticker as ticker\n",
        "import matplotlib.pyplot as plt\n",
        "plt.style.use('seaborn-white')\n",
        "\n",
        "plt.figure()\n",
        "plt.plot(all_losses)\n",
        "plt.show()"
      ],
      "execution_count": null,
      "outputs": [
        {
          "output_type": "display_data",
          "data": {
            "text/plain": [
              "<Figure size 432x288 with 1 Axes>"
            ],
            "image/png": "[encoded data removed]"
          },
          "metadata": {}
        }
      ]
    },
    {
      "cell_type": "markdown",
      "metadata": {
        "id": "J0_2HyE3ZPZk"
      },
      "source": [
        "## 모델 테스트"
      ]
    },
    {
      "cell_type": "code",
      "metadata": {
        "id": "MBVWJNmoZO8a",
        "colab": {
          "base_uri": "https://localhost:8080/",
          "height": 312
        },
        "outputId": "9949b712-00c2-4a9a-bcb7-a9905ae52322"
      },
      "source": [
        "confusion = torch.zeros(n_categories, n_categories)\n",
        "n_confusion = 10000\n",
        "\n",
        "def evaluate(line_tensor):\n",
        "  hidden = rnn.initHidden()\n",
        "\n",
        "  for i in range(line_tensor.size()[0]):\n",
        "    output, hidden = rnn(line_tensor[i], hidden)\n",
        "\n",
        "  return output\n",
        "\n",
        "for i in range(n_confusion):\n",
        "  category, line, category_tensor, line_tensor = randomTrainingExample()\n",
        "  output = evaluate(line_tensor)\n",
        "  guess, guess_i = categoryFromOutput(output)\n",
        "  category_i = all_categories.index(category)\n",
        "  confusion[category_i][guess_i] +=1\n",
        "\n",
        "for i in range(n_categories):\n",
        "  confusion[i] = confusion[i] / confusion[i].sum()\n",
        "\n",
        "fig = plt.figure()\n",
        "ax = fig.add_subplot(111)\n",
        "cax = ax.matshow(confusion.numpy())\n",
        "fig.colorbar(cax)\n",
        "ax.set_xticklabels([''] + all_categories, rotation=99)\n",
        "ax.set_yticklabels([''] + all_categories)\n",
        "ax.xaxis.set_major_locator(ticker.MultipleLocator(1))\n",
        "ax.yaxis.set_major_locator(ticker.MultipleLocator(1))\n",
        "\n",
        "plt.show()"
      ],
      "execution_count": null,
      "outputs": [
        {
          "output_type": "display_data",
          "data": {
            "text/plain": [
              "<Figure size 432x288 with 2 Axes>"
            ],
            "image/png": "[encoded data removed]"
          },
          "metadata": {}
        }
      ]
    },
    {
      "cell_type": "markdown",
      "metadata": {
        "id": "AfjRYlioZV3o"
      },
      "source": [
        "## 사용자 입력으로부터의 실행"
      ]
    },
    {
      "cell_type": "code",
      "metadata": {
        "id": "uteG1Je5ZQWg",
        "colab": {
          "base_uri": "https://localhost:8080/"
        },
        "outputId": "957f1d18-4dc4-46d2-8bec-a2fddc45f630"
      },
      "source": [
        "def predict(input_line, n_predictions=3):\n",
        "  print('\\n> %s' % input_line)\n",
        "  with torch.no_grad():\n",
        "    output = evaluate(lineToTensor(input_line))\n",
        "\n",
        "    topv, topi = output.topk(n_predictions, 1, True)\n",
        "    predictions = []\n",
        "\n",
        "    for i in range(n_predictions):\n",
        "      value = topv[0][i].item()\n",
        "      category_index = topi[0][i].item()\n",
        "      print('(%.2f) %s' % (value, all_categories[category_index]))\n",
        "      predictions.append([value, all_categories[category_index]])\n",
        "\n",
        "predict('Jackson')\n",
        "predict('Bill')\n",
        "predict('Dovesky')\n",
        "predict('Kim')"
      ],
      "execution_count": null,
      "outputs": [
        {
          "output_type": "stream",
          "name": "stdout",
          "text": [
            "\n",
            "> Jackson\n",
            "(-0.27) Scottish\n",
            "(-2.05) English\n",
            "(-3.34) Russian\n",
            "\n",
            "> Bill\n",
            "(-1.56) Irish\n",
            "(-1.63) English\n",
            "(-2.09) German\n",
            "\n",
            "> Dovesky\n",
            "(-0.43) Russian\n",
            "(-1.39) Czech\n",
            "(-3.00) English\n",
            "\n",
            "> Kim\n",
            "(-1.16) Korean\n",
            "(-1.33) Chinese\n",
            "(-2.19) Vietnamese\n"
          ]
        }
      ]
    }
  ]
}